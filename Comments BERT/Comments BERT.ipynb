{
  "metadata": {
    "kernelspec": {
      "name": "python",
      "display_name": "Python (Pyodide)",
      "language": "python"
    },
    "language_info": {
      "codemirror_mode": {
        "name": "python",
        "version": 3
      },
      "file_extension": ".py",
      "mimetype": "text/x-python",
      "name": "python",
      "nbconvert_exporter": "python",
      "pygments_lexer": "ipython3",
      "version": "3.8"
    },
    "ExecuteTimeLog": [
      {
        "duration": 3243,
        "start_time": "2023-12-05T22:16:55.760Z"
      },
      {
        "duration": 2933,
        "start_time": "2023-12-05T22:16:59.006Z"
      },
      {
        "duration": 2913,
        "start_time": "2023-12-05T22:17:01.941Z"
      },
      {
        "duration": 12368,
        "start_time": "2023-12-05T22:17:04.856Z"
      },
      {
        "duration": 3,
        "start_time": "2023-12-05T22:17:17.226Z"
      },
      {
        "duration": 2168,
        "start_time": "2023-12-05T22:17:17.230Z"
      },
      {
        "duration": 4,
        "start_time": "2023-12-05T22:17:19.400Z"
      },
      {
        "duration": 18,
        "start_time": "2023-12-05T22:17:19.405Z"
      },
      {
        "duration": 48,
        "start_time": "2023-12-05T22:17:19.425Z"
      },
      {
        "duration": 270,
        "start_time": "2023-12-05T22:17:19.474Z"
      },
      {
        "duration": 28,
        "start_time": "2023-12-05T22:17:19.746Z"
      },
      {
        "duration": 30,
        "start_time": "2023-12-05T22:17:19.775Z"
      },
      {
        "duration": 36,
        "start_time": "2023-12-05T22:17:19.806Z"
      },
      {
        "duration": 37,
        "start_time": "2023-12-05T22:17:19.844Z"
      },
      {
        "duration": 153,
        "start_time": "2023-12-05T22:17:19.882Z"
      },
      {
        "duration": 2906,
        "start_time": "2023-12-05T22:17:54.720Z"
      },
      {
        "duration": 2839,
        "start_time": "2023-12-05T22:17:57.628Z"
      },
      {
        "duration": 2896,
        "start_time": "2023-12-05T22:18:00.469Z"
      },
      {
        "duration": 11964,
        "start_time": "2023-12-05T22:18:03.367Z"
      },
      {
        "duration": 2,
        "start_time": "2023-12-05T22:18:15.333Z"
      },
      {
        "duration": 2132,
        "start_time": "2023-12-05T22:18:15.337Z"
      },
      {
        "duration": 4,
        "start_time": "2023-12-05T22:18:17.471Z"
      },
      {
        "duration": 14,
        "start_time": "2023-12-05T22:18:17.476Z"
      },
      {
        "duration": 18,
        "start_time": "2023-12-05T22:18:17.492Z"
      },
      {
        "duration": 245,
        "start_time": "2023-12-05T22:18:17.511Z"
      },
      {
        "duration": 22,
        "start_time": "2023-12-05T22:18:17.757Z"
      },
      {
        "duration": 11,
        "start_time": "2023-12-05T22:18:17.780Z"
      },
      {
        "duration": 6,
        "start_time": "2023-12-05T22:18:17.792Z"
      },
      {
        "duration": 9,
        "start_time": "2023-12-05T22:18:17.800Z"
      },
      {
        "duration": 132,
        "start_time": "2023-12-05T22:18:17.811Z"
      },
      {
        "duration": 7,
        "start_time": "2023-12-05T22:18:17.945Z"
      },
      {
        "duration": 21,
        "start_time": "2023-12-05T22:18:17.953Z"
      },
      {
        "duration": 137,
        "start_time": "2023-12-05T22:18:17.976Z"
      },
      {
        "duration": 3,
        "start_time": "2023-12-05T22:18:18.115Z"
      },
      {
        "duration": 3,
        "start_time": "2023-12-05T22:18:40.777Z"
      },
      {
        "duration": 3,
        "start_time": "2023-12-05T22:18:41.429Z"
      },
      {
        "duration": 3,
        "start_time": "2023-12-05T22:18:42.079Z"
      },
      {
        "duration": 3,
        "start_time": "2023-12-05T22:18:42.389Z"
      },
      {
        "duration": 736,
        "start_time": "2023-12-05T22:18:44.063Z"
      },
      {
        "duration": 9,
        "start_time": "2023-12-05T22:18:44.833Z"
      },
      {
        "duration": 27,
        "start_time": "2023-12-05T22:18:52.594Z"
      },
      {
        "duration": 17,
        "start_time": "2023-12-05T22:18:55.641Z"
      },
      {
        "duration": 3,
        "start_time": "2023-12-05T22:18:58.159Z"
      },
      {
        "duration": 1239,
        "start_time": "2023-12-05T22:18:59.367Z"
      },
      {
        "duration": 6,
        "start_time": "2023-12-05T22:19:06.888Z"
      },
      {
        "duration": 3334,
        "start_time": "2023-12-07T17:59:35.874Z"
      },
      {
        "duration": 2914,
        "start_time": "2023-12-07T17:59:39.210Z"
      },
      {
        "duration": 2923,
        "start_time": "2023-12-07T17:59:42.126Z"
      },
      {
        "duration": 1726,
        "start_time": "2023-12-07T17:59:45.052Z"
      },
      {
        "duration": 14743,
        "start_time": "2023-12-07T17:59:46.781Z"
      },
      {
        "duration": 8,
        "start_time": "2023-12-07T18:00:01.526Z"
      },
      {
        "duration": 2754,
        "start_time": "2023-12-07T18:00:01.535Z"
      },
      {
        "duration": 6,
        "start_time": "2023-12-07T18:00:04.291Z"
      },
      {
        "duration": 41,
        "start_time": "2023-12-07T18:00:04.299Z"
      },
      {
        "duration": 47,
        "start_time": "2023-12-07T18:00:04.342Z"
      },
      {
        "duration": 266,
        "start_time": "2023-12-07T18:00:04.391Z"
      },
      {
        "duration": 27,
        "start_time": "2023-12-07T18:00:04.659Z"
      },
      {
        "duration": 103,
        "start_time": "2023-12-07T18:00:04.688Z"
      },
      {
        "duration": 63,
        "start_time": "2023-12-07T18:00:04.794Z"
      },
      {
        "duration": 40,
        "start_time": "2023-12-07T18:00:04.859Z"
      },
      {
        "duration": 182,
        "start_time": "2023-12-07T18:00:04.901Z"
      },
      {
        "duration": 7,
        "start_time": "2023-12-07T18:00:05.085Z"
      },
      {
        "duration": 240,
        "start_time": "2023-12-07T18:00:05.094Z"
      },
      {
        "duration": 5,
        "start_time": "2023-12-07T18:00:05.336Z"
      },
      {
        "duration": 861,
        "start_time": "2023-12-07T18:00:05.343Z"
      },
      {
        "duration": 50,
        "start_time": "2023-12-07T18:00:16.476Z"
      },
      {
        "duration": 8,
        "start_time": "2023-12-07T18:00:17.364Z"
      },
      {
        "duration": 27,
        "start_time": "2023-12-07T18:00:50.514Z"
      },
      {
        "duration": 3,
        "start_time": "2023-12-07T18:00:53.313Z"
      },
      {
        "duration": 3,
        "start_time": "2023-12-07T18:00:55.794Z"
      },
      {
        "duration": 1539,
        "start_time": "2023-12-07T18:01:48.774Z"
      },
      {
        "duration": 8,
        "start_time": "2023-12-07T18:02:00.854Z"
      }
    ],
    "toc": {
      "base_numbering": 1,
      "nav_menu": {},
      "number_sections": true,
      "sideBar": true,
      "skip_h1_title": true,
      "title_cell": "Table of Contents",
      "title_sidebar": "Contents",
      "toc_cell": false,
      "toc_position": {},
      "toc_section_display": true,
      "toc_window_display": false
    }
  },
  "nbformat_minor": 5,
  "nbformat": 4,
  "cells": [
    {
      "id": "40bc4b83",
      "cell_type": "markdown",
      "source": "<h1>Содержание<span class=\"tocSkip\"></span></h1>\n<div class=\"toc\"><ul class=\"toc-item\"><li><span><a href=\"#Подготовка\" data-toc-modified-id=\"Подготовка-1\"><span class=\"toc-item-num\">1&nbsp;&nbsp;</span>Подготовка</a></span></li><li><span><a href=\"#Обучение\" data-toc-modified-id=\"Обучение-2\"><span class=\"toc-item-num\">2&nbsp;&nbsp;</span>Обучение</a></span></li><li><span><a href=\"#Выводы\" data-toc-modified-id=\"Выводы-3\"><span class=\"toc-item-num\">3&nbsp;&nbsp;</span>Выводы</a></span></li><li><span><a href=\"#Чек-лист-проверки\" data-toc-modified-id=\"Чек-лист-проверки-4\"><span class=\"toc-item-num\">4&nbsp;&nbsp;</span>Чек-лист проверки</a></span></li></ul></div>",
      "metadata": {}
    },
    {
      "id": "177a795c",
      "cell_type": "markdown",
      "source": "# Проект для «Викишоп» c BERT",
      "metadata": {}
    },
    {
      "id": "6c3e70a6",
      "cell_type": "markdown",
      "source": "Интернет-магазин «Викишоп» запускает новый сервис. Теперь пользователи могут редактировать и дополнять описания товаров, как в вики-сообществах. То есть клиенты предлагают свои правки и комментируют изменения других. Магазину нужен инструмент, который будет искать токсичные комментарии и отправлять их на модерацию. \n\nОбучите модель классифицировать комментарии на позитивные и негативные. В вашем распоряжении набор данных с разметкой о токсичности правок.\n\nПостройте модель со значением метрики качества *F1* не меньше 0.75. \n\n**Инструкция по выполнению проекта**\n\n1. Загрузите и подготовьте данные.\n2. Обучите разные модели. \n3. Сделайте выводы.\n\nДля выполнения проекта применять *BERT* необязательно, но вы можете попробовать.\n\n**Описание данных**\n\nДанные находятся в файле `toxic_comments.csv`. Столбец *text* в нём содержит текст комментария, а *toxic* — целевой признак.",
      "metadata": {}
    },
    {
      "id": "958c817b",
      "cell_type": "code",
      "source": "pip install -q transformers",
      "metadata": {},
      "outputs": [
        {
          "name": "stdout",
          "output_type": "stream",
          "text": [
            "Note: you may need to restart the kernel to use updated packages.\n"
          ]
        }
      ],
      "execution_count": 1
    },
    {
      "id": "f7124be8",
      "cell_type": "code",
      "source": "pip install -q torch",
      "metadata": {},
      "outputs": [
        {
          "name": "stdout",
          "output_type": "stream",
          "text": [
            "Note: you may need to restart the kernel to use updated packages.\n"
          ]
        }
      ],
      "execution_count": 2
    },
    {
      "id": "7a626382",
      "cell_type": "code",
      "source": "pip install -q lightgbm",
      "metadata": {},
      "outputs": [
        {
          "name": "stdout",
          "output_type": "stream",
          "text": [
            "Note: you may need to restart the kernel to use updated packages.\n"
          ]
        }
      ],
      "execution_count": 3
    },
    {
      "id": "2164ea65",
      "cell_type": "code",
      "source": "!{sys.executable} -m -q pip install spacy\n!{sys.executable} -m -q spacy download en",
      "metadata": {},
      "outputs": [
        {
          "name": "stdout",
          "output_type": "stream",
          "text": [
            "/bin/bash: {sys.executable}: command not found\n",
            "/bin/bash: {sys.executable}: command not found\n"
          ]
        }
      ],
      "execution_count": 4
    },
    {
      "id": "3ba4b359",
      "cell_type": "code",
      "source": "import sys\n\nimport numpy as np\nimport pandas as pd\nimport torch\nfrom tqdm import notebook\n\nimport lightgbm as lgb\n\nimport os\nimport matplotlib.pyplot as plt\nimport seaborn as sns\nimport warnings\n\nfrom sklearn.model_selection import train_test_split, GridSearchCV\nfrom sklearn.metrics import accuracy_score, f1_score, ConfusionMatrixDisplay, confusion_matrix\n\nimport re\nimport nltk\nfrom nltk.corpus import stopwords \n\nfrom sklearn.pipeline import Pipeline\n\nfrom sklearn.tree import DecisionTreeClassifier\nfrom sklearn.dummy import DummyClassifier\nfrom sklearn.ensemble import RandomForestClassifier\nfrom sklearn.linear_model import LogisticRegression\n\nfrom nltk.tokenize import word_tokenize \nfrom nltk.stem import WordNetLemmatizer \nimport spacy\n\nfrom sklearn.feature_extraction.text import TfidfVectorizer\n\nimport transformers\nfrom transformers import AutoTokenizer\nfrom transformers import BertModel, BertConfig",
      "metadata": {},
      "outputs": [],
      "execution_count": 5
    },
    {
      "id": "dcea3652",
      "cell_type": "code",
      "source": "R_STATE = 12345",
      "metadata": {},
      "outputs": [],
      "execution_count": 6
    },
    {
      "id": "13ccb6c7",
      "cell_type": "markdown",
      "source": "## Подготовка",
      "metadata": {}
    },
    {
      "id": "b3ef34c4",
      "cell_type": "markdown",
      "source": "### Посмотрим на данные",
      "metadata": {}
    },
    {
      "id": "4c10bbab",
      "cell_type": "code",
      "source": "pth = '/datasets/toxic_comments.csv'\npth2 = 'toxic_comments.csv'\n\nif os.path.exists(pth):\n    data = pd.read_csv(pth)\nelif os.path.exists(pth2): \n    data = pd.read_csv(pth2)\nelse:\n    print('Ошибка в считывании данных из источника {}'.format(pth))",
      "metadata": {},
      "outputs": [],
      "execution_count": 7
    },
    {
      "id": "64d62702",
      "cell_type": "code",
      "source": "data_start = data.copy()",
      "metadata": {},
      "outputs": [],
      "execution_count": 8
    },
    {
      "id": "c70e3867",
      "cell_type": "code",
      "source": "data.sample(10)",
      "metadata": {},
      "outputs": [
        {
          "data": {
            "text/html": [
              "<div>\n",
              "<style scoped>\n",
              "    .dataframe tbody tr th:only-of-type {\n",
              "        vertical-align: middle;\n",
              "    }\n",
              "\n",
              "    .dataframe tbody tr th {\n",
              "        vertical-align: top;\n",
              "    }\n",
              "\n",
              "    .dataframe thead th {\n",
              "        text-align: right;\n",
              "    }\n",
              "</style>\n",
              "<table border=\"1\" class=\"dataframe\">\n",
              "  <thead>\n",
              "    <tr style=\"text-align: right;\">\n",
              "      <th></th>\n",
              "      <th>Unnamed: 0</th>\n",
              "      <th>text</th>\n",
              "      <th>toxic</th>\n",
              "    </tr>\n",
              "  </thead>\n",
              "  <tbody>\n",
              "    <tr>\n",
              "      <th>147958</th>\n",
              "      <td>148114</td>\n",
              "      <td>Georgia Georgia's area is 2000 sq. km-s here.W...</td>\n",
              "      <td>0</td>\n",
              "    </tr>\n",
              "    <tr>\n",
              "      <th>52882</th>\n",
              "      <td>52939</td>\n",
              "      <td>\"\\nWhether a particular document is a \"\"reliab...</td>\n",
              "      <td>0</td>\n",
              "    </tr>\n",
              "    <tr>\n",
              "      <th>78232</th>\n",
              "      <td>78308</td>\n",
              "      <td>Name of the Father \\n\\nYou commented on the Na...</td>\n",
              "      <td>0</td>\n",
              "    </tr>\n",
              "    <tr>\n",
              "      <th>4208</th>\n",
              "      <td>4208</td>\n",
              "      <td>Cambridge meetup 14 November\\n\\nAnother Cambri...</td>\n",
              "      <td>0</td>\n",
              "    </tr>\n",
              "    <tr>\n",
              "      <th>135717</th>\n",
              "      <td>135855</td>\n",
              "      <td>When is honestny not considered constructive? ...</td>\n",
              "      <td>0</td>\n",
              "    </tr>\n",
              "    <tr>\n",
              "      <th>40678</th>\n",
              "      <td>40728</td>\n",
              "      <td>\"Welcome\\n\\nHello and welcome to Wikipedia!  W...</td>\n",
              "      <td>0</td>\n",
              "    </tr>\n",
              "    <tr>\n",
              "      <th>138594</th>\n",
              "      <td>138745</td>\n",
              "      <td>\"\\nWow, thanks, ! That happened much faster th...</td>\n",
              "      <td>0</td>\n",
              "    </tr>\n",
              "    <tr>\n",
              "      <th>47032</th>\n",
              "      <td>47087</td>\n",
              "      <td>De Neville \\n\\nHi Ealdgyth, sorry, I didn't kn...</td>\n",
              "      <td>0</td>\n",
              "    </tr>\n",
              "    <tr>\n",
              "      <th>57169</th>\n",
              "      <td>57230</td>\n",
              "      <td>\"\\n\\nCentral Atlas Tamazight\\nPlease make sure...</td>\n",
              "      <td>0</td>\n",
              "    </tr>\n",
              "    <tr>\n",
              "      <th>138091</th>\n",
              "      <td>138238</td>\n",
              "      <td>I don't think that this is a view necessarily ...</td>\n",
              "      <td>0</td>\n",
              "    </tr>\n",
              "  </tbody>\n",
              "</table>\n",
              "</div>"
            ],
            "text/plain": [
              "        Unnamed: 0                                               text  toxic\n",
              "147958      148114  Georgia Georgia's area is 2000 sq. km-s here.W...      0\n",
              "52882        52939  \"\\nWhether a particular document is a \"\"reliab...      0\n",
              "78232        78308  Name of the Father \\n\\nYou commented on the Na...      0\n",
              "4208          4208  Cambridge meetup 14 November\\n\\nAnother Cambri...      0\n",
              "135717      135855  When is honestny not considered constructive? ...      0\n",
              "40678        40728  \"Welcome\\n\\nHello and welcome to Wikipedia!  W...      0\n",
              "138594      138745  \"\\nWow, thanks, ! That happened much faster th...      0\n",
              "47032        47087  De Neville \\n\\nHi Ealdgyth, sorry, I didn't kn...      0\n",
              "57169        57230  \"\\n\\nCentral Atlas Tamazight\\nPlease make sure...      0\n",
              "138091      138238  I don't think that this is a view necessarily ...      0"
            ]
          },
          "execution_count": 9,
          "metadata": {},
          "output_type": "execute_result"
        }
      ],
      "execution_count": 9
    },
    {
      "id": "569c50a2",
      "cell_type": "code",
      "source": "data.info()",
      "metadata": {},
      "outputs": [
        {
          "name": "stdout",
          "output_type": "stream",
          "text": [
            "<class 'pandas.core.frame.DataFrame'>\n",
            "RangeIndex: 159292 entries, 0 to 159291\n",
            "Data columns (total 3 columns):\n",
            " #   Column      Non-Null Count   Dtype \n",
            "---  ------      --------------   ----- \n",
            " 0   Unnamed: 0  159292 non-null  int64 \n",
            " 1   text        159292 non-null  object\n",
            " 2   toxic       159292 non-null  int64 \n",
            "dtypes: int64(2), object(1)\n",
            "memory usage: 3.6+ MB\n"
          ]
        }
      ],
      "execution_count": 10
    },
    {
      "id": "e6ad7589",
      "cell_type": "code",
      "source": "data.duplicated().sum()",
      "metadata": {},
      "outputs": [
        {
          "data": {
            "text/plain": [
              "0"
            ]
          },
          "execution_count": 11,
          "metadata": {},
          "output_type": "execute_result"
        }
      ],
      "execution_count": 11
    },
    {
      "id": "eaa38121",
      "cell_type": "code",
      "source": "data.isnull().sum()",
      "metadata": {},
      "outputs": [
        {
          "data": {
            "text/plain": [
              "Unnamed: 0    0\n",
              "text          0\n",
              "toxic         0\n",
              "dtype: int64"
            ]
          },
          "execution_count": 12,
          "metadata": {},
          "output_type": "execute_result"
        }
      ],
      "execution_count": 12
    },
    {
      "id": "1489c93d",
      "cell_type": "code",
      "source": "data = data.drop('Unnamed: 0', axis = 1)",
      "metadata": {},
      "outputs": [],
      "execution_count": 13
    },
    {
      "id": "9f9061b6",
      "cell_type": "code",
      "source": "data['toxic'].unique()",
      "metadata": {},
      "outputs": [
        {
          "data": {
            "text/plain": [
              "array([0, 1])"
            ]
          },
          "execution_count": 14,
          "metadata": {},
          "output_type": "execute_result"
        }
      ],
      "execution_count": 14
    },
    {
      "id": "432aef85",
      "cell_type": "code",
      "source": "data['toxic'].describe()",
      "metadata": {},
      "outputs": [
        {
          "data": {
            "text/plain": [
              "count    159292.000000\n",
              "mean          0.101612\n",
              "std           0.302139\n",
              "min           0.000000\n",
              "25%           0.000000\n",
              "50%           0.000000\n",
              "75%           0.000000\n",
              "max           1.000000\n",
              "Name: toxic, dtype: float64"
            ]
          },
          "execution_count": 15,
          "metadata": {},
          "output_type": "execute_result"
        }
      ],
      "execution_count": 15
    },
    {
      "id": "37b722fe",
      "cell_type": "code",
      "source": "sns.barplot(x=data['toxic'].unique(), y=data.groupby('toxic').count()['text']) \nprint()",
      "metadata": {},
      "outputs": [
        {
          "name": "stdout",
          "output_type": "stream",
          "text": [
            "\n"
          ]
        },
        {
          "data": {
            "image/png": "[encoded data removed]",
            "text/plain": [
              "<Figure size 432x288 with 1 Axes>"
            ]
          },
          "metadata": {
            "needs_background": "light"
          },
          "output_type": "display_data"
        }
      ],
      "execution_count": 16
    },
    {
      "id": "6d25be5d",
      "cell_type": "markdown",
      "source": "Существует сильный дисбаланс классов с перевесом в сторону 0. ",
      "metadata": {}
    },
    {
      "id": "6bc417c2",
      "cell_type": "code",
      "source": "data.head()",
      "metadata": {
        "scrolled": true
      },
      "outputs": [
        {
          "data": {
            "text/html": [
              "<div>\n",
              "<style scoped>\n",
              "    .dataframe tbody tr th:only-of-type {\n",
              "        vertical-align: middle;\n",
              "    }\n",
              "\n",
              "    .dataframe tbody tr th {\n",
              "        vertical-align: top;\n",
              "    }\n",
              "\n",
              "    .dataframe thead th {\n",
              "        text-align: right;\n",
              "    }\n",
              "</style>\n",
              "<table border=\"1\" class=\"dataframe\">\n",
              "  <thead>\n",
              "    <tr style=\"text-align: right;\">\n",
              "      <th></th>\n",
              "      <th>text</th>\n",
              "      <th>toxic</th>\n",
              "    </tr>\n",
              "  </thead>\n",
              "  <tbody>\n",
              "    <tr>\n",
              "      <th>0</th>\n",
              "      <td>Explanation\\nWhy the edits made under my usern...</td>\n",
              "      <td>0</td>\n",
              "    </tr>\n",
              "    <tr>\n",
              "      <th>1</th>\n",
              "      <td>D'aww! He matches this background colour I'm s...</td>\n",
              "      <td>0</td>\n",
              "    </tr>\n",
              "    <tr>\n",
              "      <th>2</th>\n",
              "      <td>Hey man, I'm really not trying to edit war. It...</td>\n",
              "      <td>0</td>\n",
              "    </tr>\n",
              "    <tr>\n",
              "      <th>3</th>\n",
              "      <td>\"\\nMore\\nI can't make any real suggestions on ...</td>\n",
              "      <td>0</td>\n",
              "    </tr>\n",
              "    <tr>\n",
              "      <th>4</th>\n",
              "      <td>You, sir, are my hero. Any chance you remember...</td>\n",
              "      <td>0</td>\n",
              "    </tr>\n",
              "  </tbody>\n",
              "</table>\n",
              "</div>"
            ],
            "text/plain": [
              "                                                text  toxic\n",
              "0  Explanation\\nWhy the edits made under my usern...      0\n",
              "1  D'aww! He matches this background colour I'm s...      0\n",
              "2  Hey man, I'm really not trying to edit war. It...      0\n",
              "3  \"\\nMore\\nI can't make any real suggestions on ...      0\n",
              "4  You, sir, are my hero. Any chance you remember...      0"
            ]
          },
          "execution_count": 17,
          "metadata": {},
          "output_type": "execute_result"
        }
      ],
      "execution_count": 17
    },
    {
      "id": "5d3b83dd",
      "cell_type": "markdown",
      "source": "### Отчистка и лемматизация",
      "metadata": {}
    },
    {
      "id": "6402be59",
      "cell_type": "code",
      "source": "stop_words = set(stopwords.words('english'))",
      "metadata": {},
      "outputs": [],
      "execution_count": 19
    },
    {
      "id": "b458b9ed",
      "cell_type": "code",
      "source": "nlp = spacy.load(\"en_core_web_sm\", disable=['parser', 'ner'])\ndef clear_and_lem_sp (text):\n    text = re.sub(r'[^a-zA-Z]', ' ',text)\n    text = text.lower()\n    text = text.split()\n    text = ' '.join(text) \n    lemm_text = nlp(text)\n    lemm_text = \" \".join([token.lemma_ for token in lemm_text])\n    return lemm_text",
      "metadata": {},
      "outputs": [],
      "execution_count": 20
    },
    {
      "id": "dab15d0f",
      "cell_type": "code",
      "source": "%%time \ndata['lemm_text_spacy'] = data['text'].apply(lambda x: clear_and_lem_sp(x))#.replace(\"\\n\", \"\", 1))",
      "metadata": {},
      "outputs": [],
      "execution_count": 21
    },
    {
      "id": "72636ed7",
      "cell_type": "code",
      "source": "data.head()",
      "metadata": {},
      "outputs": [
        {
          "data": {
            "text/html": [
              "<div>\n",
              "<style scoped>\n",
              "    .dataframe tbody tr th:only-of-type {\n",
              "        vertical-align: middle;\n",
              "    }\n",
              "\n",
              "    .dataframe tbody tr th {\n",
              "        vertical-align: top;\n",
              "    }\n",
              "\n",
              "    .dataframe thead th {\n",
              "        text-align: right;\n",
              "    }\n",
              "</style>\n",
              "<table border=\"1\" class=\"dataframe\">\n",
              "  <thead>\n",
              "    <tr style=\"text-align: right;\">\n",
              "      <th></th>\n",
              "      <th>text</th>\n",
              "      <th>toxic</th>\n",
              "      <th>lemm_text_spacy</th>\n",
              "    </tr>\n",
              "  </thead>\n",
              "  <tbody>\n",
              "    <tr>\n",
              "      <th>0</th>\n",
              "      <td>Explanation\\nWhy the edits made under my usern...</td>\n",
              "      <td>0</td>\n",
              "      <td>explanation why the edit make under my usernam...</td>\n",
              "    </tr>\n",
              "    <tr>\n",
              "      <th>1</th>\n",
              "      <td>D'aww! He matches this background colour I'm s...</td>\n",
              "      <td>0</td>\n",
              "      <td>d aww he match this background colour I m seem...</td>\n",
              "    </tr>\n",
              "    <tr>\n",
              "      <th>2</th>\n",
              "      <td>Hey man, I'm really not trying to edit war. It...</td>\n",
              "      <td>0</td>\n",
              "      <td>hey man I m really not try to edit war it s ju...</td>\n",
              "    </tr>\n",
              "    <tr>\n",
              "      <th>3</th>\n",
              "      <td>\"\\nMore\\nI can't make any real suggestions on ...</td>\n",
              "      <td>0</td>\n",
              "      <td>more I can t make any real suggestion on impro...</td>\n",
              "    </tr>\n",
              "    <tr>\n",
              "      <th>4</th>\n",
              "      <td>You, sir, are my hero. Any chance you remember...</td>\n",
              "      <td>0</td>\n",
              "      <td>you sir be my hero any chance you remember wha...</td>\n",
              "    </tr>\n",
              "  </tbody>\n",
              "</table>\n",
              "</div>"
            ],
            "text/plain": [
              "                                                text  toxic  \\\n",
              "0  Explanation\\nWhy the edits made under my usern...      0   \n",
              "1  D'aww! He matches this background colour I'm s...      0   \n",
              "2  Hey man, I'm really not trying to edit war. It...      0   \n",
              "3  \"\\nMore\\nI can't make any real suggestions on ...      0   \n",
              "4  You, sir, are my hero. Any chance you remember...      0   \n",
              "\n",
              "                                     lemm_text_spacy  \n",
              "0  explanation why the edit make under my usernam...  \n",
              "1  d aww he match this background colour I m seem...  \n",
              "2  hey man I m really not try to edit war it s ju...  \n",
              "3  more I can t make any real suggestion on impro...  \n",
              "4  you sir be my hero any chance you remember wha...  "
            ]
          },
          "execution_count": 22,
          "metadata": {},
          "output_type": "execute_result"
        }
      ],
      "execution_count": 22
    },
    {
      "id": "d6412f1f",
      "cell_type": "markdown",
      "source": "<font color='blue'><b>Комментарий ревьюера 2: </b></font> ✔️\\\n<font color='green'> Отлично! Теперь видно, что слова в начальных формах.</font>",
      "metadata": {}
    },
    {
      "id": "13dc2c35",
      "cell_type": "code",
      "source": "nltk.download('wordnet')",
      "metadata": {},
      "outputs": [
        {
          "name": "stderr",
          "output_type": "stream",
          "text": [
            "[nltk_data] Downloading package wordnet to /home/jovyan/nltk_data...\n",
            "[nltk_data]   Package wordnet is already up-to-date!\n"
          ]
        },
        {
          "data": {
            "text/plain": [
              "True"
            ]
          },
          "execution_count": 23,
          "metadata": {},
          "output_type": "execute_result"
        }
      ],
      "execution_count": 23
    },
    {
      "id": "ee800b81",
      "cell_type": "code",
      "source": "lemmatizer = WordNetLemmatizer()",
      "metadata": {},
      "outputs": [],
      "execution_count": 24
    },
    {
      "id": "989e7673",
      "cell_type": "code",
      "source": "def clear_and_lem_wnl (text):\n    text = re.sub(r'[^a-zA-Z]', ' ',text)\n    text = text.lower()\n    text = text.split()\n    text = ' '.join(text) \n    token = nltk.word_tokenize(text)\n    #text = [word for word in token if word not in stop_words]\n    lemm_list = lemmatizer.lemmatize(text)\n    lemm_text = \"\".join(lemm_list)\n    return lemm_text",
      "metadata": {},
      "outputs": [],
      "execution_count": 25
    },
    {
      "id": "290204b2",
      "cell_type": "code",
      "source": "%%time \ndata['lemm_text_word'] = data['text'].apply(lambda x: clear_and_lem_wnl(x).replace(\"\\n\", \"\", 1))",
      "metadata": {},
      "outputs": [
        {
          "name": "stdout",
          "output_type": "stream",
          "text": [
            "CPU times: user 1.49 s, sys: 46.4 ms, total: 1.54 s\n",
            "Wall time: 1.54 s\n"
          ]
        }
      ],
      "execution_count": 26
    },
    {
      "id": "f6ad5c77",
      "cell_type": "code",
      "source": "data.head()",
      "metadata": {
        "scrolled": true
      },
      "outputs": [
        {
          "data": {
            "text/html": [
              "<div>\n",
              "<style scoped>\n",
              "    .dataframe tbody tr th:only-of-type {\n",
              "        vertical-align: middle;\n",
              "    }\n",
              "\n",
              "    .dataframe tbody tr th {\n",
              "        vertical-align: top;\n",
              "    }\n",
              "\n",
              "    .dataframe thead th {\n",
              "        text-align: right;\n",
              "    }\n",
              "</style>\n",
              "<table border=\"1\" class=\"dataframe\">\n",
              "  <thead>\n",
              "    <tr style=\"text-align: right;\">\n",
              "      <th></th>\n",
              "      <th>text</th>\n",
              "      <th>toxic</th>\n",
              "      <th>lemm_text_spacy</th>\n",
              "      <th>lemm_text_word</th>\n",
              "    </tr>\n",
              "  </thead>\n",
              "  <tbody>\n",
              "    <tr>\n",
              "      <th>0</th>\n",
              "      <td>Explanation\\nWhy the edits made under my usern...</td>\n",
              "      <td>0</td>\n",
              "      <td>explanation why the edit make under my usernam...</td>\n",
              "      <td>explanation why the edits made under my userna...</td>\n",
              "    </tr>\n",
              "    <tr>\n",
              "      <th>1</th>\n",
              "      <td>D'aww! He matches this background colour I'm s...</td>\n",
              "      <td>0</td>\n",
              "      <td>d aww he match this background colour I m seem...</td>\n",
              "      <td>d aww he matches this background colour i m se...</td>\n",
              "    </tr>\n",
              "    <tr>\n",
              "      <th>2</th>\n",
              "      <td>Hey man, I'm really not trying to edit war. It...</td>\n",
              "      <td>0</td>\n",
              "      <td>hey man I m really not try to edit war it s ju...</td>\n",
              "      <td>hey man i m really not trying to edit war it s...</td>\n",
              "    </tr>\n",
              "    <tr>\n",
              "      <th>3</th>\n",
              "      <td>\"\\nMore\\nI can't make any real suggestions on ...</td>\n",
              "      <td>0</td>\n",
              "      <td>more I can t make any real suggestion on impro...</td>\n",
              "      <td>more i can t make any real suggestions on impr...</td>\n",
              "    </tr>\n",
              "    <tr>\n",
              "      <th>4</th>\n",
              "      <td>You, sir, are my hero. Any chance you remember...</td>\n",
              "      <td>0</td>\n",
              "      <td>you sir be my hero any chance you remember wha...</td>\n",
              "      <td>you sir are my hero any chance you remember wh...</td>\n",
              "    </tr>\n",
              "  </tbody>\n",
              "</table>\n",
              "</div>"
            ],
            "text/plain": [
              "                                                text  toxic  \\\n",
              "0  Explanation\\nWhy the edits made under my usern...      0   \n",
              "1  D'aww! He matches this background colour I'm s...      0   \n",
              "2  Hey man, I'm really not trying to edit war. It...      0   \n",
              "3  \"\\nMore\\nI can't make any real suggestions on ...      0   \n",
              "4  You, sir, are my hero. Any chance you remember...      0   \n",
              "\n",
              "                                     lemm_text_spacy  \\\n",
              "0  explanation why the edit make under my usernam...   \n",
              "1  d aww he match this background colour I m seem...   \n",
              "2  hey man I m really not try to edit war it s ju...   \n",
              "3  more I can t make any real suggestion on impro...   \n",
              "4  you sir be my hero any chance you remember wha...   \n",
              "\n",
              "                                      lemm_text_word  \n",
              "0  explanation why the edits made under my userna...  \n",
              "1  d aww he matches this background colour i m se...  \n",
              "2  hey man i m really not trying to edit war it s...  \n",
              "3  more i can t make any real suggestions on impr...  \n",
              "4  you sir are my hero any chance you remember wh...  "
            ]
          },
          "execution_count": 27,
          "metadata": {},
          "output_type": "execute_result"
        }
      ],
      "execution_count": 27
    },
    {
      "id": "f53231d5",
      "cell_type": "markdown",
      "source": "Кажется, что вариант `spacy` лучше, оставим его. ",
      "metadata": {}
    },
    {
      "id": "1144c81c",
      "cell_type": "code",
      "source": "data = data.drop(['text','lemm_text_word'], axis = 1).rename(columns={'lemm_text_spacy':'text'})",
      "metadata": {},
      "outputs": [],
      "execution_count": 27
    },
    {
      "id": "5a751a3e",
      "cell_type": "code",
      "source": "data.head()",
      "metadata": {},
      "outputs": [
        {
          "data": {},
          "execution_count": 28,
          "metadata": {},
          "output_type": "execute_result"
        }
      ],
      "execution_count": 28
    },
    {
      "id": "8f5ae1f1",
      "cell_type": "markdown",
      "source": "**Вывод: перед обучением мы имеем размеченный и лемматизированный текст длиной порядка 160 тыс. строк (в матричном понимании, а не литературном. сами тексты различного размера)** ",
      "metadata": {}
    },
    {
      "id": "4618eb6c",
      "cell_type": "markdown",
      "source": "## Обучение",
      "metadata": {}
    },
    {
      "id": "c4c7e17d",
      "cell_type": "code",
      "source": "features = data.drop(['toxic'], axis = 1)\ntarget = data['toxic']",
      "metadata": {},
      "outputs": [],
      "execution_count": 29
    },
    {
      "id": "40ed6002",
      "cell_type": "code",
      "source": "features_train, features_test, target_train, target_test = train_test_split(features, target, test_size = 0.2, stratify = target, random_state = R_STATE)\nprint('Train data shape:', features_train.shape, target_train.shape)\nprint('Test data shape:', features_test.shape, target_test.shape)",
      "metadata": {},
      "outputs": [],
      "execution_count": 30
    },
    {
      "id": "07e77cd0",
      "cell_type": "code",
      "source": "def training(clf, params):\n    pipeline = Pipeline([\n        ('tfidf', TfidfVectorizer(stop_words=stop_words)),\n        ('model', clf)])\n    model = GridSearchCV(pipeline, cv = 5, n_jobs = -1, param_grid = params ,scoring = 'f1', verbose = False)\n    model.fit(features_train['text'], target_train)\n    print('Лучший результат:', model.best_score_)\n    print('Лучшие параметры:', model.best_params_)\n    return model.best_estimator_",
      "metadata": {},
      "outputs": [],
      "execution_count": 31
    },
    {
      "id": "6cb45cb8",
      "cell_type": "code",
      "source": "%%time\nwarnings.filterwarnings(\"ignore\")\nLR_params = {'model__C':[0.1, 1.0, 10.0], 'model__penalty':['l2','elasticnet']}\nLR_clf = training(LogisticRegression(random_state = R_STATE, class_weight = 'balanced'), LR_params)",
      "metadata": {},
      "outputs": [],
      "execution_count": 32
    },
    {
      "id": "bcf5f25f",
      "cell_type": "code",
      "source": "%%time\nDTC_params = {'model__criterion':['gini'],\n              'model__max_depth':[2,6,8],\n              'model__min_samples_split':[5]}\n\nDTC_clf = training(DecisionTreeClassifier(random_state = R_STATE, class_weight = 'balanced'), DTC_params )",
      "metadata": {},
      "outputs": [],
      "execution_count": 33
    },
    {
      "id": "708b566c",
      "cell_type": "code",
      "source": "%%time\nRFC_params = {'model__n_estimators':[50, 100],\n              'model__criterion':['gini'],\n              'model__max_depth':[2,4],\n              'model__min_samples_split':[5]}\n\nRFC_clf = training(RandomForestClassifier(random_state = R_STATE, class_weight = 'balanced'), RFC_params)",
      "metadata": {},
      "outputs": [],
      "execution_count": 34
    },
    {
      "id": "d125a990",
      "cell_type": "code",
      "source": "%%time\nLGB_params = {\n    'model__n_estimators': np.arange(50, 120, step=50),\n    'model__max_depth': list(np.arange(2, 7, step=3)),\n    'model__class_weight': ['balanced']\n    }\n\nLGB_clf = training(lgb.LGBMClassifier(random_state = R_STATE, verbose=-1, class_weight = 'balanced'), LGB_params)",
      "metadata": {},
      "outputs": [],
      "execution_count": 35
    },
    {
      "id": "a12f16d2",
      "cell_type": "code",
      "source": "%%time\nD_params = {\n    'model__strategy': ['stratified']\n    }\n\nD_clf = training(DummyClassifier(random_state = R_STATE), D_params)",
      "metadata": {},
      "outputs": [],
      "execution_count": 36
    },
    {
      "id": "c0d1b50e",
      "cell_type": "markdown",
      "source": "Проверим модель LogisticRegression на тесте. ",
      "metadata": {}
    },
    {
      "id": "ba964e36",
      "cell_type": "code",
      "source": "features_test = LR_clf[0].transform(features_test['text'])",
      "metadata": {},
      "outputs": [],
      "execution_count": 37
    },
    {
      "id": "e99db54b",
      "cell_type": "code",
      "source": "predictions_LR = LR_clf[1].predict(features_test)",
      "metadata": {},
      "outputs": [],
      "execution_count": 38
    },
    {
      "id": "250814b2",
      "cell_type": "code",
      "source": "f1_test = f1_score(target_test, predictions_LR)\nprint('f1 для LR модели на тесте :', f1_test) \nprint('accuracy для LR модели на тесте :', accuracy_score(target_test, predictions_LR))",
      "metadata": {},
      "outputs": [],
      "execution_count": 39
    },
    {
      "id": "7fead6b4",
      "cell_type": "code",
      "source": "ConfusionMatrixDisplay(confusion_matrix = confusion_matrix(target_test, predictions_LR)).plot()\nplt.show()",
      "metadata": {},
      "outputs": [
        {
          "data": {
            "image/png": "[encoded data removed]"
          },
          "metadata": {
            "needs_background": "light"
          },
          "output_type": "display_data"
        }
      ],
      "execution_count": 40
    },
    {
      "id": "9a37de92",
      "cell_type": "markdown",
      "source": "Мы довольно часто (в 15% случаев) не угадываем токсичный комментарий и довольно редко (в 4% случаев) называем комментарий токсичным, когда он таковым не является. ",
      "metadata": {}
    },
    {
      "id": "7b4683cd",
      "cell_type": "markdown",
      "source": "## BERT",
      "metadata": {}
    },
    {
      "id": "6eb87c28",
      "cell_type": "markdown",
      "source": "Отберем случайные 10% данных, т.к. дообучение предобученной модели BERT требует большое количество времени. ",
      "metadata": {}
    },
    {
      "id": "ec401cf5",
      "cell_type": "code",
      "source": "data_bert = data.sample(16000)\ndata_bert.reset_index(drop = True, inplace= True)",
      "metadata": {},
      "outputs": [],
      "execution_count": 41
    },
    {
      "id": "ad734e59",
      "cell_type": "code",
      "source": "sns.barplot(x=data_bert['toxic'].unique(), y=data_bert.groupby('toxic').count()['text']) \nprint()",
      "metadata": {},
      "outputs": [
        {
          "data": {
            "image/png": "[encoded data removed]"
          },
          "metadata": {
            "needs_background": "light"
          },
          "output_type": "display_data"
        }
      ],
      "execution_count": 42
    },
    {
      "id": "a7de9be6",
      "cell_type": "markdown",
      "source": "Ограничим длину текста 500 словами, т.к. максимальная размерность для нашей модели это 512 токенов. ",
      "metadata": {}
    },
    {
      "id": "ef04dc99",
      "cell_type": "code",
      "source": "for i in range(len(data_bert)):\n    data_bert['text'][i] = data_bert['text'][i][0:500]",
      "metadata": {},
      "outputs": [],
      "execution_count": 43
    },
    {
      "id": "11756394",
      "cell_type": "markdown",
      "source": "### Загрузка предобученной модели/токенизатора ",
      "metadata": {}
    },
    {
      "id": "c8387a1f",
      "cell_type": "code",
      "source": "tokenizer = AutoTokenizer.from_pretrained('bert-base-cased', truncation=True, max_length=512)\n\n# Initializing a BERT bert-base-uncased style configuration\nconfiguration = BertConfig()\n\n# Initializing a model from the bert-base-uncased style configuration\nmodel = BertModel(configuration)\n\n# Accessing the model configuration\nconfiguration = model.config",
      "metadata": {},
      "outputs": [],
      "execution_count": 44
    },
    {
      "id": "a47d762d",
      "cell_type": "markdown",
      "source": "<font color='blue'><b>Комментарий ревьюера : </b></font> ✔️\\\n<font color='green'> Для этой задачи существуют специальные модели, например 'unitary/toxic-bert'</font>",
      "metadata": {}
    },
    {
      "id": "695aecb3",
      "cell_type": "code",
      "source": "tokenized = data_bert['text'].apply(\n    lambda x: tokenizer.encode(x, add_special_tokens=True))\n\nmax_len = 0\nfor i in tokenized.values:\n    if len(i) > max_len:\n        max_len = len(i)\n\npadded = np.array([i + [0]*(max_len - len(i)) for i in tokenized.values])\n\nattention_mask = np.where(padded != 0, 1, 0)",
      "metadata": {},
      "outputs": [],
      "execution_count": 45
    },
    {
      "id": "23a486fd",
      "cell_type": "code",
      "source": "%%time\nbatch_size = 100\nembeddings = []\nfor i in notebook.tqdm(range(padded.shape[0] // batch_size)):\n        batch = torch.LongTensor(padded[batch_size*i:batch_size*(i+1)]) \n        attention_mask_batch = torch.LongTensor(attention_mask[batch_size*i:batch_size*(i+1)])\n        \n        with torch.no_grad():\n            batch_embeddings = model(batch, attention_mask=attention_mask_batch)\n        \n        embeddings.append(batch_embeddings[0][:,0,:].numpy())",
      "metadata": {},
      "outputs": [
        {
          "data": {
            "application/vnd.jupyter.widget-view+json": {
              "model_id": "be32b22cd5a343f6a77336e2e8057703",
              "version_major": 2,
              "version_minor": 0
            }
          },
          "metadata": {},
          "output_type": "display_data"
        }
      ],
      "execution_count": 46
    },
    {
      "id": "a597b845",
      "cell_type": "code",
      "source": "features_bert = np.concatenate(embeddings)\ntarget_bert = data_bert['toxic']\nfeatures_bert_train, features_bert_test, target_bert_train, target_bert_test = train_test_split(features_bert, target_bert, test_size = 0.2, stratify = target_bert, random_state = R_STATE)",
      "metadata": {},
      "outputs": [],
      "execution_count": 47
    },
    {
      "id": "26c49c13",
      "cell_type": "code",
      "source": "%%time\nLR_params = {'C':[0.1, 1.0, 10.0], 'penalty':['l2','elasticnet']}\nmodel = GridSearchCV(LogisticRegression(random_state = R_STATE,  class_weight = 'balanced'), cv = 5, n_jobs = -1, param_grid = LR_params ,scoring = 'f1', verbose = False)\nmodel.fit(features_bert_train, target_bert_train)\nprint('Лучший результат:', model.best_score_)\nprint('Лучшие параметры:', model.best_params_)\nBERT_model = model.best_estimator_",
      "metadata": {},
      "outputs": [],
      "execution_count": 51
    },
    {
      "id": "a64ea759",
      "cell_type": "code",
      "source": "predictions_BERT_LR = BERT_model.predict(features_bert_test)\nf1_test = f1_score(target_bert_test, predictions_BERT_LR)\nprint('f1 для LR модели на тесте с использованием BERT :', f1_test) \nprint('accuracy для LR модели на тесте :', accuracy_score(target_bert_test, predictions_BERT_LR))\nConfusionMatrixDisplay(confusion_matrix = confusion_matrix(target_bert_test, predictions_BERT_LR)).plot()\nplt.show()",
      "metadata": {},
      "outputs": [
        {
          "data": {
            "image/png": "[encoded data removed]"
          },
          "metadata": {
            "needs_background": "light"
          },
          "output_type": "display_data"
        }
      ],
      "execution_count": 52
    },
    {
      "id": "d9b71397",
      "cell_type": "markdown",
      "source": "## Выводы",
      "metadata": {}
    },
    {
      "id": "2dadcd5c",
      "cell_type": "markdown",
      "source": "В этой работе нам предстояло научить модели классифицировать размеченые тексты и  мы испробовали 2 подхода создания фич для классфикации. Первый подход заключался в создании фич в виде индексов `TF-IDF`, в этом подходе мы обучили модели `RFC`, `LR`,`DTC` , `LightGBM` и наилучшее `f1 score` показала модешь LogisticRegression. Она была выбрана для теста и на тесте показала значение `f1 score` равное 0.78.\nВторой подход в создании фич заключался в использовании предобученной модели BERT, которую мы дообучали уже на наших данных. Для модели BERT были использованы только 10% данных. Логистическая регрессия на модели BERT показала довольно низкое значение `f1 score`. Таким образом наилучший результат мы смогли достигнуть путем использования моделей основанных на фичах TF-IDF.\nНо стоит заметить, что модель BERT имеет большой потенциал, т.к. мы использовали малую часть имеющихся данных для обучения модели. ",
      "metadata": {}
    }
  ]
}