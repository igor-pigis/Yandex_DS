{
  "metadata": {
    "kernelspec": {
      "name": "python",
      "display_name": "Python (Pyodide)",
      "language": "python"
    },
    "language_info": {
      "codemirror_mode": {
        "name": "ipython",
        "version": 3
      },
      "file_extension": ".py",
      "mimetype": "text/x-python",
      "name": "python",
      "nbconvert_exporter": "python",
      "pygments_lexer": "ipython3",
      "version": "3.9.5"
    },
    "ExecuteTimeLog": [
      {
        "duration": 3079,
        "start_time": "2024-01-05T13:53:07.840Z"
      },
      {
        "duration": 533,
        "start_time": "2024-01-05T13:54:38.891Z"
      },
      {
        "duration": 190,
        "start_time": "2024-01-05T14:09:57.268Z"
      },
      {
        "duration": 4,
        "start_time": "2024-01-05T14:09:58.099Z"
      },
      {
        "duration": 12,
        "start_time": "2024-01-05T14:11:57.322Z"
      },
      {
        "duration": 6,
        "start_time": "2024-01-05T14:11:58.044Z"
      },
      {
        "duration": 5,
        "start_time": "2024-01-05T14:11:58.632Z"
      },
      {
        "duration": 10,
        "start_time": "2024-01-05T14:11:59.130Z"
      },
      {
        "duration": 26,
        "start_time": "2024-01-05T14:11:59.983Z"
      },
      {
        "duration": 3,
        "start_time": "2024-01-05T14:12:03.196Z"
      },
      {
        "duration": 8,
        "start_time": "2024-01-05T14:12:42.788Z"
      },
      {
        "duration": 3,
        "start_time": "2024-01-05T14:15:05.691Z"
      },
      {
        "duration": 6,
        "start_time": "2024-01-05T14:15:06.342Z"
      },
      {
        "duration": 13,
        "start_time": "2024-01-05T14:15:07.148Z"
      },
      {
        "duration": 9,
        "start_time": "2024-01-05T14:15:07.344Z"
      },
      {
        "duration": 4,
        "start_time": "2024-01-05T14:15:07.554Z"
      },
      {
        "duration": 6,
        "start_time": "2024-01-05T14:15:08.073Z"
      },
      {
        "duration": 20,
        "start_time": "2024-01-05T14:15:08.621Z"
      },
      {
        "duration": 6,
        "start_time": "2024-01-05T14:15:11.795Z"
      },
      {
        "duration": 23,
        "start_time": "2024-01-05T14:15:11.997Z"
      },
      {
        "duration": 2,
        "start_time": "2024-01-05T14:15:12.201Z"
      },
      {
        "duration": 11,
        "start_time": "2024-01-05T14:15:12.403Z"
      },
      {
        "duration": 20,
        "start_time": "2024-01-05T14:15:12.780Z"
      },
      {
        "duration": 3,
        "start_time": "2024-01-05T14:15:15.032Z"
      },
      {
        "duration": 6,
        "start_time": "2024-01-05T14:16:10.642Z"
      },
      {
        "duration": 18,
        "start_time": "2024-01-05T14:16:10.967Z"
      },
      {
        "duration": 9,
        "start_time": "2024-01-05T14:16:11.798Z"
      },
      {
        "duration": 16,
        "start_time": "2024-01-05T14:16:12.501Z"
      },
      {
        "duration": 7,
        "start_time": "2024-01-05T14:22:56.779Z"
      },
      {
        "duration": 13,
        "start_time": "2024-01-05T14:23:08.636Z"
      },
      {
        "duration": 3,
        "start_time": "2024-01-05T14:23:19.372Z"
      },
      {
        "duration": 6,
        "start_time": "2024-01-05T14:23:37.519Z"
      },
      {
        "duration": 8,
        "start_time": "2024-01-05T14:24:00.935Z"
      },
      {
        "duration": 139,
        "start_time": "2024-01-05T14:24:30.524Z"
      },
      {
        "duration": 122,
        "start_time": "2024-01-05T14:24:34.082Z"
      },
      {
        "duration": 13,
        "start_time": "2024-01-05T14:24:54.363Z"
      },
      {
        "duration": 9,
        "start_time": "2024-01-05T14:25:35.978Z"
      },
      {
        "duration": 5,
        "start_time": "2024-01-05T14:25:46.812Z"
      },
      {
        "duration": 4,
        "start_time": "2024-01-05T14:26:44.206Z"
      },
      {
        "duration": 115,
        "start_time": "2024-01-05T14:26:49.354Z"
      },
      {
        "duration": 2929,
        "start_time": "2024-01-05T14:27:05.541Z"
      },
      {
        "duration": 2,
        "start_time": "2024-01-05T14:27:08.472Z"
      },
      {
        "duration": 5,
        "start_time": "2024-01-05T14:27:08.475Z"
      },
      {
        "duration": 5,
        "start_time": "2024-01-05T14:27:08.481Z"
      },
      {
        "duration": 208,
        "start_time": "2024-01-05T14:27:08.488Z"
      },
      {
        "duration": 4,
        "start_time": "2024-01-05T14:27:08.697Z"
      },
      {
        "duration": 55,
        "start_time": "2024-01-05T14:27:08.702Z"
      },
      {
        "duration": 11,
        "start_time": "2024-01-05T14:27:08.759Z"
      },
      {
        "duration": 30,
        "start_time": "2024-01-05T14:27:08.771Z"
      },
      {
        "duration": 30,
        "start_time": "2024-01-05T14:27:08.802Z"
      },
      {
        "duration": 33,
        "start_time": "2024-01-05T14:27:08.834Z"
      },
      {
        "duration": 15,
        "start_time": "2024-01-05T14:27:08.869Z"
      },
      {
        "duration": 10,
        "start_time": "2024-01-05T14:27:08.885Z"
      },
      {
        "duration": 31,
        "start_time": "2024-01-05T14:27:08.898Z"
      },
      {
        "duration": 2,
        "start_time": "2024-01-05T14:27:08.931Z"
      },
      {
        "duration": 31,
        "start_time": "2024-01-05T14:27:08.935Z"
      },
      {
        "duration": 32,
        "start_time": "2024-01-05T14:27:08.968Z"
      },
      {
        "duration": 21,
        "start_time": "2024-01-05T14:27:09.002Z"
      },
      {
        "duration": 16,
        "start_time": "2024-01-05T14:27:09.024Z"
      },
      {
        "duration": 16,
        "start_time": "2024-01-05T14:27:09.041Z"
      },
      {
        "duration": 8,
        "start_time": "2024-01-05T14:27:09.058Z"
      },
      {
        "duration": 15,
        "start_time": "2024-01-05T14:27:09.067Z"
      },
      {
        "duration": 17,
        "start_time": "2024-01-05T14:27:09.083Z"
      },
      {
        "duration": 23,
        "start_time": "2024-01-05T14:27:09.101Z"
      },
      {
        "duration": 28,
        "start_time": "2024-01-05T14:27:09.125Z"
      },
      {
        "duration": 32,
        "start_time": "2024-01-05T14:27:09.155Z"
      },
      {
        "duration": 10,
        "start_time": "2024-01-05T14:27:09.188Z"
      },
      {
        "duration": 26,
        "start_time": "2024-01-05T14:27:09.200Z"
      },
      {
        "duration": 8,
        "start_time": "2024-01-05T14:27:09.227Z"
      },
      {
        "duration": 10,
        "start_time": "2024-01-05T14:27:09.236Z"
      },
      {
        "duration": 77,
        "start_time": "2024-01-05T14:27:09.248Z"
      },
      {
        "duration": 0,
        "start_time": "2024-01-05T14:27:09.327Z"
      },
      {
        "duration": 0,
        "start_time": "2024-01-05T14:27:09.329Z"
      },
      {
        "duration": 0,
        "start_time": "2024-01-05T14:27:09.330Z"
      },
      {
        "duration": 0,
        "start_time": "2024-01-05T14:27:09.331Z"
      },
      {
        "duration": 0,
        "start_time": "2024-01-05T14:27:09.333Z"
      },
      {
        "duration": 0,
        "start_time": "2024-01-05T14:27:09.334Z"
      },
      {
        "duration": 7,
        "start_time": "2024-01-05T14:27:17.689Z"
      },
      {
        "duration": 143,
        "start_time": "2024-01-05T14:27:17.903Z"
      },
      {
        "duration": 5,
        "start_time": "2024-01-05T14:27:18.121Z"
      },
      {
        "duration": 5,
        "start_time": "2024-01-05T14:27:19.012Z"
      },
      {
        "duration": 126,
        "start_time": "2024-01-05T14:27:19.031Z"
      },
      {
        "duration": 8,
        "start_time": "2024-01-05T14:27:33.052Z"
      },
      {
        "duration": 5,
        "start_time": "2024-01-05T14:27:48.135Z"
      },
      {
        "duration": 122,
        "start_time": "2024-01-05T14:28:04.314Z"
      },
      {
        "duration": 4,
        "start_time": "2024-01-05T14:28:07.596Z"
      },
      {
        "duration": 139,
        "start_time": "2024-01-05T14:28:08.155Z"
      },
      {
        "duration": 8,
        "start_time": "2024-01-05T14:28:31.524Z"
      },
      {
        "duration": 8,
        "start_time": "2024-01-05T14:30:08.066Z"
      },
      {
        "duration": 133,
        "start_time": "2024-01-05T14:30:10.102Z"
      },
      {
        "duration": 7,
        "start_time": "2024-01-05T14:30:15.919Z"
      },
      {
        "duration": 2865,
        "start_time": "2024-01-05T14:30:31.821Z"
      },
      {
        "duration": 3,
        "start_time": "2024-01-05T14:30:34.688Z"
      },
      {
        "duration": 4,
        "start_time": "2024-01-05T14:30:34.692Z"
      },
      {
        "duration": 14,
        "start_time": "2024-01-05T14:30:34.698Z"
      },
      {
        "duration": 192,
        "start_time": "2024-01-05T14:30:34.713Z"
      },
      {
        "duration": 3,
        "start_time": "2024-01-05T14:30:34.907Z"
      },
      {
        "duration": 14,
        "start_time": "2024-01-05T14:30:34.912Z"
      },
      {
        "duration": 11,
        "start_time": "2024-01-05T14:30:34.927Z"
      },
      {
        "duration": 5,
        "start_time": "2024-01-05T14:30:34.940Z"
      },
      {
        "duration": 8,
        "start_time": "2024-01-05T14:30:34.947Z"
      },
      {
        "duration": 18,
        "start_time": "2024-01-05T14:30:34.956Z"
      },
      {
        "duration": 2,
        "start_time": "2024-01-05T14:30:34.976Z"
      },
      {
        "duration": 8,
        "start_time": "2024-01-05T14:30:34.979Z"
      },
      {
        "duration": 40,
        "start_time": "2024-01-05T14:30:34.989Z"
      },
      {
        "duration": 2,
        "start_time": "2024-01-05T14:30:35.031Z"
      },
      {
        "duration": 16,
        "start_time": "2024-01-05T14:30:35.035Z"
      },
      {
        "duration": 44,
        "start_time": "2024-01-05T14:30:35.053Z"
      },
      {
        "duration": 8,
        "start_time": "2024-01-05T14:30:35.098Z"
      },
      {
        "duration": 29,
        "start_time": "2024-01-05T14:30:35.107Z"
      },
      {
        "duration": 14,
        "start_time": "2024-01-05T14:30:35.137Z"
      },
      {
        "duration": 37,
        "start_time": "2024-01-05T14:30:35.153Z"
      },
      {
        "duration": 48,
        "start_time": "2024-01-05T14:30:35.192Z"
      },
      {
        "duration": 43,
        "start_time": "2024-01-05T14:30:35.241Z"
      },
      {
        "duration": 36,
        "start_time": "2024-01-05T14:30:35.286Z"
      },
      {
        "duration": 9,
        "start_time": "2024-01-05T14:30:35.324Z"
      },
      {
        "duration": 28,
        "start_time": "2024-01-05T14:30:35.335Z"
      },
      {
        "duration": 10,
        "start_time": "2024-01-05T14:30:35.364Z"
      },
      {
        "duration": 38,
        "start_time": "2024-01-05T14:30:35.377Z"
      },
      {
        "duration": 3,
        "start_time": "2024-01-05T14:30:35.416Z"
      },
      {
        "duration": 12,
        "start_time": "2024-01-05T14:30:35.421Z"
      },
      {
        "duration": 146,
        "start_time": "2024-01-05T14:30:35.434Z"
      },
      {
        "duration": 6,
        "start_time": "2024-01-05T14:30:35.582Z"
      },
      {
        "duration": 264,
        "start_time": "2024-01-05T14:30:35.589Z"
      },
      {
        "duration": 0,
        "start_time": "2024-01-05T14:30:35.854Z"
      },
      {
        "duration": 0,
        "start_time": "2024-01-05T14:30:35.855Z"
      },
      {
        "duration": 1,
        "start_time": "2024-01-05T14:30:35.856Z"
      },
      {
        "duration": 0,
        "start_time": "2024-01-05T14:30:35.858Z"
      },
      {
        "duration": 0,
        "start_time": "2024-01-05T14:30:35.859Z"
      },
      {
        "duration": 6,
        "start_time": "2024-01-05T14:31:37.612Z"
      },
      {
        "duration": 6,
        "start_time": "2024-01-05T14:31:40.802Z"
      },
      {
        "duration": 13,
        "start_time": "2024-01-05T14:37:25.219Z"
      },
      {
        "duration": 5,
        "start_time": "2024-01-05T14:37:47.123Z"
      },
      {
        "duration": 130,
        "start_time": "2024-01-05T14:37:51.480Z"
      },
      {
        "duration": 6,
        "start_time": "2024-01-05T14:38:09.269Z"
      },
      {
        "duration": 134,
        "start_time": "2024-01-05T14:38:09.811Z"
      },
      {
        "duration": 6,
        "start_time": "2024-01-05T14:38:36.411Z"
      },
      {
        "duration": 5,
        "start_time": "2024-01-05T14:38:47.089Z"
      },
      {
        "duration": 132,
        "start_time": "2024-01-05T14:38:48.957Z"
      },
      {
        "duration": 74,
        "start_time": "2024-01-05T14:42:02.068Z"
      },
      {
        "duration": 15,
        "start_time": "2024-01-05T14:42:02.512Z"
      },
      {
        "duration": 5,
        "start_time": "2024-01-05T14:42:10.283Z"
      },
      {
        "duration": 4,
        "start_time": "2024-01-05T14:42:11.086Z"
      },
      {
        "duration": 121,
        "start_time": "2024-01-05T14:42:12.875Z"
      },
      {
        "duration": 6,
        "start_time": "2024-01-05T14:43:40.885Z"
      },
      {
        "duration": 5,
        "start_time": "2024-01-05T14:43:45.591Z"
      },
      {
        "duration": 124,
        "start_time": "2024-01-05T14:43:46.061Z"
      },
      {
        "duration": 5,
        "start_time": "2024-01-05T14:44:08.200Z"
      },
      {
        "duration": 4,
        "start_time": "2024-01-05T14:44:08.950Z"
      },
      {
        "duration": 135,
        "start_time": "2024-01-05T14:44:09.766Z"
      },
      {
        "duration": 2863,
        "start_time": "2024-01-05T14:44:29.256Z"
      },
      {
        "duration": 2,
        "start_time": "2024-01-05T14:44:32.121Z"
      },
      {
        "duration": 20,
        "start_time": "2024-01-05T14:44:32.125Z"
      },
      {
        "duration": 21,
        "start_time": "2024-01-05T14:44:32.146Z"
      },
      {
        "duration": 194,
        "start_time": "2024-01-05T14:44:32.169Z"
      },
      {
        "duration": 4,
        "start_time": "2024-01-05T14:44:32.364Z"
      },
      {
        "duration": 11,
        "start_time": "2024-01-05T14:44:32.369Z"
      },
      {
        "duration": 23,
        "start_time": "2024-01-05T14:44:32.382Z"
      },
      {
        "duration": 13,
        "start_time": "2024-01-05T14:44:32.407Z"
      },
      {
        "duration": 8,
        "start_time": "2024-01-05T14:44:32.421Z"
      },
      {
        "duration": 17,
        "start_time": "2024-01-05T14:44:32.431Z"
      },
      {
        "duration": 3,
        "start_time": "2024-01-05T14:44:32.449Z"
      },
      {
        "duration": 8,
        "start_time": "2024-01-05T14:44:32.453Z"
      },
      {
        "duration": 21,
        "start_time": "2024-01-05T14:44:32.464Z"
      },
      {
        "duration": 25,
        "start_time": "2024-01-05T14:44:32.486Z"
      },
      {
        "duration": 12,
        "start_time": "2024-01-05T14:44:32.512Z"
      },
      {
        "duration": 21,
        "start_time": "2024-01-05T14:44:32.525Z"
      },
      {
        "duration": 3,
        "start_time": "2024-01-05T14:44:32.547Z"
      },
      {
        "duration": 11,
        "start_time": "2024-01-05T14:44:32.551Z"
      },
      {
        "duration": 21,
        "start_time": "2024-01-05T14:44:32.563Z"
      },
      {
        "duration": 28,
        "start_time": "2024-01-05T14:44:32.586Z"
      },
      {
        "duration": 3,
        "start_time": "2024-01-05T14:44:32.616Z"
      },
      {
        "duration": 8,
        "start_time": "2024-01-05T14:44:32.620Z"
      },
      {
        "duration": 14,
        "start_time": "2024-01-05T14:44:32.630Z"
      },
      {
        "duration": 6,
        "start_time": "2024-01-05T14:44:32.645Z"
      },
      {
        "duration": 17,
        "start_time": "2024-01-05T14:44:32.653Z"
      },
      {
        "duration": 8,
        "start_time": "2024-01-05T14:44:32.672Z"
      },
      {
        "duration": 46,
        "start_time": "2024-01-05T14:44:32.681Z"
      },
      {
        "duration": 3,
        "start_time": "2024-01-05T14:44:32.729Z"
      },
      {
        "duration": 9,
        "start_time": "2024-01-05T14:44:32.733Z"
      },
      {
        "duration": 170,
        "start_time": "2024-01-05T14:44:32.743Z"
      },
      {
        "duration": 7,
        "start_time": "2024-01-05T14:44:32.915Z"
      },
      {
        "duration": 9,
        "start_time": "2024-01-05T14:44:32.923Z"
      },
      {
        "duration": 5,
        "start_time": "2024-01-05T14:44:32.934Z"
      },
      {
        "duration": 143,
        "start_time": "2024-01-05T14:44:32.940Z"
      },
      {
        "duration": 249,
        "start_time": "2024-01-05T14:44:33.085Z"
      },
      {
        "duration": 0,
        "start_time": "2024-01-05T14:44:33.335Z"
      },
      {
        "duration": 0,
        "start_time": "2024-01-05T14:44:33.336Z"
      },
      {
        "duration": 0,
        "start_time": "2024-01-05T14:44:33.337Z"
      },
      {
        "duration": 6,
        "start_time": "2024-01-05T14:45:03.151Z"
      },
      {
        "duration": 6,
        "start_time": "2024-01-05T14:45:23.384Z"
      },
      {
        "duration": 6,
        "start_time": "2024-01-05T14:45:30.853Z"
      },
      {
        "duration": 6,
        "start_time": "2024-01-05T14:45:31.623Z"
      },
      {
        "duration": 135,
        "start_time": "2024-01-05T14:45:32.135Z"
      },
      {
        "duration": 7,
        "start_time": "2024-01-05T14:46:04.693Z"
      },
      {
        "duration": 5,
        "start_time": "2024-01-05T14:46:05.332Z"
      },
      {
        "duration": 129,
        "start_time": "2024-01-05T14:46:05.835Z"
      },
      {
        "duration": 13,
        "start_time": "2024-01-05T14:46:39.019Z"
      },
      {
        "duration": 13,
        "start_time": "2024-01-05T14:46:47.433Z"
      },
      {
        "duration": 5,
        "start_time": "2024-01-05T14:46:58.040Z"
      },
      {
        "duration": 4,
        "start_time": "2024-01-05T14:47:34.571Z"
      },
      {
        "duration": 4,
        "start_time": "2024-01-05T14:48:17.232Z"
      },
      {
        "duration": 18,
        "start_time": "2024-01-05T14:48:25.656Z"
      },
      {
        "duration": 4,
        "start_time": "2024-01-05T14:48:36.778Z"
      },
      {
        "duration": 5,
        "start_time": "2024-01-05T14:48:49.023Z"
      },
      {
        "duration": 5,
        "start_time": "2024-01-05T14:49:04.259Z"
      },
      {
        "duration": 4,
        "start_time": "2024-01-05T14:49:05.746Z"
      },
      {
        "duration": 4,
        "start_time": "2024-01-05T14:49:06.312Z"
      },
      {
        "duration": 125,
        "start_time": "2024-01-05T14:49:07.619Z"
      },
      {
        "duration": 8,
        "start_time": "2024-01-05T14:50:45.026Z"
      },
      {
        "duration": 75,
        "start_time": "2024-01-05T14:52:18.896Z"
      },
      {
        "duration": 4,
        "start_time": "2024-01-05T14:53:23.176Z"
      },
      {
        "duration": 4,
        "start_time": "2024-01-05T14:53:23.718Z"
      },
      {
        "duration": 117,
        "start_time": "2024-01-05T14:53:24.158Z"
      },
      {
        "duration": 5,
        "start_time": "2024-01-05T14:53:27.985Z"
      },
      {
        "duration": 10,
        "start_time": "2024-01-05T14:53:33.645Z"
      },
      {
        "duration": 5,
        "start_time": "2024-01-05T14:55:35.516Z"
      },
      {
        "duration": 76,
        "start_time": "2024-01-05T14:56:43.284Z"
      },
      {
        "duration": 5,
        "start_time": "2024-01-05T14:57:14.044Z"
      },
      {
        "duration": 4,
        "start_time": "2024-01-05T14:57:14.570Z"
      },
      {
        "duration": 6,
        "start_time": "2024-01-05T14:57:15.196Z"
      },
      {
        "duration": 11,
        "start_time": "2024-01-05T14:57:15.691Z"
      },
      {
        "duration": 10,
        "start_time": "2024-01-05T14:57:16.124Z"
      },
      {
        "duration": 7,
        "start_time": "2024-01-05T14:58:16.336Z"
      },
      {
        "duration": 5,
        "start_time": "2024-01-05T14:58:25.156Z"
      },
      {
        "duration": 3,
        "start_time": "2024-01-05T14:58:35.564Z"
      },
      {
        "duration": 8,
        "start_time": "2024-01-05T14:58:44.037Z"
      },
      {
        "duration": 7,
        "start_time": "2024-01-05T14:58:52.054Z"
      },
      {
        "duration": 6,
        "start_time": "2024-01-05T14:59:12.213Z"
      },
      {
        "duration": 25,
        "start_time": "2024-01-05T14:59:59.304Z"
      },
      {
        "duration": 4,
        "start_time": "2024-01-05T15:02:58.973Z"
      },
      {
        "duration": 4,
        "start_time": "2024-01-05T15:04:33.429Z"
      },
      {
        "duration": 4,
        "start_time": "2024-01-05T15:04:34.864Z"
      },
      {
        "duration": 19,
        "start_time": "2024-01-05T15:04:47.204Z"
      },
      {
        "duration": 118,
        "start_time": "2024-01-05T15:05:21.212Z"
      },
      {
        "duration": 121,
        "start_time": "2024-01-05T15:05:21.686Z"
      },
      {
        "duration": 121,
        "start_time": "2024-01-05T15:05:22.271Z"
      },
      {
        "duration": 9,
        "start_time": "2024-01-05T15:05:48.367Z"
      },
      {
        "duration": 842,
        "start_time": "2024-01-05T15:05:56.130Z"
      },
      {
        "duration": 2,
        "start_time": "2024-01-05T15:06:23.059Z"
      },
      {
        "duration": 2,
        "start_time": "2024-01-05T15:06:23.569Z"
      },
      {
        "duration": 4,
        "start_time": "2024-01-05T15:07:00.276Z"
      },
      {
        "duration": 9,
        "start_time": "2024-01-05T15:07:46.122Z"
      },
      {
        "duration": 9,
        "start_time": "2024-01-05T15:07:47.392Z"
      },
      {
        "duration": 319,
        "start_time": "2024-01-05T15:08:03.271Z"
      },
      {
        "duration": 9,
        "start_time": "2024-01-05T15:08:11.445Z"
      },
      {
        "duration": 5,
        "start_time": "2024-01-05T15:09:35.749Z"
      },
      {
        "duration": 4,
        "start_time": "2024-01-05T15:09:42.254Z"
      },
      {
        "duration": 4,
        "start_time": "2024-01-05T15:15:29.877Z"
      },
      {
        "duration": 3,
        "start_time": "2024-01-05T15:15:30.253Z"
      },
      {
        "duration": 4,
        "start_time": "2024-01-05T15:15:38.042Z"
      },
      {
        "duration": 3,
        "start_time": "2024-01-05T15:15:38.414Z"
      },
      {
        "duration": 9,
        "start_time": "2024-01-05T15:17:02.769Z"
      },
      {
        "duration": 67,
        "start_time": "2024-01-05T15:24:44.635Z"
      },
      {
        "duration": 4,
        "start_time": "2024-01-05T15:24:56.159Z"
      },
      {
        "duration": 4,
        "start_time": "2024-01-05T15:24:57.355Z"
      },
      {
        "duration": 143,
        "start_time": "2024-01-05T15:26:30.498Z"
      },
      {
        "duration": 138,
        "start_time": "2024-01-05T15:26:57.007Z"
      },
      {
        "duration": 142,
        "start_time": "2024-01-05T15:27:27.772Z"
      },
      {
        "duration": 134,
        "start_time": "2024-01-05T15:27:34.039Z"
      },
      {
        "duration": 141,
        "start_time": "2024-01-05T15:27:40.228Z"
      },
      {
        "duration": 5,
        "start_time": "2024-01-05T15:30:25.122Z"
      },
      {
        "duration": 5,
        "start_time": "2024-01-05T15:30:27.617Z"
      },
      {
        "duration": 5,
        "start_time": "2024-01-05T15:30:28.758Z"
      },
      {
        "duration": 138,
        "start_time": "2024-01-05T15:30:29.282Z"
      },
      {
        "duration": 4,
        "start_time": "2024-01-05T15:30:43.912Z"
      },
      {
        "duration": 125,
        "start_time": "2024-01-05T15:30:44.669Z"
      },
      {
        "duration": 4,
        "start_time": "2024-01-05T15:31:38.198Z"
      },
      {
        "duration": 3,
        "start_time": "2024-01-05T15:31:38.588Z"
      },
      {
        "duration": 4,
        "start_time": "2024-01-05T15:31:38.988Z"
      },
      {
        "duration": 114,
        "start_time": "2024-01-05T15:31:39.457Z"
      },
      {
        "duration": 3,
        "start_time": "2024-01-05T15:34:22.400Z"
      },
      {
        "duration": 5,
        "start_time": "2024-01-05T15:34:23.175Z"
      },
      {
        "duration": 3,
        "start_time": "2024-01-05T15:34:51.803Z"
      },
      {
        "duration": 6,
        "start_time": "2024-01-05T15:34:52.288Z"
      },
      {
        "duration": 6,
        "start_time": "2024-01-05T15:34:52.901Z"
      },
      {
        "duration": 4,
        "start_time": "2024-01-05T15:34:53.366Z"
      },
      {
        "duration": 8,
        "start_time": "2024-01-05T15:35:01.651Z"
      },
      {
        "duration": 29,
        "start_time": "2024-01-05T15:35:10.784Z"
      },
      {
        "duration": 3,
        "start_time": "2024-01-05T15:36:45.186Z"
      },
      {
        "duration": 5,
        "start_time": "2024-01-05T15:36:45.663Z"
      },
      {
        "duration": 6,
        "start_time": "2024-01-05T15:36:46.124Z"
      },
      {
        "duration": 4,
        "start_time": "2024-01-05T15:36:46.590Z"
      },
      {
        "duration": 7,
        "start_time": "2024-01-05T15:36:47.074Z"
      },
      {
        "duration": 5,
        "start_time": "2024-01-05T15:37:30.026Z"
      },
      {
        "duration": 3,
        "start_time": "2024-01-05T15:37:31.125Z"
      },
      {
        "duration": 6,
        "start_time": "2024-01-05T15:37:32.008Z"
      },
      {
        "duration": 6,
        "start_time": "2024-01-05T15:37:32.543Z"
      },
      {
        "duration": 4,
        "start_time": "2024-01-05T15:37:33.052Z"
      },
      {
        "duration": 7,
        "start_time": "2024-01-05T15:37:33.678Z"
      },
      {
        "duration": 19,
        "start_time": "2024-01-05T15:37:34.791Z"
      },
      {
        "duration": 4,
        "start_time": "2024-01-05T15:38:00.150Z"
      },
      {
        "duration": 2,
        "start_time": "2024-01-05T15:38:00.704Z"
      },
      {
        "duration": 5,
        "start_time": "2024-01-05T15:38:02.326Z"
      },
      {
        "duration": 6,
        "start_time": "2024-01-05T15:38:02.767Z"
      },
      {
        "duration": 4,
        "start_time": "2024-01-05T15:38:03.196Z"
      },
      {
        "duration": 9,
        "start_time": "2024-01-05T15:38:03.858Z"
      },
      {
        "duration": 130,
        "start_time": "2024-01-05T15:38:14.402Z"
      },
      {
        "duration": 142,
        "start_time": "2024-01-05T15:38:53.873Z"
      },
      {
        "duration": 4,
        "start_time": "2024-01-05T15:41:37.271Z"
      },
      {
        "duration": 4,
        "start_time": "2024-01-05T15:42:05.342Z"
      },
      {
        "duration": 4,
        "start_time": "2024-01-05T15:42:05.987Z"
      },
      {
        "duration": 119,
        "start_time": "2024-01-05T15:42:08.192Z"
      },
      {
        "duration": 7,
        "start_time": "2024-01-05T15:43:15.202Z"
      },
      {
        "duration": 3,
        "start_time": "2024-01-05T15:43:23.070Z"
      },
      {
        "duration": 78,
        "start_time": "2024-01-05T15:44:27.587Z"
      },
      {
        "duration": 6,
        "start_time": "2024-01-05T15:44:32.786Z"
      },
      {
        "duration": 12,
        "start_time": "2024-01-05T15:44:55.143Z"
      },
      {
        "duration": 10,
        "start_time": "2024-01-05T15:45:07.374Z"
      },
      {
        "duration": 11,
        "start_time": "2024-01-05T15:45:51.465Z"
      },
      {
        "duration": 10,
        "start_time": "2024-01-05T15:45:51.830Z"
      },
      {
        "duration": 12,
        "start_time": "2024-01-05T15:45:52.255Z"
      },
      {
        "duration": 11,
        "start_time": "2024-01-05T15:45:52.659Z"
      },
      {
        "duration": 10,
        "start_time": "2024-01-05T15:45:53.107Z"
      },
      {
        "duration": 76,
        "start_time": "2024-01-05T15:46:43.806Z"
      },
      {
        "duration": 5,
        "start_time": "2024-01-05T15:47:03.955Z"
      },
      {
        "duration": 519,
        "start_time": "2024-01-05T15:47:55.659Z"
      },
      {
        "duration": 2366,
        "start_time": "2024-01-05T15:47:56.860Z"
      },
      {
        "duration": 82,
        "start_time": "2024-01-05T15:47:59.228Z"
      },
      {
        "duration": 4,
        "start_time": "2024-01-05T15:49:00.010Z"
      },
      {
        "duration": 3,
        "start_time": "2024-01-05T15:50:00.081Z"
      },
      {
        "duration": 4,
        "start_time": "2024-01-05T15:50:08.627Z"
      },
      {
        "duration": 5,
        "start_time": "2024-01-05T15:50:20.087Z"
      },
      {
        "duration": 4,
        "start_time": "2024-01-05T15:50:30.045Z"
      },
      {
        "duration": 10,
        "start_time": "2024-01-05T15:51:00.051Z"
      },
      {
        "duration": 9,
        "start_time": "2024-01-05T15:51:10.312Z"
      },
      {
        "duration": 8,
        "start_time": "2024-01-05T15:51:22.194Z"
      },
      {
        "duration": 6,
        "start_time": "2024-01-05T15:56:54.026Z"
      },
      {
        "duration": 3196,
        "start_time": "2024-01-05T15:57:44.348Z"
      },
      {
        "duration": 2,
        "start_time": "2024-01-05T15:57:47.546Z"
      },
      {
        "duration": 29,
        "start_time": "2024-01-05T15:57:47.550Z"
      },
      {
        "duration": 25,
        "start_time": "2024-01-05T15:57:47.581Z"
      },
      {
        "duration": 224,
        "start_time": "2024-01-05T15:57:47.608Z"
      },
      {
        "duration": 4,
        "start_time": "2024-01-05T15:57:47.834Z"
      },
      {
        "duration": 24,
        "start_time": "2024-01-05T15:57:47.839Z"
      },
      {
        "duration": 22,
        "start_time": "2024-01-05T15:57:47.865Z"
      },
      {
        "duration": 28,
        "start_time": "2024-01-05T15:57:47.889Z"
      },
      {
        "duration": 14,
        "start_time": "2024-01-05T15:57:47.920Z"
      },
      {
        "duration": 29,
        "start_time": "2024-01-05T15:57:47.935Z"
      },
      {
        "duration": 6,
        "start_time": "2024-01-05T15:57:47.966Z"
      },
      {
        "duration": 16,
        "start_time": "2024-01-05T15:57:47.974Z"
      },
      {
        "duration": 35,
        "start_time": "2024-01-05T15:57:47.991Z"
      },
      {
        "duration": 3,
        "start_time": "2024-01-05T15:57:48.027Z"
      },
      {
        "duration": 31,
        "start_time": "2024-01-05T15:57:48.031Z"
      },
      {
        "duration": 37,
        "start_time": "2024-01-05T15:57:48.064Z"
      },
      {
        "duration": 2,
        "start_time": "2024-01-05T15:57:48.103Z"
      },
      {
        "duration": 6,
        "start_time": "2024-01-05T15:57:48.107Z"
      },
      {
        "duration": 13,
        "start_time": "2024-01-05T15:57:48.114Z"
      },
      {
        "duration": 8,
        "start_time": "2024-01-05T15:57:48.128Z"
      },
      {
        "duration": 3,
        "start_time": "2024-01-05T15:57:48.138Z"
      },
      {
        "duration": 11,
        "start_time": "2024-01-05T15:57:48.143Z"
      },
      {
        "duration": 28,
        "start_time": "2024-01-05T15:57:48.155Z"
      },
      {
        "duration": 7,
        "start_time": "2024-01-05T15:57:48.185Z"
      },
      {
        "duration": 18,
        "start_time": "2024-01-05T15:57:48.211Z"
      },
      {
        "duration": 9,
        "start_time": "2024-01-05T15:57:48.230Z"
      },
      {
        "duration": 19,
        "start_time": "2024-01-05T15:57:48.242Z"
      },
      {
        "duration": 3,
        "start_time": "2024-01-05T15:57:48.262Z"
      },
      {
        "duration": 11,
        "start_time": "2024-01-05T15:57:48.267Z"
      },
      {
        "duration": 181,
        "start_time": "2024-01-05T15:57:48.280Z"
      },
      {
        "duration": 7,
        "start_time": "2024-01-05T15:57:48.462Z"
      },
      {
        "duration": 5,
        "start_time": "2024-01-05T15:57:48.471Z"
      },
      {
        "duration": 14,
        "start_time": "2024-01-05T15:57:48.478Z"
      },
      {
        "duration": 139,
        "start_time": "2024-01-05T15:57:48.493Z"
      },
      {
        "duration": 6,
        "start_time": "2024-01-05T15:57:48.633Z"
      },
      {
        "duration": 8,
        "start_time": "2024-01-05T15:57:48.640Z"
      },
      {
        "duration": 6,
        "start_time": "2024-01-05T15:57:48.650Z"
      },
      {
        "duration": 17,
        "start_time": "2024-01-05T15:57:48.657Z"
      },
      {
        "duration": 8,
        "start_time": "2024-01-05T15:57:48.675Z"
      },
      {
        "duration": 29,
        "start_time": "2024-01-05T15:57:48.685Z"
      },
      {
        "duration": 11,
        "start_time": "2024-01-05T15:57:48.715Z"
      },
      {
        "duration": 7,
        "start_time": "2024-01-05T15:57:48.728Z"
      },
      {
        "duration": 6,
        "start_time": "2024-01-05T15:57:48.736Z"
      },
      {
        "duration": 3,
        "start_time": "2024-01-05T15:57:48.743Z"
      },
      {
        "duration": 15,
        "start_time": "2024-01-05T15:57:48.748Z"
      },
      {
        "duration": 9,
        "start_time": "2024-01-05T15:57:48.765Z"
      },
      {
        "duration": 53,
        "start_time": "2024-01-05T15:57:48.776Z"
      },
      {
        "duration": 4,
        "start_time": "2024-01-05T15:57:48.830Z"
      },
      {
        "duration": 14,
        "start_time": "2024-01-05T15:57:48.836Z"
      },
      {
        "duration": 21,
        "start_time": "2024-01-05T15:57:48.852Z"
      },
      {
        "duration": 124,
        "start_time": "2024-01-05T15:57:48.874Z"
      },
      {
        "duration": 3,
        "start_time": "2024-01-05T15:57:48.999Z"
      },
      {
        "duration": 9,
        "start_time": "2024-01-05T15:57:49.003Z"
      },
      {
        "duration": 10,
        "start_time": "2024-01-05T15:57:49.013Z"
      },
      {
        "duration": 844,
        "start_time": "2024-01-05T15:57:49.025Z"
      },
      {
        "duration": 9,
        "start_time": "2024-01-05T15:57:49.870Z"
      },
      {
        "duration": 8,
        "start_time": "2024-01-05T15:57:49.881Z"
      },
      {
        "duration": 165,
        "start_time": "2024-01-05T15:57:49.890Z"
      },
      {
        "duration": 7,
        "start_time": "2024-01-05T15:57:50.057Z"
      },
      {
        "duration": 12,
        "start_time": "2024-01-05T15:57:50.065Z"
      },
      {
        "duration": 9,
        "start_time": "2024-01-05T15:57:50.079Z"
      },
      {
        "duration": 7,
        "start_time": "2024-01-05T15:57:50.089Z"
      },
      {
        "duration": 132,
        "start_time": "2024-01-05T15:57:50.097Z"
      },
      {
        "duration": 10,
        "start_time": "2024-01-05T15:57:50.230Z"
      },
      {
        "duration": 5,
        "start_time": "2024-01-05T15:57:50.241Z"
      },
      {
        "duration": 15,
        "start_time": "2024-01-05T15:57:50.248Z"
      },
      {
        "duration": 4,
        "start_time": "2024-01-05T15:57:50.265Z"
      },
      {
        "duration": 135,
        "start_time": "2024-01-05T15:57:50.270Z"
      },
      {
        "duration": 5,
        "start_time": "2024-01-05T15:57:50.410Z"
      },
      {
        "duration": 12,
        "start_time": "2024-01-05T15:57:50.416Z"
      },
      {
        "duration": 5,
        "start_time": "2024-01-05T15:57:50.429Z"
      },
      {
        "duration": 6,
        "start_time": "2024-01-05T15:57:50.435Z"
      },
      {
        "duration": 3,
        "start_time": "2024-01-05T15:57:50.443Z"
      },
      {
        "duration": 10,
        "start_time": "2024-01-05T15:57:50.447Z"
      },
      {
        "duration": 155,
        "start_time": "2024-01-05T15:57:50.458Z"
      },
      {
        "duration": 4,
        "start_time": "2024-01-05T15:57:50.615Z"
      },
      {
        "duration": 7,
        "start_time": "2024-01-05T15:57:50.620Z"
      },
      {
        "duration": 18,
        "start_time": "2024-01-05T15:57:50.629Z"
      },
      {
        "duration": 9,
        "start_time": "2024-01-05T15:57:50.649Z"
      },
      {
        "duration": 6,
        "start_time": "2024-01-05T15:57:50.659Z"
      },
      {
        "duration": 7,
        "start_time": "2024-01-05T15:57:50.671Z"
      },
      {
        "duration": 11,
        "start_time": "2024-01-05T15:57:50.680Z"
      },
      {
        "duration": 4,
        "start_time": "2024-01-05T15:57:50.692Z"
      },
      {
        "duration": 3,
        "start_time": "2024-01-05T15:57:50.712Z"
      },
      {
        "duration": 17,
        "start_time": "2024-01-05T15:57:50.717Z"
      },
      {
        "duration": 280,
        "start_time": "2024-01-05T15:57:50.736Z"
      },
      {
        "duration": 6,
        "start_time": "2024-01-05T15:57:51.018Z"
      },
      {
        "duration": 11,
        "start_time": "2024-01-05T15:57:51.026Z"
      },
      {
        "duration": 19,
        "start_time": "2024-01-05T15:57:51.038Z"
      },
      {
        "duration": 11,
        "start_time": "2024-01-05T15:57:51.059Z"
      },
      {
        "duration": 11,
        "start_time": "2024-01-05T15:57:51.071Z"
      },
      {
        "duration": 34,
        "start_time": "2024-01-05T15:57:51.084Z"
      },
      {
        "duration": 11,
        "start_time": "2024-01-05T15:57:51.120Z"
      },
      {
        "duration": 19,
        "start_time": "2024-01-05T15:57:51.132Z"
      },
      {
        "duration": 8,
        "start_time": "2024-01-05T15:57:51.153Z"
      },
      {
        "duration": 585,
        "start_time": "2024-01-05T15:57:51.162Z"
      },
      {
        "duration": 2438,
        "start_time": "2024-01-05T15:57:51.748Z"
      },
      {
        "duration": 4,
        "start_time": "2024-01-05T15:57:54.188Z"
      },
      {
        "duration": 18,
        "start_time": "2024-01-05T15:57:54.193Z"
      },
      {
        "duration": 5,
        "start_time": "2024-01-05T15:57:54.213Z"
      },
      {
        "duration": 6,
        "start_time": "2024-01-05T15:57:54.220Z"
      },
      {
        "duration": 4,
        "start_time": "2024-01-05T15:57:54.228Z"
      },
      {
        "duration": 14,
        "start_time": "2024-01-05T15:57:54.234Z"
      },
      {
        "duration": 9,
        "start_time": "2024-01-05T15:57:54.249Z"
      },
      {
        "duration": 72,
        "start_time": "2024-01-05T15:57:54.259Z"
      },
      {
        "duration": 157,
        "start_time": "2024-01-05T15:57:54.333Z"
      },
      {
        "duration": 233523,
        "start_time": "2024-01-05T15:57:54.492Z"
      },
      {
        "duration": 182,
        "start_time": "2024-01-05T16:01:48.016Z"
      },
      {
        "duration": 596345,
        "start_time": "2024-01-05T16:01:48.200Z"
      },
      {
        "duration": 0,
        "start_time": "2024-01-05T16:11:44.547Z"
      },
      {
        "duration": 0,
        "start_time": "2024-01-05T16:11:44.548Z"
      },
      {
        "duration": 0,
        "start_time": "2024-01-05T16:11:44.549Z"
      },
      {
        "duration": 0,
        "start_time": "2024-01-05T16:11:44.550Z"
      },
      {
        "duration": 0,
        "start_time": "2024-01-05T16:11:44.551Z"
      },
      {
        "duration": 0,
        "start_time": "2024-01-05T16:11:44.552Z"
      },
      {
        "duration": 0,
        "start_time": "2024-01-05T16:11:44.553Z"
      },
      {
        "duration": 0,
        "start_time": "2024-01-05T16:11:44.553Z"
      },
      {
        "duration": 114888,
        "start_time": "2024-01-05T16:12:04.537Z"
      },
      {
        "duration": 135,
        "start_time": "2024-01-05T16:17:28.823Z"
      },
      {
        "duration": 84271,
        "start_time": "2024-01-05T16:18:15.184Z"
      },
      {
        "duration": 85660,
        "start_time": "2024-01-05T16:19:39.456Z"
      },
      {
        "duration": 112,
        "start_time": "2024-01-05T16:21:05.117Z"
      },
      {
        "duration": 92,
        "start_time": "2024-01-05T16:21:05.231Z"
      },
      {
        "duration": 153,
        "start_time": "2024-01-05T16:21:05.324Z"
      },
      {
        "duration": 152,
        "start_time": "2024-01-05T16:21:05.479Z"
      },
      {
        "duration": 156322,
        "start_time": "2024-01-05T16:21:39.716Z"
      },
      {
        "duration": 158946,
        "start_time": "2024-01-05T16:32:29.504Z"
      },
      {
        "duration": 320710,
        "start_time": "2024-01-05T16:35:08.452Z"
      },
      {
        "duration": 484128,
        "start_time": "2024-01-05T16:42:19.626Z"
      },
      {
        "duration": 77,
        "start_time": "2024-01-05T17:02:17.958Z"
      },
      {
        "duration": 75,
        "start_time": "2024-01-05T17:02:18.750Z"
      },
      {
        "duration": 129,
        "start_time": "2024-01-05T17:02:57.693Z"
      },
      {
        "duration": 126,
        "start_time": "2024-01-05T17:02:58.676Z"
      },
      {
        "duration": 72,
        "start_time": "2024-01-05T17:06:48.051Z"
      },
      {
        "duration": 0,
        "start_time": "2024-01-05T17:06:48.125Z"
      },
      {
        "duration": 0,
        "start_time": "2024-01-05T17:06:48.128Z"
      },
      {
        "duration": 0,
        "start_time": "2024-01-05T17:06:48.129Z"
      },
      {
        "duration": 0,
        "start_time": "2024-01-05T17:06:48.130Z"
      },
      {
        "duration": 0,
        "start_time": "2024-01-05T17:06:48.131Z"
      },
      {
        "duration": 0,
        "start_time": "2024-01-05T17:06:48.132Z"
      },
      {
        "duration": 0,
        "start_time": "2024-01-05T17:06:48.133Z"
      },
      {
        "duration": 0,
        "start_time": "2024-01-05T17:06:48.134Z"
      },
      {
        "duration": 0,
        "start_time": "2024-01-05T17:06:48.135Z"
      },
      {
        "duration": 0,
        "start_time": "2024-01-05T17:06:48.136Z"
      },
      {
        "duration": 0,
        "start_time": "2024-01-05T17:06:48.137Z"
      },
      {
        "duration": 0,
        "start_time": "2024-01-05T17:06:48.138Z"
      },
      {
        "duration": 0,
        "start_time": "2024-01-05T17:06:48.139Z"
      },
      {
        "duration": 0,
        "start_time": "2024-01-05T17:06:48.140Z"
      },
      {
        "duration": 0,
        "start_time": "2024-01-05T17:06:48.140Z"
      },
      {
        "duration": 0,
        "start_time": "2024-01-05T17:06:48.142Z"
      },
      {
        "duration": 0,
        "start_time": "2024-01-05T17:06:48.142Z"
      },
      {
        "duration": 0,
        "start_time": "2024-01-05T17:06:48.144Z"
      },
      {
        "duration": 0,
        "start_time": "2024-01-05T17:06:48.144Z"
      },
      {
        "duration": 0,
        "start_time": "2024-01-05T17:06:48.145Z"
      },
      {
        "duration": 0,
        "start_time": "2024-01-05T17:06:48.146Z"
      },
      {
        "duration": 0,
        "start_time": "2024-01-05T17:06:48.147Z"
      },
      {
        "duration": 0,
        "start_time": "2024-01-05T17:06:48.148Z"
      },
      {
        "duration": 0,
        "start_time": "2024-01-05T17:06:48.149Z"
      },
      {
        "duration": 0,
        "start_time": "2024-01-05T17:06:48.150Z"
      },
      {
        "duration": 0,
        "start_time": "2024-01-05T17:06:48.151Z"
      },
      {
        "duration": 0,
        "start_time": "2024-01-05T17:06:48.152Z"
      },
      {
        "duration": 0,
        "start_time": "2024-01-05T17:06:48.153Z"
      },
      {
        "duration": 93,
        "start_time": "2024-01-05T17:06:48.156Z"
      },
      {
        "duration": 0,
        "start_time": "2024-01-05T17:06:48.251Z"
      },
      {
        "duration": 0,
        "start_time": "2024-01-05T17:06:48.252Z"
      },
      {
        "duration": 0,
        "start_time": "2024-01-05T17:06:48.253Z"
      },
      {
        "duration": 0,
        "start_time": "2024-01-05T17:06:48.254Z"
      },
      {
        "duration": 0,
        "start_time": "2024-01-05T17:06:48.255Z"
      },
      {
        "duration": 0,
        "start_time": "2024-01-05T17:06:48.256Z"
      },
      {
        "duration": 0,
        "start_time": "2024-01-05T17:06:48.257Z"
      },
      {
        "duration": 0,
        "start_time": "2024-01-05T17:06:48.258Z"
      },
      {
        "duration": 0,
        "start_time": "2024-01-05T17:06:48.311Z"
      },
      {
        "duration": 0,
        "start_time": "2024-01-05T17:06:48.313Z"
      },
      {
        "duration": 0,
        "start_time": "2024-01-05T17:06:48.313Z"
      },
      {
        "duration": 0,
        "start_time": "2024-01-05T17:06:48.315Z"
      },
      {
        "duration": 0,
        "start_time": "2024-01-05T17:06:48.315Z"
      },
      {
        "duration": 0,
        "start_time": "2024-01-05T17:06:48.316Z"
      },
      {
        "duration": 0,
        "start_time": "2024-01-05T17:06:48.317Z"
      },
      {
        "duration": 0,
        "start_time": "2024-01-05T17:06:48.319Z"
      },
      {
        "duration": 0,
        "start_time": "2024-01-05T17:06:48.319Z"
      },
      {
        "duration": 0,
        "start_time": "2024-01-05T17:06:48.320Z"
      },
      {
        "duration": 0,
        "start_time": "2024-01-05T17:06:48.321Z"
      },
      {
        "duration": 0,
        "start_time": "2024-01-05T17:06:48.322Z"
      },
      {
        "duration": 0,
        "start_time": "2024-01-05T17:06:48.323Z"
      },
      {
        "duration": 0,
        "start_time": "2024-01-05T17:06:48.324Z"
      },
      {
        "duration": 0,
        "start_time": "2024-01-05T17:06:48.325Z"
      },
      {
        "duration": 0,
        "start_time": "2024-01-05T17:06:48.326Z"
      },
      {
        "duration": 0,
        "start_time": "2024-01-05T17:06:48.327Z"
      },
      {
        "duration": 0,
        "start_time": "2024-01-05T17:06:48.328Z"
      },
      {
        "duration": 0,
        "start_time": "2024-01-05T17:06:48.329Z"
      },
      {
        "duration": 0,
        "start_time": "2024-01-05T17:06:48.330Z"
      },
      {
        "duration": 0,
        "start_time": "2024-01-05T17:06:48.331Z"
      },
      {
        "duration": 0,
        "start_time": "2024-01-05T17:06:48.332Z"
      },
      {
        "duration": 0,
        "start_time": "2024-01-05T17:06:48.333Z"
      },
      {
        "duration": 0,
        "start_time": "2024-01-05T17:06:48.334Z"
      },
      {
        "duration": 0,
        "start_time": "2024-01-05T17:06:48.335Z"
      },
      {
        "duration": 0,
        "start_time": "2024-01-05T17:06:48.336Z"
      },
      {
        "duration": 0,
        "start_time": "2024-01-05T17:06:48.337Z"
      },
      {
        "duration": 0,
        "start_time": "2024-01-05T17:06:48.338Z"
      },
      {
        "duration": 0,
        "start_time": "2024-01-05T17:06:48.339Z"
      },
      {
        "duration": 69,
        "start_time": "2024-01-05T17:06:48.344Z"
      },
      {
        "duration": 0,
        "start_time": "2024-01-05T17:06:48.415Z"
      },
      {
        "duration": 0,
        "start_time": "2024-01-05T17:06:48.416Z"
      },
      {
        "duration": 0,
        "start_time": "2024-01-05T17:06:48.417Z"
      },
      {
        "duration": 0,
        "start_time": "2024-01-05T17:06:48.418Z"
      },
      {
        "duration": 0,
        "start_time": "2024-01-05T17:06:48.419Z"
      },
      {
        "duration": 0,
        "start_time": "2024-01-05T17:06:48.420Z"
      },
      {
        "duration": 0,
        "start_time": "2024-01-05T17:06:48.421Z"
      },
      {
        "duration": 0,
        "start_time": "2024-01-05T17:06:48.422Z"
      },
      {
        "duration": 0,
        "start_time": "2024-01-05T17:06:48.423Z"
      },
      {
        "duration": 0,
        "start_time": "2024-01-05T17:06:48.424Z"
      },
      {
        "duration": 0,
        "start_time": "2024-01-05T17:06:48.425Z"
      },
      {
        "duration": 0,
        "start_time": "2024-01-05T17:06:48.426Z"
      },
      {
        "duration": 0,
        "start_time": "2024-01-05T17:06:48.427Z"
      },
      {
        "duration": 0,
        "start_time": "2024-01-05T17:06:48.428Z"
      },
      {
        "duration": 0,
        "start_time": "2024-01-05T17:06:48.428Z"
      },
      {
        "duration": 0,
        "start_time": "2024-01-05T17:06:48.429Z"
      },
      {
        "duration": 0,
        "start_time": "2024-01-05T17:06:48.430Z"
      },
      {
        "duration": 0,
        "start_time": "2024-01-05T17:06:48.431Z"
      },
      {
        "duration": 0,
        "start_time": "2024-01-05T17:06:48.432Z"
      },
      {
        "duration": 0,
        "start_time": "2024-01-05T17:06:48.433Z"
      },
      {
        "duration": 0,
        "start_time": "2024-01-05T17:06:48.434Z"
      },
      {
        "duration": 0,
        "start_time": "2024-01-05T17:06:48.434Z"
      },
      {
        "duration": 0,
        "start_time": "2024-01-05T17:06:48.436Z"
      },
      {
        "duration": 0,
        "start_time": "2024-01-05T17:06:48.436Z"
      },
      {
        "duration": 0,
        "start_time": "2024-01-05T17:06:48.438Z"
      },
      {
        "duration": 1,
        "start_time": "2024-01-05T17:06:48.438Z"
      },
      {
        "duration": 0,
        "start_time": "2024-01-05T17:06:48.440Z"
      },
      {
        "duration": 0,
        "start_time": "2024-01-05T17:06:48.440Z"
      },
      {
        "duration": 0,
        "start_time": "2024-01-05T17:06:48.441Z"
      },
      {
        "duration": 72,
        "start_time": "2024-01-05T17:06:48.447Z"
      },
      {
        "duration": 0,
        "start_time": "2024-01-05T17:06:48.521Z"
      },
      {
        "duration": 0,
        "start_time": "2024-01-05T17:06:48.521Z"
      },
      {
        "duration": 0,
        "start_time": "2024-01-05T17:06:48.523Z"
      },
      {
        "duration": 0,
        "start_time": "2024-01-05T17:06:48.524Z"
      },
      {
        "duration": 0,
        "start_time": "2024-01-05T17:06:48.525Z"
      },
      {
        "duration": 0,
        "start_time": "2024-01-05T17:06:48.526Z"
      },
      {
        "duration": 0,
        "start_time": "2024-01-05T17:06:48.527Z"
      },
      {
        "duration": 0,
        "start_time": "2024-01-05T17:06:48.527Z"
      },
      {
        "duration": 0,
        "start_time": "2024-01-05T17:06:48.529Z"
      },
      {
        "duration": 0,
        "start_time": "2024-01-05T17:06:48.530Z"
      },
      {
        "duration": 0,
        "start_time": "2024-01-05T17:06:48.531Z"
      },
      {
        "duration": 0,
        "start_time": "2024-01-05T17:06:48.532Z"
      },
      {
        "duration": 0,
        "start_time": "2024-01-05T17:06:48.533Z"
      },
      {
        "duration": 0,
        "start_time": "2024-01-05T17:06:48.535Z"
      },
      {
        "duration": 0,
        "start_time": "2024-01-05T17:06:48.536Z"
      },
      {
        "duration": 0,
        "start_time": "2024-01-05T17:06:48.537Z"
      },
      {
        "duration": 0,
        "start_time": "2024-01-05T17:06:48.538Z"
      },
      {
        "duration": 0,
        "start_time": "2024-01-05T17:06:48.539Z"
      },
      {
        "duration": 2954,
        "start_time": "2024-01-05T17:07:02.630Z"
      },
      {
        "duration": 3,
        "start_time": "2024-01-05T17:07:05.587Z"
      },
      {
        "duration": 6,
        "start_time": "2024-01-05T17:07:05.591Z"
      },
      {
        "duration": 14,
        "start_time": "2024-01-05T17:07:05.599Z"
      },
      {
        "duration": 202,
        "start_time": "2024-01-05T17:07:05.615Z"
      },
      {
        "duration": 4,
        "start_time": "2024-01-05T17:07:05.819Z"
      },
      {
        "duration": 12,
        "start_time": "2024-01-05T17:07:05.824Z"
      },
      {
        "duration": 4,
        "start_time": "2024-01-05T17:07:05.837Z"
      },
      {
        "duration": 9,
        "start_time": "2024-01-05T17:07:05.842Z"
      },
      {
        "duration": 8,
        "start_time": "2024-01-05T17:07:05.853Z"
      },
      {
        "duration": 18,
        "start_time": "2024-01-05T17:07:05.863Z"
      },
      {
        "duration": 3,
        "start_time": "2024-01-05T17:07:05.882Z"
      },
      {
        "duration": 8,
        "start_time": "2024-01-05T17:07:05.911Z"
      },
      {
        "duration": 21,
        "start_time": "2024-01-05T17:07:05.920Z"
      },
      {
        "duration": 2,
        "start_time": "2024-01-05T17:07:05.942Z"
      },
      {
        "duration": 10,
        "start_time": "2024-01-05T17:07:05.946Z"
      },
      {
        "duration": 24,
        "start_time": "2024-01-05T17:07:05.958Z"
      },
      {
        "duration": 3,
        "start_time": "2024-01-05T17:07:06.012Z"
      },
      {
        "duration": 8,
        "start_time": "2024-01-05T17:07:06.016Z"
      },
      {
        "duration": 12,
        "start_time": "2024-01-05T17:07:06.025Z"
      },
      {
        "duration": 10,
        "start_time": "2024-01-05T17:07:06.038Z"
      },
      {
        "duration": 3,
        "start_time": "2024-01-05T17:07:06.049Z"
      },
      {
        "duration": 14,
        "start_time": "2024-01-05T17:07:06.054Z"
      },
      {
        "duration": 29,
        "start_time": "2024-01-05T17:07:06.069Z"
      },
      {
        "duration": 17,
        "start_time": "2024-01-05T17:07:06.099Z"
      },
      {
        "duration": 17,
        "start_time": "2024-01-05T17:07:06.118Z"
      },
      {
        "duration": 8,
        "start_time": "2024-01-05T17:07:06.136Z"
      },
      {
        "duration": 17,
        "start_time": "2024-01-05T17:07:06.148Z"
      },
      {
        "duration": 4,
        "start_time": "2024-01-05T17:07:06.166Z"
      },
      {
        "duration": 46,
        "start_time": "2024-01-05T17:07:06.171Z"
      },
      {
        "duration": 143,
        "start_time": "2024-01-05T17:07:06.219Z"
      },
      {
        "duration": 7,
        "start_time": "2024-01-05T17:07:06.363Z"
      },
      {
        "duration": 4,
        "start_time": "2024-01-05T17:07:06.371Z"
      },
      {
        "duration": 4,
        "start_time": "2024-01-05T17:07:06.376Z"
      },
      {
        "duration": 139,
        "start_time": "2024-01-05T17:07:06.382Z"
      },
      {
        "duration": 5,
        "start_time": "2024-01-05T17:07:06.522Z"
      },
      {
        "duration": 7,
        "start_time": "2024-01-05T17:07:06.529Z"
      },
      {
        "duration": 5,
        "start_time": "2024-01-05T17:07:06.537Z"
      },
      {
        "duration": 11,
        "start_time": "2024-01-05T17:07:06.543Z"
      },
      {
        "duration": 5,
        "start_time": "2024-01-05T17:07:06.556Z"
      },
      {
        "duration": 11,
        "start_time": "2024-01-05T17:07:06.563Z"
      },
      {
        "duration": 9,
        "start_time": "2024-01-05T17:07:06.575Z"
      },
      {
        "duration": 29,
        "start_time": "2024-01-05T17:07:06.585Z"
      },
      {
        "duration": 7,
        "start_time": "2024-01-05T17:07:06.615Z"
      },
      {
        "duration": 3,
        "start_time": "2024-01-05T17:07:06.623Z"
      },
      {
        "duration": 7,
        "start_time": "2024-01-05T17:07:06.627Z"
      },
      {
        "duration": 7,
        "start_time": "2024-01-05T17:07:06.635Z"
      },
      {
        "duration": 24,
        "start_time": "2024-01-05T17:07:06.644Z"
      },
      {
        "duration": 3,
        "start_time": "2024-01-05T17:07:06.670Z"
      },
      {
        "duration": 7,
        "start_time": "2024-01-05T17:07:06.674Z"
      },
      {
        "duration": 42,
        "start_time": "2024-01-05T17:07:06.682Z"
      },
      {
        "duration": 122,
        "start_time": "2024-01-05T17:07:06.726Z"
      },
      {
        "duration": 10,
        "start_time": "2024-01-05T17:07:06.850Z"
      },
      {
        "duration": 3,
        "start_time": "2024-01-05T17:07:06.861Z"
      },
      {
        "duration": 11,
        "start_time": "2024-01-05T17:07:06.866Z"
      },
      {
        "duration": 810,
        "start_time": "2024-01-05T17:07:06.878Z"
      },
      {
        "duration": 8,
        "start_time": "2024-01-05T17:07:07.689Z"
      },
      {
        "duration": 18,
        "start_time": "2024-01-05T17:07:07.699Z"
      },
      {
        "duration": 144,
        "start_time": "2024-01-05T17:07:07.719Z"
      },
      {
        "duration": 7,
        "start_time": "2024-01-05T17:07:07.865Z"
      },
      {
        "duration": 7,
        "start_time": "2024-01-05T17:07:07.873Z"
      },
      {
        "duration": 5,
        "start_time": "2024-01-05T17:07:07.881Z"
      },
      {
        "duration": 4,
        "start_time": "2024-01-05T17:07:07.887Z"
      },
      {
        "duration": 130,
        "start_time": "2024-01-05T17:07:07.910Z"
      },
      {
        "duration": 11,
        "start_time": "2024-01-05T17:07:08.042Z"
      },
      {
        "duration": 3,
        "start_time": "2024-01-05T17:07:08.055Z"
      },
      {
        "duration": 6,
        "start_time": "2024-01-05T17:07:08.059Z"
      },
      {
        "duration": 6,
        "start_time": "2024-01-05T17:07:08.067Z"
      },
      {
        "duration": 138,
        "start_time": "2024-01-05T17:07:08.074Z"
      },
      {
        "duration": 3,
        "start_time": "2024-01-05T17:07:08.214Z"
      },
      {
        "duration": 3,
        "start_time": "2024-01-05T17:07:08.219Z"
      },
      {
        "duration": 18,
        "start_time": "2024-01-05T17:07:08.223Z"
      },
      {
        "duration": 18,
        "start_time": "2024-01-05T17:07:08.242Z"
      },
      {
        "duration": 3,
        "start_time": "2024-01-05T17:07:08.261Z"
      },
      {
        "duration": 7,
        "start_time": "2024-01-05T17:07:08.265Z"
      },
      {
        "duration": 138,
        "start_time": "2024-01-05T17:07:08.273Z"
      },
      {
        "duration": 4,
        "start_time": "2024-01-05T17:07:08.412Z"
      },
      {
        "duration": 4,
        "start_time": "2024-01-05T17:07:08.417Z"
      },
      {
        "duration": 5,
        "start_time": "2024-01-05T17:07:08.423Z"
      },
      {
        "duration": 5,
        "start_time": "2024-01-05T17:07:08.429Z"
      },
      {
        "duration": 3,
        "start_time": "2024-01-05T17:07:08.435Z"
      },
      {
        "duration": 7,
        "start_time": "2024-01-05T17:07:08.444Z"
      },
      {
        "duration": 9,
        "start_time": "2024-01-05T17:07:08.452Z"
      },
      {
        "duration": 4,
        "start_time": "2024-01-05T17:07:08.463Z"
      },
      {
        "duration": 42,
        "start_time": "2024-01-05T17:07:08.469Z"
      },
      {
        "duration": 5,
        "start_time": "2024-01-05T17:07:08.512Z"
      },
      {
        "duration": 278,
        "start_time": "2024-01-05T17:07:08.518Z"
      },
      {
        "duration": 14,
        "start_time": "2024-01-05T17:07:08.797Z"
      },
      {
        "duration": 11,
        "start_time": "2024-01-05T17:07:08.812Z"
      },
      {
        "duration": 9,
        "start_time": "2024-01-05T17:07:08.824Z"
      },
      {
        "duration": 9,
        "start_time": "2024-01-05T17:07:08.835Z"
      },
      {
        "duration": 10,
        "start_time": "2024-01-05T17:07:08.845Z"
      },
      {
        "duration": 11,
        "start_time": "2024-01-05T17:07:08.856Z"
      },
      {
        "duration": 13,
        "start_time": "2024-01-05T17:07:08.868Z"
      },
      {
        "duration": 11,
        "start_time": "2024-01-05T17:07:08.910Z"
      },
      {
        "duration": 5,
        "start_time": "2024-01-05T17:07:08.922Z"
      },
      {
        "duration": 551,
        "start_time": "2024-01-05T17:07:08.928Z"
      },
      {
        "duration": 2396,
        "start_time": "2024-01-05T17:07:09.481Z"
      },
      {
        "duration": 5,
        "start_time": "2024-01-05T17:07:11.878Z"
      },
      {
        "duration": 8,
        "start_time": "2024-01-05T17:07:11.884Z"
      },
      {
        "duration": 18,
        "start_time": "2024-01-05T17:07:11.893Z"
      },
      {
        "duration": 5,
        "start_time": "2024-01-05T17:07:11.913Z"
      },
      {
        "duration": 5,
        "start_time": "2024-01-05T17:07:11.919Z"
      },
      {
        "duration": 10,
        "start_time": "2024-01-05T17:07:11.926Z"
      },
      {
        "duration": 10,
        "start_time": "2024-01-05T17:07:11.938Z"
      },
      {
        "duration": 69,
        "start_time": "2024-01-05T17:07:11.949Z"
      },
      {
        "duration": 150,
        "start_time": "2024-01-05T17:07:12.019Z"
      },
      {
        "duration": 197750,
        "start_time": "2024-01-05T17:07:12.170Z"
      },
      {
        "duration": 236,
        "start_time": "2024-01-05T17:10:29.921Z"
      },
      {
        "duration": 111561,
        "start_time": "2024-01-05T17:10:30.158Z"
      },
      {
        "duration": 176,
        "start_time": "2024-01-05T17:12:21.721Z"
      },
      {
        "duration": 474923,
        "start_time": "2024-01-05T17:12:21.898Z"
      },
      {
        "duration": 371,
        "start_time": "2024-01-05T17:20:16.822Z"
      },
      {
        "duration": 0,
        "start_time": "2024-01-05T17:20:17.195Z"
      },
      {
        "duration": 0,
        "start_time": "2024-01-05T17:20:17.212Z"
      },
      {
        "duration": 57,
        "start_time": "2024-01-05T17:21:32.813Z"
      },
      {
        "duration": 154,
        "start_time": "2024-01-05T17:21:34.061Z"
      },
      {
        "duration": 3,
        "start_time": "2024-01-05T17:21:46.191Z"
      },
      {
        "duration": 5,
        "start_time": "2024-01-05T17:24:31.602Z"
      },
      {
        "duration": 5694,
        "start_time": "2024-01-06T10:10:30.758Z"
      },
      {
        "duration": 3,
        "start_time": "2024-01-06T10:10:36.721Z"
      },
      {
        "duration": 5,
        "start_time": "2024-01-06T10:10:38.106Z"
      },
      {
        "duration": 3,
        "start_time": "2024-01-06T10:10:39.290Z"
      },
      {
        "duration": 196,
        "start_time": "2024-01-06T10:11:12.701Z"
      },
      {
        "duration": 4,
        "start_time": "2024-01-06T10:11:55.247Z"
      },
      {
        "duration": 12,
        "start_time": "2024-01-06T10:11:55.918Z"
      },
      {
        "duration": 5,
        "start_time": "2024-01-06T10:11:56.546Z"
      },
      {
        "duration": 5,
        "start_time": "2024-01-06T10:11:57.033Z"
      },
      {
        "duration": 9,
        "start_time": "2024-01-06T10:11:57.646Z"
      },
      {
        "duration": 23,
        "start_time": "2024-01-06T10:11:58.613Z"
      },
      {
        "duration": 3,
        "start_time": "2024-01-06T10:11:59.376Z"
      },
      {
        "duration": 8,
        "start_time": "2024-01-06T10:12:04.577Z"
      },
      {
        "duration": 25,
        "start_time": "2024-01-06T10:12:05.182Z"
      },
      {
        "duration": 3,
        "start_time": "2024-01-06T10:12:06.263Z"
      },
      {
        "duration": 13,
        "start_time": "2024-01-06T10:12:06.803Z"
      },
      {
        "duration": 24,
        "start_time": "2024-01-06T10:12:06.995Z"
      },
      {
        "duration": 3,
        "start_time": "2024-01-06T10:12:08.100Z"
      },
      {
        "duration": 6,
        "start_time": "2024-01-06T10:12:08.322Z"
      },
      {
        "duration": 15,
        "start_time": "2024-01-06T10:12:10.006Z"
      },
      {
        "duration": 11,
        "start_time": "2024-01-06T10:12:10.562Z"
      },
      {
        "duration": 4,
        "start_time": "2024-01-06T10:12:11.073Z"
      },
      {
        "duration": 9,
        "start_time": "2024-01-06T10:12:11.484Z"
      },
      {
        "duration": 17,
        "start_time": "2024-01-06T10:12:11.672Z"
      },
      {
        "duration": 7,
        "start_time": "2024-01-06T10:12:12.237Z"
      },
      {
        "duration": 19,
        "start_time": "2024-01-06T10:12:12.444Z"
      },
      {
        "duration": 10,
        "start_time": "2024-01-06T10:12:12.809Z"
      },
      {
        "duration": 22,
        "start_time": "2024-01-06T10:12:13.016Z"
      },
      {
        "duration": 4,
        "start_time": "2024-01-06T10:13:17.704Z"
      },
      {
        "duration": 9,
        "start_time": "2024-01-06T10:14:04.389Z"
      },
      {
        "duration": 165,
        "start_time": "2024-01-06T10:15:01.143Z"
      },
      {
        "duration": 7,
        "start_time": "2024-01-06T10:15:04.957Z"
      },
      {
        "duration": 5,
        "start_time": "2024-01-06T10:16:00.145Z"
      },
      {
        "duration": 4,
        "start_time": "2024-01-06T10:16:17.419Z"
      },
      {
        "duration": 142,
        "start_time": "2024-01-06T10:16:18.044Z"
      },
      {
        "duration": 6,
        "start_time": "2024-01-06T10:16:18.697Z"
      },
      {
        "duration": 8,
        "start_time": "2024-01-06T10:16:19.584Z"
      },
      {
        "duration": 6,
        "start_time": "2024-01-06T10:16:27.970Z"
      },
      {
        "duration": 4,
        "start_time": "2024-01-06T10:16:28.805Z"
      },
      {
        "duration": 4,
        "start_time": "2024-01-06T10:16:29.403Z"
      },
      {
        "duration": 11,
        "start_time": "2024-01-06T10:16:29.835Z"
      },
      {
        "duration": 11,
        "start_time": "2024-01-06T10:16:30.328Z"
      },
      {
        "duration": 7,
        "start_time": "2024-01-06T10:16:37.126Z"
      },
      {
        "duration": 5,
        "start_time": "2024-01-06T10:16:37.630Z"
      },
      {
        "duration": 3,
        "start_time": "2024-01-06T10:16:37.826Z"
      },
      {
        "duration": 7,
        "start_time": "2024-01-06T10:16:38.707Z"
      },
      {
        "duration": 7,
        "start_time": "2024-01-06T10:16:39.715Z"
      },
      {
        "duration": 26,
        "start_time": "2024-01-06T10:17:04.909Z"
      },
      {
        "duration": 4,
        "start_time": "2024-01-06T10:17:07.629Z"
      },
      {
        "duration": 5,
        "start_time": "2024-01-06T10:17:09.135Z"
      },
      {
        "duration": 21,
        "start_time": "2024-01-06T10:17:09.292Z"
      },
      {
        "duration": 126,
        "start_time": "2024-01-06T10:17:09.969Z"
      },
      {
        "duration": 3,
        "start_time": "2024-01-06T10:17:10.679Z"
      },
      {
        "duration": 2,
        "start_time": "2024-01-06T10:17:11.835Z"
      },
      {
        "duration": 9,
        "start_time": "2024-01-06T10:17:12.244Z"
      },
      {
        "duration": 908,
        "start_time": "2024-01-06T10:17:12.804Z"
      },
      {
        "duration": 10,
        "start_time": "2024-01-06T10:20:32.810Z"
      },
      {
        "duration": 10,
        "start_time": "2024-01-06T10:20:33.575Z"
      },
      {
        "duration": 167,
        "start_time": "2024-01-06T10:20:37.292Z"
      },
      {
        "duration": 8,
        "start_time": "2024-01-06T10:20:37.788Z"
      },
      {
        "duration": 6,
        "start_time": "2024-01-06T10:20:48.604Z"
      },
      {
        "duration": 4,
        "start_time": "2024-01-06T10:20:51.190Z"
      },
      {
        "duration": 5,
        "start_time": "2024-01-06T10:20:51.678Z"
      },
      {
        "duration": 144,
        "start_time": "2024-01-06T10:20:52.309Z"
      },
      {
        "duration": 10,
        "start_time": "2024-01-06T10:20:58.568Z"
      },
      {
        "duration": 4,
        "start_time": "2024-01-06T10:20:59.949Z"
      },
      {
        "duration": 4,
        "start_time": "2024-01-06T10:21:00.161Z"
      },
      {
        "duration": 5,
        "start_time": "2024-01-06T10:21:00.650Z"
      },
      {
        "duration": 145,
        "start_time": "2024-01-06T10:21:01.321Z"
      },
      {
        "duration": 5,
        "start_time": "2024-01-06T10:21:03.646Z"
      },
      {
        "duration": 3,
        "start_time": "2024-01-06T10:21:03.836Z"
      },
      {
        "duration": 6,
        "start_time": "2024-01-06T10:21:04.159Z"
      },
      {
        "duration": 6,
        "start_time": "2024-01-06T10:21:04.337Z"
      },
      {
        "duration": 11,
        "start_time": "2024-01-06T10:21:04.521Z"
      },
      {
        "duration": 8,
        "start_time": "2024-01-06T10:21:04.688Z"
      },
      {
        "duration": 159,
        "start_time": "2024-01-06T10:21:04.860Z"
      },
      {
        "duration": 4,
        "start_time": "2024-01-06T10:21:05.034Z"
      },
      {
        "duration": 3,
        "start_time": "2024-01-06T10:21:06.476Z"
      },
      {
        "duration": 5,
        "start_time": "2024-01-06T10:21:06.637Z"
      },
      {
        "duration": 6,
        "start_time": "2024-01-06T10:21:07.563Z"
      },
      {
        "duration": 5,
        "start_time": "2024-01-06T10:21:08.134Z"
      },
      {
        "duration": 8,
        "start_time": "2024-01-06T10:21:08.338Z"
      },
      {
        "duration": 8,
        "start_time": "2024-01-06T10:21:08.488Z"
      },
      {
        "duration": 4,
        "start_time": "2024-01-06T10:21:09.300Z"
      },
      {
        "duration": 4,
        "start_time": "2024-01-06T10:21:10.184Z"
      },
      {
        "duration": 5,
        "start_time": "2024-01-06T10:21:10.333Z"
      },
      {
        "duration": 146,
        "start_time": "2024-01-06T10:21:10.507Z"
      },
      {
        "duration": 7,
        "start_time": "2024-01-06T10:23:44.308Z"
      },
      {
        "duration": 13,
        "start_time": "2024-01-06T10:23:45.435Z"
      },
      {
        "duration": 11,
        "start_time": "2024-01-06T10:23:47.007Z"
      },
      {
        "duration": 11,
        "start_time": "2024-01-06T10:23:48.318Z"
      },
      {
        "duration": 11,
        "start_time": "2024-01-06T10:23:49.296Z"
      },
      {
        "duration": 15,
        "start_time": "2024-01-06T10:23:49.952Z"
      },
      {
        "duration": 19,
        "start_time": "2024-01-06T10:23:50.520Z"
      },
      {
        "duration": 17,
        "start_time": "2024-01-06T10:23:51.215Z"
      },
      {
        "duration": 8,
        "start_time": "2024-01-06T10:23:52.329Z"
      },
      {
        "duration": 177,
        "start_time": "2024-01-06T10:24:04.415Z"
      },
      {
        "duration": 700,
        "start_time": "2024-01-06T10:25:24.481Z"
      },
      {
        "duration": 2725,
        "start_time": "2024-01-06T10:25:26.251Z"
      },
      {
        "duration": 5,
        "start_time": "2024-01-06T10:31:06.190Z"
      },
      {
        "duration": 4,
        "start_time": "2024-01-06T10:31:08.484Z"
      },
      {
        "duration": 5,
        "start_time": "2024-01-06T10:31:09.096Z"
      },
      {
        "duration": 6,
        "start_time": "2024-01-06T10:31:09.866Z"
      },
      {
        "duration": 5,
        "start_time": "2024-01-06T10:31:10.628Z"
      },
      {
        "duration": 13,
        "start_time": "2024-01-06T10:31:23.337Z"
      },
      {
        "duration": 10,
        "start_time": "2024-01-06T10:31:24.147Z"
      },
      {
        "duration": 222,
        "start_time": "2024-01-06T10:32:50.403Z"
      },
      {
        "duration": 170,
        "start_time": "2024-01-06T10:32:52.680Z"
      },
      {
        "duration": 402621,
        "start_time": "2024-01-06T10:33:56.503Z"
      },
      {
        "duration": 153,
        "start_time": "2024-01-06T10:45:20.978Z"
      },
      {
        "duration": 125839,
        "start_time": "2024-01-06T10:45:32.998Z"
      },
      {
        "duration": 212,
        "start_time": "2024-01-06T10:47:38.839Z"
      },
      {
        "duration": 524800,
        "start_time": "2024-01-06T10:47:39.053Z"
      },
      {
        "duration": 141,
        "start_time": "2024-01-06T10:56:23.855Z"
      },
      {
        "duration": 182,
        "start_time": "2024-01-06T10:56:23.998Z"
      },
      {
        "duration": 3,
        "start_time": "2024-01-06T10:56:24.182Z"
      },
      {
        "duration": 5,
        "start_time": "2024-01-06T10:56:24.187Z"
      },
      {
        "duration": 46,
        "start_time": "2024-01-06T15:09:31.713Z"
      },
      {
        "duration": 3080,
        "start_time": "2024-01-06T15:09:41.410Z"
      },
      {
        "duration": 3,
        "start_time": "2024-01-06T15:09:44.492Z"
      },
      {
        "duration": 9,
        "start_time": "2024-01-06T15:09:44.496Z"
      },
      {
        "duration": 14,
        "start_time": "2024-01-06T15:09:44.507Z"
      },
      {
        "duration": 528,
        "start_time": "2024-01-06T15:09:44.522Z"
      },
      {
        "duration": 3,
        "start_time": "2024-01-06T15:09:45.052Z"
      },
      {
        "duration": 47,
        "start_time": "2024-01-06T15:09:45.057Z"
      },
      {
        "duration": 43,
        "start_time": "2024-01-06T15:09:45.105Z"
      },
      {
        "duration": 6,
        "start_time": "2024-01-06T15:09:45.154Z"
      },
      {
        "duration": 16,
        "start_time": "2024-01-06T15:09:45.162Z"
      },
      {
        "duration": 36,
        "start_time": "2024-01-06T15:09:45.179Z"
      },
      {
        "duration": 3,
        "start_time": "2024-01-06T15:09:45.216Z"
      },
      {
        "duration": 31,
        "start_time": "2024-01-06T15:09:45.220Z"
      },
      {
        "duration": 22,
        "start_time": "2024-01-06T15:09:45.253Z"
      },
      {
        "duration": 2,
        "start_time": "2024-01-06T15:09:45.277Z"
      },
      {
        "duration": 26,
        "start_time": "2024-01-06T15:09:45.281Z"
      },
      {
        "duration": 27,
        "start_time": "2024-01-06T15:09:45.308Z"
      },
      {
        "duration": 4,
        "start_time": "2024-01-06T15:09:45.336Z"
      },
      {
        "duration": 16,
        "start_time": "2024-01-06T15:09:45.341Z"
      },
      {
        "duration": 15,
        "start_time": "2024-01-06T15:09:45.358Z"
      },
      {
        "duration": 54,
        "start_time": "2024-01-06T15:09:45.374Z"
      },
      {
        "duration": 27,
        "start_time": "2024-01-06T15:09:45.430Z"
      },
      {
        "duration": 13,
        "start_time": "2024-01-06T15:09:45.458Z"
      },
      {
        "duration": 21,
        "start_time": "2024-01-06T15:09:45.472Z"
      },
      {
        "duration": 24,
        "start_time": "2024-01-06T15:09:45.494Z"
      },
      {
        "duration": 33,
        "start_time": "2024-01-06T15:09:45.519Z"
      },
      {
        "duration": 13,
        "start_time": "2024-01-06T15:09:45.553Z"
      },
      {
        "duration": 86,
        "start_time": "2024-01-06T15:09:45.570Z"
      },
      {
        "duration": 3,
        "start_time": "2024-01-06T15:09:45.658Z"
      },
      {
        "duration": 9,
        "start_time": "2024-01-06T15:09:45.662Z"
      },
      {
        "duration": 156,
        "start_time": "2024-01-06T15:09:45.672Z"
      },
      {
        "duration": 17,
        "start_time": "2024-01-06T15:09:45.830Z"
      },
      {
        "duration": 67,
        "start_time": "2024-01-06T15:09:45.848Z"
      },
      {
        "duration": 62,
        "start_time": "2024-01-06T15:09:45.916Z"
      },
      {
        "duration": 193,
        "start_time": "2024-01-06T15:09:45.980Z"
      },
      {
        "duration": 5,
        "start_time": "2024-01-06T15:09:46.175Z"
      },
      {
        "duration": 118,
        "start_time": "2024-01-06T15:09:46.181Z"
      },
      {
        "duration": 216,
        "start_time": "2024-01-06T15:09:46.300Z"
      },
      {
        "duration": 113,
        "start_time": "2024-01-06T15:09:46.517Z"
      },
      {
        "duration": 49,
        "start_time": "2024-01-06T15:09:46.633Z"
      },
      {
        "duration": 57,
        "start_time": "2024-01-06T15:09:46.683Z"
      },
      {
        "duration": 10,
        "start_time": "2024-01-06T15:09:46.741Z"
      },
      {
        "duration": 6,
        "start_time": "2024-01-06T15:09:46.753Z"
      },
      {
        "duration": 19,
        "start_time": "2024-01-06T15:09:46.761Z"
      },
      {
        "duration": 14,
        "start_time": "2024-01-06T15:09:46.781Z"
      },
      {
        "duration": 13,
        "start_time": "2024-01-06T15:09:46.796Z"
      },
      {
        "duration": 13,
        "start_time": "2024-01-06T15:09:46.810Z"
      },
      {
        "duration": 44,
        "start_time": "2024-01-06T15:09:46.824Z"
      },
      {
        "duration": 4,
        "start_time": "2024-01-06T15:09:46.869Z"
      },
      {
        "duration": 19,
        "start_time": "2024-01-06T15:09:46.874Z"
      },
      {
        "duration": 16,
        "start_time": "2024-01-06T15:09:46.895Z"
      },
      {
        "duration": 99,
        "start_time": "2024-01-06T15:09:46.913Z"
      },
      {
        "duration": 2,
        "start_time": "2024-01-06T15:09:47.013Z"
      },
      {
        "duration": 6,
        "start_time": "2024-01-06T15:09:47.017Z"
      },
      {
        "duration": 10,
        "start_time": "2024-01-06T15:09:47.025Z"
      },
      {
        "duration": 832,
        "start_time": "2024-01-06T15:09:47.045Z"
      },
      {
        "duration": 257,
        "start_time": "2024-01-06T15:09:47.879Z"
      },
      {
        "duration": 0,
        "start_time": "2024-01-06T15:09:48.138Z"
      },
      {
        "duration": 0,
        "start_time": "2024-01-06T15:09:48.139Z"
      },
      {
        "duration": 0,
        "start_time": "2024-01-06T15:09:48.144Z"
      },
      {
        "duration": 0,
        "start_time": "2024-01-06T15:09:48.145Z"
      },
      {
        "duration": 1,
        "start_time": "2024-01-06T15:09:48.146Z"
      },
      {
        "duration": 0,
        "start_time": "2024-01-06T15:09:48.147Z"
      },
      {
        "duration": 0,
        "start_time": "2024-01-06T15:09:48.148Z"
      },
      {
        "duration": 0,
        "start_time": "2024-01-06T15:09:48.149Z"
      },
      {
        "duration": 0,
        "start_time": "2024-01-06T15:09:48.150Z"
      },
      {
        "duration": 0,
        "start_time": "2024-01-06T15:09:48.151Z"
      },
      {
        "duration": 0,
        "start_time": "2024-01-06T15:09:48.152Z"
      },
      {
        "duration": 0,
        "start_time": "2024-01-06T15:09:48.153Z"
      },
      {
        "duration": 0,
        "start_time": "2024-01-06T15:09:48.154Z"
      },
      {
        "duration": 0,
        "start_time": "2024-01-06T15:09:48.155Z"
      },
      {
        "duration": 0,
        "start_time": "2024-01-06T15:09:48.156Z"
      },
      {
        "duration": 0,
        "start_time": "2024-01-06T15:09:48.157Z"
      },
      {
        "duration": 0,
        "start_time": "2024-01-06T15:09:48.158Z"
      },
      {
        "duration": 0,
        "start_time": "2024-01-06T15:09:48.158Z"
      },
      {
        "duration": 0,
        "start_time": "2024-01-06T15:09:48.159Z"
      },
      {
        "duration": 0,
        "start_time": "2024-01-06T15:09:48.160Z"
      },
      {
        "duration": 0,
        "start_time": "2024-01-06T15:09:48.161Z"
      },
      {
        "duration": 0,
        "start_time": "2024-01-06T15:09:48.162Z"
      },
      {
        "duration": 0,
        "start_time": "2024-01-06T15:09:48.163Z"
      },
      {
        "duration": 0,
        "start_time": "2024-01-06T15:09:48.164Z"
      },
      {
        "duration": 0,
        "start_time": "2024-01-06T15:09:48.165Z"
      },
      {
        "duration": 0,
        "start_time": "2024-01-06T15:09:48.166Z"
      },
      {
        "duration": 0,
        "start_time": "2024-01-06T15:09:48.167Z"
      },
      {
        "duration": 0,
        "start_time": "2024-01-06T15:09:48.168Z"
      },
      {
        "duration": 0,
        "start_time": "2024-01-06T15:09:48.169Z"
      },
      {
        "duration": 0,
        "start_time": "2024-01-06T15:09:48.170Z"
      },
      {
        "duration": 0,
        "start_time": "2024-01-06T15:09:48.171Z"
      },
      {
        "duration": 0,
        "start_time": "2024-01-06T15:09:48.171Z"
      },
      {
        "duration": 0,
        "start_time": "2024-01-06T15:09:48.173Z"
      },
      {
        "duration": 0,
        "start_time": "2024-01-06T15:09:48.173Z"
      },
      {
        "duration": 0,
        "start_time": "2024-01-06T15:09:48.175Z"
      },
      {
        "duration": 0,
        "start_time": "2024-01-06T15:09:48.176Z"
      },
      {
        "duration": 0,
        "start_time": "2024-01-06T15:09:48.177Z"
      },
      {
        "duration": 0,
        "start_time": "2024-01-06T15:09:48.178Z"
      },
      {
        "duration": 0,
        "start_time": "2024-01-06T15:09:48.179Z"
      },
      {
        "duration": 0,
        "start_time": "2024-01-06T15:09:48.179Z"
      },
      {
        "duration": 0,
        "start_time": "2024-01-06T15:09:48.180Z"
      },
      {
        "duration": 0,
        "start_time": "2024-01-06T15:09:48.181Z"
      },
      {
        "duration": 0,
        "start_time": "2024-01-06T15:09:48.182Z"
      },
      {
        "duration": 0,
        "start_time": "2024-01-06T15:09:48.183Z"
      },
      {
        "duration": 0,
        "start_time": "2024-01-06T15:09:48.244Z"
      },
      {
        "duration": 0,
        "start_time": "2024-01-06T15:09:48.246Z"
      },
      {
        "duration": 0,
        "start_time": "2024-01-06T15:09:48.247Z"
      },
      {
        "duration": 0,
        "start_time": "2024-01-06T15:09:48.248Z"
      },
      {
        "duration": 0,
        "start_time": "2024-01-06T15:09:48.249Z"
      },
      {
        "duration": 0,
        "start_time": "2024-01-06T15:09:48.250Z"
      },
      {
        "duration": 0,
        "start_time": "2024-01-06T15:09:48.251Z"
      },
      {
        "duration": 0,
        "start_time": "2024-01-06T15:09:48.252Z"
      },
      {
        "duration": 0,
        "start_time": "2024-01-06T15:09:48.253Z"
      },
      {
        "duration": 0,
        "start_time": "2024-01-06T15:09:48.254Z"
      },
      {
        "duration": 0,
        "start_time": "2024-01-06T15:09:48.255Z"
      },
      {
        "duration": 0,
        "start_time": "2024-01-06T15:09:48.256Z"
      },
      {
        "duration": 0,
        "start_time": "2024-01-06T15:09:48.257Z"
      },
      {
        "duration": 0,
        "start_time": "2024-01-06T15:09:48.258Z"
      },
      {
        "duration": 0,
        "start_time": "2024-01-06T15:09:48.259Z"
      },
      {
        "duration": 0,
        "start_time": "2024-01-06T15:09:48.260Z"
      },
      {
        "duration": 0,
        "start_time": "2024-01-06T15:09:48.261Z"
      },
      {
        "duration": 5,
        "start_time": "2024-01-06T15:10:07.773Z"
      },
      {
        "duration": 5,
        "start_time": "2024-01-06T15:10:29.480Z"
      },
      {
        "duration": 12,
        "start_time": "2024-01-06T15:10:40.691Z"
      },
      {
        "duration": 2820,
        "start_time": "2024-01-06T15:13:52.808Z"
      },
      {
        "duration": 3,
        "start_time": "2024-01-06T15:13:55.630Z"
      },
      {
        "duration": 18,
        "start_time": "2024-01-06T15:13:55.634Z"
      },
      {
        "duration": 16,
        "start_time": "2024-01-06T15:13:55.653Z"
      },
      {
        "duration": 231,
        "start_time": "2024-01-06T15:13:55.670Z"
      },
      {
        "duration": 5,
        "start_time": "2024-01-06T15:13:55.903Z"
      },
      {
        "duration": 20,
        "start_time": "2024-01-06T15:13:55.909Z"
      },
      {
        "duration": 14,
        "start_time": "2024-01-06T15:13:55.931Z"
      },
      {
        "duration": 6,
        "start_time": "2024-01-06T15:13:55.946Z"
      },
      {
        "duration": 17,
        "start_time": "2024-01-06T15:13:55.955Z"
      },
      {
        "duration": 28,
        "start_time": "2024-01-06T15:13:55.974Z"
      },
      {
        "duration": 3,
        "start_time": "2024-01-06T15:13:56.004Z"
      },
      {
        "duration": 11,
        "start_time": "2024-01-06T15:13:56.008Z"
      },
      {
        "duration": 60,
        "start_time": "2024-01-06T15:13:56.020Z"
      },
      {
        "duration": 3,
        "start_time": "2024-01-06T15:13:56.082Z"
      },
      {
        "duration": 13,
        "start_time": "2024-01-06T15:13:56.087Z"
      },
      {
        "duration": 34,
        "start_time": "2024-01-06T15:13:56.102Z"
      },
      {
        "duration": 3,
        "start_time": "2024-01-06T15:13:56.137Z"
      },
      {
        "duration": 6,
        "start_time": "2024-01-06T15:13:56.142Z"
      },
      {
        "duration": 12,
        "start_time": "2024-01-06T15:13:56.150Z"
      },
      {
        "duration": 16,
        "start_time": "2024-01-06T15:13:56.164Z"
      },
      {
        "duration": 28,
        "start_time": "2024-01-06T15:13:56.181Z"
      },
      {
        "duration": 18,
        "start_time": "2024-01-06T15:13:56.210Z"
      },
      {
        "duration": 33,
        "start_time": "2024-01-06T15:13:56.229Z"
      },
      {
        "duration": 31,
        "start_time": "2024-01-06T15:13:56.264Z"
      },
      {
        "duration": 60,
        "start_time": "2024-01-06T15:13:56.296Z"
      },
      {
        "duration": 10,
        "start_time": "2024-01-06T15:13:56.357Z"
      },
      {
        "duration": 16,
        "start_time": "2024-01-06T15:13:56.371Z"
      },
      {
        "duration": 8,
        "start_time": "2024-01-06T15:13:56.388Z"
      },
      {
        "duration": 44,
        "start_time": "2024-01-06T15:13:56.397Z"
      },
      {
        "duration": 143,
        "start_time": "2024-01-06T15:13:56.443Z"
      },
      {
        "duration": 7,
        "start_time": "2024-01-06T15:13:56.587Z"
      },
      {
        "duration": 9,
        "start_time": "2024-01-06T15:13:56.595Z"
      },
      {
        "duration": 13,
        "start_time": "2024-01-06T15:13:56.605Z"
      },
      {
        "duration": 133,
        "start_time": "2024-01-06T15:13:56.619Z"
      },
      {
        "duration": 5,
        "start_time": "2024-01-06T15:13:56.753Z"
      },
      {
        "duration": 25,
        "start_time": "2024-01-06T15:13:56.759Z"
      },
      {
        "duration": 16,
        "start_time": "2024-01-06T15:13:56.785Z"
      },
      {
        "duration": 13,
        "start_time": "2024-01-06T15:13:56.802Z"
      },
      {
        "duration": 16,
        "start_time": "2024-01-06T15:13:56.816Z"
      },
      {
        "duration": 23,
        "start_time": "2024-01-06T15:13:56.833Z"
      },
      {
        "duration": 9,
        "start_time": "2024-01-06T15:13:56.857Z"
      },
      {
        "duration": 22,
        "start_time": "2024-01-06T15:13:56.867Z"
      },
      {
        "duration": 14,
        "start_time": "2024-01-06T15:13:56.890Z"
      },
      {
        "duration": 9,
        "start_time": "2024-01-06T15:13:56.905Z"
      },
      {
        "duration": 13,
        "start_time": "2024-01-06T15:13:56.915Z"
      },
      {
        "duration": 8,
        "start_time": "2024-01-06T15:13:56.929Z"
      },
      {
        "duration": 24,
        "start_time": "2024-01-06T15:13:56.938Z"
      },
      {
        "duration": 25,
        "start_time": "2024-01-06T15:13:56.964Z"
      },
      {
        "duration": 21,
        "start_time": "2024-01-06T15:13:56.990Z"
      },
      {
        "duration": 56,
        "start_time": "2024-01-06T15:13:57.012Z"
      },
      {
        "duration": 105,
        "start_time": "2024-01-06T15:13:57.069Z"
      },
      {
        "duration": 2,
        "start_time": "2024-01-06T15:13:57.176Z"
      },
      {
        "duration": 8,
        "start_time": "2024-01-06T15:13:57.180Z"
      },
      {
        "duration": 14,
        "start_time": "2024-01-06T15:13:57.189Z"
      },
      {
        "duration": 840,
        "start_time": "2024-01-06T15:13:57.205Z"
      },
      {
        "duration": 10,
        "start_time": "2024-01-06T15:13:58.046Z"
      },
      {
        "duration": 30,
        "start_time": "2024-01-06T15:13:58.058Z"
      },
      {
        "duration": 25,
        "start_time": "2024-01-06T15:13:58.089Z"
      },
      {
        "duration": 255,
        "start_time": "2024-01-06T15:13:58.115Z"
      },
      {
        "duration": 0,
        "start_time": "2024-01-06T15:13:58.374Z"
      },
      {
        "duration": 0,
        "start_time": "2024-01-06T15:13:58.375Z"
      },
      {
        "duration": 0,
        "start_time": "2024-01-06T15:13:58.376Z"
      },
      {
        "duration": 0,
        "start_time": "2024-01-06T15:13:58.378Z"
      },
      {
        "duration": 0,
        "start_time": "2024-01-06T15:13:58.379Z"
      },
      {
        "duration": 0,
        "start_time": "2024-01-06T15:13:58.380Z"
      },
      {
        "duration": 0,
        "start_time": "2024-01-06T15:13:58.381Z"
      },
      {
        "duration": 0,
        "start_time": "2024-01-06T15:13:58.382Z"
      },
      {
        "duration": 0,
        "start_time": "2024-01-06T15:13:58.383Z"
      },
      {
        "duration": 0,
        "start_time": "2024-01-06T15:13:58.384Z"
      },
      {
        "duration": 0,
        "start_time": "2024-01-06T15:13:58.385Z"
      },
      {
        "duration": 0,
        "start_time": "2024-01-06T15:13:58.386Z"
      },
      {
        "duration": 0,
        "start_time": "2024-01-06T15:13:58.387Z"
      },
      {
        "duration": 0,
        "start_time": "2024-01-06T15:13:58.388Z"
      },
      {
        "duration": 0,
        "start_time": "2024-01-06T15:13:58.389Z"
      },
      {
        "duration": 0,
        "start_time": "2024-01-06T15:13:58.390Z"
      },
      {
        "duration": 0,
        "start_time": "2024-01-06T15:13:58.391Z"
      },
      {
        "duration": 0,
        "start_time": "2024-01-06T15:13:58.392Z"
      },
      {
        "duration": 0,
        "start_time": "2024-01-06T15:13:58.393Z"
      },
      {
        "duration": 0,
        "start_time": "2024-01-06T15:13:58.394Z"
      },
      {
        "duration": 0,
        "start_time": "2024-01-06T15:13:58.395Z"
      },
      {
        "duration": 0,
        "start_time": "2024-01-06T15:13:58.396Z"
      },
      {
        "duration": 0,
        "start_time": "2024-01-06T15:13:58.397Z"
      },
      {
        "duration": 0,
        "start_time": "2024-01-06T15:13:58.398Z"
      },
      {
        "duration": 0,
        "start_time": "2024-01-06T15:13:58.399Z"
      },
      {
        "duration": 0,
        "start_time": "2024-01-06T15:13:58.399Z"
      },
      {
        "duration": 0,
        "start_time": "2024-01-06T15:13:58.444Z"
      },
      {
        "duration": 0,
        "start_time": "2024-01-06T15:13:58.445Z"
      },
      {
        "duration": 0,
        "start_time": "2024-01-06T15:13:58.446Z"
      },
      {
        "duration": 0,
        "start_time": "2024-01-06T15:13:58.447Z"
      },
      {
        "duration": 0,
        "start_time": "2024-01-06T15:13:58.448Z"
      },
      {
        "duration": 0,
        "start_time": "2024-01-06T15:13:58.449Z"
      },
      {
        "duration": 0,
        "start_time": "2024-01-06T15:13:58.450Z"
      },
      {
        "duration": 0,
        "start_time": "2024-01-06T15:13:58.451Z"
      },
      {
        "duration": 0,
        "start_time": "2024-01-06T15:13:58.452Z"
      },
      {
        "duration": 0,
        "start_time": "2024-01-06T15:13:58.452Z"
      },
      {
        "duration": 0,
        "start_time": "2024-01-06T15:13:58.454Z"
      },
      {
        "duration": 0,
        "start_time": "2024-01-06T15:13:58.454Z"
      },
      {
        "duration": 0,
        "start_time": "2024-01-06T15:13:58.455Z"
      },
      {
        "duration": 0,
        "start_time": "2024-01-06T15:13:58.456Z"
      },
      {
        "duration": 0,
        "start_time": "2024-01-06T15:13:58.457Z"
      },
      {
        "duration": 0,
        "start_time": "2024-01-06T15:13:58.458Z"
      },
      {
        "duration": 0,
        "start_time": "2024-01-06T15:13:58.459Z"
      },
      {
        "duration": 0,
        "start_time": "2024-01-06T15:13:58.460Z"
      },
      {
        "duration": 0,
        "start_time": "2024-01-06T15:13:58.461Z"
      },
      {
        "duration": 0,
        "start_time": "2024-01-06T15:13:58.462Z"
      },
      {
        "duration": 0,
        "start_time": "2024-01-06T15:13:58.463Z"
      },
      {
        "duration": 0,
        "start_time": "2024-01-06T15:13:58.464Z"
      },
      {
        "duration": 0,
        "start_time": "2024-01-06T15:13:58.464Z"
      },
      {
        "duration": 0,
        "start_time": "2024-01-06T15:13:58.465Z"
      },
      {
        "duration": 0,
        "start_time": "2024-01-06T15:13:58.467Z"
      },
      {
        "duration": 0,
        "start_time": "2024-01-06T15:13:58.467Z"
      },
      {
        "duration": 0,
        "start_time": "2024-01-06T15:13:58.468Z"
      },
      {
        "duration": 0,
        "start_time": "2024-01-06T15:13:58.469Z"
      },
      {
        "duration": 0,
        "start_time": "2024-01-06T15:13:58.470Z"
      },
      {
        "duration": 0,
        "start_time": "2024-01-06T15:13:58.471Z"
      },
      {
        "duration": 0,
        "start_time": "2024-01-06T15:13:58.472Z"
      },
      {
        "duration": 0,
        "start_time": "2024-01-06T15:13:58.473Z"
      },
      {
        "duration": 0,
        "start_time": "2024-01-06T15:13:58.474Z"
      },
      {
        "duration": 2840,
        "start_time": "2024-01-06T15:14:46.156Z"
      },
      {
        "duration": 2,
        "start_time": "2024-01-06T15:14:48.998Z"
      },
      {
        "duration": 57,
        "start_time": "2024-01-06T15:14:49.002Z"
      },
      {
        "duration": 6,
        "start_time": "2024-01-06T15:14:49.061Z"
      },
      {
        "duration": 191,
        "start_time": "2024-01-06T15:14:49.069Z"
      },
      {
        "duration": 4,
        "start_time": "2024-01-06T15:14:49.261Z"
      },
      {
        "duration": 15,
        "start_time": "2024-01-06T15:14:49.266Z"
      },
      {
        "duration": 14,
        "start_time": "2024-01-06T15:14:49.282Z"
      },
      {
        "duration": 14,
        "start_time": "2024-01-06T15:14:49.297Z"
      },
      {
        "duration": 13,
        "start_time": "2024-01-06T15:14:49.314Z"
      },
      {
        "duration": 18,
        "start_time": "2024-01-06T15:14:49.328Z"
      },
      {
        "duration": 3,
        "start_time": "2024-01-06T15:14:49.347Z"
      },
      {
        "duration": 10,
        "start_time": "2024-01-06T15:14:49.351Z"
      },
      {
        "duration": 23,
        "start_time": "2024-01-06T15:14:49.363Z"
      },
      {
        "duration": 2,
        "start_time": "2024-01-06T15:14:49.388Z"
      },
      {
        "duration": 18,
        "start_time": "2024-01-06T15:14:49.391Z"
      },
      {
        "duration": 36,
        "start_time": "2024-01-06T15:14:49.410Z"
      },
      {
        "duration": 3,
        "start_time": "2024-01-06T15:14:49.448Z"
      },
      {
        "duration": 23,
        "start_time": "2024-01-06T15:14:49.453Z"
      },
      {
        "duration": 39,
        "start_time": "2024-01-06T15:14:49.478Z"
      },
      {
        "duration": 12,
        "start_time": "2024-01-06T15:14:49.518Z"
      },
      {
        "duration": 3,
        "start_time": "2024-01-06T15:14:49.531Z"
      },
      {
        "duration": 9,
        "start_time": "2024-01-06T15:14:49.535Z"
      },
      {
        "duration": 15,
        "start_time": "2024-01-06T15:14:49.545Z"
      },
      {
        "duration": 6,
        "start_time": "2024-01-06T15:14:49.561Z"
      },
      {
        "duration": 16,
        "start_time": "2024-01-06T15:14:49.568Z"
      },
      {
        "duration": 7,
        "start_time": "2024-01-06T15:14:49.585Z"
      },
      {
        "duration": 17,
        "start_time": "2024-01-06T15:14:49.596Z"
      },
      {
        "duration": 2,
        "start_time": "2024-01-06T15:14:49.645Z"
      },
      {
        "duration": 34,
        "start_time": "2024-01-06T15:14:49.649Z"
      },
      {
        "duration": 130,
        "start_time": "2024-01-06T15:14:49.684Z"
      },
      {
        "duration": 6,
        "start_time": "2024-01-06T15:14:49.815Z"
      },
      {
        "duration": 14,
        "start_time": "2024-01-06T15:14:49.822Z"
      },
      {
        "duration": 9,
        "start_time": "2024-01-06T15:14:49.838Z"
      },
      {
        "duration": 121,
        "start_time": "2024-01-06T15:14:49.848Z"
      },
      {
        "duration": 5,
        "start_time": "2024-01-06T15:14:49.970Z"
      },
      {
        "duration": 9,
        "start_time": "2024-01-06T15:14:49.976Z"
      },
      {
        "duration": 4,
        "start_time": "2024-01-06T15:14:49.986Z"
      },
      {
        "duration": 15,
        "start_time": "2024-01-06T15:14:49.992Z"
      },
      {
        "duration": 15,
        "start_time": "2024-01-06T15:14:50.009Z"
      },
      {
        "duration": 44,
        "start_time": "2024-01-06T15:14:50.026Z"
      },
      {
        "duration": 14,
        "start_time": "2024-01-06T15:14:50.072Z"
      },
      {
        "duration": 16,
        "start_time": "2024-01-06T15:14:50.088Z"
      },
      {
        "duration": 11,
        "start_time": "2024-01-06T15:14:50.106Z"
      },
      {
        "duration": 7,
        "start_time": "2024-01-06T15:14:50.118Z"
      },
      {
        "duration": 14,
        "start_time": "2024-01-06T15:14:50.126Z"
      },
      {
        "duration": 9,
        "start_time": "2024-01-06T15:14:50.141Z"
      },
      {
        "duration": 37,
        "start_time": "2024-01-06T15:14:50.151Z"
      },
      {
        "duration": 4,
        "start_time": "2024-01-06T15:14:50.189Z"
      },
      {
        "duration": 5,
        "start_time": "2024-01-06T15:14:50.194Z"
      },
      {
        "duration": 17,
        "start_time": "2024-01-06T15:14:50.200Z"
      },
      {
        "duration": 105,
        "start_time": "2024-01-06T15:14:50.218Z"
      },
      {
        "duration": 2,
        "start_time": "2024-01-06T15:14:50.324Z"
      },
      {
        "duration": 21,
        "start_time": "2024-01-06T15:14:50.327Z"
      },
      {
        "duration": 14,
        "start_time": "2024-01-06T15:14:50.349Z"
      },
      {
        "duration": 828,
        "start_time": "2024-01-06T15:14:50.364Z"
      },
      {
        "duration": 10,
        "start_time": "2024-01-06T15:14:51.194Z"
      },
      {
        "duration": 16,
        "start_time": "2024-01-06T15:14:51.206Z"
      },
      {
        "duration": 10,
        "start_time": "2024-01-06T15:14:51.224Z"
      },
      {
        "duration": 142,
        "start_time": "2024-01-06T15:14:51.235Z"
      },
      {
        "duration": 8,
        "start_time": "2024-01-06T15:14:51.378Z"
      },
      {
        "duration": 7,
        "start_time": "2024-01-06T15:14:51.387Z"
      },
      {
        "duration": 6,
        "start_time": "2024-01-06T15:14:51.395Z"
      },
      {
        "duration": 28,
        "start_time": "2024-01-06T15:14:51.402Z"
      },
      {
        "duration": 140,
        "start_time": "2024-01-06T15:14:51.431Z"
      },
      {
        "duration": 10,
        "start_time": "2024-01-06T15:14:51.572Z"
      },
      {
        "duration": 6,
        "start_time": "2024-01-06T15:14:51.583Z"
      },
      {
        "duration": 8,
        "start_time": "2024-01-06T15:14:51.591Z"
      },
      {
        "duration": 14,
        "start_time": "2024-01-06T15:14:51.601Z"
      },
      {
        "duration": 123,
        "start_time": "2024-01-06T15:14:51.617Z"
      },
      {
        "duration": 5,
        "start_time": "2024-01-06T15:14:51.741Z"
      },
      {
        "duration": 10,
        "start_time": "2024-01-06T15:14:51.747Z"
      },
      {
        "duration": 8,
        "start_time": "2024-01-06T15:14:51.758Z"
      },
      {
        "duration": 7,
        "start_time": "2024-01-06T15:14:51.767Z"
      },
      {
        "duration": 11,
        "start_time": "2024-01-06T15:14:51.775Z"
      },
      {
        "duration": 22,
        "start_time": "2024-01-06T15:14:51.787Z"
      },
      {
        "duration": 127,
        "start_time": "2024-01-06T15:14:51.810Z"
      },
      {
        "duration": 6,
        "start_time": "2024-01-06T15:14:51.938Z"
      },
      {
        "duration": 6,
        "start_time": "2024-01-06T15:14:51.946Z"
      },
      {
        "duration": 15,
        "start_time": "2024-01-06T15:14:51.953Z"
      },
      {
        "duration": 11,
        "start_time": "2024-01-06T15:14:51.970Z"
      },
      {
        "duration": 22,
        "start_time": "2024-01-06T15:14:51.986Z"
      },
      {
        "duration": 42,
        "start_time": "2024-01-06T15:14:52.009Z"
      },
      {
        "duration": 28,
        "start_time": "2024-01-06T15:14:52.052Z"
      },
      {
        "duration": 51,
        "start_time": "2024-01-06T15:14:52.082Z"
      },
      {
        "duration": 39,
        "start_time": "2024-01-06T15:14:52.135Z"
      },
      {
        "duration": 44,
        "start_time": "2024-01-06T15:14:52.175Z"
      },
      {
        "duration": 285,
        "start_time": "2024-01-06T15:14:52.220Z"
      },
      {
        "duration": 6,
        "start_time": "2024-01-06T15:14:52.507Z"
      },
      {
        "duration": 31,
        "start_time": "2024-01-06T15:14:52.515Z"
      },
      {
        "duration": 22,
        "start_time": "2024-01-06T15:14:52.547Z"
      },
      {
        "duration": 53,
        "start_time": "2024-01-06T15:14:52.570Z"
      },
      {
        "duration": 30,
        "start_time": "2024-01-06T15:14:52.624Z"
      },
      {
        "duration": 46,
        "start_time": "2024-01-06T15:14:52.655Z"
      },
      {
        "duration": 33,
        "start_time": "2024-01-06T15:14:52.703Z"
      },
      {
        "duration": 43,
        "start_time": "2024-01-06T15:14:52.737Z"
      },
      {
        "duration": 25,
        "start_time": "2024-01-06T15:14:52.782Z"
      },
      {
        "duration": 41,
        "start_time": "2024-01-06T15:14:52.809Z"
      },
      {
        "duration": 534,
        "start_time": "2024-01-06T15:14:52.852Z"
      },
      {
        "duration": 2400,
        "start_time": "2024-01-06T15:14:53.388Z"
      },
      {
        "duration": 5,
        "start_time": "2024-01-06T15:14:55.789Z"
      },
      {
        "duration": 26,
        "start_time": "2024-01-06T15:14:55.795Z"
      },
      {
        "duration": 22,
        "start_time": "2024-01-06T15:14:55.823Z"
      },
      {
        "duration": 6,
        "start_time": "2024-01-06T15:14:55.846Z"
      },
      {
        "duration": 6,
        "start_time": "2024-01-06T15:14:55.854Z"
      },
      {
        "duration": 25,
        "start_time": "2024-01-06T15:14:55.861Z"
      },
      {
        "duration": 38,
        "start_time": "2024-01-06T15:14:55.887Z"
      },
      {
        "duration": 49,
        "start_time": "2024-01-06T15:14:55.926Z"
      },
      {
        "duration": 154,
        "start_time": "2024-01-06T15:14:55.977Z"
      },
      {
        "duration": 199718,
        "start_time": "2024-01-06T15:14:56.133Z"
      },
      {
        "duration": 177,
        "start_time": "2024-01-06T15:18:15.852Z"
      },
      {
        "duration": 96021,
        "start_time": "2024-01-06T15:18:16.031Z"
      },
      {
        "duration": 145,
        "start_time": "2024-01-06T15:19:52.054Z"
      },
      {
        "duration": 424966,
        "start_time": "2024-01-06T15:19:52.201Z"
      },
      {
        "duration": 119,
        "start_time": "2024-01-06T15:26:57.169Z"
      },
      {
        "duration": 158,
        "start_time": "2024-01-06T15:26:57.289Z"
      },
      {
        "duration": 3,
        "start_time": "2024-01-06T15:26:57.450Z"
      },
      {
        "duration": 6,
        "start_time": "2024-01-06T15:26:57.455Z"
      },
      {
        "duration": 55,
        "start_time": "2024-01-06T15:27:05.576Z"
      },
      {
        "duration": 56,
        "start_time": "2024-01-06T15:27:06.175Z"
      },
      {
        "duration": 3,
        "start_time": "2024-01-06T15:27:07.106Z"
      },
      {
        "duration": 5,
        "start_time": "2024-01-06T15:27:10.394Z"
      },
      {
        "duration": 6,
        "start_time": "2024-01-06T15:32:42.706Z"
      },
      {
        "duration": 147,
        "start_time": "2024-01-06T15:32:51.482Z"
      },
      {
        "duration": 1399,
        "start_time": "2024-01-06T15:33:05.396Z"
      },
      {
        "duration": 21,
        "start_time": "2024-01-06T15:37:27.457Z"
      },
      {
        "duration": 2815,
        "start_time": "2024-01-06T15:37:50.405Z"
      },
      {
        "duration": 2,
        "start_time": "2024-01-06T15:37:53.222Z"
      },
      {
        "duration": 9,
        "start_time": "2024-01-06T15:37:53.225Z"
      },
      {
        "duration": 26,
        "start_time": "2024-01-06T15:37:53.236Z"
      },
      {
        "duration": 189,
        "start_time": "2024-01-06T15:37:53.263Z"
      },
      {
        "duration": 4,
        "start_time": "2024-01-06T15:37:53.454Z"
      },
      {
        "duration": 14,
        "start_time": "2024-01-06T15:37:53.459Z"
      },
      {
        "duration": 15,
        "start_time": "2024-01-06T15:37:53.475Z"
      },
      {
        "duration": 16,
        "start_time": "2024-01-06T15:37:53.491Z"
      },
      {
        "duration": 9,
        "start_time": "2024-01-06T15:37:53.510Z"
      },
      {
        "duration": 19,
        "start_time": "2024-01-06T15:37:53.520Z"
      },
      {
        "duration": 5,
        "start_time": "2024-01-06T15:37:53.541Z"
      },
      {
        "duration": 27,
        "start_time": "2024-01-06T15:37:53.547Z"
      },
      {
        "duration": 37,
        "start_time": "2024-01-06T15:37:53.576Z"
      },
      {
        "duration": 3,
        "start_time": "2024-01-06T15:37:53.614Z"
      },
      {
        "duration": 14,
        "start_time": "2024-01-06T15:37:53.618Z"
      },
      {
        "duration": 38,
        "start_time": "2024-01-06T15:37:53.634Z"
      },
      {
        "duration": 3,
        "start_time": "2024-01-06T15:37:53.673Z"
      },
      {
        "duration": 19,
        "start_time": "2024-01-06T15:37:53.678Z"
      },
      {
        "duration": 18,
        "start_time": "2024-01-06T15:37:53.698Z"
      },
      {
        "duration": 9,
        "start_time": "2024-01-06T15:37:53.717Z"
      },
      {
        "duration": 18,
        "start_time": "2024-01-06T15:37:53.728Z"
      },
      {
        "duration": 13,
        "start_time": "2024-01-06T15:37:53.748Z"
      },
      {
        "duration": 27,
        "start_time": "2024-01-06T15:37:53.762Z"
      },
      {
        "duration": 5,
        "start_time": "2024-01-06T15:37:53.791Z"
      },
      {
        "duration": 29,
        "start_time": "2024-01-06T15:37:53.797Z"
      },
      {
        "duration": 8,
        "start_time": "2024-01-06T15:37:53.828Z"
      },
      {
        "duration": 36,
        "start_time": "2024-01-06T15:37:53.840Z"
      },
      {
        "duration": 14,
        "start_time": "2024-01-06T15:37:53.877Z"
      },
      {
        "duration": 26,
        "start_time": "2024-01-06T15:37:53.892Z"
      },
      {
        "duration": 147,
        "start_time": "2024-01-06T15:37:53.919Z"
      },
      {
        "duration": 6,
        "start_time": "2024-01-06T15:37:54.067Z"
      },
      {
        "duration": 5,
        "start_time": "2024-01-06T15:37:54.074Z"
      },
      {
        "duration": 5,
        "start_time": "2024-01-06T15:37:54.081Z"
      },
      {
        "duration": 143,
        "start_time": "2024-01-06T15:37:54.087Z"
      },
      {
        "duration": 14,
        "start_time": "2024-01-06T15:37:54.231Z"
      },
      {
        "duration": 9,
        "start_time": "2024-01-06T15:37:54.246Z"
      },
      {
        "duration": 6,
        "start_time": "2024-01-06T15:37:54.257Z"
      },
      {
        "duration": 7,
        "start_time": "2024-01-06T15:37:54.264Z"
      },
      {
        "duration": 26,
        "start_time": "2024-01-06T15:37:54.272Z"
      },
      {
        "duration": 20,
        "start_time": "2024-01-06T15:37:54.300Z"
      },
      {
        "duration": 23,
        "start_time": "2024-01-06T15:37:54.321Z"
      },
      {
        "duration": 6,
        "start_time": "2024-01-06T15:37:54.346Z"
      },
      {
        "duration": 6,
        "start_time": "2024-01-06T15:37:54.353Z"
      },
      {
        "duration": 5,
        "start_time": "2024-01-06T15:37:54.361Z"
      },
      {
        "duration": 8,
        "start_time": "2024-01-06T15:37:54.367Z"
      },
      {
        "duration": 17,
        "start_time": "2024-01-06T15:37:54.376Z"
      },
      {
        "duration": 33,
        "start_time": "2024-01-06T15:37:54.394Z"
      },
      {
        "duration": 3,
        "start_time": "2024-01-06T15:37:54.429Z"
      },
      {
        "duration": 6,
        "start_time": "2024-01-06T15:37:54.433Z"
      },
      {
        "duration": 17,
        "start_time": "2024-01-06T15:37:54.440Z"
      },
      {
        "duration": 145,
        "start_time": "2024-01-06T15:37:54.458Z"
      },
      {
        "duration": 2,
        "start_time": "2024-01-06T15:37:54.605Z"
      },
      {
        "duration": 4,
        "start_time": "2024-01-06T15:37:54.608Z"
      },
      {
        "duration": 8,
        "start_time": "2024-01-06T15:37:54.613Z"
      },
      {
        "duration": 772,
        "start_time": "2024-01-06T15:37:54.622Z"
      },
      {
        "duration": 261,
        "start_time": "2024-01-06T15:37:55.395Z"
      },
      {
        "duration": 0,
        "start_time": "2024-01-06T15:37:55.659Z"
      },
      {
        "duration": 0,
        "start_time": "2024-01-06T15:37:55.660Z"
      },
      {
        "duration": 0,
        "start_time": "2024-01-06T15:37:55.661Z"
      },
      {
        "duration": 0,
        "start_time": "2024-01-06T15:37:55.662Z"
      },
      {
        "duration": 0,
        "start_time": "2024-01-06T15:37:55.664Z"
      },
      {
        "duration": 0,
        "start_time": "2024-01-06T15:37:55.665Z"
      },
      {
        "duration": 0,
        "start_time": "2024-01-06T15:37:55.666Z"
      },
      {
        "duration": 0,
        "start_time": "2024-01-06T15:37:55.667Z"
      },
      {
        "duration": 0,
        "start_time": "2024-01-06T15:37:55.669Z"
      },
      {
        "duration": 0,
        "start_time": "2024-01-06T15:37:55.671Z"
      },
      {
        "duration": 1,
        "start_time": "2024-01-06T15:37:55.671Z"
      },
      {
        "duration": 0,
        "start_time": "2024-01-06T15:37:55.673Z"
      },
      {
        "duration": 0,
        "start_time": "2024-01-06T15:37:55.674Z"
      },
      {
        "duration": 0,
        "start_time": "2024-01-06T15:37:55.676Z"
      },
      {
        "duration": 0,
        "start_time": "2024-01-06T15:37:55.677Z"
      },
      {
        "duration": 0,
        "start_time": "2024-01-06T15:37:55.678Z"
      },
      {
        "duration": 0,
        "start_time": "2024-01-06T15:37:55.679Z"
      },
      {
        "duration": 0,
        "start_time": "2024-01-06T15:37:55.680Z"
      },
      {
        "duration": 0,
        "start_time": "2024-01-06T15:37:55.682Z"
      },
      {
        "duration": 0,
        "start_time": "2024-01-06T15:37:55.683Z"
      },
      {
        "duration": 0,
        "start_time": "2024-01-06T15:37:55.685Z"
      },
      {
        "duration": 0,
        "start_time": "2024-01-06T15:37:55.686Z"
      },
      {
        "duration": 0,
        "start_time": "2024-01-06T15:37:55.687Z"
      },
      {
        "duration": 0,
        "start_time": "2024-01-06T15:37:55.689Z"
      },
      {
        "duration": 0,
        "start_time": "2024-01-06T15:37:55.690Z"
      },
      {
        "duration": 0,
        "start_time": "2024-01-06T15:37:55.691Z"
      },
      {
        "duration": 0,
        "start_time": "2024-01-06T15:37:55.745Z"
      },
      {
        "duration": 0,
        "start_time": "2024-01-06T15:37:55.746Z"
      },
      {
        "duration": 0,
        "start_time": "2024-01-06T15:37:55.748Z"
      },
      {
        "duration": 0,
        "start_time": "2024-01-06T15:37:55.749Z"
      },
      {
        "duration": 0,
        "start_time": "2024-01-06T15:37:55.750Z"
      },
      {
        "duration": 0,
        "start_time": "2024-01-06T15:37:55.752Z"
      },
      {
        "duration": 0,
        "start_time": "2024-01-06T15:37:55.753Z"
      },
      {
        "duration": 0,
        "start_time": "2024-01-06T15:37:55.754Z"
      },
      {
        "duration": 0,
        "start_time": "2024-01-06T15:37:55.755Z"
      },
      {
        "duration": 0,
        "start_time": "2024-01-06T15:37:55.757Z"
      },
      {
        "duration": 0,
        "start_time": "2024-01-06T15:37:55.758Z"
      },
      {
        "duration": 0,
        "start_time": "2024-01-06T15:37:55.759Z"
      },
      {
        "duration": 0,
        "start_time": "2024-01-06T15:37:55.761Z"
      },
      {
        "duration": 0,
        "start_time": "2024-01-06T15:37:55.762Z"
      },
      {
        "duration": 0,
        "start_time": "2024-01-06T15:37:55.763Z"
      },
      {
        "duration": 0,
        "start_time": "2024-01-06T15:37:55.764Z"
      },
      {
        "duration": 0,
        "start_time": "2024-01-06T15:37:55.766Z"
      },
      {
        "duration": 0,
        "start_time": "2024-01-06T15:37:55.767Z"
      },
      {
        "duration": 0,
        "start_time": "2024-01-06T15:37:55.768Z"
      },
      {
        "duration": 0,
        "start_time": "2024-01-06T15:37:55.769Z"
      },
      {
        "duration": 0,
        "start_time": "2024-01-06T15:37:55.771Z"
      },
      {
        "duration": 0,
        "start_time": "2024-01-06T15:37:55.772Z"
      },
      {
        "duration": 0,
        "start_time": "2024-01-06T15:37:55.774Z"
      },
      {
        "duration": 0,
        "start_time": "2024-01-06T15:37:55.775Z"
      },
      {
        "duration": 0,
        "start_time": "2024-01-06T15:37:55.776Z"
      },
      {
        "duration": 0,
        "start_time": "2024-01-06T15:37:55.777Z"
      },
      {
        "duration": 0,
        "start_time": "2024-01-06T15:37:55.778Z"
      },
      {
        "duration": 0,
        "start_time": "2024-01-06T15:37:55.779Z"
      },
      {
        "duration": 0,
        "start_time": "2024-01-06T15:37:55.780Z"
      },
      {
        "duration": 0,
        "start_time": "2024-01-06T15:37:55.781Z"
      },
      {
        "duration": 0,
        "start_time": "2024-01-06T15:37:55.782Z"
      },
      {
        "duration": 0,
        "start_time": "2024-01-06T15:37:55.784Z"
      },
      {
        "duration": 0,
        "start_time": "2024-01-06T15:37:55.844Z"
      },
      {
        "duration": 0,
        "start_time": "2024-01-06T15:37:55.846Z"
      },
      {
        "duration": 0,
        "start_time": "2024-01-06T15:37:55.847Z"
      },
      {
        "duration": 8,
        "start_time": "2024-01-06T15:39:14.816Z"
      },
      {
        "duration": 9,
        "start_time": "2024-01-06T15:39:16.202Z"
      },
      {
        "duration": 139,
        "start_time": "2024-01-06T15:39:24.085Z"
      },
      {
        "duration": 12,
        "start_time": "2024-01-06T15:39:25.101Z"
      },
      {
        "duration": 2810,
        "start_time": "2024-01-06T15:39:35.155Z"
      },
      {
        "duration": 2,
        "start_time": "2024-01-06T15:39:37.967Z"
      },
      {
        "duration": 9,
        "start_time": "2024-01-06T15:39:37.970Z"
      },
      {
        "duration": 4,
        "start_time": "2024-01-06T15:39:37.980Z"
      },
      {
        "duration": 188,
        "start_time": "2024-01-06T15:39:37.985Z"
      },
      {
        "duration": 3,
        "start_time": "2024-01-06T15:39:38.175Z"
      },
      {
        "duration": 28,
        "start_time": "2024-01-06T15:39:38.179Z"
      },
      {
        "duration": 6,
        "start_time": "2024-01-06T15:39:38.212Z"
      },
      {
        "duration": 9,
        "start_time": "2024-01-06T15:39:38.220Z"
      },
      {
        "duration": 8,
        "start_time": "2024-01-06T15:39:38.232Z"
      },
      {
        "duration": 19,
        "start_time": "2024-01-06T15:39:38.241Z"
      },
      {
        "duration": 3,
        "start_time": "2024-01-06T15:39:38.261Z"
      },
      {
        "duration": 9,
        "start_time": "2024-01-06T15:39:38.265Z"
      },
      {
        "duration": 29,
        "start_time": "2024-01-06T15:39:38.275Z"
      },
      {
        "duration": 3,
        "start_time": "2024-01-06T15:39:38.305Z"
      },
      {
        "duration": 17,
        "start_time": "2024-01-06T15:39:38.309Z"
      },
      {
        "duration": 29,
        "start_time": "2024-01-06T15:39:38.328Z"
      },
      {
        "duration": 3,
        "start_time": "2024-01-06T15:39:38.358Z"
      },
      {
        "duration": 13,
        "start_time": "2024-01-06T15:39:38.362Z"
      },
      {
        "duration": 38,
        "start_time": "2024-01-06T15:39:38.376Z"
      },
      {
        "duration": 8,
        "start_time": "2024-01-06T15:39:38.415Z"
      },
      {
        "duration": 14,
        "start_time": "2024-01-06T15:39:38.424Z"
      },
      {
        "duration": 14,
        "start_time": "2024-01-06T15:39:38.440Z"
      },
      {
        "duration": 16,
        "start_time": "2024-01-06T15:39:38.455Z"
      },
      {
        "duration": 6,
        "start_time": "2024-01-06T15:39:38.472Z"
      },
      {
        "duration": 17,
        "start_time": "2024-01-06T15:39:38.479Z"
      },
      {
        "duration": 8,
        "start_time": "2024-01-06T15:39:38.497Z"
      },
      {
        "duration": 15,
        "start_time": "2024-01-06T15:39:38.509Z"
      },
      {
        "duration": 20,
        "start_time": "2024-01-06T15:39:38.526Z"
      },
      {
        "duration": 15,
        "start_time": "2024-01-06T15:39:38.547Z"
      },
      {
        "duration": 137,
        "start_time": "2024-01-06T15:39:38.563Z"
      },
      {
        "duration": 6,
        "start_time": "2024-01-06T15:39:38.701Z"
      },
      {
        "duration": 14,
        "start_time": "2024-01-06T15:39:38.708Z"
      },
      {
        "duration": 8,
        "start_time": "2024-01-06T15:39:38.724Z"
      },
      {
        "duration": 124,
        "start_time": "2024-01-06T15:39:38.733Z"
      },
      {
        "duration": 5,
        "start_time": "2024-01-06T15:39:38.859Z"
      },
      {
        "duration": 10,
        "start_time": "2024-01-06T15:39:38.865Z"
      },
      {
        "duration": 4,
        "start_time": "2024-01-06T15:39:38.876Z"
      },
      {
        "duration": 6,
        "start_time": "2024-01-06T15:39:38.881Z"
      },
      {
        "duration": 6,
        "start_time": "2024-01-06T15:39:38.888Z"
      },
      {
        "duration": 13,
        "start_time": "2024-01-06T15:39:38.895Z"
      },
      {
        "duration": 9,
        "start_time": "2024-01-06T15:39:38.909Z"
      },
      {
        "duration": 27,
        "start_time": "2024-01-06T15:39:38.919Z"
      },
      {
        "duration": 4,
        "start_time": "2024-01-06T15:39:38.947Z"
      },
      {
        "duration": 4,
        "start_time": "2024-01-06T15:39:38.952Z"
      },
      {
        "duration": 8,
        "start_time": "2024-01-06T15:39:38.957Z"
      },
      {
        "duration": 11,
        "start_time": "2024-01-06T15:39:38.966Z"
      },
      {
        "duration": 37,
        "start_time": "2024-01-06T15:39:38.978Z"
      },
      {
        "duration": 3,
        "start_time": "2024-01-06T15:39:39.016Z"
      },
      {
        "duration": 5,
        "start_time": "2024-01-06T15:39:39.020Z"
      },
      {
        "duration": 29,
        "start_time": "2024-01-06T15:39:39.026Z"
      },
      {
        "duration": 106,
        "start_time": "2024-01-06T15:39:39.056Z"
      },
      {
        "duration": 2,
        "start_time": "2024-01-06T15:39:39.163Z"
      },
      {
        "duration": 6,
        "start_time": "2024-01-06T15:39:39.167Z"
      },
      {
        "duration": 17,
        "start_time": "2024-01-06T15:39:39.174Z"
      },
      {
        "duration": 826,
        "start_time": "2024-01-06T15:39:39.192Z"
      },
      {
        "duration": 8,
        "start_time": "2024-01-06T15:39:40.020Z"
      },
      {
        "duration": 53,
        "start_time": "2024-01-06T15:39:40.030Z"
      },
      {
        "duration": 168,
        "start_time": "2024-01-06T15:39:40.085Z"
      },
      {
        "duration": 7,
        "start_time": "2024-01-06T15:39:40.255Z"
      },
      {
        "duration": 6,
        "start_time": "2024-01-06T15:39:40.263Z"
      },
      {
        "duration": 4,
        "start_time": "2024-01-06T15:39:40.271Z"
      },
      {
        "duration": 6,
        "start_time": "2024-01-06T15:39:40.277Z"
      },
      {
        "duration": 125,
        "start_time": "2024-01-06T15:39:40.284Z"
      },
      {
        "duration": 8,
        "start_time": "2024-01-06T15:39:40.411Z"
      },
      {
        "duration": 6,
        "start_time": "2024-01-06T15:39:40.420Z"
      },
      {
        "duration": 5,
        "start_time": "2024-01-06T15:39:40.427Z"
      },
      {
        "duration": 14,
        "start_time": "2024-01-06T15:39:40.433Z"
      },
      {
        "duration": 117,
        "start_time": "2024-01-06T15:39:40.449Z"
      },
      {
        "duration": 5,
        "start_time": "2024-01-06T15:39:40.568Z"
      },
      {
        "duration": 17,
        "start_time": "2024-01-06T15:39:40.574Z"
      },
      {
        "duration": 19,
        "start_time": "2024-01-06T15:39:40.593Z"
      },
      {
        "duration": 19,
        "start_time": "2024-01-06T15:39:40.613Z"
      },
      {
        "duration": 14,
        "start_time": "2024-01-06T15:39:40.633Z"
      },
      {
        "duration": 23,
        "start_time": "2024-01-06T15:39:40.649Z"
      },
      {
        "duration": 156,
        "start_time": "2024-01-06T15:39:40.674Z"
      },
      {
        "duration": 4,
        "start_time": "2024-01-06T15:39:40.832Z"
      },
      {
        "duration": 14,
        "start_time": "2024-01-06T15:39:40.844Z"
      },
      {
        "duration": 29,
        "start_time": "2024-01-06T15:39:40.859Z"
      },
      {
        "duration": 33,
        "start_time": "2024-01-06T15:39:40.889Z"
      },
      {
        "duration": 8,
        "start_time": "2024-01-06T15:39:40.923Z"
      },
      {
        "duration": 14,
        "start_time": "2024-01-06T15:39:40.936Z"
      },
      {
        "duration": 19,
        "start_time": "2024-01-06T15:39:40.951Z"
      },
      {
        "duration": 4,
        "start_time": "2024-01-06T15:39:40.971Z"
      },
      {
        "duration": 9,
        "start_time": "2024-01-06T15:39:40.976Z"
      },
      {
        "duration": 27,
        "start_time": "2024-01-06T15:39:40.987Z"
      },
      {
        "duration": 245,
        "start_time": "2024-01-06T15:39:41.015Z"
      },
      {
        "duration": 6,
        "start_time": "2024-01-06T15:39:41.261Z"
      },
      {
        "duration": 12,
        "start_time": "2024-01-06T15:39:41.269Z"
      },
      {
        "duration": 9,
        "start_time": "2024-01-06T15:39:41.283Z"
      },
      {
        "duration": 9,
        "start_time": "2024-01-06T15:39:41.293Z"
      },
      {
        "duration": 29,
        "start_time": "2024-01-06T15:39:41.303Z"
      },
      {
        "duration": 19,
        "start_time": "2024-01-06T15:39:41.333Z"
      },
      {
        "duration": 11,
        "start_time": "2024-01-06T15:39:41.354Z"
      },
      {
        "duration": 8,
        "start_time": "2024-01-06T15:39:41.367Z"
      },
      {
        "duration": 4,
        "start_time": "2024-01-06T15:39:41.376Z"
      },
      {
        "duration": 32,
        "start_time": "2024-01-06T15:39:41.381Z"
      },
      {
        "duration": 623,
        "start_time": "2024-01-06T15:39:41.415Z"
      },
      {
        "duration": 3184,
        "start_time": "2024-01-06T15:39:42.040Z"
      },
      {
        "duration": 3,
        "start_time": "2024-01-06T15:39:45.226Z"
      },
      {
        "duration": 32,
        "start_time": "2024-01-06T15:39:45.230Z"
      },
      {
        "duration": 6,
        "start_time": "2024-01-06T15:39:45.263Z"
      },
      {
        "duration": 5,
        "start_time": "2024-01-06T15:39:45.270Z"
      },
      {
        "duration": 5,
        "start_time": "2024-01-06T15:39:45.277Z"
      },
      {
        "duration": 34,
        "start_time": "2024-01-06T15:39:45.283Z"
      },
      {
        "duration": 9,
        "start_time": "2024-01-06T15:39:45.318Z"
      },
      {
        "duration": 76,
        "start_time": "2024-01-06T15:39:45.328Z"
      },
      {
        "duration": 138,
        "start_time": "2024-01-06T15:39:45.405Z"
      },
      {
        "duration": 189301,
        "start_time": "2024-01-06T15:39:45.545Z"
      },
      {
        "duration": 170,
        "start_time": "2024-01-06T15:42:54.848Z"
      },
      {
        "duration": 94229,
        "start_time": "2024-01-06T15:42:55.020Z"
      },
      {
        "duration": 158,
        "start_time": "2024-01-06T15:44:29.250Z"
      },
      {
        "duration": 434536,
        "start_time": "2024-01-06T15:44:29.410Z"
      },
      {
        "duration": 104,
        "start_time": "2024-01-06T15:51:43.947Z"
      },
      {
        "duration": 139,
        "start_time": "2024-01-06T15:51:44.053Z"
      },
      {
        "duration": 3,
        "start_time": "2024-01-06T15:51:44.194Z"
      },
      {
        "duration": 15,
        "start_time": "2024-01-06T15:51:44.198Z"
      },
      {
        "duration": 54,
        "start_time": "2024-01-06T15:51:50.010Z"
      },
      {
        "duration": 61,
        "start_time": "2024-01-06T15:51:53.608Z"
      },
      {
        "duration": 3,
        "start_time": "2024-01-06T15:51:54.453Z"
      },
      {
        "duration": 53,
        "start_time": "2024-01-06T15:52:55.934Z"
      },
      {
        "duration": 60,
        "start_time": "2024-01-06T15:53:03.415Z"
      },
      {
        "duration": 55,
        "start_time": "2024-01-06T15:53:22.369Z"
      },
      {
        "duration": 3,
        "start_time": "2024-01-06T15:53:22.984Z"
      },
      {
        "duration": 10,
        "start_time": "2024-01-06T15:54:14.963Z"
      },
      {
        "duration": 15,
        "start_time": "2024-01-06T16:01:28.583Z"
      },
      {
        "duration": 3,
        "start_time": "2024-01-06T16:04:26.143Z"
      },
      {
        "duration": 5,
        "start_time": "2024-01-06T16:04:26.580Z"
      },
      {
        "duration": 5,
        "start_time": "2024-01-06T16:04:26.840Z"
      },
      {
        "duration": 4,
        "start_time": "2024-01-06T16:04:27.121Z"
      },
      {
        "duration": 7,
        "start_time": "2024-01-06T16:04:27.560Z"
      },
      {
        "duration": 9,
        "start_time": "2024-01-06T16:04:28.515Z"
      },
      {
        "duration": 4,
        "start_time": "2024-01-06T16:04:31.191Z"
      },
      {
        "duration": 2,
        "start_time": "2024-01-06T16:04:33.004Z"
      },
      {
        "duration": 40,
        "start_time": "2024-01-06T16:04:33.008Z"
      },
      {
        "duration": 136,
        "start_time": "2024-01-06T16:04:33.288Z"
      },
      {
        "duration": 4,
        "start_time": "2024-01-06T16:04:41.806Z"
      },
      {
        "duration": 3,
        "start_time": "2024-01-06T16:04:42.750Z"
      },
      {
        "duration": 5,
        "start_time": "2024-01-06T16:04:42.801Z"
      },
      {
        "duration": 6,
        "start_time": "2024-01-06T16:04:42.850Z"
      },
      {
        "duration": 4,
        "start_time": "2024-01-06T16:04:43.975Z"
      },
      {
        "duration": 7,
        "start_time": "2024-01-06T16:04:44.183Z"
      },
      {
        "duration": 2,
        "start_time": "2024-01-06T16:04:44.401Z"
      },
      {
        "duration": 142,
        "start_time": "2024-01-06T16:04:50.606Z"
      },
      {
        "duration": 156,
        "start_time": "2024-01-06T16:05:39.384Z"
      },
      {
        "duration": 2778,
        "start_time": "2024-01-06T16:07:28.167Z"
      },
      {
        "duration": 3,
        "start_time": "2024-01-06T16:07:30.946Z"
      },
      {
        "duration": 41,
        "start_time": "2024-01-06T16:07:30.950Z"
      },
      {
        "duration": 33,
        "start_time": "2024-01-06T16:07:30.993Z"
      },
      {
        "duration": 226,
        "start_time": "2024-01-06T16:07:31.027Z"
      },
      {
        "duration": 5,
        "start_time": "2024-01-06T16:07:31.254Z"
      },
      {
        "duration": 33,
        "start_time": "2024-01-06T16:07:31.260Z"
      },
      {
        "duration": 17,
        "start_time": "2024-01-06T16:07:31.294Z"
      },
      {
        "duration": 8,
        "start_time": "2024-01-06T16:07:31.312Z"
      },
      {
        "duration": 18,
        "start_time": "2024-01-06T16:07:31.322Z"
      },
      {
        "duration": 34,
        "start_time": "2024-01-06T16:07:31.341Z"
      },
      {
        "duration": 26,
        "start_time": "2024-01-06T16:07:31.376Z"
      },
      {
        "duration": 31,
        "start_time": "2024-01-06T16:07:31.403Z"
      },
      {
        "duration": 65,
        "start_time": "2024-01-06T16:07:31.435Z"
      },
      {
        "duration": 40,
        "start_time": "2024-01-06T16:07:31.501Z"
      },
      {
        "duration": 119,
        "start_time": "2024-01-06T16:07:31.542Z"
      },
      {
        "duration": 104,
        "start_time": "2024-01-06T16:07:31.662Z"
      },
      {
        "duration": 79,
        "start_time": "2024-01-06T16:07:31.768Z"
      },
      {
        "duration": 63,
        "start_time": "2024-01-06T16:07:31.848Z"
      },
      {
        "duration": 30,
        "start_time": "2024-01-06T16:07:31.912Z"
      },
      {
        "duration": 12,
        "start_time": "2024-01-06T16:07:31.943Z"
      },
      {
        "duration": 4,
        "start_time": "2024-01-06T16:07:31.957Z"
      },
      {
        "duration": 45,
        "start_time": "2024-01-06T16:07:31.962Z"
      },
      {
        "duration": 37,
        "start_time": "2024-01-06T16:07:32.008Z"
      },
      {
        "duration": 20,
        "start_time": "2024-01-06T16:07:32.046Z"
      },
      {
        "duration": 21,
        "start_time": "2024-01-06T16:07:32.067Z"
      },
      {
        "duration": 29,
        "start_time": "2024-01-06T16:07:32.089Z"
      },
      {
        "duration": 52,
        "start_time": "2024-01-06T16:07:32.124Z"
      },
      {
        "duration": 83,
        "start_time": "2024-01-06T16:07:32.178Z"
      },
      {
        "duration": 93,
        "start_time": "2024-01-06T16:07:32.262Z"
      },
      {
        "duration": 133,
        "start_time": "2024-01-06T16:07:32.357Z"
      },
      {
        "duration": 6,
        "start_time": "2024-01-06T16:07:32.492Z"
      },
      {
        "duration": 15,
        "start_time": "2024-01-06T16:07:32.499Z"
      },
      {
        "duration": 17,
        "start_time": "2024-01-06T16:07:32.515Z"
      },
      {
        "duration": 124,
        "start_time": "2024-01-06T16:07:32.533Z"
      },
      {
        "duration": 5,
        "start_time": "2024-01-06T16:07:32.658Z"
      },
      {
        "duration": 45,
        "start_time": "2024-01-06T16:07:32.664Z"
      },
      {
        "duration": 5,
        "start_time": "2024-01-06T16:07:32.711Z"
      },
      {
        "duration": 45,
        "start_time": "2024-01-06T16:07:32.717Z"
      },
      {
        "duration": 42,
        "start_time": "2024-01-06T16:07:32.763Z"
      },
      {
        "duration": 18,
        "start_time": "2024-01-06T16:07:32.806Z"
      },
      {
        "duration": 41,
        "start_time": "2024-01-06T16:07:32.826Z"
      },
      {
        "duration": 38,
        "start_time": "2024-01-06T16:07:32.868Z"
      },
      {
        "duration": 19,
        "start_time": "2024-01-06T16:07:32.907Z"
      },
      {
        "duration": 42,
        "start_time": "2024-01-06T16:07:32.927Z"
      },
      {
        "duration": 58,
        "start_time": "2024-01-06T16:07:32.971Z"
      },
      {
        "duration": 187,
        "start_time": "2024-01-06T16:07:33.030Z"
      },
      {
        "duration": 103,
        "start_time": "2024-01-06T16:07:33.218Z"
      },
      {
        "duration": 13,
        "start_time": "2024-01-06T16:07:33.322Z"
      },
      {
        "duration": 21,
        "start_time": "2024-01-06T16:07:33.337Z"
      },
      {
        "duration": 55,
        "start_time": "2024-01-06T16:07:33.359Z"
      },
      {
        "duration": 129,
        "start_time": "2024-01-06T16:07:33.415Z"
      },
      {
        "duration": 2,
        "start_time": "2024-01-06T16:07:33.546Z"
      },
      {
        "duration": 217,
        "start_time": "2024-01-06T16:07:33.549Z"
      },
      {
        "duration": 277,
        "start_time": "2024-01-06T16:07:33.767Z"
      },
      {
        "duration": 757,
        "start_time": "2024-01-06T16:07:34.046Z"
      },
      {
        "duration": 9,
        "start_time": "2024-01-06T16:07:34.804Z"
      },
      {
        "duration": 16,
        "start_time": "2024-01-06T16:07:34.814Z"
      },
      {
        "duration": 140,
        "start_time": "2024-01-06T16:07:34.831Z"
      },
      {
        "duration": 8,
        "start_time": "2024-01-06T16:07:34.972Z"
      },
      {
        "duration": 5,
        "start_time": "2024-01-06T16:07:34.981Z"
      },
      {
        "duration": 14,
        "start_time": "2024-01-06T16:07:34.987Z"
      },
      {
        "duration": 6,
        "start_time": "2024-01-06T16:07:35.002Z"
      },
      {
        "duration": 127,
        "start_time": "2024-01-06T16:07:35.009Z"
      },
      {
        "duration": 13,
        "start_time": "2024-01-06T16:07:35.137Z"
      },
      {
        "duration": 11,
        "start_time": "2024-01-06T16:07:35.151Z"
      },
      {
        "duration": 16,
        "start_time": "2024-01-06T16:07:35.163Z"
      },
      {
        "duration": 15,
        "start_time": "2024-01-06T16:07:35.180Z"
      },
      {
        "duration": 138,
        "start_time": "2024-01-06T16:07:35.196Z"
      },
      {
        "duration": 4,
        "start_time": "2024-01-06T16:07:35.336Z"
      },
      {
        "duration": 3,
        "start_time": "2024-01-06T16:07:35.345Z"
      },
      {
        "duration": 15,
        "start_time": "2024-01-06T16:07:35.349Z"
      },
      {
        "duration": 5,
        "start_time": "2024-01-06T16:07:35.365Z"
      },
      {
        "duration": 10,
        "start_time": "2024-01-06T16:07:35.371Z"
      },
      {
        "duration": 14,
        "start_time": "2024-01-06T16:07:35.382Z"
      },
      {
        "duration": 117,
        "start_time": "2024-01-06T16:07:35.398Z"
      },
      {
        "duration": 4,
        "start_time": "2024-01-06T16:07:35.517Z"
      },
      {
        "duration": 8,
        "start_time": "2024-01-06T16:07:35.522Z"
      },
      {
        "duration": 7,
        "start_time": "2024-01-06T16:07:35.531Z"
      },
      {
        "duration": 8,
        "start_time": "2024-01-06T16:07:35.545Z"
      },
      {
        "duration": 4,
        "start_time": "2024-01-06T16:07:35.554Z"
      },
      {
        "duration": 6,
        "start_time": "2024-01-06T16:07:35.563Z"
      },
      {
        "duration": 8,
        "start_time": "2024-01-06T16:07:35.571Z"
      },
      {
        "duration": 3,
        "start_time": "2024-01-06T16:07:35.580Z"
      },
      {
        "duration": 7,
        "start_time": "2024-01-06T16:07:35.585Z"
      },
      {
        "duration": 4,
        "start_time": "2024-01-06T16:07:35.593Z"
      },
      {
        "duration": 252,
        "start_time": "2024-01-06T16:07:35.598Z"
      },
      {
        "duration": 6,
        "start_time": "2024-01-06T16:07:35.852Z"
      },
      {
        "duration": 11,
        "start_time": "2024-01-06T16:07:35.859Z"
      },
      {
        "duration": 9,
        "start_time": "2024-01-06T16:07:35.872Z"
      },
      {
        "duration": 25,
        "start_time": "2024-01-06T16:07:35.882Z"
      },
      {
        "duration": 9,
        "start_time": "2024-01-06T16:07:35.908Z"
      },
      {
        "duration": 28,
        "start_time": "2024-01-06T16:07:35.919Z"
      },
      {
        "duration": 11,
        "start_time": "2024-01-06T16:07:35.948Z"
      },
      {
        "duration": 13,
        "start_time": "2024-01-06T16:07:35.961Z"
      },
      {
        "duration": 11,
        "start_time": "2024-01-06T16:07:35.975Z"
      },
      {
        "duration": 35,
        "start_time": "2024-01-06T16:07:35.987Z"
      },
      {
        "duration": 606,
        "start_time": "2024-01-06T16:07:36.024Z"
      },
      {
        "duration": 3350,
        "start_time": "2024-01-06T16:07:36.632Z"
      },
      {
        "duration": 4,
        "start_time": "2024-01-06T16:07:39.984Z"
      },
      {
        "duration": 4,
        "start_time": "2024-01-06T16:07:39.990Z"
      },
      {
        "duration": 5,
        "start_time": "2024-01-06T16:07:39.996Z"
      },
      {
        "duration": 11,
        "start_time": "2024-01-06T16:07:40.002Z"
      },
      {
        "duration": 6,
        "start_time": "2024-01-06T16:07:40.015Z"
      },
      {
        "duration": 30,
        "start_time": "2024-01-06T16:07:40.022Z"
      },
      {
        "duration": 8,
        "start_time": "2024-01-06T16:07:40.054Z"
      },
      {
        "duration": 44,
        "start_time": "2024-01-06T16:07:40.064Z"
      },
      {
        "duration": 152,
        "start_time": "2024-01-06T16:07:40.110Z"
      },
      {
        "duration": 216598,
        "start_time": "2024-01-06T16:07:40.264Z"
      },
      {
        "duration": 207,
        "start_time": "2024-01-06T16:11:16.863Z"
      },
      {
        "duration": 2516183,
        "start_time": "2024-01-06T16:11:17.071Z"
      },
      {
        "duration": 148,
        "start_time": "2024-01-06T16:53:13.256Z"
      },
      {
        "duration": 540553,
        "start_time": "2024-01-06T16:53:13.406Z"
      },
      {
        "duration": 329,
        "start_time": "2024-01-06T17:02:13.960Z"
      },
      {
        "duration": 58,
        "start_time": "2024-01-06T17:02:14.291Z"
      },
      {
        "duration": 4,
        "start_time": "2024-01-06T17:02:14.351Z"
      },
      {
        "duration": 27,
        "start_time": "2024-01-06T17:02:14.356Z"
      },
      {
        "duration": 61,
        "start_time": "2024-01-06T17:22:08.421Z"
      },
      {
        "duration": 59,
        "start_time": "2024-01-06T17:22:18.693Z"
      },
      {
        "duration": 7,
        "start_time": "2024-01-06T18:17:18.903Z"
      },
      {
        "duration": 2829,
        "start_time": "2024-01-06T18:23:07.076Z"
      },
      {
        "duration": 2,
        "start_time": "2024-01-06T18:23:09.907Z"
      },
      {
        "duration": 27,
        "start_time": "2024-01-06T18:23:09.910Z"
      },
      {
        "duration": 40,
        "start_time": "2024-01-06T18:23:09.939Z"
      },
      {
        "duration": 198,
        "start_time": "2024-01-06T18:23:09.981Z"
      },
      {
        "duration": 3,
        "start_time": "2024-01-06T18:23:10.181Z"
      },
      {
        "duration": 32,
        "start_time": "2024-01-06T18:23:10.185Z"
      },
      {
        "duration": 29,
        "start_time": "2024-01-06T18:23:10.219Z"
      },
      {
        "duration": 33,
        "start_time": "2024-01-06T18:23:10.250Z"
      },
      {
        "duration": 33,
        "start_time": "2024-01-06T18:23:10.285Z"
      },
      {
        "duration": 43,
        "start_time": "2024-01-06T18:23:10.319Z"
      },
      {
        "duration": 14,
        "start_time": "2024-01-06T18:23:10.363Z"
      },
      {
        "duration": 31,
        "start_time": "2024-01-06T18:23:10.378Z"
      },
      {
        "duration": 42,
        "start_time": "2024-01-06T18:23:10.411Z"
      },
      {
        "duration": 17,
        "start_time": "2024-01-06T18:23:10.454Z"
      },
      {
        "duration": 27,
        "start_time": "2024-01-06T18:23:10.472Z"
      },
      {
        "duration": 23,
        "start_time": "2024-01-06T18:23:10.500Z"
      },
      {
        "duration": 3,
        "start_time": "2024-01-06T18:23:10.524Z"
      },
      {
        "duration": 22,
        "start_time": "2024-01-06T18:23:10.529Z"
      },
      {
        "duration": 21,
        "start_time": "2024-01-06T18:23:10.552Z"
      },
      {
        "duration": 25,
        "start_time": "2024-01-06T18:23:10.574Z"
      },
      {
        "duration": 20,
        "start_time": "2024-01-06T18:23:10.600Z"
      },
      {
        "duration": 40,
        "start_time": "2024-01-06T18:23:10.621Z"
      },
      {
        "duration": 30,
        "start_time": "2024-01-06T18:23:10.662Z"
      },
      {
        "duration": 14,
        "start_time": "2024-01-06T18:23:10.694Z"
      },
      {
        "duration": 37,
        "start_time": "2024-01-06T18:23:10.709Z"
      },
      {
        "duration": 12,
        "start_time": "2024-01-06T18:23:10.747Z"
      },
      {
        "duration": 30,
        "start_time": "2024-01-06T18:23:10.763Z"
      },
      {
        "duration": 4,
        "start_time": "2024-01-06T18:23:10.794Z"
      },
      {
        "duration": 32,
        "start_time": "2024-01-06T18:23:10.799Z"
      },
      {
        "duration": 152,
        "start_time": "2024-01-06T18:23:10.832Z"
      },
      {
        "duration": 6,
        "start_time": "2024-01-06T18:23:10.986Z"
      },
      {
        "duration": 33,
        "start_time": "2024-01-06T18:23:10.993Z"
      },
      {
        "duration": 21,
        "start_time": "2024-01-06T18:23:11.027Z"
      },
      {
        "duration": 128,
        "start_time": "2024-01-06T18:23:11.049Z"
      },
      {
        "duration": 5,
        "start_time": "2024-01-06T18:23:11.179Z"
      },
      {
        "duration": 32,
        "start_time": "2024-01-06T18:23:11.185Z"
      },
      {
        "duration": 33,
        "start_time": "2024-01-06T18:23:11.219Z"
      },
      {
        "duration": 28,
        "start_time": "2024-01-06T18:23:11.253Z"
      },
      {
        "duration": 12,
        "start_time": "2024-01-06T18:23:11.282Z"
      },
      {
        "duration": 52,
        "start_time": "2024-01-06T18:23:11.296Z"
      },
      {
        "duration": 18,
        "start_time": "2024-01-06T18:23:11.349Z"
      },
      {
        "duration": 23,
        "start_time": "2024-01-06T18:23:11.369Z"
      },
      {
        "duration": 18,
        "start_time": "2024-01-06T18:23:11.393Z"
      },
      {
        "duration": 7,
        "start_time": "2024-01-06T18:23:11.412Z"
      },
      {
        "duration": 20,
        "start_time": "2024-01-06T18:23:11.420Z"
      },
      {
        "duration": 17,
        "start_time": "2024-01-06T18:23:11.442Z"
      },
      {
        "duration": 36,
        "start_time": "2024-01-06T18:23:11.461Z"
      },
      {
        "duration": 4,
        "start_time": "2024-01-06T18:23:11.499Z"
      },
      {
        "duration": 7,
        "start_time": "2024-01-06T18:23:11.504Z"
      },
      {
        "duration": 28,
        "start_time": "2024-01-06T18:23:11.513Z"
      },
      {
        "duration": 97,
        "start_time": "2024-01-06T18:23:11.542Z"
      },
      {
        "duration": 11,
        "start_time": "2024-01-06T18:23:11.640Z"
      },
      {
        "duration": 745,
        "start_time": "2024-01-06T18:23:11.652Z"
      },
      {
        "duration": 9,
        "start_time": "2024-01-06T18:23:12.398Z"
      },
      {
        "duration": 15,
        "start_time": "2024-01-06T18:23:12.408Z"
      },
      {
        "duration": 6,
        "start_time": "2024-01-06T18:23:12.425Z"
      },
      {
        "duration": 128,
        "start_time": "2024-01-06T18:23:12.432Z"
      },
      {
        "duration": 4,
        "start_time": "2024-01-06T18:23:12.562Z"
      },
      {
        "duration": 240,
        "start_time": "2024-01-06T18:23:12.567Z"
      },
      {
        "duration": 0,
        "start_time": "2024-01-06T18:23:12.808Z"
      },
      {
        "duration": 0,
        "start_time": "2024-01-06T18:23:12.809Z"
      },
      {
        "duration": 0,
        "start_time": "2024-01-06T18:23:12.810Z"
      },
      {
        "duration": 0,
        "start_time": "2024-01-06T18:23:12.811Z"
      },
      {
        "duration": 0,
        "start_time": "2024-01-06T18:23:12.812Z"
      },
      {
        "duration": 0,
        "start_time": "2024-01-06T18:23:12.813Z"
      },
      {
        "duration": 0,
        "start_time": "2024-01-06T18:23:12.814Z"
      },
      {
        "duration": 0,
        "start_time": "2024-01-06T18:23:12.814Z"
      },
      {
        "duration": 0,
        "start_time": "2024-01-06T18:23:12.815Z"
      },
      {
        "duration": 0,
        "start_time": "2024-01-06T18:23:12.816Z"
      },
      {
        "duration": 0,
        "start_time": "2024-01-06T18:23:12.817Z"
      },
      {
        "duration": 0,
        "start_time": "2024-01-06T18:23:12.818Z"
      },
      {
        "duration": 0,
        "start_time": "2024-01-06T18:23:12.819Z"
      },
      {
        "duration": 0,
        "start_time": "2024-01-06T18:23:12.819Z"
      },
      {
        "duration": 0,
        "start_time": "2024-01-06T18:23:12.820Z"
      },
      {
        "duration": 0,
        "start_time": "2024-01-06T18:23:12.821Z"
      },
      {
        "duration": 0,
        "start_time": "2024-01-06T18:23:12.844Z"
      },
      {
        "duration": 0,
        "start_time": "2024-01-06T18:23:12.845Z"
      },
      {
        "duration": 0,
        "start_time": "2024-01-06T18:23:12.846Z"
      },
      {
        "duration": 0,
        "start_time": "2024-01-06T18:23:12.847Z"
      },
      {
        "duration": 0,
        "start_time": "2024-01-06T18:23:12.848Z"
      },
      {
        "duration": 0,
        "start_time": "2024-01-06T18:23:12.849Z"
      },
      {
        "duration": 0,
        "start_time": "2024-01-06T18:23:12.850Z"
      },
      {
        "duration": 0,
        "start_time": "2024-01-06T18:23:12.850Z"
      },
      {
        "duration": 0,
        "start_time": "2024-01-06T18:23:12.851Z"
      },
      {
        "duration": 0,
        "start_time": "2024-01-06T18:23:12.852Z"
      },
      {
        "duration": 0,
        "start_time": "2024-01-06T18:23:12.853Z"
      },
      {
        "duration": 0,
        "start_time": "2024-01-06T18:23:12.854Z"
      },
      {
        "duration": 0,
        "start_time": "2024-01-06T18:23:12.855Z"
      },
      {
        "duration": 0,
        "start_time": "2024-01-06T18:23:12.856Z"
      },
      {
        "duration": 0,
        "start_time": "2024-01-06T18:23:12.857Z"
      },
      {
        "duration": 0,
        "start_time": "2024-01-06T18:23:12.858Z"
      },
      {
        "duration": 0,
        "start_time": "2024-01-06T18:23:12.859Z"
      },
      {
        "duration": 0,
        "start_time": "2024-01-06T18:23:12.860Z"
      },
      {
        "duration": 0,
        "start_time": "2024-01-06T18:23:12.861Z"
      },
      {
        "duration": 0,
        "start_time": "2024-01-06T18:23:12.862Z"
      },
      {
        "duration": 2,
        "start_time": "2024-01-06T18:28:54.808Z"
      },
      {
        "duration": 14,
        "start_time": "2024-01-06T18:28:55.692Z"
      },
      {
        "duration": 1170,
        "start_time": "2024-01-06T18:28:56.826Z"
      },
      {
        "duration": 4,
        "start_time": "2024-01-06T18:28:58.790Z"
      },
      {
        "duration": 8,
        "start_time": "2024-01-06T18:29:24.779Z"
      },
      {
        "duration": 102,
        "start_time": "2024-01-06T18:29:26.456Z"
      },
      {
        "duration": 3,
        "start_time": "2024-01-06T18:30:05.496Z"
      },
      {
        "duration": 9,
        "start_time": "2024-01-06T18:30:06.113Z"
      },
      {
        "duration": 7,
        "start_time": "2024-01-06T18:30:06.792Z"
      },
      {
        "duration": 103,
        "start_time": "2024-01-06T18:30:10.885Z"
      },
      {
        "duration": 113,
        "start_time": "2024-01-06T18:30:39.004Z"
      },
      {
        "duration": 16,
        "start_time": "2024-01-06T18:33:12.187Z"
      },
      {
        "duration": 17,
        "start_time": "2024-01-06T18:33:14.320Z"
      },
      {
        "duration": 2,
        "start_time": "2024-01-06T18:35:58.270Z"
      },
      {
        "duration": 3,
        "start_time": "2024-01-06T18:36:04.424Z"
      },
      {
        "duration": 2,
        "start_time": "2024-01-06T18:36:09.705Z"
      },
      {
        "duration": 4,
        "start_time": "2024-01-06T18:40:24.154Z"
      },
      {
        "duration": 12,
        "start_time": "2024-01-06T18:40:25.122Z"
      },
      {
        "duration": 9,
        "start_time": "2024-01-06T18:40:50.360Z"
      },
      {
        "duration": 5,
        "start_time": "2024-01-06T18:47:11.085Z"
      },
      {
        "duration": 12,
        "start_time": "2024-01-06T18:47:23.954Z"
      },
      {
        "duration": 144,
        "start_time": "2024-01-06T18:49:13.908Z"
      },
      {
        "duration": 5,
        "start_time": "2024-01-06T18:52:12.327Z"
      },
      {
        "duration": 3,
        "start_time": "2024-01-06T18:52:40.694Z"
      },
      {
        "duration": 15,
        "start_time": "2024-01-06T18:53:35.242Z"
      },
      {
        "duration": 4,
        "start_time": "2024-01-06T18:53:51.111Z"
      },
      {
        "duration": 3,
        "start_time": "2024-01-06T18:55:51.214Z"
      },
      {
        "duration": 5,
        "start_time": "2024-01-06T18:57:38.700Z"
      },
      {
        "duration": 1212,
        "start_time": "2024-01-06T19:08:09.891Z"
      },
      {
        "duration": 3,
        "start_time": "2024-01-06T19:09:23.925Z"
      },
      {
        "duration": 1351,
        "start_time": "2024-01-06T19:09:28.321Z"
      },
      {
        "duration": 5,
        "start_time": "2024-01-06T19:09:54.450Z"
      },
      {
        "duration": 255,
        "start_time": "2024-01-06T19:10:21.671Z"
      },
      {
        "duration": 8,
        "start_time": "2024-01-06T19:10:56.612Z"
      },
      {
        "duration": 5,
        "start_time": "2024-01-06T19:11:07.734Z"
      },
      {
        "duration": 118,
        "start_time": "2024-01-06T19:11:13.937Z"
      },
      {
        "duration": 116,
        "start_time": "2024-01-06T19:11:48.640Z"
      },
      {
        "duration": 132,
        "start_time": "2024-01-06T19:12:58.788Z"
      },
      {
        "duration": 133,
        "start_time": "2024-01-06T19:13:10.821Z"
      },
      {
        "duration": 137,
        "start_time": "2024-01-06T19:13:21.471Z"
      },
      {
        "duration": 156,
        "start_time": "2024-01-06T19:14:50.015Z"
      },
      {
        "duration": 129,
        "start_time": "2024-01-06T19:15:14.829Z"
      },
      {
        "duration": 129,
        "start_time": "2024-01-06T19:15:21.890Z"
      },
      {
        "duration": 5,
        "start_time": "2024-01-06T19:15:47.243Z"
      },
      {
        "duration": 103,
        "start_time": "2024-01-06T19:16:46.271Z"
      },
      {
        "duration": 101,
        "start_time": "2024-01-06T19:18:52.334Z"
      },
      {
        "duration": 110,
        "start_time": "2024-01-06T19:19:01.150Z"
      },
      {
        "duration": 105,
        "start_time": "2024-01-06T19:20:08.828Z"
      },
      {
        "duration": 1352,
        "start_time": "2024-01-06T19:20:28.571Z"
      },
      {
        "duration": 5,
        "start_time": "2024-01-06T19:20:40.132Z"
      },
      {
        "duration": 106,
        "start_time": "2024-01-06T19:20:42.768Z"
      },
      {
        "duration": 104,
        "start_time": "2024-01-06T19:20:45.715Z"
      },
      {
        "duration": 105,
        "start_time": "2024-01-06T19:21:22.296Z"
      },
      {
        "duration": 104,
        "start_time": "2024-01-06T19:21:40.482Z"
      },
      {
        "duration": 5,
        "start_time": "2024-01-06T19:22:42.120Z"
      },
      {
        "duration": 102,
        "start_time": "2024-01-06T19:22:42.885Z"
      },
      {
        "duration": 5,
        "start_time": "2024-01-06T19:23:01.102Z"
      },
      {
        "duration": 260,
        "start_time": "2024-01-06T19:23:01.581Z"
      },
      {
        "duration": 12,
        "start_time": "2024-01-06T19:23:44.926Z"
      },
      {
        "duration": 4,
        "start_time": "2024-01-06T19:24:23.071Z"
      },
      {
        "duration": 12,
        "start_time": "2024-01-06T19:24:24.619Z"
      },
      {
        "duration": 4,
        "start_time": "2024-01-06T19:24:32.578Z"
      },
      {
        "duration": 4,
        "start_time": "2024-01-06T19:25:02.029Z"
      },
      {
        "duration": 5,
        "start_time": "2024-01-06T19:25:16.070Z"
      },
      {
        "duration": 5,
        "start_time": "2024-01-06T19:25:53.684Z"
      },
      {
        "duration": 5,
        "start_time": "2024-01-06T19:26:24.466Z"
      },
      {
        "duration": 398,
        "start_time": "2024-01-06T19:26:40.372Z"
      },
      {
        "duration": 72,
        "start_time": "2024-01-06T19:26:52.487Z"
      },
      {
        "duration": 3346,
        "start_time": "2024-01-06T19:27:00.796Z"
      },
      {
        "duration": 3406,
        "start_time": "2024-01-06T19:27:56.575Z"
      },
      {
        "duration": 3378,
        "start_time": "2024-01-06T19:28:19.219Z"
      },
      {
        "duration": 395,
        "start_time": "2024-01-06T19:28:27.554Z"
      },
      {
        "duration": 374,
        "start_time": "2024-01-06T19:28:36.341Z"
      },
      {
        "duration": 2972,
        "start_time": "2024-01-06T19:28:37.795Z"
      },
      {
        "duration": 10,
        "start_time": "2024-01-06T19:29:04.839Z"
      },
      {
        "duration": 9,
        "start_time": "2024-01-06T19:29:06.112Z"
      },
      {
        "duration": 2777,
        "start_time": "2024-01-06T19:29:30.886Z"
      },
      {
        "duration": 2,
        "start_time": "2024-01-06T19:29:33.665Z"
      },
      {
        "duration": 14,
        "start_time": "2024-01-06T19:29:33.668Z"
      },
      {
        "duration": 15,
        "start_time": "2024-01-06T19:29:33.684Z"
      },
      {
        "duration": 194,
        "start_time": "2024-01-06T19:29:33.700Z"
      },
      {
        "duration": 2,
        "start_time": "2024-01-06T19:29:33.896Z"
      },
      {
        "duration": 12,
        "start_time": "2024-01-06T19:29:33.900Z"
      },
      {
        "duration": 31,
        "start_time": "2024-01-06T19:29:33.913Z"
      },
      {
        "duration": 40,
        "start_time": "2024-01-06T19:29:33.946Z"
      },
      {
        "duration": 77,
        "start_time": "2024-01-06T19:29:33.988Z"
      },
      {
        "duration": 15,
        "start_time": "2024-01-06T19:29:34.067Z"
      },
      {
        "duration": 47,
        "start_time": "2024-01-06T19:29:34.083Z"
      },
      {
        "duration": 5,
        "start_time": "2024-01-06T19:29:34.132Z"
      },
      {
        "duration": 28,
        "start_time": "2024-01-06T19:29:34.138Z"
      },
      {
        "duration": 34,
        "start_time": "2024-01-06T19:29:34.167Z"
      },
      {
        "duration": 2,
        "start_time": "2024-01-06T19:29:34.203Z"
      },
      {
        "duration": 23,
        "start_time": "2024-01-06T19:29:34.206Z"
      },
      {
        "duration": 28,
        "start_time": "2024-01-06T19:29:34.231Z"
      },
      {
        "duration": 9,
        "start_time": "2024-01-06T19:29:34.261Z"
      },
      {
        "duration": 26,
        "start_time": "2024-01-06T19:29:34.272Z"
      },
      {
        "duration": 20,
        "start_time": "2024-01-06T19:29:34.300Z"
      },
      {
        "duration": 28,
        "start_time": "2024-01-06T19:29:34.321Z"
      },
      {
        "duration": 3,
        "start_time": "2024-01-06T19:29:34.350Z"
      },
      {
        "duration": 40,
        "start_time": "2024-01-06T19:29:34.354Z"
      },
      {
        "duration": 16,
        "start_time": "2024-01-06T19:29:34.395Z"
      },
      {
        "duration": 5,
        "start_time": "2024-01-06T19:29:34.413Z"
      },
      {
        "duration": 23,
        "start_time": "2024-01-06T19:29:34.420Z"
      },
      {
        "duration": 7,
        "start_time": "2024-01-06T19:29:34.447Z"
      },
      {
        "duration": 25,
        "start_time": "2024-01-06T19:29:34.455Z"
      },
      {
        "duration": 11,
        "start_time": "2024-01-06T19:29:34.482Z"
      },
      {
        "duration": 15,
        "start_time": "2024-01-06T19:29:34.495Z"
      },
      {
        "duration": 134,
        "start_time": "2024-01-06T19:29:34.511Z"
      },
      {
        "duration": 6,
        "start_time": "2024-01-06T19:29:34.647Z"
      },
      {
        "duration": 11,
        "start_time": "2024-01-06T19:29:34.654Z"
      },
      {
        "duration": 16,
        "start_time": "2024-01-06T19:29:34.666Z"
      },
      {
        "duration": 122,
        "start_time": "2024-01-06T19:29:34.683Z"
      },
      {
        "duration": 5,
        "start_time": "2024-01-06T19:29:34.806Z"
      },
      {
        "duration": 9,
        "start_time": "2024-01-06T19:29:34.812Z"
      },
      {
        "duration": 4,
        "start_time": "2024-01-06T19:29:34.823Z"
      },
      {
        "duration": 21,
        "start_time": "2024-01-06T19:29:34.828Z"
      },
      {
        "duration": 19,
        "start_time": "2024-01-06T19:29:34.850Z"
      },
      {
        "duration": 25,
        "start_time": "2024-01-06T19:29:34.870Z"
      },
      {
        "duration": 25,
        "start_time": "2024-01-06T19:29:34.896Z"
      },
      {
        "duration": 12,
        "start_time": "2024-01-06T19:29:34.922Z"
      },
      {
        "duration": 28,
        "start_time": "2024-01-06T19:29:34.935Z"
      },
      {
        "duration": 23,
        "start_time": "2024-01-06T19:29:34.964Z"
      },
      {
        "duration": 12,
        "start_time": "2024-01-06T19:29:34.988Z"
      },
      {
        "duration": 9,
        "start_time": "2024-01-06T19:29:35.002Z"
      },
      {
        "duration": 25,
        "start_time": "2024-01-06T19:29:35.013Z"
      },
      {
        "duration": 4,
        "start_time": "2024-01-06T19:29:35.040Z"
      },
      {
        "duration": 24,
        "start_time": "2024-01-06T19:29:35.046Z"
      },
      {
        "duration": 26,
        "start_time": "2024-01-06T19:29:35.072Z"
      },
      {
        "duration": 131,
        "start_time": "2024-01-06T19:29:35.100Z"
      },
      {
        "duration": 15,
        "start_time": "2024-01-06T19:29:35.233Z"
      },
      {
        "duration": 778,
        "start_time": "2024-01-06T19:29:35.249Z"
      },
      {
        "duration": 17,
        "start_time": "2024-01-06T19:29:36.028Z"
      },
      {
        "duration": 9,
        "start_time": "2024-01-06T19:29:36.047Z"
      },
      {
        "duration": 12,
        "start_time": "2024-01-06T19:29:36.057Z"
      },
      {
        "duration": 135,
        "start_time": "2024-01-06T19:29:36.070Z"
      },
      {
        "duration": 5,
        "start_time": "2024-01-06T19:29:36.207Z"
      },
      {
        "duration": 3,
        "start_time": "2024-01-06T19:29:36.213Z"
      },
      {
        "duration": 34,
        "start_time": "2024-01-06T19:29:36.218Z"
      },
      {
        "duration": 122,
        "start_time": "2024-01-06T19:29:36.253Z"
      },
      {
        "duration": 4,
        "start_time": "2024-01-06T19:29:36.377Z"
      },
      {
        "duration": 18,
        "start_time": "2024-01-06T19:29:36.383Z"
      },
      {
        "duration": 18,
        "start_time": "2024-01-06T19:29:36.402Z"
      },
      {
        "duration": 13,
        "start_time": "2024-01-06T19:29:36.421Z"
      },
      {
        "duration": 103,
        "start_time": "2024-01-06T19:29:36.435Z"
      },
      {
        "duration": 19,
        "start_time": "2024-01-06T19:29:36.539Z"
      },
      {
        "duration": 4,
        "start_time": "2024-01-06T19:29:36.559Z"
      },
      {
        "duration": 19,
        "start_time": "2024-01-06T19:29:36.564Z"
      },
      {
        "duration": 13,
        "start_time": "2024-01-06T19:29:36.585Z"
      },
      {
        "duration": 14,
        "start_time": "2024-01-06T19:29:36.599Z"
      },
      {
        "duration": 147,
        "start_time": "2024-01-06T19:29:36.614Z"
      },
      {
        "duration": 243,
        "start_time": "2024-01-06T19:29:36.762Z"
      },
      {
        "duration": 121,
        "start_time": "2024-01-06T19:29:37.007Z"
      },
      {
        "duration": 168,
        "start_time": "2024-01-06T19:29:37.129Z"
      },
      {
        "duration": 113,
        "start_time": "2024-01-06T19:29:37.298Z"
      },
      {
        "duration": 132,
        "start_time": "2024-01-06T19:29:37.413Z"
      },
      {
        "duration": 6,
        "start_time": "2024-01-06T19:29:37.546Z"
      },
      {
        "duration": 126,
        "start_time": "2024-01-06T19:29:37.553Z"
      },
      {
        "duration": 118,
        "start_time": "2024-01-06T19:29:37.686Z"
      },
      {
        "duration": 5,
        "start_time": "2024-01-06T19:29:37.805Z"
      },
      {
        "duration": 118,
        "start_time": "2024-01-06T19:29:37.812Z"
      },
      {
        "duration": 18,
        "start_time": "2024-01-06T19:29:37.931Z"
      },
      {
        "duration": 401,
        "start_time": "2024-01-06T19:29:37.950Z"
      },
      {
        "duration": 3005,
        "start_time": "2024-01-06T19:29:38.353Z"
      },
      {
        "duration": 4,
        "start_time": "2024-01-06T19:29:41.360Z"
      },
      {
        "duration": 10,
        "start_time": "2024-01-06T19:29:41.365Z"
      },
      {
        "duration": 25,
        "start_time": "2024-01-06T19:29:41.377Z"
      },
      {
        "duration": 61,
        "start_time": "2024-01-06T19:29:41.403Z"
      },
      {
        "duration": 140,
        "start_time": "2024-01-06T19:29:41.465Z"
      },
      {
        "duration": 206446,
        "start_time": "2024-01-06T19:29:41.607Z"
      },
      {
        "duration": 194,
        "start_time": "2024-01-06T19:33:08.055Z"
      },
      {
        "duration": 198010,
        "start_time": "2024-01-06T19:33:08.251Z"
      },
      {
        "duration": 192,
        "start_time": "2024-01-06T19:36:26.262Z"
      },
      {
        "duration": 404017,
        "start_time": "2024-01-06T19:36:26.455Z"
      },
      {
        "duration": 325,
        "start_time": "2024-01-06T19:43:10.474Z"
      },
      {
        "duration": 45,
        "start_time": "2024-01-06T19:43:10.801Z"
      },
      {
        "duration": 7,
        "start_time": "2024-01-06T19:43:10.848Z"
      },
      {
        "duration": 2,
        "start_time": "2024-01-06T19:43:10.857Z"
      },
      {
        "duration": 10,
        "start_time": "2024-01-06T19:44:12.058Z"
      },
      {
        "duration": 7,
        "start_time": "2024-01-06T19:45:27.684Z"
      },
      {
        "duration": 2984,
        "start_time": "2024-01-06T19:47:30.510Z"
      },
      {
        "duration": 2980,
        "start_time": "2024-01-06T19:47:44.002Z"
      },
      {
        "duration": 2706,
        "start_time": "2024-01-06T19:58:10.552Z"
      },
      {
        "duration": 2,
        "start_time": "2024-01-06T19:58:13.260Z"
      },
      {
        "duration": 5,
        "start_time": "2024-01-06T19:58:13.263Z"
      },
      {
        "duration": 6,
        "start_time": "2024-01-06T19:58:13.270Z"
      },
      {
        "duration": 214,
        "start_time": "2024-01-06T19:58:13.277Z"
      },
      {
        "duration": 3,
        "start_time": "2024-01-06T19:58:13.493Z"
      },
      {
        "duration": 7,
        "start_time": "2024-01-06T19:58:13.497Z"
      },
      {
        "duration": 11,
        "start_time": "2024-01-06T19:58:13.505Z"
      },
      {
        "duration": 7,
        "start_time": "2024-01-06T19:58:13.518Z"
      },
      {
        "duration": 33,
        "start_time": "2024-01-06T19:58:13.533Z"
      },
      {
        "duration": 8,
        "start_time": "2024-01-06T19:58:13.567Z"
      },
      {
        "duration": 19,
        "start_time": "2024-01-06T19:58:13.576Z"
      },
      {
        "duration": 3,
        "start_time": "2024-01-06T19:58:13.596Z"
      },
      {
        "duration": 11,
        "start_time": "2024-01-06T19:58:13.600Z"
      },
      {
        "duration": 20,
        "start_time": "2024-01-06T19:58:13.612Z"
      },
      {
        "duration": 18,
        "start_time": "2024-01-06T19:58:13.633Z"
      },
      {
        "duration": 17,
        "start_time": "2024-01-06T19:58:13.652Z"
      },
      {
        "duration": 19,
        "start_time": "2024-01-06T19:58:13.670Z"
      },
      {
        "duration": 3,
        "start_time": "2024-01-06T19:58:13.690Z"
      },
      {
        "duration": 19,
        "start_time": "2024-01-06T19:58:13.694Z"
      },
      {
        "duration": 12,
        "start_time": "2024-01-06T19:58:13.714Z"
      },
      {
        "duration": 7,
        "start_time": "2024-01-06T19:58:13.727Z"
      },
      {
        "duration": 3,
        "start_time": "2024-01-06T19:58:13.735Z"
      },
      {
        "duration": 10,
        "start_time": "2024-01-06T19:58:13.740Z"
      },
      {
        "duration": 25,
        "start_time": "2024-01-06T19:58:13.751Z"
      },
      {
        "duration": 6,
        "start_time": "2024-01-06T19:58:13.777Z"
      },
      {
        "duration": 17,
        "start_time": "2024-01-06T19:58:13.784Z"
      },
      {
        "duration": 7,
        "start_time": "2024-01-06T19:58:13.804Z"
      },
      {
        "duration": 32,
        "start_time": "2024-01-06T19:58:13.813Z"
      },
      {
        "duration": 3,
        "start_time": "2024-01-06T19:58:13.846Z"
      },
      {
        "duration": 22,
        "start_time": "2024-01-06T19:58:13.850Z"
      },
      {
        "duration": 132,
        "start_time": "2024-01-06T19:58:13.873Z"
      },
      {
        "duration": 5,
        "start_time": "2024-01-06T19:58:14.007Z"
      },
      {
        "duration": 8,
        "start_time": "2024-01-06T19:58:14.014Z"
      },
      {
        "duration": 21,
        "start_time": "2024-01-06T19:58:14.023Z"
      },
      {
        "duration": 130,
        "start_time": "2024-01-06T19:58:14.045Z"
      },
      {
        "duration": 5,
        "start_time": "2024-01-06T19:58:14.176Z"
      },
      {
        "duration": 11,
        "start_time": "2024-01-06T19:58:14.182Z"
      },
      {
        "duration": 7,
        "start_time": "2024-01-06T19:58:14.194Z"
      },
      {
        "duration": 23,
        "start_time": "2024-01-06T19:58:14.202Z"
      },
      {
        "duration": 19,
        "start_time": "2024-01-06T19:58:14.227Z"
      },
      {
        "duration": 13,
        "start_time": "2024-01-06T19:58:14.247Z"
      },
      {
        "duration": 8,
        "start_time": "2024-01-06T19:58:14.262Z"
      },
      {
        "duration": 23,
        "start_time": "2024-01-06T19:58:14.272Z"
      },
      {
        "duration": 7,
        "start_time": "2024-01-06T19:58:14.297Z"
      },
      {
        "duration": 13,
        "start_time": "2024-01-06T19:58:14.305Z"
      },
      {
        "duration": 21,
        "start_time": "2024-01-06T19:58:14.319Z"
      },
      {
        "duration": 30,
        "start_time": "2024-01-06T19:58:14.341Z"
      },
      {
        "duration": 42,
        "start_time": "2024-01-06T19:58:14.373Z"
      },
      {
        "duration": 3,
        "start_time": "2024-01-06T19:58:14.416Z"
      },
      {
        "duration": 31,
        "start_time": "2024-01-06T19:58:14.421Z"
      },
      {
        "duration": 30,
        "start_time": "2024-01-06T19:58:14.453Z"
      },
      {
        "duration": 104,
        "start_time": "2024-01-06T19:58:14.485Z"
      },
      {
        "duration": 8,
        "start_time": "2024-01-06T19:58:14.590Z"
      },
      {
        "duration": 777,
        "start_time": "2024-01-06T19:58:14.599Z"
      },
      {
        "duration": 8,
        "start_time": "2024-01-06T19:58:15.377Z"
      },
      {
        "duration": 22,
        "start_time": "2024-01-06T19:58:15.386Z"
      },
      {
        "duration": 145,
        "start_time": "2024-01-06T19:58:15.409Z"
      },
      {
        "duration": 4,
        "start_time": "2024-01-06T19:58:15.556Z"
      },
      {
        "duration": 16,
        "start_time": "2024-01-06T19:58:15.561Z"
      },
      {
        "duration": 120,
        "start_time": "2024-01-06T19:58:15.578Z"
      },
      {
        "duration": 4,
        "start_time": "2024-01-06T19:58:15.699Z"
      },
      {
        "duration": 7,
        "start_time": "2024-01-06T19:58:15.704Z"
      },
      {
        "duration": 6,
        "start_time": "2024-01-06T19:58:15.712Z"
      },
      {
        "duration": 112,
        "start_time": "2024-01-06T19:58:15.719Z"
      },
      {
        "duration": 24,
        "start_time": "2024-01-06T19:58:15.832Z"
      },
      {
        "duration": 4,
        "start_time": "2024-01-06T19:58:15.857Z"
      },
      {
        "duration": 10,
        "start_time": "2024-01-06T19:58:15.862Z"
      },
      {
        "duration": 5,
        "start_time": "2024-01-06T19:58:15.873Z"
      },
      {
        "duration": 12,
        "start_time": "2024-01-06T19:58:15.879Z"
      },
      {
        "duration": 143,
        "start_time": "2024-01-06T19:58:15.892Z"
      },
      {
        "duration": 247,
        "start_time": "2024-01-06T19:58:16.036Z"
      },
      {
        "duration": 119,
        "start_time": "2024-01-06T19:58:16.285Z"
      },
      {
        "duration": 143,
        "start_time": "2024-01-06T19:58:16.405Z"
      },
      {
        "duration": 124,
        "start_time": "2024-01-06T19:58:16.550Z"
      },
      {
        "duration": 117,
        "start_time": "2024-01-06T19:58:16.676Z"
      },
      {
        "duration": 5,
        "start_time": "2024-01-06T19:58:16.794Z"
      },
      {
        "duration": 113,
        "start_time": "2024-01-06T19:58:16.800Z"
      },
      {
        "duration": 240,
        "start_time": "2024-01-06T19:58:16.915Z"
      },
      {
        "duration": 6,
        "start_time": "2024-01-06T19:58:17.156Z"
      },
      {
        "duration": 215,
        "start_time": "2024-01-06T19:58:17.163Z"
      },
      {
        "duration": 2,
        "start_time": "2024-01-06T19:58:17.383Z"
      },
      {
        "duration": 683,
        "start_time": "2024-01-06T19:58:17.386Z"
      },
      {
        "duration": 3184,
        "start_time": "2024-01-06T19:58:18.070Z"
      },
      {
        "duration": 4,
        "start_time": "2024-01-06T19:58:21.256Z"
      },
      {
        "duration": 15,
        "start_time": "2024-01-06T19:58:21.261Z"
      },
      {
        "duration": 9,
        "start_time": "2024-01-06T19:58:21.277Z"
      },
      {
        "duration": 49,
        "start_time": "2024-01-06T19:58:21.287Z"
      },
      {
        "duration": 137,
        "start_time": "2024-01-06T19:58:21.337Z"
      },
      {
        "duration": 280580,
        "start_time": "2024-01-06T19:58:21.475Z"
      },
      {
        "duration": 207,
        "start_time": "2024-01-06T20:03:02.057Z"
      },
      {
        "duration": 219989,
        "start_time": "2024-01-06T20:03:02.265Z"
      },
      {
        "duration": 160,
        "start_time": "2024-01-06T20:06:42.256Z"
      },
      {
        "duration": 249452,
        "start_time": "2024-01-06T20:06:42.418Z"
      },
      {
        "duration": 133,
        "start_time": "2024-01-06T20:10:51.872Z"
      },
      {
        "duration": 8,
        "start_time": "2024-01-06T20:10:52.006Z"
      },
      {
        "duration": 39,
        "start_time": "2024-01-06T20:10:52.015Z"
      },
      {
        "duration": 32,
        "start_time": "2024-01-06T20:10:52.055Z"
      },
      {
        "duration": 26,
        "start_time": "2024-01-06T20:10:52.089Z"
      },
      {
        "duration": 31,
        "start_time": "2024-01-06T20:10:52.117Z"
      },
      {
        "duration": 10,
        "start_time": "2024-01-06T20:11:01.848Z"
      },
      {
        "duration": 7,
        "start_time": "2024-01-06T20:11:04.161Z"
      },
      {
        "duration": 5,
        "start_time": "2024-01-06T20:11:06.697Z"
      },
      {
        "duration": 5,
        "start_time": "2024-01-06T20:13:51.842Z"
      },
      {
        "duration": 375,
        "start_time": "2024-01-06T20:14:05.136Z"
      },
      {
        "duration": 2972,
        "start_time": "2024-01-06T20:14:15.861Z"
      },
      {
        "duration": 106,
        "start_time": "2024-01-06T20:14:56.013Z"
      },
      {
        "duration": 5,
        "start_time": "2024-01-06T20:15:00.692Z"
      },
      {
        "duration": 4,
        "start_time": "2024-01-06T20:15:03.348Z"
      },
      {
        "duration": 10,
        "start_time": "2024-01-06T20:15:06.455Z"
      },
      {
        "duration": 9,
        "start_time": "2024-01-06T20:16:53.019Z"
      },
      {
        "duration": 4,
        "start_time": "2024-01-06T20:16:54.774Z"
      },
      {
        "duration": 2750,
        "start_time": "2024-01-06T20:18:24.960Z"
      },
      {
        "duration": 3,
        "start_time": "2024-01-06T20:18:27.712Z"
      },
      {
        "duration": 6,
        "start_time": "2024-01-06T20:18:27.716Z"
      },
      {
        "duration": 5,
        "start_time": "2024-01-06T20:18:27.723Z"
      },
      {
        "duration": 211,
        "start_time": "2024-01-06T20:18:27.730Z"
      },
      {
        "duration": 2,
        "start_time": "2024-01-06T20:18:27.943Z"
      },
      {
        "duration": 8,
        "start_time": "2024-01-06T20:18:27.946Z"
      },
      {
        "duration": 51,
        "start_time": "2024-01-06T20:18:27.955Z"
      },
      {
        "duration": 10,
        "start_time": "2024-01-06T20:18:28.008Z"
      },
      {
        "duration": 10,
        "start_time": "2024-01-06T20:18:28.020Z"
      },
      {
        "duration": 9,
        "start_time": "2024-01-06T20:18:28.031Z"
      },
      {
        "duration": 20,
        "start_time": "2024-01-06T20:18:28.041Z"
      },
      {
        "duration": 2,
        "start_time": "2024-01-06T20:18:28.063Z"
      },
      {
        "duration": 9,
        "start_time": "2024-01-06T20:18:28.068Z"
      },
      {
        "duration": 23,
        "start_time": "2024-01-06T20:18:28.078Z"
      },
      {
        "duration": 2,
        "start_time": "2024-01-06T20:18:28.102Z"
      },
      {
        "duration": 11,
        "start_time": "2024-01-06T20:18:28.105Z"
      },
      {
        "duration": 38,
        "start_time": "2024-01-06T20:18:28.117Z"
      },
      {
        "duration": 3,
        "start_time": "2024-01-06T20:18:28.156Z"
      },
      {
        "duration": 5,
        "start_time": "2024-01-06T20:18:28.160Z"
      },
      {
        "duration": 15,
        "start_time": "2024-01-06T20:18:28.166Z"
      },
      {
        "duration": 7,
        "start_time": "2024-01-06T20:18:28.182Z"
      },
      {
        "duration": 2,
        "start_time": "2024-01-06T20:18:28.191Z"
      },
      {
        "duration": 7,
        "start_time": "2024-01-06T20:18:28.194Z"
      },
      {
        "duration": 46,
        "start_time": "2024-01-06T20:18:28.202Z"
      },
      {
        "duration": 6,
        "start_time": "2024-01-06T20:18:28.250Z"
      },
      {
        "duration": 17,
        "start_time": "2024-01-06T20:18:28.257Z"
      },
      {
        "duration": 7,
        "start_time": "2024-01-06T20:18:28.275Z"
      },
      {
        "duration": 16,
        "start_time": "2024-01-06T20:18:28.284Z"
      },
      {
        "duration": 3,
        "start_time": "2024-01-06T20:18:28.301Z"
      },
      {
        "duration": 46,
        "start_time": "2024-01-06T20:18:28.305Z"
      },
      {
        "duration": 148,
        "start_time": "2024-01-06T20:18:28.352Z"
      },
      {
        "duration": 6,
        "start_time": "2024-01-06T20:18:28.501Z"
      },
      {
        "duration": 5,
        "start_time": "2024-01-06T20:18:28.509Z"
      },
      {
        "duration": 7,
        "start_time": "2024-01-06T20:18:28.516Z"
      },
      {
        "duration": 136,
        "start_time": "2024-01-06T20:18:28.524Z"
      },
      {
        "duration": 5,
        "start_time": "2024-01-06T20:18:28.662Z"
      },
      {
        "duration": 14,
        "start_time": "2024-01-06T20:18:28.669Z"
      },
      {
        "duration": 6,
        "start_time": "2024-01-06T20:18:28.684Z"
      },
      {
        "duration": 12,
        "start_time": "2024-01-06T20:18:28.691Z"
      },
      {
        "duration": 4,
        "start_time": "2024-01-06T20:18:28.708Z"
      },
      {
        "duration": 31,
        "start_time": "2024-01-06T20:18:28.714Z"
      },
      {
        "duration": 9,
        "start_time": "2024-01-06T20:18:28.746Z"
      },
      {
        "duration": 5,
        "start_time": "2024-01-06T20:18:28.757Z"
      },
      {
        "duration": 4,
        "start_time": "2024-01-06T20:18:28.763Z"
      },
      {
        "duration": 5,
        "start_time": "2024-01-06T20:18:28.769Z"
      },
      {
        "duration": 15,
        "start_time": "2024-01-06T20:18:28.776Z"
      },
      {
        "duration": 7,
        "start_time": "2024-01-06T20:18:28.792Z"
      },
      {
        "duration": 29,
        "start_time": "2024-01-06T20:18:28.800Z"
      },
      {
        "duration": 14,
        "start_time": "2024-01-06T20:18:28.831Z"
      },
      {
        "duration": 5,
        "start_time": "2024-01-06T20:18:28.846Z"
      },
      {
        "duration": 17,
        "start_time": "2024-01-06T20:18:28.853Z"
      },
      {
        "duration": 110,
        "start_time": "2024-01-06T20:18:28.872Z"
      },
      {
        "duration": 8,
        "start_time": "2024-01-06T20:18:28.984Z"
      },
      {
        "duration": 799,
        "start_time": "2024-01-06T20:18:28.993Z"
      },
      {
        "duration": 9,
        "start_time": "2024-01-06T20:18:29.794Z"
      },
      {
        "duration": 21,
        "start_time": "2024-01-06T20:18:29.804Z"
      },
      {
        "duration": 131,
        "start_time": "2024-01-06T20:18:29.827Z"
      },
      {
        "duration": 5,
        "start_time": "2024-01-06T20:18:29.959Z"
      },
      {
        "duration": 13,
        "start_time": "2024-01-06T20:18:29.966Z"
      },
      {
        "duration": 124,
        "start_time": "2024-01-06T20:18:29.980Z"
      },
      {
        "duration": 5,
        "start_time": "2024-01-06T20:18:30.106Z"
      },
      {
        "duration": 31,
        "start_time": "2024-01-06T20:18:30.112Z"
      },
      {
        "duration": 32,
        "start_time": "2024-01-06T20:18:30.145Z"
      },
      {
        "duration": 157,
        "start_time": "2024-01-06T20:18:30.178Z"
      },
      {
        "duration": 19,
        "start_time": "2024-01-06T20:18:30.337Z"
      },
      {
        "duration": 95,
        "start_time": "2024-01-06T20:18:30.357Z"
      },
      {
        "duration": 125,
        "start_time": "2024-01-06T20:18:30.453Z"
      },
      {
        "duration": 41,
        "start_time": "2024-01-06T20:18:30.580Z"
      },
      {
        "duration": 88,
        "start_time": "2024-01-06T20:18:30.623Z"
      },
      {
        "duration": 220,
        "start_time": "2024-01-06T20:18:30.713Z"
      },
      {
        "duration": 250,
        "start_time": "2024-01-06T20:18:30.935Z"
      },
      {
        "duration": 131,
        "start_time": "2024-01-06T20:18:31.186Z"
      },
      {
        "duration": 152,
        "start_time": "2024-01-06T20:18:31.319Z"
      },
      {
        "duration": 112,
        "start_time": "2024-01-06T20:18:31.472Z"
      },
      {
        "duration": 107,
        "start_time": "2024-01-06T20:18:31.586Z"
      },
      {
        "duration": 4,
        "start_time": "2024-01-06T20:18:31.695Z"
      },
      {
        "duration": 130,
        "start_time": "2024-01-06T20:18:31.700Z"
      },
      {
        "duration": 128,
        "start_time": "2024-01-06T20:18:31.832Z"
      },
      {
        "duration": 5,
        "start_time": "2024-01-06T20:18:31.961Z"
      },
      {
        "duration": 186,
        "start_time": "2024-01-06T20:18:31.967Z"
      },
      {
        "duration": 369,
        "start_time": "2024-01-06T20:18:32.154Z"
      },
      {
        "duration": 3174,
        "start_time": "2024-01-06T20:18:32.524Z"
      },
      {
        "duration": 11,
        "start_time": "2024-01-06T20:18:35.699Z"
      },
      {
        "duration": 8,
        "start_time": "2024-01-06T20:18:35.711Z"
      },
      {
        "duration": 2984,
        "start_time": "2024-01-06T20:18:35.720Z"
      },
      {
        "duration": 2,
        "start_time": "2024-01-06T20:18:38.706Z"
      },
      {
        "duration": 7,
        "start_time": "2024-01-06T20:18:38.709Z"
      },
      {
        "duration": 9,
        "start_time": "2024-01-06T20:18:38.717Z"
      },
      {
        "duration": 54,
        "start_time": "2024-01-06T20:18:38.727Z"
      },
      {
        "duration": 138,
        "start_time": "2024-01-06T20:18:38.783Z"
      },
      {
        "duration": 163327,
        "start_time": "2024-01-06T20:18:38.923Z"
      },
      {
        "duration": 203,
        "start_time": "2024-01-06T20:21:22.252Z"
      },
      {
        "duration": 197598,
        "start_time": "2024-01-06T20:21:22.457Z"
      },
      {
        "duration": 149,
        "start_time": "2024-01-06T20:24:40.057Z"
      },
      {
        "duration": 38,
        "start_time": "2024-01-06T20:24:40.208Z"
      },
      {
        "duration": 9,
        "start_time": "2024-01-06T20:24:40.247Z"
      },
      {
        "duration": 16,
        "start_time": "2024-01-06T20:24:40.257Z"
      },
      {
        "duration": 36,
        "start_time": "2024-01-06T20:24:40.274Z"
      },
      {
        "duration": 25,
        "start_time": "2024-01-06T20:24:40.311Z"
      },
      {
        "duration": 275324,
        "start_time": "2024-01-06T20:25:01.764Z"
      },
      {
        "duration": 286,
        "start_time": "2024-01-06T20:29:37.090Z"
      },
      {
        "duration": 0,
        "start_time": "2024-01-06T20:29:37.378Z"
      },
      {
        "duration": 0,
        "start_time": "2024-01-06T20:29:37.379Z"
      },
      {
        "duration": 15,
        "start_time": "2024-01-06T20:31:17.205Z"
      },
      {
        "duration": 13,
        "start_time": "2024-01-06T20:32:14.735Z"
      },
      {
        "duration": 14,
        "start_time": "2024-01-06T20:32:41.378Z"
      },
      {
        "duration": 15,
        "start_time": "2024-01-06T20:32:54.015Z"
      },
      {
        "duration": 14,
        "start_time": "2024-01-06T20:33:02.209Z"
      },
      {
        "duration": 136,
        "start_time": "2024-01-06T20:33:42.084Z"
      },
      {
        "duration": 2741,
        "start_time": "2024-01-06T20:33:51.778Z"
      },
      {
        "duration": 2,
        "start_time": "2024-01-06T20:33:54.521Z"
      },
      {
        "duration": 18,
        "start_time": "2024-01-06T20:33:54.525Z"
      },
      {
        "duration": 28,
        "start_time": "2024-01-06T20:33:54.545Z"
      },
      {
        "duration": 226,
        "start_time": "2024-01-06T20:33:54.574Z"
      },
      {
        "duration": 2,
        "start_time": "2024-01-06T20:33:54.801Z"
      },
      {
        "duration": 25,
        "start_time": "2024-01-06T20:33:54.805Z"
      },
      {
        "duration": 21,
        "start_time": "2024-01-06T20:33:54.832Z"
      },
      {
        "duration": 15,
        "start_time": "2024-01-06T20:33:54.854Z"
      },
      {
        "duration": 9,
        "start_time": "2024-01-06T20:33:54.871Z"
      },
      {
        "duration": 17,
        "start_time": "2024-01-06T20:33:54.881Z"
      },
      {
        "duration": 29,
        "start_time": "2024-01-06T20:33:54.900Z"
      },
      {
        "duration": 2,
        "start_time": "2024-01-06T20:33:54.930Z"
      },
      {
        "duration": 15,
        "start_time": "2024-01-06T20:33:54.933Z"
      },
      {
        "duration": 19,
        "start_time": "2024-01-06T20:33:54.949Z"
      },
      {
        "duration": 2,
        "start_time": "2024-01-06T20:33:54.969Z"
      },
      {
        "duration": 11,
        "start_time": "2024-01-06T20:33:54.973Z"
      },
      {
        "duration": 35,
        "start_time": "2024-01-06T20:33:54.986Z"
      },
      {
        "duration": 3,
        "start_time": "2024-01-06T20:33:55.022Z"
      },
      {
        "duration": 19,
        "start_time": "2024-01-06T20:33:55.026Z"
      },
      {
        "duration": 23,
        "start_time": "2024-01-06T20:33:55.046Z"
      },
      {
        "duration": 34,
        "start_time": "2024-01-06T20:33:55.071Z"
      },
      {
        "duration": 24,
        "start_time": "2024-01-06T20:33:55.107Z"
      },
      {
        "duration": 9,
        "start_time": "2024-01-06T20:33:55.133Z"
      },
      {
        "duration": 18,
        "start_time": "2024-01-06T20:33:55.143Z"
      },
      {
        "duration": 7,
        "start_time": "2024-01-06T20:33:55.163Z"
      },
      {
        "duration": 17,
        "start_time": "2024-01-06T20:33:55.172Z"
      },
      {
        "duration": 8,
        "start_time": "2024-01-06T20:33:55.194Z"
      },
      {
        "duration": 48,
        "start_time": "2024-01-06T20:33:55.204Z"
      },
      {
        "duration": 3,
        "start_time": "2024-01-06T20:33:55.254Z"
      },
      {
        "duration": 7,
        "start_time": "2024-01-06T20:33:55.258Z"
      },
      {
        "duration": 145,
        "start_time": "2024-01-06T20:33:55.266Z"
      },
      {
        "duration": 6,
        "start_time": "2024-01-06T20:33:55.413Z"
      },
      {
        "duration": 10,
        "start_time": "2024-01-06T20:33:55.420Z"
      },
      {
        "duration": 14,
        "start_time": "2024-01-06T20:33:55.431Z"
      },
      {
        "duration": 139,
        "start_time": "2024-01-06T20:33:55.446Z"
      },
      {
        "duration": 6,
        "start_time": "2024-01-06T20:33:55.587Z"
      },
      {
        "duration": 11,
        "start_time": "2024-01-06T20:33:55.595Z"
      },
      {
        "duration": 5,
        "start_time": "2024-01-06T20:33:55.608Z"
      },
      {
        "duration": 21,
        "start_time": "2024-01-06T20:33:55.614Z"
      },
      {
        "duration": 18,
        "start_time": "2024-01-06T20:33:55.636Z"
      },
      {
        "duration": 12,
        "start_time": "2024-01-06T20:33:55.656Z"
      },
      {
        "duration": 16,
        "start_time": "2024-01-06T20:33:55.669Z"
      },
      {
        "duration": 46,
        "start_time": "2024-01-06T20:33:55.686Z"
      },
      {
        "duration": 11,
        "start_time": "2024-01-06T20:33:55.733Z"
      },
      {
        "duration": 4,
        "start_time": "2024-01-06T20:33:55.745Z"
      },
      {
        "duration": 9,
        "start_time": "2024-01-06T20:33:55.751Z"
      },
      {
        "duration": 24,
        "start_time": "2024-01-06T20:33:55.762Z"
      },
      {
        "duration": 24,
        "start_time": "2024-01-06T20:33:55.788Z"
      },
      {
        "duration": 4,
        "start_time": "2024-01-06T20:33:55.813Z"
      },
      {
        "duration": 50,
        "start_time": "2024-01-06T20:33:55.818Z"
      },
      {
        "duration": 30,
        "start_time": "2024-01-06T20:33:55.869Z"
      },
      {
        "duration": 104,
        "start_time": "2024-01-06T20:33:55.900Z"
      },
      {
        "duration": 8,
        "start_time": "2024-01-06T20:33:56.005Z"
      },
      {
        "duration": 790,
        "start_time": "2024-01-06T20:33:56.014Z"
      },
      {
        "duration": 8,
        "start_time": "2024-01-06T20:33:56.805Z"
      },
      {
        "duration": 18,
        "start_time": "2024-01-06T20:33:56.814Z"
      },
      {
        "duration": 140,
        "start_time": "2024-01-06T20:33:56.833Z"
      },
      {
        "duration": 4,
        "start_time": "2024-01-06T20:33:56.975Z"
      },
      {
        "duration": 33,
        "start_time": "2024-01-06T20:33:56.980Z"
      },
      {
        "duration": 117,
        "start_time": "2024-01-06T20:33:57.014Z"
      },
      {
        "duration": 12,
        "start_time": "2024-01-06T20:33:57.133Z"
      },
      {
        "duration": 34,
        "start_time": "2024-01-06T20:33:57.146Z"
      },
      {
        "duration": 51,
        "start_time": "2024-01-06T20:33:57.181Z"
      },
      {
        "duration": 113,
        "start_time": "2024-01-06T20:33:57.234Z"
      },
      {
        "duration": 17,
        "start_time": "2024-01-06T20:33:57.349Z"
      },
      {
        "duration": 6,
        "start_time": "2024-01-06T20:33:57.367Z"
      },
      {
        "duration": 23,
        "start_time": "2024-01-06T20:33:57.374Z"
      },
      {
        "duration": 9,
        "start_time": "2024-01-06T20:33:57.399Z"
      },
      {
        "duration": 17,
        "start_time": "2024-01-06T20:33:57.410Z"
      },
      {
        "duration": 158,
        "start_time": "2024-01-06T20:33:57.428Z"
      },
      {
        "duration": 274,
        "start_time": "2024-01-06T20:33:57.588Z"
      },
      {
        "duration": 133,
        "start_time": "2024-01-06T20:33:57.863Z"
      },
      {
        "duration": 140,
        "start_time": "2024-01-06T20:33:57.998Z"
      },
      {
        "duration": 125,
        "start_time": "2024-01-06T20:33:58.140Z"
      },
      {
        "duration": 112,
        "start_time": "2024-01-06T20:33:58.266Z"
      },
      {
        "duration": 5,
        "start_time": "2024-01-06T20:33:58.379Z"
      },
      {
        "duration": 129,
        "start_time": "2024-01-06T20:33:58.385Z"
      },
      {
        "duration": 109,
        "start_time": "2024-01-06T20:33:58.515Z"
      },
      {
        "duration": 5,
        "start_time": "2024-01-06T20:33:58.625Z"
      },
      {
        "duration": 119,
        "start_time": "2024-01-06T20:33:58.631Z"
      },
      {
        "duration": 373,
        "start_time": "2024-01-06T20:33:58.755Z"
      },
      {
        "duration": 3101,
        "start_time": "2024-01-06T20:33:59.129Z"
      },
      {
        "duration": 10,
        "start_time": "2024-01-06T20:34:02.232Z"
      },
      {
        "duration": 16,
        "start_time": "2024-01-06T20:34:02.243Z"
      },
      {
        "duration": 3019,
        "start_time": "2024-01-06T20:34:02.260Z"
      },
      {
        "duration": 3,
        "start_time": "2024-01-06T20:34:05.280Z"
      },
      {
        "duration": 8,
        "start_time": "2024-01-06T20:34:05.284Z"
      },
      {
        "duration": 10,
        "start_time": "2024-01-06T20:34:05.293Z"
      },
      {
        "duration": 62,
        "start_time": "2024-01-06T20:34:05.305Z"
      },
      {
        "duration": 145,
        "start_time": "2024-01-06T20:34:05.369Z"
      },
      {
        "duration": 185437,
        "start_time": "2024-01-06T20:34:05.516Z"
      },
      {
        "duration": 192,
        "start_time": "2024-01-06T20:37:10.954Z"
      },
      {
        "duration": 93910,
        "start_time": "2024-01-06T20:37:11.148Z"
      },
      {
        "duration": 0,
        "start_time": "2024-01-06T20:38:45.060Z"
      },
      {
        "duration": 0,
        "start_time": "2024-01-06T20:38:45.062Z"
      },
      {
        "duration": 0,
        "start_time": "2024-01-06T20:38:45.063Z"
      },
      {
        "duration": 0,
        "start_time": "2024-01-06T20:38:45.064Z"
      },
      {
        "duration": 0,
        "start_time": "2024-01-06T20:38:45.066Z"
      },
      {
        "duration": 0,
        "start_time": "2024-01-06T20:38:45.067Z"
      },
      {
        "duration": 0,
        "start_time": "2024-01-06T20:38:45.068Z"
      },
      {
        "duration": 0,
        "start_time": "2024-01-06T20:38:45.070Z"
      },
      {
        "duration": 10,
        "start_time": "2024-01-06T20:38:47.415Z"
      },
      {
        "duration": 2714,
        "start_time": "2024-01-06T20:41:09.190Z"
      },
      {
        "duration": 2,
        "start_time": "2024-01-06T20:41:11.906Z"
      },
      {
        "duration": 34,
        "start_time": "2024-01-06T20:41:11.909Z"
      },
      {
        "duration": 73,
        "start_time": "2024-01-06T20:41:11.945Z"
      },
      {
        "duration": 231,
        "start_time": "2024-01-06T20:41:12.019Z"
      },
      {
        "duration": 2,
        "start_time": "2024-01-06T20:41:12.252Z"
      },
      {
        "duration": 60,
        "start_time": "2024-01-06T20:41:12.256Z"
      },
      {
        "duration": 43,
        "start_time": "2024-01-06T20:41:12.318Z"
      },
      {
        "duration": 33,
        "start_time": "2024-01-06T20:41:12.363Z"
      },
      {
        "duration": 41,
        "start_time": "2024-01-06T20:41:12.398Z"
      },
      {
        "duration": 52,
        "start_time": "2024-01-06T20:41:12.441Z"
      },
      {
        "duration": 33,
        "start_time": "2024-01-06T20:41:12.494Z"
      },
      {
        "duration": 24,
        "start_time": "2024-01-06T20:41:12.528Z"
      },
      {
        "duration": 35,
        "start_time": "2024-01-06T20:41:12.553Z"
      },
      {
        "duration": 101,
        "start_time": "2024-01-06T20:41:12.590Z"
      },
      {
        "duration": 26,
        "start_time": "2024-01-06T20:41:12.692Z"
      },
      {
        "duration": 38,
        "start_time": "2024-01-06T20:41:12.719Z"
      },
      {
        "duration": 70,
        "start_time": "2024-01-06T20:41:12.759Z"
      },
      {
        "duration": 23,
        "start_time": "2024-01-06T20:41:12.830Z"
      },
      {
        "duration": 53,
        "start_time": "2024-01-06T20:41:12.854Z"
      },
      {
        "duration": 54,
        "start_time": "2024-01-06T20:41:12.909Z"
      },
      {
        "duration": 50,
        "start_time": "2024-01-06T20:41:12.965Z"
      },
      {
        "duration": 21,
        "start_time": "2024-01-06T20:41:13.044Z"
      },
      {
        "duration": 57,
        "start_time": "2024-01-06T20:41:13.066Z"
      },
      {
        "duration": 46,
        "start_time": "2024-01-06T20:41:13.124Z"
      },
      {
        "duration": 77,
        "start_time": "2024-01-06T20:41:13.171Z"
      },
      {
        "duration": 23,
        "start_time": "2024-01-06T20:41:13.250Z"
      },
      {
        "duration": 18,
        "start_time": "2024-01-06T20:41:13.277Z"
      },
      {
        "duration": 62,
        "start_time": "2024-01-06T20:41:13.296Z"
      },
      {
        "duration": 10,
        "start_time": "2024-01-06T20:41:13.359Z"
      },
      {
        "duration": 80,
        "start_time": "2024-01-06T20:41:13.370Z"
      },
      {
        "duration": 323,
        "start_time": "2024-01-06T20:41:13.452Z"
      },
      {
        "duration": 6,
        "start_time": "2024-01-06T20:41:13.777Z"
      },
      {
        "duration": 70,
        "start_time": "2024-01-06T20:41:13.784Z"
      },
      {
        "duration": 43,
        "start_time": "2024-01-06T20:41:13.856Z"
      },
      {
        "duration": 198,
        "start_time": "2024-01-06T20:41:13.900Z"
      },
      {
        "duration": 6,
        "start_time": "2024-01-06T20:41:14.099Z"
      },
      {
        "duration": 51,
        "start_time": "2024-01-06T20:41:14.106Z"
      },
      {
        "duration": 41,
        "start_time": "2024-01-06T20:41:14.159Z"
      },
      {
        "duration": 14,
        "start_time": "2024-01-06T20:41:14.202Z"
      },
      {
        "duration": 6,
        "start_time": "2024-01-06T20:41:14.218Z"
      },
      {
        "duration": 29,
        "start_time": "2024-01-06T20:41:14.225Z"
      },
      {
        "duration": 10,
        "start_time": "2024-01-06T20:41:14.255Z"
      },
      {
        "duration": 13,
        "start_time": "2024-01-06T20:41:14.266Z"
      },
      {
        "duration": 6,
        "start_time": "2024-01-06T20:41:14.280Z"
      },
      {
        "duration": 10,
        "start_time": "2024-01-06T20:41:14.287Z"
      },
      {
        "duration": 19,
        "start_time": "2024-01-06T20:41:14.298Z"
      },
      {
        "duration": 13,
        "start_time": "2024-01-06T20:41:14.318Z"
      },
      {
        "duration": 34,
        "start_time": "2024-01-06T20:41:14.333Z"
      },
      {
        "duration": 3,
        "start_time": "2024-01-06T20:41:14.369Z"
      },
      {
        "duration": 6,
        "start_time": "2024-01-06T20:41:14.374Z"
      },
      {
        "duration": 17,
        "start_time": "2024-01-06T20:41:14.382Z"
      },
      {
        "duration": 115,
        "start_time": "2024-01-06T20:41:14.400Z"
      },
      {
        "duration": 7,
        "start_time": "2024-01-06T20:41:14.517Z"
      },
      {
        "duration": 779,
        "start_time": "2024-01-06T20:41:14.526Z"
      },
      {
        "duration": 9,
        "start_time": "2024-01-06T20:41:15.307Z"
      },
      {
        "duration": 33,
        "start_time": "2024-01-06T20:41:15.317Z"
      },
      {
        "duration": 180,
        "start_time": "2024-01-06T20:41:15.351Z"
      },
      {
        "duration": 12,
        "start_time": "2024-01-06T20:41:15.533Z"
      },
      {
        "duration": 26,
        "start_time": "2024-01-06T20:41:15.547Z"
      },
      {
        "duration": 131,
        "start_time": "2024-01-06T20:41:15.575Z"
      },
      {
        "duration": 6,
        "start_time": "2024-01-06T20:41:15.707Z"
      },
      {
        "duration": 25,
        "start_time": "2024-01-06T20:41:15.715Z"
      },
      {
        "duration": 24,
        "start_time": "2024-01-06T20:41:15.742Z"
      },
      {
        "duration": 124,
        "start_time": "2024-01-06T20:41:15.768Z"
      },
      {
        "duration": 17,
        "start_time": "2024-01-06T20:41:15.893Z"
      },
      {
        "duration": 10,
        "start_time": "2024-01-06T20:41:15.911Z"
      },
      {
        "duration": 24,
        "start_time": "2024-01-06T20:41:15.922Z"
      },
      {
        "duration": 18,
        "start_time": "2024-01-06T20:41:15.948Z"
      },
      {
        "duration": 29,
        "start_time": "2024-01-06T20:41:15.967Z"
      },
      {
        "duration": 167,
        "start_time": "2024-01-06T20:41:15.998Z"
      },
      {
        "duration": 261,
        "start_time": "2024-01-06T20:41:16.167Z"
      },
      {
        "duration": 127,
        "start_time": "2024-01-06T20:41:16.430Z"
      },
      {
        "duration": 143,
        "start_time": "2024-01-06T20:41:16.559Z"
      },
      {
        "duration": 117,
        "start_time": "2024-01-06T20:41:16.704Z"
      },
      {
        "duration": 111,
        "start_time": "2024-01-06T20:41:16.822Z"
      },
      {
        "duration": 12,
        "start_time": "2024-01-06T20:41:16.934Z"
      },
      {
        "duration": 130,
        "start_time": "2024-01-06T20:41:16.947Z"
      },
      {
        "duration": 114,
        "start_time": "2024-01-06T20:41:17.078Z"
      },
      {
        "duration": 5,
        "start_time": "2024-01-06T20:41:17.193Z"
      },
      {
        "duration": 138,
        "start_time": "2024-01-06T20:41:17.199Z"
      },
      {
        "duration": 3345,
        "start_time": "2024-01-06T20:41:17.345Z"
      },
      {
        "duration": 5,
        "start_time": "2024-01-06T20:41:20.692Z"
      },
      {
        "duration": 402,
        "start_time": "2024-01-06T20:41:20.699Z"
      },
      {
        "duration": 3180,
        "start_time": "2024-01-06T20:41:21.103Z"
      },
      {
        "duration": 5,
        "start_time": "2024-01-06T20:41:24.285Z"
      },
      {
        "duration": 48,
        "start_time": "2024-01-06T20:41:24.291Z"
      },
      {
        "duration": 33,
        "start_time": "2024-01-06T20:41:24.341Z"
      },
      {
        "duration": 27,
        "start_time": "2024-01-06T20:41:24.376Z"
      },
      {
        "duration": 59,
        "start_time": "2024-01-06T20:41:24.405Z"
      },
      {
        "duration": 139,
        "start_time": "2024-01-06T20:41:24.465Z"
      },
      {
        "duration": 311646,
        "start_time": "2024-01-06T20:41:24.606Z"
      },
      {
        "duration": 213,
        "start_time": "2024-01-06T20:46:36.253Z"
      },
      {
        "duration": 882279,
        "start_time": "2024-01-06T20:46:36.467Z"
      },
      {
        "duration": 0,
        "start_time": "2024-01-06T21:01:18.748Z"
      },
      {
        "duration": 0,
        "start_time": "2024-01-06T21:01:18.749Z"
      },
      {
        "duration": 0,
        "start_time": "2024-01-06T21:01:18.750Z"
      },
      {
        "duration": 0,
        "start_time": "2024-01-06T21:01:18.751Z"
      },
      {
        "duration": 0,
        "start_time": "2024-01-06T21:01:18.752Z"
      },
      {
        "duration": 0,
        "start_time": "2024-01-06T21:01:18.753Z"
      },
      {
        "duration": 0,
        "start_time": "2024-01-06T21:01:18.754Z"
      },
      {
        "duration": 839609,
        "start_time": "2024-01-06T21:01:25.659Z"
      },
      {
        "duration": 14,
        "start_time": "2024-01-06T21:15:38.173Z"
      },
      {
        "duration": 6,
        "start_time": "2024-01-06T21:15:43.692Z"
      },
      {
        "duration": 387415,
        "start_time": "2024-01-06T21:15:48.667Z"
      },
      {
        "duration": 148,
        "start_time": "2024-01-06T21:22:59.478Z"
      },
      {
        "duration": 6,
        "start_time": "2024-01-06T21:24:00.955Z"
      },
      {
        "duration": 16,
        "start_time": "2024-01-06T21:24:21.634Z"
      },
      {
        "duration": 15,
        "start_time": "2024-01-06T21:24:50.588Z"
      },
      {
        "duration": 14,
        "start_time": "2024-01-06T21:25:03.882Z"
      },
      {
        "duration": 12,
        "start_time": "2024-01-06T21:25:35.811Z"
      },
      {
        "duration": 2791,
        "start_time": "2024-01-06T21:26:07.101Z"
      },
      {
        "duration": 3,
        "start_time": "2024-01-06T21:26:09.893Z"
      },
      {
        "duration": 5,
        "start_time": "2024-01-06T21:26:09.897Z"
      },
      {
        "duration": 9,
        "start_time": "2024-01-06T21:26:09.904Z"
      },
      {
        "duration": 188,
        "start_time": "2024-01-06T21:26:09.914Z"
      },
      {
        "duration": 3,
        "start_time": "2024-01-06T21:26:10.103Z"
      },
      {
        "duration": 5,
        "start_time": "2024-01-06T21:26:10.107Z"
      },
      {
        "duration": 12,
        "start_time": "2024-01-06T21:26:10.113Z"
      },
      {
        "duration": 4,
        "start_time": "2024-01-06T21:26:10.126Z"
      },
      {
        "duration": 4,
        "start_time": "2024-01-06T21:26:10.132Z"
      },
      {
        "duration": 22,
        "start_time": "2024-01-06T21:26:10.138Z"
      },
      {
        "duration": 26,
        "start_time": "2024-01-06T21:26:10.161Z"
      },
      {
        "duration": 3,
        "start_time": "2024-01-06T21:26:10.188Z"
      },
      {
        "duration": 15,
        "start_time": "2024-01-06T21:26:10.192Z"
      },
      {
        "duration": 27,
        "start_time": "2024-01-06T21:26:10.208Z"
      },
      {
        "duration": 2,
        "start_time": "2024-01-06T21:26:10.236Z"
      },
      {
        "duration": 13,
        "start_time": "2024-01-06T21:26:10.239Z"
      },
      {
        "duration": 20,
        "start_time": "2024-01-06T21:26:10.253Z"
      },
      {
        "duration": 5,
        "start_time": "2024-01-06T21:26:10.274Z"
      },
      {
        "duration": 6,
        "start_time": "2024-01-06T21:26:10.280Z"
      },
      {
        "duration": 17,
        "start_time": "2024-01-06T21:26:10.288Z"
      },
      {
        "duration": 7,
        "start_time": "2024-01-06T21:26:10.306Z"
      },
      {
        "duration": 13,
        "start_time": "2024-01-06T21:26:10.314Z"
      },
      {
        "duration": 23,
        "start_time": "2024-01-06T21:26:10.328Z"
      },
      {
        "duration": 21,
        "start_time": "2024-01-06T21:26:10.352Z"
      },
      {
        "duration": 19,
        "start_time": "2024-01-06T21:26:10.374Z"
      },
      {
        "duration": 35,
        "start_time": "2024-01-06T21:26:10.394Z"
      },
      {
        "duration": 7,
        "start_time": "2024-01-06T21:26:10.432Z"
      },
      {
        "duration": 42,
        "start_time": "2024-01-06T21:26:10.440Z"
      },
      {
        "duration": 3,
        "start_time": "2024-01-06T21:26:10.484Z"
      },
      {
        "duration": 26,
        "start_time": "2024-01-06T21:26:10.489Z"
      },
      {
        "duration": 143,
        "start_time": "2024-01-06T21:26:10.516Z"
      },
      {
        "duration": 6,
        "start_time": "2024-01-06T21:26:10.660Z"
      },
      {
        "duration": 13,
        "start_time": "2024-01-06T21:26:10.667Z"
      },
      {
        "duration": 16,
        "start_time": "2024-01-06T21:26:10.681Z"
      },
      {
        "duration": 134,
        "start_time": "2024-01-06T21:26:10.698Z"
      },
      {
        "duration": 5,
        "start_time": "2024-01-06T21:26:10.833Z"
      },
      {
        "duration": 9,
        "start_time": "2024-01-06T21:26:10.839Z"
      },
      {
        "duration": 7,
        "start_time": "2024-01-06T21:26:10.849Z"
      },
      {
        "duration": 22,
        "start_time": "2024-01-06T21:26:10.858Z"
      },
      {
        "duration": 22,
        "start_time": "2024-01-06T21:26:10.882Z"
      },
      {
        "duration": 11,
        "start_time": "2024-01-06T21:26:10.905Z"
      },
      {
        "duration": 8,
        "start_time": "2024-01-06T21:26:10.918Z"
      },
      {
        "duration": 29,
        "start_time": "2024-01-06T21:26:10.927Z"
      },
      {
        "duration": 11,
        "start_time": "2024-01-06T21:26:10.958Z"
      },
      {
        "duration": 17,
        "start_time": "2024-01-06T21:26:10.970Z"
      },
      {
        "duration": 17,
        "start_time": "2024-01-06T21:26:10.988Z"
      },
      {
        "duration": 25,
        "start_time": "2024-01-06T21:26:11.006Z"
      },
      {
        "duration": 33,
        "start_time": "2024-01-06T21:26:11.033Z"
      },
      {
        "duration": 3,
        "start_time": "2024-01-06T21:26:11.068Z"
      },
      {
        "duration": 15,
        "start_time": "2024-01-06T21:26:11.073Z"
      },
      {
        "duration": 33,
        "start_time": "2024-01-06T21:26:11.090Z"
      },
      {
        "duration": 96,
        "start_time": "2024-01-06T21:26:11.124Z"
      },
      {
        "duration": 8,
        "start_time": "2024-01-06T21:26:11.222Z"
      },
      {
        "duration": 772,
        "start_time": "2024-01-06T21:26:11.231Z"
      },
      {
        "duration": 503,
        "start_time": "2024-01-06T21:26:12.004Z"
      },
      {
        "duration": 0,
        "start_time": "2024-01-06T21:26:12.509Z"
      },
      {
        "duration": 0,
        "start_time": "2024-01-06T21:26:12.510Z"
      },
      {
        "duration": 0,
        "start_time": "2024-01-06T21:26:12.511Z"
      },
      {
        "duration": 0,
        "start_time": "2024-01-06T21:26:12.512Z"
      },
      {
        "duration": 0,
        "start_time": "2024-01-06T21:26:12.513Z"
      },
      {
        "duration": 0,
        "start_time": "2024-01-06T21:26:12.514Z"
      },
      {
        "duration": 0,
        "start_time": "2024-01-06T21:26:12.515Z"
      },
      {
        "duration": 0,
        "start_time": "2024-01-06T21:26:12.515Z"
      },
      {
        "duration": 0,
        "start_time": "2024-01-06T21:26:12.516Z"
      },
      {
        "duration": 0,
        "start_time": "2024-01-06T21:26:12.517Z"
      },
      {
        "duration": 0,
        "start_time": "2024-01-06T21:26:12.518Z"
      },
      {
        "duration": 0,
        "start_time": "2024-01-06T21:26:12.519Z"
      },
      {
        "duration": 0,
        "start_time": "2024-01-06T21:26:12.520Z"
      },
      {
        "duration": 0,
        "start_time": "2024-01-06T21:26:12.520Z"
      },
      {
        "duration": 0,
        "start_time": "2024-01-06T21:26:12.521Z"
      },
      {
        "duration": 0,
        "start_time": "2024-01-06T21:26:12.522Z"
      },
      {
        "duration": 0,
        "start_time": "2024-01-06T21:26:12.523Z"
      },
      {
        "duration": 0,
        "start_time": "2024-01-06T21:26:12.523Z"
      },
      {
        "duration": 0,
        "start_time": "2024-01-06T21:26:12.524Z"
      },
      {
        "duration": 0,
        "start_time": "2024-01-06T21:26:12.525Z"
      },
      {
        "duration": 0,
        "start_time": "2024-01-06T21:26:12.526Z"
      },
      {
        "duration": 0,
        "start_time": "2024-01-06T21:26:12.527Z"
      },
      {
        "duration": 0,
        "start_time": "2024-01-06T21:26:12.528Z"
      },
      {
        "duration": 0,
        "start_time": "2024-01-06T21:26:12.529Z"
      },
      {
        "duration": 0,
        "start_time": "2024-01-06T21:26:12.530Z"
      },
      {
        "duration": 0,
        "start_time": "2024-01-06T21:26:12.531Z"
      },
      {
        "duration": 0,
        "start_time": "2024-01-06T21:26:12.532Z"
      },
      {
        "duration": 0,
        "start_time": "2024-01-06T21:26:12.533Z"
      },
      {
        "duration": 0,
        "start_time": "2024-01-06T21:26:12.534Z"
      },
      {
        "duration": 0,
        "start_time": "2024-01-06T21:26:12.535Z"
      },
      {
        "duration": 0,
        "start_time": "2024-01-06T21:26:12.536Z"
      },
      {
        "duration": 0,
        "start_time": "2024-01-06T21:26:12.537Z"
      },
      {
        "duration": 0,
        "start_time": "2024-01-06T21:26:12.538Z"
      },
      {
        "duration": 0,
        "start_time": "2024-01-06T21:26:12.539Z"
      },
      {
        "duration": 0,
        "start_time": "2024-01-06T21:26:12.540Z"
      },
      {
        "duration": 0,
        "start_time": "2024-01-06T21:26:12.541Z"
      },
      {
        "duration": 0,
        "start_time": "2024-01-06T21:26:12.542Z"
      },
      {
        "duration": 0,
        "start_time": "2024-01-06T21:26:12.543Z"
      },
      {
        "duration": 0,
        "start_time": "2024-01-06T21:26:12.544Z"
      },
      {
        "duration": 0,
        "start_time": "2024-01-06T21:26:12.545Z"
      },
      {
        "duration": 0,
        "start_time": "2024-01-06T21:26:12.546Z"
      },
      {
        "duration": 0,
        "start_time": "2024-01-06T21:26:12.547Z"
      },
      {
        "duration": 0,
        "start_time": "2024-01-06T21:26:12.548Z"
      },
      {
        "duration": 0,
        "start_time": "2024-01-06T21:26:12.548Z"
      },
      {
        "duration": 0,
        "start_time": "2024-01-06T21:26:12.549Z"
      },
      {
        "duration": 10,
        "start_time": "2024-01-06T21:26:51.199Z"
      },
      {
        "duration": 7,
        "start_time": "2024-01-06T21:26:55.720Z"
      },
      {
        "duration": 125,
        "start_time": "2024-01-06T21:27:02.435Z"
      },
      {
        "duration": 4,
        "start_time": "2024-01-06T21:27:03.334Z"
      },
      {
        "duration": 9,
        "start_time": "2024-01-06T21:27:03.566Z"
      },
      {
        "duration": 117,
        "start_time": "2024-01-06T21:27:03.774Z"
      },
      {
        "duration": 4,
        "start_time": "2024-01-06T21:27:04.626Z"
      },
      {
        "duration": 9,
        "start_time": "2024-01-06T21:27:06.768Z"
      },
      {
        "duration": 7,
        "start_time": "2024-01-06T21:27:06.999Z"
      },
      {
        "duration": 118,
        "start_time": "2024-01-06T21:27:07.240Z"
      },
      {
        "duration": 17,
        "start_time": "2024-01-06T21:27:10.715Z"
      },
      {
        "duration": 4,
        "start_time": "2024-01-06T21:27:11.176Z"
      },
      {
        "duration": 10,
        "start_time": "2024-01-06T21:27:11.960Z"
      },
      {
        "duration": 5,
        "start_time": "2024-01-06T21:27:12.571Z"
      },
      {
        "duration": 4,
        "start_time": "2024-01-06T21:27:13.042Z"
      },
      {
        "duration": 121,
        "start_time": "2024-01-06T21:27:14.805Z"
      },
      {
        "duration": 113,
        "start_time": "2024-01-06T21:27:15.917Z"
      },
      {
        "duration": 241,
        "start_time": "2024-01-06T21:27:16.291Z"
      },
      {
        "duration": 134,
        "start_time": "2024-01-06T21:27:16.895Z"
      },
      {
        "duration": 107,
        "start_time": "2024-01-06T21:27:17.386Z"
      },
      {
        "duration": 113,
        "start_time": "2024-01-06T21:27:17.845Z"
      },
      {
        "duration": 5,
        "start_time": "2024-01-06T21:27:18.917Z"
      },
      {
        "duration": 100,
        "start_time": "2024-01-06T21:27:18.963Z"
      },
      {
        "duration": 104,
        "start_time": "2024-01-06T21:27:19.065Z"
      },
      {
        "duration": 4,
        "start_time": "2024-01-06T21:27:19.911Z"
      },
      {
        "duration": 108,
        "start_time": "2024-01-06T21:27:19.955Z"
      },
      {
        "duration": 3171,
        "start_time": "2024-01-06T21:27:20.939Z"
      },
      {
        "duration": 4,
        "start_time": "2024-01-06T21:27:24.112Z"
      },
      {
        "duration": 398,
        "start_time": "2024-01-06T21:27:24.117Z"
      },
      {
        "duration": 2922,
        "start_time": "2024-01-06T21:27:24.517Z"
      },
      {
        "duration": 4,
        "start_time": "2024-01-06T21:28:12.907Z"
      },
      {
        "duration": 4,
        "start_time": "2024-01-06T21:28:39.757Z"
      },
      {
        "duration": 10,
        "start_time": "2024-01-06T21:28:42.514Z"
      },
      {
        "duration": 9,
        "start_time": "2024-01-06T21:28:50.317Z"
      },
      {
        "duration": 41,
        "start_time": "2024-01-06T21:28:58.327Z"
      },
      {
        "duration": 127,
        "start_time": "2024-01-06T21:29:01.774Z"
      },
      {
        "duration": 16810,
        "start_time": "2024-01-06T21:29:17.865Z"
      },
      {
        "duration": 32665,
        "start_time": "2024-01-06T21:29:46.296Z"
      },
      {
        "duration": 187489,
        "start_time": "2024-01-06T21:30:30.964Z"
      },
      {
        "duration": 8,
        "start_time": "2024-01-06T21:35:44.122Z"
      },
      {
        "duration": 126,
        "start_time": "2024-01-06T21:35:52.689Z"
      },
      {
        "duration": 55360,
        "start_time": "2024-01-06T21:36:16.690Z"
      },
      {
        "duration": 153056,
        "start_time": "2024-01-06T21:37:58.501Z"
      },
      {
        "duration": 10,
        "start_time": "2024-01-06T21:50:25.316Z"
      },
      {
        "duration": 8,
        "start_time": "2024-01-06T21:50:26.608Z"
      },
      {
        "duration": 6,
        "start_time": "2024-01-06T21:50:29.808Z"
      },
      {
        "duration": 137,
        "start_time": "2024-01-06T21:50:43.894Z"
      },
      {
        "duration": 134,
        "start_time": "2024-01-06T21:54:17.046Z"
      },
      {
        "duration": 134,
        "start_time": "2024-01-06T21:54:42.387Z"
      },
      {
        "duration": 149,
        "start_time": "2024-01-06T21:54:55.948Z"
      },
      {
        "duration": 145,
        "start_time": "2024-01-06T21:55:03.243Z"
      },
      {
        "duration": 139,
        "start_time": "2024-01-06T21:55:35.092Z"
      },
      {
        "duration": 5,
        "start_time": "2024-01-06T21:56:56.977Z"
      },
      {
        "duration": 2737,
        "start_time": "2024-01-06T21:59:23.726Z"
      },
      {
        "duration": 2,
        "start_time": "2024-01-06T21:59:26.465Z"
      },
      {
        "duration": 21,
        "start_time": "2024-01-06T21:59:26.469Z"
      },
      {
        "duration": 29,
        "start_time": "2024-01-06T21:59:26.492Z"
      },
      {
        "duration": 186,
        "start_time": "2024-01-06T21:59:26.523Z"
      },
      {
        "duration": 2,
        "start_time": "2024-01-06T21:59:26.710Z"
      },
      {
        "duration": 11,
        "start_time": "2024-01-06T21:59:26.714Z"
      },
      {
        "duration": 12,
        "start_time": "2024-01-06T21:59:26.726Z"
      },
      {
        "duration": 9,
        "start_time": "2024-01-06T21:59:26.740Z"
      },
      {
        "duration": 5,
        "start_time": "2024-01-06T21:59:26.751Z"
      },
      {
        "duration": 14,
        "start_time": "2024-01-06T21:59:26.757Z"
      },
      {
        "duration": 16,
        "start_time": "2024-01-06T21:59:26.773Z"
      },
      {
        "duration": 2,
        "start_time": "2024-01-06T21:59:26.790Z"
      },
      {
        "duration": 27,
        "start_time": "2024-01-06T21:59:26.794Z"
      },
      {
        "duration": 25,
        "start_time": "2024-01-06T21:59:26.822Z"
      },
      {
        "duration": 6,
        "start_time": "2024-01-06T21:59:26.849Z"
      },
      {
        "duration": 12,
        "start_time": "2024-01-06T21:59:26.857Z"
      },
      {
        "duration": 31,
        "start_time": "2024-01-06T21:59:26.870Z"
      },
      {
        "duration": 3,
        "start_time": "2024-01-06T21:59:26.903Z"
      },
      {
        "duration": 41,
        "start_time": "2024-01-06T21:59:26.907Z"
      },
      {
        "duration": 30,
        "start_time": "2024-01-06T21:59:26.950Z"
      },
      {
        "duration": 55,
        "start_time": "2024-01-06T21:59:26.981Z"
      },
      {
        "duration": 5,
        "start_time": "2024-01-06T21:59:27.037Z"
      },
      {
        "duration": 14,
        "start_time": "2024-01-06T21:59:27.043Z"
      },
      {
        "duration": 33,
        "start_time": "2024-01-06T21:59:27.059Z"
      },
      {
        "duration": 6,
        "start_time": "2024-01-06T21:59:27.093Z"
      },
      {
        "duration": 20,
        "start_time": "2024-01-06T21:59:27.100Z"
      },
      {
        "duration": 8,
        "start_time": "2024-01-06T21:59:27.123Z"
      },
      {
        "duration": 34,
        "start_time": "2024-01-06T21:59:27.132Z"
      },
      {
        "duration": 7,
        "start_time": "2024-01-06T21:59:27.168Z"
      },
      {
        "duration": 9,
        "start_time": "2024-01-06T21:59:27.176Z"
      },
      {
        "duration": 166,
        "start_time": "2024-01-06T21:59:27.186Z"
      },
      {
        "duration": 7,
        "start_time": "2024-01-06T21:59:27.354Z"
      },
      {
        "duration": 10,
        "start_time": "2024-01-06T21:59:27.362Z"
      },
      {
        "duration": 8,
        "start_time": "2024-01-06T21:59:27.374Z"
      },
      {
        "duration": 138,
        "start_time": "2024-01-06T21:59:27.384Z"
      },
      {
        "duration": 5,
        "start_time": "2024-01-06T21:59:27.524Z"
      },
      {
        "duration": 18,
        "start_time": "2024-01-06T21:59:27.531Z"
      },
      {
        "duration": 6,
        "start_time": "2024-01-06T21:59:27.551Z"
      },
      {
        "duration": 4,
        "start_time": "2024-01-06T21:59:27.558Z"
      },
      {
        "duration": 11,
        "start_time": "2024-01-06T21:59:27.563Z"
      },
      {
        "duration": 19,
        "start_time": "2024-01-06T21:59:27.575Z"
      },
      {
        "duration": 9,
        "start_time": "2024-01-06T21:59:27.596Z"
      },
      {
        "duration": 6,
        "start_time": "2024-01-06T21:59:27.606Z"
      },
      {
        "duration": 5,
        "start_time": "2024-01-06T21:59:27.614Z"
      },
      {
        "duration": 26,
        "start_time": "2024-01-06T21:59:27.620Z"
      },
      {
        "duration": 10,
        "start_time": "2024-01-06T21:59:27.647Z"
      },
      {
        "duration": 9,
        "start_time": "2024-01-06T21:59:27.659Z"
      },
      {
        "duration": 25,
        "start_time": "2024-01-06T21:59:27.669Z"
      },
      {
        "duration": 4,
        "start_time": "2024-01-06T21:59:27.695Z"
      },
      {
        "duration": 6,
        "start_time": "2024-01-06T21:59:27.700Z"
      },
      {
        "duration": 38,
        "start_time": "2024-01-06T21:59:27.707Z"
      },
      {
        "duration": 105,
        "start_time": "2024-01-06T21:59:27.747Z"
      },
      {
        "duration": 7,
        "start_time": "2024-01-06T21:59:27.853Z"
      },
      {
        "duration": 847,
        "start_time": "2024-01-06T21:59:27.861Z"
      },
      {
        "duration": 9,
        "start_time": "2024-01-06T21:59:28.709Z"
      },
      {
        "duration": 23,
        "start_time": "2024-01-06T21:59:28.719Z"
      },
      {
        "duration": 133,
        "start_time": "2024-01-06T21:59:28.743Z"
      },
      {
        "duration": 4,
        "start_time": "2024-01-06T21:59:28.877Z"
      },
      {
        "duration": 27,
        "start_time": "2024-01-06T21:59:28.882Z"
      },
      {
        "duration": 109,
        "start_time": "2024-01-06T21:59:28.910Z"
      },
      {
        "duration": 4,
        "start_time": "2024-01-06T21:59:29.020Z"
      },
      {
        "duration": 21,
        "start_time": "2024-01-06T21:59:29.025Z"
      },
      {
        "duration": 10,
        "start_time": "2024-01-06T21:59:29.047Z"
      },
      {
        "duration": 105,
        "start_time": "2024-01-06T21:59:29.058Z"
      },
      {
        "duration": 15,
        "start_time": "2024-01-06T21:59:29.164Z"
      },
      {
        "duration": 13,
        "start_time": "2024-01-06T21:59:29.180Z"
      },
      {
        "duration": 13,
        "start_time": "2024-01-06T21:59:29.194Z"
      },
      {
        "duration": 9,
        "start_time": "2024-01-06T21:59:29.209Z"
      },
      {
        "duration": 9,
        "start_time": "2024-01-06T21:59:29.219Z"
      },
      {
        "duration": 143,
        "start_time": "2024-01-06T21:59:29.229Z"
      },
      {
        "duration": 256,
        "start_time": "2024-01-06T21:59:29.373Z"
      },
      {
        "duration": 125,
        "start_time": "2024-01-06T21:59:29.631Z"
      },
      {
        "duration": 141,
        "start_time": "2024-01-06T21:59:29.758Z"
      },
      {
        "duration": 118,
        "start_time": "2024-01-06T21:59:29.901Z"
      },
      {
        "duration": 115,
        "start_time": "2024-01-06T21:59:30.021Z"
      },
      {
        "duration": 8,
        "start_time": "2024-01-06T21:59:30.138Z"
      },
      {
        "duration": 207,
        "start_time": "2024-01-06T21:59:30.147Z"
      },
      {
        "duration": 108,
        "start_time": "2024-01-06T21:59:30.355Z"
      },
      {
        "duration": 4,
        "start_time": "2024-01-06T21:59:30.464Z"
      },
      {
        "duration": 148,
        "start_time": "2024-01-06T21:59:30.469Z"
      },
      {
        "duration": 3276,
        "start_time": "2024-01-06T21:59:30.622Z"
      },
      {
        "duration": 4,
        "start_time": "2024-01-06T21:59:33.900Z"
      },
      {
        "duration": 403,
        "start_time": "2024-01-06T21:59:33.905Z"
      },
      {
        "duration": 3128,
        "start_time": "2024-01-06T21:59:34.309Z"
      },
      {
        "duration": 9,
        "start_time": "2024-01-06T21:59:37.439Z"
      },
      {
        "duration": 29,
        "start_time": "2024-01-06T21:59:37.450Z"
      },
      {
        "duration": 10,
        "start_time": "2024-01-06T21:59:37.481Z"
      },
      {
        "duration": 8,
        "start_time": "2024-01-06T21:59:37.493Z"
      },
      {
        "duration": 43,
        "start_time": "2024-01-06T21:59:37.502Z"
      },
      {
        "duration": 156,
        "start_time": "2024-01-06T21:59:37.546Z"
      },
      {
        "duration": 236,
        "start_time": "2024-01-06T21:59:37.703Z"
      },
      {
        "duration": 0,
        "start_time": "2024-01-06T21:59:37.940Z"
      },
      {
        "duration": 0,
        "start_time": "2024-01-06T21:59:37.941Z"
      },
      {
        "duration": 0,
        "start_time": "2024-01-06T21:59:37.945Z"
      },
      {
        "duration": 0,
        "start_time": "2024-01-06T21:59:37.945Z"
      },
      {
        "duration": 0,
        "start_time": "2024-01-06T21:59:37.947Z"
      },
      {
        "duration": 0,
        "start_time": "2024-01-06T21:59:37.948Z"
      },
      {
        "duration": 0,
        "start_time": "2024-01-06T21:59:37.948Z"
      },
      {
        "duration": 0,
        "start_time": "2024-01-06T21:59:37.949Z"
      },
      {
        "duration": 0,
        "start_time": "2024-01-06T21:59:37.950Z"
      },
      {
        "duration": 0,
        "start_time": "2024-01-06T21:59:37.951Z"
      },
      {
        "duration": 0,
        "start_time": "2024-01-06T21:59:37.952Z"
      },
      {
        "duration": 2860,
        "start_time": "2024-01-06T22:01:35.348Z"
      },
      {
        "duration": 3,
        "start_time": "2024-01-06T22:01:38.211Z"
      },
      {
        "duration": 5,
        "start_time": "2024-01-06T22:01:38.215Z"
      },
      {
        "duration": 5,
        "start_time": "2024-01-06T22:01:38.223Z"
      },
      {
        "duration": 213,
        "start_time": "2024-01-06T22:01:38.229Z"
      },
      {
        "duration": 3,
        "start_time": "2024-01-06T22:01:38.443Z"
      },
      {
        "duration": 8,
        "start_time": "2024-01-06T22:01:38.447Z"
      },
      {
        "duration": 11,
        "start_time": "2024-01-06T22:01:38.456Z"
      },
      {
        "duration": 4,
        "start_time": "2024-01-06T22:01:38.468Z"
      },
      {
        "duration": 8,
        "start_time": "2024-01-06T22:01:38.475Z"
      },
      {
        "duration": 17,
        "start_time": "2024-01-06T22:01:38.484Z"
      },
      {
        "duration": 19,
        "start_time": "2024-01-06T22:01:38.502Z"
      },
      {
        "duration": 23,
        "start_time": "2024-01-06T22:01:38.522Z"
      },
      {
        "duration": 8,
        "start_time": "2024-01-06T22:01:38.546Z"
      },
      {
        "duration": 22,
        "start_time": "2024-01-06T22:01:38.555Z"
      },
      {
        "duration": 2,
        "start_time": "2024-01-06T22:01:38.579Z"
      },
      {
        "duration": 11,
        "start_time": "2024-01-06T22:01:38.583Z"
      },
      {
        "duration": 59,
        "start_time": "2024-01-06T22:01:38.595Z"
      },
      {
        "duration": 2,
        "start_time": "2024-01-06T22:01:38.656Z"
      },
      {
        "duration": 6,
        "start_time": "2024-01-06T22:01:38.660Z"
      },
      {
        "duration": 13,
        "start_time": "2024-01-06T22:01:38.667Z"
      },
      {
        "duration": 64,
        "start_time": "2024-01-06T22:01:38.681Z"
      },
      {
        "duration": 4,
        "start_time": "2024-01-06T22:01:38.747Z"
      },
      {
        "duration": 18,
        "start_time": "2024-01-06T22:01:38.752Z"
      },
      {
        "duration": 15,
        "start_time": "2024-01-06T22:01:38.772Z"
      },
      {
        "duration": 62,
        "start_time": "2024-01-06T22:01:38.789Z"
      },
      {
        "duration": 18,
        "start_time": "2024-01-06T22:01:38.853Z"
      },
      {
        "duration": 10,
        "start_time": "2024-01-06T22:01:38.875Z"
      },
      {
        "duration": 71,
        "start_time": "2024-01-06T22:01:38.887Z"
      },
      {
        "duration": 2,
        "start_time": "2024-01-06T22:01:38.960Z"
      },
      {
        "duration": 10,
        "start_time": "2024-01-06T22:01:38.964Z"
      },
      {
        "duration": 294,
        "start_time": "2024-01-06T22:01:38.975Z"
      },
      {
        "duration": 6,
        "start_time": "2024-01-06T22:01:39.270Z"
      },
      {
        "duration": 4,
        "start_time": "2024-01-06T22:01:39.278Z"
      },
      {
        "duration": 5,
        "start_time": "2024-01-06T22:01:39.284Z"
      },
      {
        "duration": 230,
        "start_time": "2024-01-06T22:01:39.344Z"
      },
      {
        "duration": 5,
        "start_time": "2024-01-06T22:01:39.575Z"
      },
      {
        "duration": 8,
        "start_time": "2024-01-06T22:01:39.581Z"
      },
      {
        "duration": 56,
        "start_time": "2024-01-06T22:01:39.590Z"
      },
      {
        "duration": 4,
        "start_time": "2024-01-06T22:01:39.648Z"
      },
      {
        "duration": 5,
        "start_time": "2024-01-06T22:01:39.654Z"
      },
      {
        "duration": 18,
        "start_time": "2024-01-06T22:01:39.661Z"
      },
      {
        "duration": 14,
        "start_time": "2024-01-06T22:01:39.681Z"
      },
      {
        "duration": 6,
        "start_time": "2024-01-06T22:01:39.744Z"
      },
      {
        "duration": 5,
        "start_time": "2024-01-06T22:01:39.752Z"
      },
      {
        "duration": 2,
        "start_time": "2024-01-06T22:01:39.758Z"
      },
      {
        "duration": 8,
        "start_time": "2024-01-06T22:01:39.762Z"
      },
      {
        "duration": 11,
        "start_time": "2024-01-06T22:01:39.771Z"
      },
      {
        "duration": 81,
        "start_time": "2024-01-06T22:01:39.784Z"
      },
      {
        "duration": 3,
        "start_time": "2024-01-06T22:01:39.866Z"
      },
      {
        "duration": 25,
        "start_time": "2024-01-06T22:01:39.871Z"
      },
      {
        "duration": 64,
        "start_time": "2024-01-06T22:01:39.898Z"
      },
      {
        "duration": 221,
        "start_time": "2024-01-06T22:01:39.963Z"
      },
      {
        "duration": 61,
        "start_time": "2024-01-06T22:01:40.186Z"
      },
      {
        "duration": 899,
        "start_time": "2024-01-06T22:01:40.248Z"
      },
      {
        "duration": 10,
        "start_time": "2024-01-06T22:01:41.149Z"
      },
      {
        "duration": 7,
        "start_time": "2024-01-06T22:01:41.161Z"
      },
      {
        "duration": 148,
        "start_time": "2024-01-06T22:01:41.169Z"
      },
      {
        "duration": 4,
        "start_time": "2024-01-06T22:01:41.319Z"
      },
      {
        "duration": 23,
        "start_time": "2024-01-06T22:01:41.324Z"
      },
      {
        "duration": 125,
        "start_time": "2024-01-06T22:01:41.349Z"
      },
      {
        "duration": 4,
        "start_time": "2024-01-06T22:01:41.476Z"
      },
      {
        "duration": 17,
        "start_time": "2024-01-06T22:01:41.482Z"
      },
      {
        "duration": 12,
        "start_time": "2024-01-06T22:01:41.500Z"
      },
      {
        "duration": 121,
        "start_time": "2024-01-06T22:01:41.513Z"
      },
      {
        "duration": 18,
        "start_time": "2024-01-06T22:01:41.636Z"
      },
      {
        "duration": 12,
        "start_time": "2024-01-06T22:01:41.656Z"
      },
      {
        "duration": 26,
        "start_time": "2024-01-06T22:01:41.669Z"
      },
      {
        "duration": 23,
        "start_time": "2024-01-06T22:01:41.697Z"
      },
      {
        "duration": 14,
        "start_time": "2024-01-06T22:01:41.721Z"
      },
      {
        "duration": 138,
        "start_time": "2024-01-06T22:01:41.737Z"
      },
      {
        "duration": 272,
        "start_time": "2024-01-06T22:01:41.877Z"
      },
      {
        "duration": 136,
        "start_time": "2024-01-06T22:01:42.150Z"
      },
      {
        "duration": 152,
        "start_time": "2024-01-06T22:01:42.287Z"
      },
      {
        "duration": 122,
        "start_time": "2024-01-06T22:01:42.445Z"
      },
      {
        "duration": 119,
        "start_time": "2024-01-06T22:01:42.569Z"
      },
      {
        "duration": 5,
        "start_time": "2024-01-06T22:01:42.689Z"
      },
      {
        "duration": 117,
        "start_time": "2024-01-06T22:01:42.695Z"
      },
      {
        "duration": 123,
        "start_time": "2024-01-06T22:01:42.813Z"
      },
      {
        "duration": 10,
        "start_time": "2024-01-06T22:01:42.937Z"
      },
      {
        "duration": 122,
        "start_time": "2024-01-06T22:01:42.948Z"
      },
      {
        "duration": 3314,
        "start_time": "2024-01-06T22:01:43.076Z"
      },
      {
        "duration": 5,
        "start_time": "2024-01-06T22:01:46.391Z"
      },
      {
        "duration": 380,
        "start_time": "2024-01-06T22:01:46.397Z"
      },
      {
        "duration": 3066,
        "start_time": "2024-01-06T22:01:46.779Z"
      },
      {
        "duration": 5,
        "start_time": "2024-01-06T22:01:49.846Z"
      },
      {
        "duration": 19,
        "start_time": "2024-01-06T22:01:49.852Z"
      },
      {
        "duration": 13,
        "start_time": "2024-01-06T22:01:49.872Z"
      },
      {
        "duration": 9,
        "start_time": "2024-01-06T22:01:49.886Z"
      },
      {
        "duration": 71,
        "start_time": "2024-01-06T22:01:49.896Z"
      },
      {
        "duration": 296,
        "start_time": "2024-01-06T22:01:49.968Z"
      },
      {
        "duration": 245,
        "start_time": "2024-01-06T22:01:50.265Z"
      },
      {
        "duration": 0,
        "start_time": "2024-01-06T22:01:50.512Z"
      },
      {
        "duration": 0,
        "start_time": "2024-01-06T22:01:50.513Z"
      },
      {
        "duration": 0,
        "start_time": "2024-01-06T22:01:50.514Z"
      },
      {
        "duration": 0,
        "start_time": "2024-01-06T22:01:50.515Z"
      },
      {
        "duration": 0,
        "start_time": "2024-01-06T22:01:50.516Z"
      },
      {
        "duration": 0,
        "start_time": "2024-01-06T22:01:50.517Z"
      },
      {
        "duration": 0,
        "start_time": "2024-01-06T22:01:50.518Z"
      },
      {
        "duration": 0,
        "start_time": "2024-01-06T22:01:50.519Z"
      },
      {
        "duration": 0,
        "start_time": "2024-01-06T22:01:50.520Z"
      },
      {
        "duration": 0,
        "start_time": "2024-01-06T22:01:50.520Z"
      },
      {
        "duration": 0,
        "start_time": "2024-01-06T22:01:50.521Z"
      },
      {
        "duration": 2852,
        "start_time": "2024-01-06T22:03:30.855Z"
      },
      {
        "duration": 2,
        "start_time": "2024-01-06T22:03:33.709Z"
      },
      {
        "duration": 47,
        "start_time": "2024-01-06T22:03:33.712Z"
      },
      {
        "duration": 245,
        "start_time": "2024-01-06T22:03:33.761Z"
      },
      {
        "duration": 240,
        "start_time": "2024-01-06T22:03:34.008Z"
      },
      {
        "duration": 94,
        "start_time": "2024-01-06T22:03:34.249Z"
      },
      {
        "duration": 384,
        "start_time": "2024-01-06T22:03:34.344Z"
      },
      {
        "duration": 191,
        "start_time": "2024-01-06T22:03:34.729Z"
      },
      {
        "duration": 202,
        "start_time": "2024-01-06T22:03:34.921Z"
      },
      {
        "duration": 46,
        "start_time": "2024-01-06T22:03:35.126Z"
      },
      {
        "duration": 34,
        "start_time": "2024-01-06T22:03:35.174Z"
      },
      {
        "duration": 45,
        "start_time": "2024-01-06T22:03:35.210Z"
      },
      {
        "duration": 14,
        "start_time": "2024-01-06T22:03:35.256Z"
      },
      {
        "duration": 49,
        "start_time": "2024-01-06T22:03:35.271Z"
      },
      {
        "duration": 37,
        "start_time": "2024-01-06T22:03:35.321Z"
      },
      {
        "duration": 16,
        "start_time": "2024-01-06T22:03:35.359Z"
      },
      {
        "duration": 42,
        "start_time": "2024-01-06T22:03:35.377Z"
      },
      {
        "duration": 52,
        "start_time": "2024-01-06T22:03:35.420Z"
      },
      {
        "duration": 24,
        "start_time": "2024-01-06T22:03:35.473Z"
      },
      {
        "duration": 13,
        "start_time": "2024-01-06T22:03:35.499Z"
      },
      {
        "duration": 34,
        "start_time": "2024-01-06T22:03:35.514Z"
      },
      {
        "duration": 33,
        "start_time": "2024-01-06T22:03:35.550Z"
      },
      {
        "duration": 16,
        "start_time": "2024-01-06T22:03:35.585Z"
      },
      {
        "duration": 26,
        "start_time": "2024-01-06T22:03:35.602Z"
      },
      {
        "duration": 47,
        "start_time": "2024-01-06T22:03:35.629Z"
      },
      {
        "duration": 38,
        "start_time": "2024-01-06T22:03:35.677Z"
      },
      {
        "duration": 28,
        "start_time": "2024-01-06T22:03:35.717Z"
      },
      {
        "duration": 24,
        "start_time": "2024-01-06T22:03:35.749Z"
      },
      {
        "duration": 40,
        "start_time": "2024-01-06T22:03:35.774Z"
      },
      {
        "duration": 3,
        "start_time": "2024-01-06T22:03:35.815Z"
      },
      {
        "duration": 14,
        "start_time": "2024-01-06T22:03:35.819Z"
      },
      {
        "duration": 143,
        "start_time": "2024-01-06T22:03:35.835Z"
      },
      {
        "duration": 6,
        "start_time": "2024-01-06T22:03:35.979Z"
      },
      {
        "duration": 96,
        "start_time": "2024-01-06T22:03:35.986Z"
      },
      {
        "duration": 45,
        "start_time": "2024-01-06T22:03:36.083Z"
      },
      {
        "duration": 144,
        "start_time": "2024-01-06T22:03:36.130Z"
      },
      {
        "duration": 5,
        "start_time": "2024-01-06T22:03:36.275Z"
      },
      {
        "duration": 15,
        "start_time": "2024-01-06T22:03:36.282Z"
      },
      {
        "duration": 21,
        "start_time": "2024-01-06T22:03:36.298Z"
      },
      {
        "duration": 35,
        "start_time": "2024-01-06T22:03:36.320Z"
      },
      {
        "duration": 5,
        "start_time": "2024-01-06T22:03:36.356Z"
      },
      {
        "duration": 18,
        "start_time": "2024-01-06T22:03:36.362Z"
      },
      {
        "duration": 10,
        "start_time": "2024-01-06T22:03:36.381Z"
      },
      {
        "duration": 11,
        "start_time": "2024-01-06T22:03:36.392Z"
      },
      {
        "duration": 13,
        "start_time": "2024-01-06T22:03:36.404Z"
      },
      {
        "duration": 5,
        "start_time": "2024-01-06T22:03:36.418Z"
      },
      {
        "duration": 14,
        "start_time": "2024-01-06T22:03:36.424Z"
      },
      {
        "duration": 18,
        "start_time": "2024-01-06T22:03:36.439Z"
      },
      {
        "duration": 31,
        "start_time": "2024-01-06T22:03:36.459Z"
      },
      {
        "duration": 4,
        "start_time": "2024-01-06T22:03:36.492Z"
      },
      {
        "duration": 8,
        "start_time": "2024-01-06T22:03:36.497Z"
      },
      {
        "duration": 31,
        "start_time": "2024-01-06T22:03:36.507Z"
      },
      {
        "duration": 107,
        "start_time": "2024-01-06T22:03:36.539Z"
      },
      {
        "duration": 8,
        "start_time": "2024-01-06T22:03:36.648Z"
      },
      {
        "duration": 839,
        "start_time": "2024-01-06T22:03:36.658Z"
      },
      {
        "duration": 9,
        "start_time": "2024-01-06T22:03:37.498Z"
      },
      {
        "duration": 9,
        "start_time": "2024-01-06T22:03:37.508Z"
      },
      {
        "duration": 167,
        "start_time": "2024-01-06T22:03:37.518Z"
      },
      {
        "duration": 5,
        "start_time": "2024-01-06T22:03:37.687Z"
      },
      {
        "duration": 11,
        "start_time": "2024-01-06T22:03:37.693Z"
      },
      {
        "duration": 145,
        "start_time": "2024-01-06T22:03:37.705Z"
      },
      {
        "duration": 6,
        "start_time": "2024-01-06T22:03:37.852Z"
      },
      {
        "duration": 11,
        "start_time": "2024-01-06T22:03:37.859Z"
      },
      {
        "duration": 49,
        "start_time": "2024-01-06T22:03:37.871Z"
      },
      {
        "duration": 129,
        "start_time": "2024-01-06T22:03:37.921Z"
      },
      {
        "duration": 16,
        "start_time": "2024-01-06T22:03:38.052Z"
      },
      {
        "duration": 5,
        "start_time": "2024-01-06T22:03:38.069Z"
      },
      {
        "duration": 28,
        "start_time": "2024-01-06T22:03:38.075Z"
      },
      {
        "duration": 5,
        "start_time": "2024-01-06T22:03:38.104Z"
      },
      {
        "duration": 17,
        "start_time": "2024-01-06T22:03:38.110Z"
      },
      {
        "duration": 163,
        "start_time": "2024-01-06T22:03:38.129Z"
      },
      {
        "duration": 266,
        "start_time": "2024-01-06T22:03:38.293Z"
      },
      {
        "duration": 123,
        "start_time": "2024-01-06T22:03:38.560Z"
      },
      {
        "duration": 150,
        "start_time": "2024-01-06T22:03:38.685Z"
      },
      {
        "duration": 122,
        "start_time": "2024-01-06T22:03:38.837Z"
      },
      {
        "duration": 117,
        "start_time": "2024-01-06T22:03:38.961Z"
      },
      {
        "duration": 191,
        "start_time": "2024-01-06T22:03:39.080Z"
      },
      {
        "duration": 181,
        "start_time": "2024-01-06T22:03:39.273Z"
      },
      {
        "duration": 123,
        "start_time": "2024-01-06T22:03:39.456Z"
      },
      {
        "duration": 5,
        "start_time": "2024-01-06T22:03:39.581Z"
      },
      {
        "duration": 124,
        "start_time": "2024-01-06T22:03:39.587Z"
      },
      {
        "duration": 3457,
        "start_time": "2024-01-06T22:03:39.717Z"
      },
      {
        "duration": 7,
        "start_time": "2024-01-06T22:03:43.176Z"
      },
      {
        "duration": 453,
        "start_time": "2024-01-06T22:03:43.184Z"
      },
      {
        "duration": 3306,
        "start_time": "2024-01-06T22:03:43.639Z"
      },
      {
        "duration": 7,
        "start_time": "2024-01-06T22:03:46.946Z"
      },
      {
        "duration": 8,
        "start_time": "2024-01-06T22:03:46.954Z"
      },
      {
        "duration": 15,
        "start_time": "2024-01-06T22:03:46.963Z"
      },
      {
        "duration": 8,
        "start_time": "2024-01-06T22:03:46.980Z"
      },
      {
        "duration": 61,
        "start_time": "2024-01-06T22:03:46.990Z"
      },
      {
        "duration": 156,
        "start_time": "2024-01-06T22:03:47.052Z"
      },
      {
        "duration": 593940,
        "start_time": "2024-01-06T22:03:47.210Z"
      },
      {
        "duration": 203,
        "start_time": "2024-01-06T22:13:41.152Z"
      },
      {
        "duration": 623402,
        "start_time": "2024-01-06T22:13:41.357Z"
      },
      {
        "duration": 185,
        "start_time": "2024-01-06T22:24:04.760Z"
      },
      {
        "duration": 352110,
        "start_time": "2024-01-06T22:24:04.946Z"
      },
      {
        "duration": 173,
        "start_time": "2024-01-06T22:29:57.057Z"
      },
      {
        "duration": 26,
        "start_time": "2024-01-06T22:29:57.232Z"
      },
      {
        "duration": 35,
        "start_time": "2024-01-06T22:29:57.260Z"
      },
      {
        "duration": 56,
        "start_time": "2024-01-06T22:29:57.296Z"
      },
      {
        "duration": 10,
        "start_time": "2024-01-06T22:29:57.354Z"
      },
      {
        "duration": 5,
        "start_time": "2024-01-06T22:29:57.365Z"
      },
      {
        "duration": 160,
        "start_time": "2024-01-06T22:33:40.599Z"
      },
      {
        "duration": 9,
        "start_time": "2024-01-06T22:34:12.188Z"
      },
      {
        "duration": 147,
        "start_time": "2024-01-06T22:35:42.750Z"
      },
      {
        "duration": 5,
        "start_time": "2024-01-06T22:36:22.509Z"
      },
      {
        "duration": 258,
        "start_time": "2024-01-06T22:37:21.624Z"
      },
      {
        "duration": 925,
        "start_time": "2024-01-06T22:37:26.542Z"
      },
      {
        "duration": 966,
        "start_time": "2024-01-06T22:37:33.631Z"
      },
      {
        "duration": 5,
        "start_time": "2024-01-06T22:37:44.483Z"
      },
      {
        "duration": 9,
        "start_time": "2024-01-06T22:38:31.360Z"
      },
      {
        "duration": 10,
        "start_time": "2024-01-06T22:38:59.536Z"
      },
      {
        "duration": 143,
        "start_time": "2024-01-06T22:40:17.441Z"
      },
      {
        "duration": 148,
        "start_time": "2024-01-06T22:42:28.788Z"
      },
      {
        "duration": 71,
        "start_time": "2024-01-06T22:48:21.430Z"
      },
      {
        "duration": 2891,
        "start_time": "2024-01-06T23:02:07.718Z"
      },
      {
        "duration": 3,
        "start_time": "2024-01-06T23:02:10.611Z"
      },
      {
        "duration": 19,
        "start_time": "2024-01-06T23:02:10.615Z"
      },
      {
        "duration": 18,
        "start_time": "2024-01-06T23:02:10.636Z"
      },
      {
        "duration": 227,
        "start_time": "2024-01-06T23:02:10.655Z"
      },
      {
        "duration": 3,
        "start_time": "2024-01-06T23:02:10.883Z"
      },
      {
        "duration": 29,
        "start_time": "2024-01-06T23:02:10.887Z"
      },
      {
        "duration": 11,
        "start_time": "2024-01-06T23:02:10.945Z"
      },
      {
        "duration": 15,
        "start_time": "2024-01-06T23:02:10.957Z"
      },
      {
        "duration": 29,
        "start_time": "2024-01-06T23:02:10.974Z"
      },
      {
        "duration": 43,
        "start_time": "2024-01-06T23:02:11.004Z"
      },
      {
        "duration": 34,
        "start_time": "2024-01-06T23:02:11.049Z"
      },
      {
        "duration": 6,
        "start_time": "2024-01-06T23:02:11.084Z"
      },
      {
        "duration": 54,
        "start_time": "2024-01-06T23:02:11.092Z"
      },
      {
        "duration": 48,
        "start_time": "2024-01-06T23:02:11.148Z"
      },
      {
        "duration": 9,
        "start_time": "2024-01-06T23:02:11.197Z"
      },
      {
        "duration": 11,
        "start_time": "2024-01-06T23:02:11.245Z"
      },
      {
        "duration": 28,
        "start_time": "2024-01-06T23:02:11.257Z"
      },
      {
        "duration": 4,
        "start_time": "2024-01-06T23:02:11.286Z"
      },
      {
        "duration": 55,
        "start_time": "2024-01-06T23:02:11.291Z"
      },
      {
        "duration": 12,
        "start_time": "2024-01-06T23:02:11.347Z"
      },
      {
        "duration": 14,
        "start_time": "2024-01-06T23:02:11.360Z"
      },
      {
        "duration": 24,
        "start_time": "2024-01-06T23:02:11.375Z"
      },
      {
        "duration": 52,
        "start_time": "2024-01-06T23:02:11.401Z"
      },
      {
        "duration": 30,
        "start_time": "2024-01-06T23:02:11.454Z"
      },
      {
        "duration": 59,
        "start_time": "2024-01-06T23:02:11.486Z"
      },
      {
        "duration": 24,
        "start_time": "2024-01-06T23:02:11.547Z"
      },
      {
        "duration": 69,
        "start_time": "2024-01-06T23:02:11.577Z"
      },
      {
        "duration": 32,
        "start_time": "2024-01-06T23:02:11.647Z"
      },
      {
        "duration": 3,
        "start_time": "2024-01-06T23:02:11.681Z"
      },
      {
        "duration": 8,
        "start_time": "2024-01-06T23:02:11.686Z"
      },
      {
        "duration": 278,
        "start_time": "2024-01-06T23:02:11.695Z"
      },
      {
        "duration": 6,
        "start_time": "2024-01-06T23:02:11.975Z"
      },
      {
        "duration": 4,
        "start_time": "2024-01-06T23:02:11.982Z"
      },
      {
        "duration": 5,
        "start_time": "2024-01-06T23:02:11.987Z"
      },
      {
        "duration": 137,
        "start_time": "2024-01-06T23:02:11.993Z"
      },
      {
        "duration": 5,
        "start_time": "2024-01-06T23:02:12.132Z"
      },
      {
        "duration": 7,
        "start_time": "2024-01-06T23:02:12.145Z"
      },
      {
        "duration": 11,
        "start_time": "2024-01-06T23:02:12.153Z"
      },
      {
        "duration": 4,
        "start_time": "2024-01-06T23:02:12.165Z"
      },
      {
        "duration": 4,
        "start_time": "2024-01-06T23:02:12.171Z"
      },
      {
        "duration": 12,
        "start_time": "2024-01-06T23:02:12.177Z"
      },
      {
        "duration": 10,
        "start_time": "2024-01-06T23:02:12.190Z"
      },
      {
        "duration": 8,
        "start_time": "2024-01-06T23:02:12.202Z"
      },
      {
        "duration": 5,
        "start_time": "2024-01-06T23:02:12.211Z"
      },
      {
        "duration": 3,
        "start_time": "2024-01-06T23:02:12.217Z"
      },
      {
        "duration": 6,
        "start_time": "2024-01-06T23:02:12.245Z"
      },
      {
        "duration": 7,
        "start_time": "2024-01-06T23:02:12.252Z"
      },
      {
        "duration": 24,
        "start_time": "2024-01-06T23:02:12.260Z"
      },
      {
        "duration": 3,
        "start_time": "2024-01-06T23:02:12.285Z"
      },
      {
        "duration": 6,
        "start_time": "2024-01-06T23:02:12.289Z"
      },
      {
        "duration": 34,
        "start_time": "2024-01-06T23:02:12.295Z"
      },
      {
        "duration": 103,
        "start_time": "2024-01-06T23:02:12.345Z"
      },
      {
        "duration": 7,
        "start_time": "2024-01-06T23:02:12.449Z"
      },
      {
        "duration": 770,
        "start_time": "2024-01-06T23:02:12.458Z"
      },
      {
        "duration": 16,
        "start_time": "2024-01-06T23:02:13.229Z"
      },
      {
        "duration": 8,
        "start_time": "2024-01-06T23:02:13.246Z"
      },
      {
        "duration": 138,
        "start_time": "2024-01-06T23:02:13.255Z"
      },
      {
        "duration": 4,
        "start_time": "2024-01-06T23:02:13.395Z"
      },
      {
        "duration": 12,
        "start_time": "2024-01-06T23:02:13.400Z"
      },
      {
        "duration": 118,
        "start_time": "2024-01-06T23:02:13.413Z"
      },
      {
        "duration": 4,
        "start_time": "2024-01-06T23:02:13.532Z"
      },
      {
        "duration": 17,
        "start_time": "2024-01-06T23:02:13.537Z"
      },
      {
        "duration": 62,
        "start_time": "2024-01-06T23:02:13.556Z"
      },
      {
        "duration": 121,
        "start_time": "2024-01-06T23:02:13.619Z"
      },
      {
        "duration": 16,
        "start_time": "2024-01-06T23:02:13.741Z"
      },
      {
        "duration": 4,
        "start_time": "2024-01-06T23:02:13.758Z"
      },
      {
        "duration": 11,
        "start_time": "2024-01-06T23:02:13.763Z"
      },
      {
        "duration": 6,
        "start_time": "2024-01-06T23:02:13.775Z"
      },
      {
        "duration": 17,
        "start_time": "2024-01-06T23:02:13.782Z"
      },
      {
        "duration": 159,
        "start_time": "2024-01-06T23:02:13.800Z"
      },
      {
        "duration": 249,
        "start_time": "2024-01-06T23:02:13.960Z"
      },
      {
        "duration": 135,
        "start_time": "2024-01-06T23:02:14.211Z"
      },
      {
        "duration": 147,
        "start_time": "2024-01-06T23:02:14.348Z"
      },
      {
        "duration": 112,
        "start_time": "2024-01-06T23:02:14.497Z"
      },
      {
        "duration": 109,
        "start_time": "2024-01-06T23:02:14.610Z"
      },
      {
        "duration": 4,
        "start_time": "2024-01-06T23:02:14.721Z"
      },
      {
        "duration": 119,
        "start_time": "2024-01-06T23:02:14.726Z"
      },
      {
        "duration": 106,
        "start_time": "2024-01-06T23:02:14.846Z"
      },
      {
        "duration": 4,
        "start_time": "2024-01-06T23:02:14.954Z"
      },
      {
        "duration": 135,
        "start_time": "2024-01-06T23:02:14.959Z"
      },
      {
        "duration": 3452,
        "start_time": "2024-01-06T23:02:15.098Z"
      },
      {
        "duration": 5,
        "start_time": "2024-01-06T23:02:18.552Z"
      },
      {
        "duration": 387,
        "start_time": "2024-01-06T23:02:18.558Z"
      },
      {
        "duration": 3120,
        "start_time": "2024-01-06T23:02:18.946Z"
      },
      {
        "duration": 5,
        "start_time": "2024-01-06T23:02:22.067Z"
      },
      {
        "duration": 13,
        "start_time": "2024-01-06T23:02:22.073Z"
      },
      {
        "duration": 27,
        "start_time": "2024-01-06T23:02:22.087Z"
      },
      {
        "duration": 19,
        "start_time": "2024-01-06T23:02:22.115Z"
      },
      {
        "duration": 58,
        "start_time": "2024-01-06T23:02:22.135Z"
      },
      {
        "duration": 127,
        "start_time": "2024-01-06T23:02:22.195Z"
      },
      {
        "duration": 495428,
        "start_time": "2024-01-06T23:02:22.324Z"
      },
      {
        "duration": 190,
        "start_time": "2024-01-06T23:10:37.753Z"
      },
      {
        "duration": 621410,
        "start_time": "2024-01-06T23:10:37.944Z"
      },
      {
        "duration": 174,
        "start_time": "2024-01-06T23:20:59.356Z"
      },
      {
        "duration": 341164,
        "start_time": "2024-01-06T23:20:59.531Z"
      },
      {
        "duration": 55,
        "start_time": "2024-01-06T23:26:40.697Z"
      },
      {
        "duration": 206,
        "start_time": "2024-01-06T23:26:40.754Z"
      },
      {
        "duration": 4,
        "start_time": "2024-01-06T23:26:40.962Z"
      },
      {
        "duration": 19,
        "start_time": "2024-01-06T23:26:40.968Z"
      },
      {
        "duration": 35,
        "start_time": "2024-01-06T23:26:40.988Z"
      },
      {
        "duration": 63,
        "start_time": "2024-01-06T23:26:41.024Z"
      },
      {
        "duration": 36,
        "start_time": "2024-01-06T23:26:41.089Z"
      },
      {
        "duration": 77,
        "start_time": "2024-01-06T23:40:45.799Z"
      },
      {
        "duration": 5617,
        "start_time": "2024-01-07T17:20:07.409Z"
      },
      {
        "duration": 3,
        "start_time": "2024-01-07T17:20:13.028Z"
      },
      {
        "duration": 16,
        "start_time": "2024-01-07T17:20:13.032Z"
      },
      {
        "duration": 7,
        "start_time": "2024-01-07T17:20:13.050Z"
      },
      {
        "duration": 522,
        "start_time": "2024-01-07T17:20:13.059Z"
      },
      {
        "duration": 2,
        "start_time": "2024-01-07T17:20:14.046Z"
      },
      {
        "duration": 4,
        "start_time": "2024-01-07T17:20:16.957Z"
      },
      {
        "duration": 12,
        "start_time": "2024-01-07T17:20:17.572Z"
      },
      {
        "duration": 5,
        "start_time": "2024-01-07T17:20:18.022Z"
      },
      {
        "duration": 5,
        "start_time": "2024-01-07T17:20:18.128Z"
      },
      {
        "duration": 10,
        "start_time": "2024-01-07T17:20:18.345Z"
      },
      {
        "duration": 22,
        "start_time": "2024-01-07T17:20:18.932Z"
      },
      {
        "duration": 3,
        "start_time": "2024-01-07T17:20:19.608Z"
      },
      {
        "duration": 8,
        "start_time": "2024-01-07T17:20:20.785Z"
      },
      {
        "duration": 24,
        "start_time": "2024-01-07T17:20:21.278Z"
      },
      {
        "duration": 4,
        "start_time": "2024-01-07T17:20:21.531Z"
      },
      {
        "duration": 12,
        "start_time": "2024-01-07T17:20:22.132Z"
      },
      {
        "duration": 23,
        "start_time": "2024-01-07T17:20:22.359Z"
      },
      {
        "duration": 3,
        "start_time": "2024-01-07T17:20:22.758Z"
      },
      {
        "duration": 6,
        "start_time": "2024-01-07T17:20:23.094Z"
      },
      {
        "duration": 17,
        "start_time": "2024-01-07T17:20:23.498Z"
      },
      {
        "duration": 10,
        "start_time": "2024-01-07T17:20:23.668Z"
      },
      {
        "duration": 5,
        "start_time": "2024-01-07T17:20:23.883Z"
      },
      {
        "duration": 7,
        "start_time": "2024-01-07T17:20:24.083Z"
      },
      {
        "duration": 17,
        "start_time": "2024-01-07T17:20:24.250Z"
      },
      {
        "duration": 7,
        "start_time": "2024-01-07T17:20:24.805Z"
      },
      {
        "duration": 21,
        "start_time": "2024-01-07T17:20:25.031Z"
      },
      {
        "duration": 10,
        "start_time": "2024-01-07T17:20:25.227Z"
      },
      {
        "duration": 19,
        "start_time": "2024-01-07T17:20:25.421Z"
      },
      {
        "duration": 3,
        "start_time": "2024-01-07T17:20:28.140Z"
      },
      {
        "duration": 8,
        "start_time": "2024-01-07T17:20:29.617Z"
      },
      {
        "duration": 166,
        "start_time": "2024-01-07T17:20:29.879Z"
      },
      {
        "duration": 7,
        "start_time": "2024-01-07T17:20:30.124Z"
      },
      {
        "duration": 5,
        "start_time": "2024-01-07T17:20:31.115Z"
      },
      {
        "duration": 6,
        "start_time": "2024-01-07T17:20:31.478Z"
      },
      {
        "duration": 197,
        "start_time": "2024-01-07T17:20:31.686Z"
      },
      {
        "duration": 5,
        "start_time": "2024-01-07T17:20:32.582Z"
      },
      {
        "duration": 8,
        "start_time": "2024-01-07T17:20:32.936Z"
      },
      {
        "duration": 7,
        "start_time": "2024-01-07T17:20:33.528Z"
      },
      {
        "duration": 5,
        "start_time": "2024-01-07T17:20:33.725Z"
      },
      {
        "duration": 6,
        "start_time": "2024-01-07T17:20:33.904Z"
      },
      {
        "duration": 12,
        "start_time": "2024-01-07T17:20:34.096Z"
      },
      {
        "duration": 10,
        "start_time": "2024-01-07T17:20:34.600Z"
      },
      {
        "duration": 8,
        "start_time": "2024-01-07T17:20:34.798Z"
      },
      {
        "duration": 6,
        "start_time": "2024-01-07T17:20:35.016Z"
      },
      {
        "duration": 3,
        "start_time": "2024-01-07T17:20:35.230Z"
      },
      {
        "duration": 7,
        "start_time": "2024-01-07T17:20:35.426Z"
      },
      {
        "duration": 7,
        "start_time": "2024-01-07T17:20:35.627Z"
      },
      {
        "duration": 27,
        "start_time": "2024-01-07T17:20:36.177Z"
      },
      {
        "duration": 5,
        "start_time": "2024-01-07T17:20:36.966Z"
      },
      {
        "duration": 4,
        "start_time": "2024-01-07T17:20:37.596Z"
      },
      {
        "duration": 20,
        "start_time": "2024-01-07T17:20:39.738Z"
      },
      {
        "duration": 126,
        "start_time": "2024-01-07T17:20:40.539Z"
      },
      {
        "duration": 8,
        "start_time": "2024-01-07T17:20:41.059Z"
      },
      {
        "duration": 989,
        "start_time": "2024-01-07T17:20:41.264Z"
      },
      {
        "duration": 10,
        "start_time": "2024-01-07T17:20:42.255Z"
      },
      {
        "duration": 9,
        "start_time": "2024-01-07T17:20:42.604Z"
      },
      {
        "duration": 156,
        "start_time": "2024-01-07T17:20:44.060Z"
      },
      {
        "duration": 4,
        "start_time": "2024-01-07T17:20:44.670Z"
      },
      {
        "duration": 11,
        "start_time": "2024-01-07T17:20:44.841Z"
      },
      {
        "duration": 129,
        "start_time": "2024-01-07T17:20:45.061Z"
      },
      {
        "duration": 4,
        "start_time": "2024-01-07T17:20:45.239Z"
      },
      {
        "duration": 10,
        "start_time": "2024-01-07T17:20:45.426Z"
      },
      {
        "duration": 7,
        "start_time": "2024-01-07T17:20:45.649Z"
      },
      {
        "duration": 120,
        "start_time": "2024-01-07T17:20:45.821Z"
      }
    ],
    "toc": {
      "base_numbering": 1,
      "nav_menu": {},
      "number_sections": true,
      "sideBar": true,
      "skip_h1_title": true,
      "title_cell": "Table of Contents",
      "title_sidebar": "Contents",
      "toc_cell": true,
      "toc_position": {
        "height": "calc(100% - 180px)",
        "left": "10px",
        "top": "150px",
        "width": "242px"
      },
      "toc_section_display": true,
      "toc_window_display": true
    }
  },
  "nbformat_minor": 5,
  "nbformat": 4,
  "cells": [
    {
      "id": "4f8d414e",
      "cell_type": "markdown",
      "source": "<h1>Table of Contents<span class=\"tocSkip\"></span></h1>\n<div class=\"toc\"><ul class=\"toc-item\"><li><span><a href=\"#Описание-проекта:\" data-toc-modified-id=\"Описание-проекта:-1\"><span class=\"toc-item-num\">1&nbsp;&nbsp;</span>Описание проекта:</a></span></li><li><span><a href=\"#Загрузка-данных\" data-toc-modified-id=\"Загрузка-данных-2\"><span class=\"toc-item-num\">2&nbsp;&nbsp;</span>Загрузка данных</a></span></li><li><span><a href=\"#Исследовательский-анализ-и-предобработка-данных\" data-toc-modified-id=\"Исследовательский-анализ-и-предобработка-данных-3\"><span class=\"toc-item-num\">3&nbsp;&nbsp;</span>Исследовательский анализ и предобработка данных</a></span><ul class=\"toc-item\"><li><span><a href=\"#Работа-с-таблицей-data_temp\" data-toc-modified-id=\"Работа-с-таблицей-data_temp-3.1\"><span class=\"toc-item-num\">3.1&nbsp;&nbsp;</span>Работа с таблицей <code>data_temp</code></a></span></li><li><span><a href=\"#Работа-с-таблицей-data_arc\" data-toc-modified-id=\"Работа-с-таблицей-data_arc-3.2\"><span class=\"toc-item-num\">3.2&nbsp;&nbsp;</span>Работа с таблицей <code>data_arc</code></a></span></li><li><span><a href=\"#Работа-с-таблицей-data_gas\" data-toc-modified-id=\"Работа-с-таблицей-data_gas-3.3\"><span class=\"toc-item-num\">3.3&nbsp;&nbsp;</span>Работа с таблицей <code>data_gas</code></a></span></li><li><span><a href=\"#Работа-с-bulk-и-wire\" data-toc-modified-id=\"Работа-с-bulk-и-wire-3.4\"><span class=\"toc-item-num\">3.4&nbsp;&nbsp;</span>Работа с <code>bulk</code> и <code>wire</code></a></span></li></ul></li><li><span><a href=\"#Объединение-данных\" data-toc-modified-id=\"Объединение-данных-4\"><span class=\"toc-item-num\">4&nbsp;&nbsp;</span>Объединение данных</a></span></li><li><span><a href=\"#Исследовательский-анализ-и-предобработка-данных-объединённого-датафрейма\" data-toc-modified-id=\"Исследовательский-анализ-и-предобработка-данных-объединённого-датафрейма-5\"><span class=\"toc-item-num\">5&nbsp;&nbsp;</span>Исследовательский анализ и предобработка данных объединённого датафрейма</a></span></li><li><span><a href=\"#Подготовка-данных\" data-toc-modified-id=\"Подготовка-данных-6\"><span class=\"toc-item-num\">6&nbsp;&nbsp;</span>Подготовка данных</a></span></li><li><span><a href=\"#Обучение-моделей-машинного-обучения\" data-toc-modified-id=\"Обучение-моделей-машинного-обучения-7\"><span class=\"toc-item-num\">7&nbsp;&nbsp;</span>Обучение моделей машинного обучения</a></span><ul class=\"toc-item\"><li><span><a href=\"#Обучение-линейной-регрессии-с-SGD\" data-toc-modified-id=\"Обучение-линейной-регрессии-с-SGD-7.1\"><span class=\"toc-item-num\">7.1&nbsp;&nbsp;</span>Обучение линейной регрессии с SGD</a></span></li><li><span><a href=\"#Обучение-LightGBM\" data-toc-modified-id=\"Обучение-LightGBM-7.2\"><span class=\"toc-item-num\">7.2&nbsp;&nbsp;</span>Обучение LightGBM</a></span></li><li><span><a href=\"#Обучение-XGB\" data-toc-modified-id=\"Обучение-XGB-7.3\"><span class=\"toc-item-num\">7.3&nbsp;&nbsp;</span>Обучение XGB</a></span></li><li><span><a href=\"#Обучение-нейросети\" data-toc-modified-id=\"Обучение-нейросети-7.4\"><span class=\"toc-item-num\">7.4&nbsp;&nbsp;</span>Обучение нейросети</a></span></li></ul></li><li><span><a href=\"#Выбор-лучшей-модели\" data-toc-modified-id=\"Выбор-лучшей-модели-8\"><span class=\"toc-item-num\">8&nbsp;&nbsp;</span>Выбор лучшей модели</a></span></li><li><span><a href=\"#Общий-вывод-и-рекомендации-заказчику\" data-toc-modified-id=\"Общий-вывод-и-рекомендации-заказчику-9\"><span class=\"toc-item-num\">9&nbsp;&nbsp;</span>Общий вывод и рекомендации заказчику</a></span></li></ul></div>",
      "metadata": {
        "toc": true
      }
    },
    {
      "id": "6525d377",
      "cell_type": "markdown",
      "source": "# Проект промышленность",
      "metadata": {}
    },
    {
      "id": "d140825b",
      "cell_type": "markdown",
      "source": "## Описание проекта: \nЧтобы оптимизировать производственные расходы, металлургический комбинат «Стальная птица» решил уменьшить потребление электроэнергии на этапе обработки стали. Для этого комбинату нужно контролировать температуру сплава. Ваша задача — построить модель, которая будет её предсказывать. \nЗаказчик хочет использовать разработанную модель для имитации технологического процесса.",
      "metadata": {}
    },
    {
      "id": "89a6298a",
      "cell_type": "markdown",
      "source": "Описание этапа обработки\n\n- Сталь обрабатывают в металлическом ковше вместимостью около 100 тонн. Чтобы ковш выдерживал высокие температуры, изнутри его облицовывают огнеупорным кирпичом. Расплавленную сталь заливают в ковш и подогревают до нужной температуры графитовыми электродами. Они установлены в крышке ковша. \n- Из сплава выводится сера (этот процесс — десульфурация), добавлением примесей корректируется химический состав и отбираются пробы. Сталь легируют — изменяют её состав — подавая куски сплава из бункера для сыпучих материалов или проволоку через специальный трайб-аппарат (от англ. tribe — «масса»).\n- Перед тем как первый раз ввести легирующие добавки, измеряют температуру стали и производят её химический анализ. Потом температуру на несколько минут повышают, добавляют легирующие материалы и продувают сплав инертным газом. Затем его перемешивают и снова проводят измерения. Такой цикл повторяется до достижения целевого химического состава и оптимальной температуры плавки.\n- Тогда расплавленная сталь отправляется на доводку металла или поступает в машину непрерывной разливки. Оттуда готовый продукт выходит в виде заготовок-слябов (от англ. slab — «плита»).",
      "metadata": {}
    },
    {
      "id": "8e076265",
      "cell_type": "markdown",
      "source": "Описание данных\n\nДанные состоят из нескольких файлов, полученных из разных источников:\n- data_arc_new.csv — данные об электродах;\n- data_bulk_new.csv — данные о подаче сыпучих материалов (объём);\n- data_bulk_time_new.csv — данные о подаче сыпучих материалов (время);\n- data_gas_new.csv — данные о продувке сплава газом;\n- data_temp_new.csv — результаты измерения температуры;\n- data_wire_new.csv — данные о проволочных материалах (объём);\n- data_wire_time_new.csv — данные о проволочных материалах (время).",
      "metadata": {}
    },
    {
      "id": "c64e22df",
      "cell_type": "code",
      "source": "import os\nfrom IPython.display import display\nimport pandas as pd\nimport matplotlib.pyplot as plt\nimport seaborn as sns\nimport numpy as np\n#import statistics\n#import math\nimport warnings\nfrom datetime import datetime\nimport lightgbm as lgb\nimport xgboost as xgb\n\nfrom sklearn.model_selection import train_test_split, cross_val_score, GridSearchCV\nfrom sklearn.metrics import mean_squared_error, mean_absolute_error \nfrom sklearn.preprocessing import StandardScaler\n#from sklearn.linear_model import LinearRegression\n#from sklearn.ensemble import RandomForestRegressor\nfrom sklearn.dummy import DummyRegressor\nfrom sklearn.linear_model import SGDRegressor\n#from sklearn.preprocessing import OneHotEncoder, OrdinalEncoder\n\nfrom tensorflow import keras\nfrom tensorflow.keras.optimizers import Adam\nfrom keras.models import Sequential\nfrom keras.layers import Dense, Dropout\n\nwarnings.filterwarnings('ignore')",
      "metadata": {},
      "outputs": [],
      "execution_count": 1
    },
    {
      "id": "ea409c72",
      "cell_type": "code",
      "source": "R_STATE = 281223",
      "metadata": {},
      "outputs": [],
      "execution_count": 2
    },
    {
      "id": "db44ff58",
      "cell_type": "markdown",
      "source": "<a id=\"Модель\">Функция модели</a>",
      "metadata": {}
    },
    {
      "id": "9d7ba5f3",
      "cell_type": "code",
      "source": "def model(features, target, param_grid, regr):\n    # Создание модели и настройка с использованием решетчатого поиска \n    model = GridSearchCV(regr, param_grid, cv=5,  n_jobs=-1, scoring='neg_mean_absolute_error')\n    start_time = datetime.now()\n    model.fit(features, target)\n    end_1_time = datetime.now()\n    #predictions = model.predict(features)\n    #end_2_time = datetime.now() \n    print('Время обучения модели:', end_1_time - start_time, 'секунд')\n    #print('Время предсказания модели:', end_2_time - end_1_time, 'секунд')\n    print(\"Best Hyperparameters:\", model.best_params_)\n    print(\"Best Cross-Validation Score:\", abs(model.best_score_))\n    return model.best_params_, abs(model.best_score_), model.best_estimator_ ",
      "metadata": {},
      "outputs": [],
      "execution_count": 3
    },
    {
      "id": "e66ed6a3",
      "cell_type": "code",
      "source": "def feature_importances(model):\n    importances = model.feature_importances_\n    importances = pd.Series(importances, index=features_test.columns).sort_values(ascending = False)\n    importances = importances/importances.sum()\n    print(importances)\n    fig, ax = plt.subplots()\n    importances.plot.bar(ax=ax)\n    ax.set_title('Feature importances')\n    ax.set_ylabel(\"feature_importances\")",
      "metadata": {},
      "outputs": [],
      "execution_count": 4
    },
    {
      "id": "d3caa513",
      "cell_type": "markdown",
      "source": "## Загрузка данных\n**Загрузите данные и выполните их первичный осмотр.**",
      "metadata": {}
    },
    {
      "id": "a39b52d4",
      "cell_type": "code",
      "source": "pth_arc = '/datasets/data_arc_new.csv'\npth_bulk = '/datasets/data_bulk_new.csv'\npth_bulk_time = '/datasets/data_bulk_time_new.csv'\npth_gas = '/datasets/data_gas_new.csv'\npth_temp = '/datasets/data_temp_new.csv'\npth_wire = '/datasets/data_wire_new.csv'\npth_wire_time = '/datasets/data_wire_time_new.csv'\n\npth_arc2 = 'C:/Users/мой компьютер/Desktop/Яндекс/ML/Финальный проект/datasets/data_arc_new.csv'\npth_bulk2 = 'C:/Users/мой компьютер/Desktop/Яндекс/ML/Финальный проект/datasets/data_bulk_new.csv'\npth_bulk_time2 = 'C:/Users/мой компьютер/Desktop/Яндекс/ML/Финальный проект/datasets/data_bulk_time_new.csv'\npth_gas2 = 'C:/Users/мой компьютер/Desktop/Яндекс/ML/Финальный проект/datasets/data_gas_new.csv'\npth_temp2 = 'C:/Users/мой компьютер/Desktop/Яндекс/ML/Финальный проект/datasets/data_temp_new.csv'\npth_wire2 = 'C:/Users/мой компьютер/Desktop/Яндекс/ML/Финальный проект/datasets/data_wire_new.csv'\npth_wire_time2 = 'C:/Users/мой компьютер/Desktop/Яндекс/ML/Финальный проект/datasets/data_wire_time_new.csv'\n\nif os.path.exists(pth_arc) :\n    data_arc = pd.read_csv(pth_arc)\nelif os.path.exists(pth_arc2):\n    data_arc = pd.read_csv(pth_arc2)\nelse:\n    print('Ошибка в считывании данных из источников {} и {}'.format(pth_arc, pth_arc2))\n    \nif os.path.exists(pth_bulk):\n    data_bulk = pd.read_csv(pth_bulk)\nelif os.path.exists(pth_arc2):\n    data_bulk = pd.read_csv(pth_bulk2)\nelse:\n    print('Ошибка в считывании данных из источников {} и {}'.format(pth_bulk, pth_bulk2)) \n    \nif os.path.exists(pth_bulk_time):\n    data_bulk_time = pd.read_csv(pth_bulk_time)\nelif os.path.exists(pth_bulk_time2):\n    data_bulk_time = pd.read_csv(pth_bulk_time2)    \nelse:\n    print('Ошибка в считывании данных из источников {} и {}'.format(pth_bulk_time, pth_bulk_time2)) \n    \nif os.path.exists(pth_gas) :\n    data_gas = pd.read_csv(pth_gas)\nelif os.path.exists(pth_gas2):\n    data_gas = pd.read_csv(pth_gas2)    \nelse:\n    print('Ошибка в считывании данных из источников {} и {}'.format(pth_gas, pth_gas2)) \n    \nif os.path.exists(pth_temp):\n    data_temp = pd.read_csv(pth_temp)\nelif os.path.exists(pth_temp2):\n    data_temp = pd.read_csv(pth_temp2)    \nelse:\n    print('Ошибка в считывании данных из источников {} и {}'.format(pth_temp, pth_temp2)) \n    \nif os.path.exists(pth_wire):\n    data_wire = pd.read_csv(pth_wire)  \nelif os.path.exists(pth_wire2):\n    data_wire = pd.read_csv(pth_wire2)    \nelse:\n    print('Ошибка в считывании данных из источников {} и {}'.format(pth_wire, pth_wire2)) \n\nif os.path.exists(pth_wire_time):\n    data_wire_time = pd.read_csv(pth_wire_time)    \nelif os.path.exists(pth_wire2):\n    data_wire_time = pd.read_csv(pth_wire_time2)    \nelse:\n    print('Ошибка в считывании данных из источников {} и {}'.format(pth_wire_time, pth_wire_time2)) ",
      "metadata": {},
      "outputs": [],
      "execution_count": 5
    },
    {
      "id": "b94b3930",
      "cell_type": "code",
      "source": "lendata = len(data_wire)",
      "metadata": {},
      "outputs": [],
      "execution_count": 6
    },
    {
      "id": "d4c3feca",
      "cell_type": "markdown",
      "source": "**data_arc**",
      "metadata": {}
    },
    {
      "id": "8434ad1d",
      "cell_type": "code",
      "source": "data_arc = data_arc.rename(columns={'Начало нагрева дугой': 'heat_start', 'Конец нагрева дугой': 'heat_finish', 'Активная мощность': 'ap', 'Реактивная мощность': 'rp'})",
      "metadata": {},
      "outputs": [],
      "execution_count": 7
    },
    {
      "id": "39695609",
      "cell_type": "code",
      "source": "data_arc['heat_start'] = pd.to_datetime(data_arc['heat_start'])\ndata_arc['heat_finish'] = pd.to_datetime(data_arc['heat_finish'])",
      "metadata": {},
      "outputs": [],
      "execution_count": 8
    },
    {
      "id": "b40654a2",
      "cell_type": "code",
      "source": "data_arc['heat_delta'] = (data_arc['heat_finish'] - data_arc['heat_start']) /np.timedelta64 (1, 's')",
      "metadata": {},
      "outputs": [],
      "execution_count": 9
    },
    {
      "id": "0db97d3a",
      "cell_type": "code",
      "source": "data_arc.drop(['heat_start','heat_finish'], axis = 1, inplace= True)",
      "metadata": {},
      "outputs": [],
      "execution_count": 10
    },
    {
      "id": "22ebb802",
      "cell_type": "code",
      "source": "print('Дубликатов обнаружено', len(data_arc) - len(data_arc.drop_duplicates()))",
      "metadata": {},
      "outputs": [
        {
          "name": "stdout",
          "output_type": "stream",
          "text": [
            "Дубликатов обнаружено 0\n"
          ]
        }
      ],
      "execution_count": 11
    },
    {
      "id": "83c45177",
      "cell_type": "code",
      "source": "data_arc.info()\ndata_arc.head(7)",
      "metadata": {},
      "outputs": [
        {
          "name": "stdout",
          "output_type": "stream",
          "text": [
            "<class 'pandas.core.frame.DataFrame'>\n",
            "RangeIndex: 14876 entries, 0 to 14875\n",
            "Data columns (total 4 columns):\n",
            " #   Column      Non-Null Count  Dtype  \n",
            "---  ------      --------------  -----  \n",
            " 0   key         14876 non-null  int64  \n",
            " 1   ap          14876 non-null  float64\n",
            " 2   rp          14876 non-null  float64\n",
            " 3   heat_delta  14876 non-null  float64\n",
            "dtypes: float64(3), int64(1)\n",
            "memory usage: 465.0 KB\n"
          ]
        },
        {
          "data": {
            "text/html": [
              "<div>\n",
              "<style scoped>\n",
              "    .dataframe tbody tr th:only-of-type {\n",
              "        vertical-align: middle;\n",
              "    }\n",
              "\n",
              "    .dataframe tbody tr th {\n",
              "        vertical-align: top;\n",
              "    }\n",
              "\n",
              "    .dataframe thead th {\n",
              "        text-align: right;\n",
              "    }\n",
              "</style>\n",
              "<table border=\"1\" class=\"dataframe\">\n",
              "  <thead>\n",
              "    <tr style=\"text-align: right;\">\n",
              "      <th></th>\n",
              "      <th>key</th>\n",
              "      <th>ap</th>\n",
              "      <th>rp</th>\n",
              "      <th>heat_delta</th>\n",
              "    </tr>\n",
              "  </thead>\n",
              "  <tbody>\n",
              "    <tr>\n",
              "      <th>0</th>\n",
              "      <td>1</td>\n",
              "      <td>0.305130</td>\n",
              "      <td>0.211253</td>\n",
              "      <td>228.0</td>\n",
              "    </tr>\n",
              "    <tr>\n",
              "      <th>1</th>\n",
              "      <td>1</td>\n",
              "      <td>0.765658</td>\n",
              "      <td>0.477438</td>\n",
              "      <td>185.0</td>\n",
              "    </tr>\n",
              "    <tr>\n",
              "      <th>2</th>\n",
              "      <td>1</td>\n",
              "      <td>0.580313</td>\n",
              "      <td>0.430460</td>\n",
              "      <td>172.0</td>\n",
              "    </tr>\n",
              "    <tr>\n",
              "      <th>3</th>\n",
              "      <td>1</td>\n",
              "      <td>0.518496</td>\n",
              "      <td>0.379979</td>\n",
              "      <td>365.0</td>\n",
              "    </tr>\n",
              "    <tr>\n",
              "      <th>4</th>\n",
              "      <td>1</td>\n",
              "      <td>0.867133</td>\n",
              "      <td>0.643691</td>\n",
              "      <td>148.0</td>\n",
              "    </tr>\n",
              "    <tr>\n",
              "      <th>5</th>\n",
              "      <td>2</td>\n",
              "      <td>0.381124</td>\n",
              "      <td>0.220351</td>\n",
              "      <td>137.0</td>\n",
              "    </tr>\n",
              "    <tr>\n",
              "      <th>6</th>\n",
              "      <td>2</td>\n",
              "      <td>0.261665</td>\n",
              "      <td>0.205527</td>\n",
              "      <td>338.0</td>\n",
              "    </tr>\n",
              "  </tbody>\n",
              "</table>\n",
              "</div>"
            ],
            "text/plain": [
              "   key        ap        rp  heat_delta\n",
              "0    1  0.305130  0.211253       228.0\n",
              "1    1  0.765658  0.477438       185.0\n",
              "2    1  0.580313  0.430460       172.0\n",
              "3    1  0.518496  0.379979       365.0\n",
              "4    1  0.867133  0.643691       148.0\n",
              "5    2  0.381124  0.220351       137.0\n",
              "6    2  0.261665  0.205527       338.0"
            ]
          },
          "execution_count": 12,
          "metadata": {},
          "output_type": "execute_result"
        }
      ],
      "execution_count": 12
    },
    {
      "id": "33a726ea",
      "cell_type": "code",
      "source": "data_arc_copy = data_arc.copy()",
      "metadata": {},
      "outputs": [],
      "execution_count": 13
    },
    {
      "id": "08297b92",
      "cell_type": "markdown",
      "source": "**data_bulk и data_bulk_time**",
      "metadata": {}
    },
    {
      "id": "ba137f6b",
      "cell_type": "code",
      "source": "print('Дубликатов обнаружено', len(data_bulk) - len(data_bulk.drop_duplicates()))",
      "metadata": {},
      "outputs": [
        {
          "name": "stdout",
          "output_type": "stream",
          "text": [
            "Дубликатов обнаружено 0\n"
          ]
        }
      ],
      "execution_count": 14
    },
    {
      "id": "a78ea85f",
      "cell_type": "code",
      "source": "data_bulk.info()\ndata_bulk.head()",
      "metadata": {},
      "outputs": [
        {
          "name": "stdout",
          "output_type": "stream",
          "text": [
            "<class 'pandas.core.frame.DataFrame'>\n",
            "RangeIndex: 3129 entries, 0 to 3128\n",
            "Data columns (total 16 columns):\n",
            " #   Column   Non-Null Count  Dtype  \n",
            "---  ------   --------------  -----  \n",
            " 0   key      3129 non-null   int64  \n",
            " 1   Bulk 1   252 non-null    float64\n",
            " 2   Bulk 2   22 non-null     float64\n",
            " 3   Bulk 3   1298 non-null   float64\n",
            " 4   Bulk 4   1014 non-null   float64\n",
            " 5   Bulk 5   77 non-null     float64\n",
            " 6   Bulk 6   576 non-null    float64\n",
            " 7   Bulk 7   25 non-null     float64\n",
            " 8   Bulk 8   1 non-null      float64\n",
            " 9   Bulk 9   19 non-null     float64\n",
            " 10  Bulk 10  176 non-null    float64\n",
            " 11  Bulk 11  177 non-null    float64\n",
            " 12  Bulk 12  2450 non-null   float64\n",
            " 13  Bulk 13  18 non-null     float64\n",
            " 14  Bulk 14  2806 non-null   float64\n",
            " 15  Bulk 15  2248 non-null   float64\n",
            "dtypes: float64(15), int64(1)\n",
            "memory usage: 391.2 KB\n"
          ]
        },
        {
          "data": {
            "text/html": [
              "<div>\n",
              "<style scoped>\n",
              "    .dataframe tbody tr th:only-of-type {\n",
              "        vertical-align: middle;\n",
              "    }\n",
              "\n",
              "    .dataframe tbody tr th {\n",
              "        vertical-align: top;\n",
              "    }\n",
              "\n",
              "    .dataframe thead th {\n",
              "        text-align: right;\n",
              "    }\n",
              "</style>\n",
              "<table border=\"1\" class=\"dataframe\">\n",
              "  <thead>\n",
              "    <tr style=\"text-align: right;\">\n",
              "      <th></th>\n",
              "      <th>key</th>\n",
              "      <th>Bulk 1</th>\n",
              "      <th>Bulk 2</th>\n",
              "      <th>Bulk 3</th>\n",
              "      <th>Bulk 4</th>\n",
              "      <th>Bulk 5</th>\n",
              "      <th>Bulk 6</th>\n",
              "      <th>Bulk 7</th>\n",
              "      <th>Bulk 8</th>\n",
              "      <th>Bulk 9</th>\n",
              "      <th>Bulk 10</th>\n",
              "      <th>Bulk 11</th>\n",
              "      <th>Bulk 12</th>\n",
              "      <th>Bulk 13</th>\n",
              "      <th>Bulk 14</th>\n",
              "      <th>Bulk 15</th>\n",
              "    </tr>\n",
              "  </thead>\n",
              "  <tbody>\n",
              "    <tr>\n",
              "      <th>0</th>\n",
              "      <td>1</td>\n",
              "      <td>NaN</td>\n",
              "      <td>NaN</td>\n",
              "      <td>NaN</td>\n",
              "      <td>43.0</td>\n",
              "      <td>NaN</td>\n",
              "      <td>NaN</td>\n",
              "      <td>NaN</td>\n",
              "      <td>NaN</td>\n",
              "      <td>NaN</td>\n",
              "      <td>NaN</td>\n",
              "      <td>NaN</td>\n",
              "      <td>206.0</td>\n",
              "      <td>NaN</td>\n",
              "      <td>150.0</td>\n",
              "      <td>154.0</td>\n",
              "    </tr>\n",
              "    <tr>\n",
              "      <th>1</th>\n",
              "      <td>2</td>\n",
              "      <td>NaN</td>\n",
              "      <td>NaN</td>\n",
              "      <td>NaN</td>\n",
              "      <td>73.0</td>\n",
              "      <td>NaN</td>\n",
              "      <td>NaN</td>\n",
              "      <td>NaN</td>\n",
              "      <td>NaN</td>\n",
              "      <td>NaN</td>\n",
              "      <td>NaN</td>\n",
              "      <td>NaN</td>\n",
              "      <td>206.0</td>\n",
              "      <td>NaN</td>\n",
              "      <td>149.0</td>\n",
              "      <td>154.0</td>\n",
              "    </tr>\n",
              "    <tr>\n",
              "      <th>2</th>\n",
              "      <td>3</td>\n",
              "      <td>NaN</td>\n",
              "      <td>NaN</td>\n",
              "      <td>NaN</td>\n",
              "      <td>34.0</td>\n",
              "      <td>NaN</td>\n",
              "      <td>NaN</td>\n",
              "      <td>NaN</td>\n",
              "      <td>NaN</td>\n",
              "      <td>NaN</td>\n",
              "      <td>NaN</td>\n",
              "      <td>NaN</td>\n",
              "      <td>205.0</td>\n",
              "      <td>NaN</td>\n",
              "      <td>152.0</td>\n",
              "      <td>153.0</td>\n",
              "    </tr>\n",
              "    <tr>\n",
              "      <th>3</th>\n",
              "      <td>4</td>\n",
              "      <td>NaN</td>\n",
              "      <td>NaN</td>\n",
              "      <td>NaN</td>\n",
              "      <td>81.0</td>\n",
              "      <td>NaN</td>\n",
              "      <td>NaN</td>\n",
              "      <td>NaN</td>\n",
              "      <td>NaN</td>\n",
              "      <td>NaN</td>\n",
              "      <td>NaN</td>\n",
              "      <td>NaN</td>\n",
              "      <td>207.0</td>\n",
              "      <td>NaN</td>\n",
              "      <td>153.0</td>\n",
              "      <td>154.0</td>\n",
              "    </tr>\n",
              "    <tr>\n",
              "      <th>4</th>\n",
              "      <td>5</td>\n",
              "      <td>NaN</td>\n",
              "      <td>NaN</td>\n",
              "      <td>NaN</td>\n",
              "      <td>78.0</td>\n",
              "      <td>NaN</td>\n",
              "      <td>NaN</td>\n",
              "      <td>NaN</td>\n",
              "      <td>NaN</td>\n",
              "      <td>NaN</td>\n",
              "      <td>NaN</td>\n",
              "      <td>NaN</td>\n",
              "      <td>203.0</td>\n",
              "      <td>NaN</td>\n",
              "      <td>151.0</td>\n",
              "      <td>152.0</td>\n",
              "    </tr>\n",
              "  </tbody>\n",
              "</table>\n",
              "</div>"
            ],
            "text/plain": [
              "   key  Bulk 1  Bulk 2  Bulk 3  Bulk 4  Bulk 5  Bulk 6  Bulk 7  Bulk 8  \\\n",
              "0    1     NaN     NaN     NaN    43.0     NaN     NaN     NaN     NaN   \n",
              "1    2     NaN     NaN     NaN    73.0     NaN     NaN     NaN     NaN   \n",
              "2    3     NaN     NaN     NaN    34.0     NaN     NaN     NaN     NaN   \n",
              "3    4     NaN     NaN     NaN    81.0     NaN     NaN     NaN     NaN   \n",
              "4    5     NaN     NaN     NaN    78.0     NaN     NaN     NaN     NaN   \n",
              "\n",
              "   Bulk 9  Bulk 10  Bulk 11  Bulk 12  Bulk 13  Bulk 14  Bulk 15  \n",
              "0     NaN      NaN      NaN    206.0      NaN    150.0    154.0  \n",
              "1     NaN      NaN      NaN    206.0      NaN    149.0    154.0  \n",
              "2     NaN      NaN      NaN    205.0      NaN    152.0    153.0  \n",
              "3     NaN      NaN      NaN    207.0      NaN    153.0    154.0  \n",
              "4     NaN      NaN      NaN    203.0      NaN    151.0    152.0  "
            ]
          },
          "execution_count": 15,
          "metadata": {},
          "output_type": "execute_result"
        }
      ],
      "execution_count": 15
    },
    {
      "id": "8edadaa6",
      "cell_type": "code",
      "source": "start_data_size = len(data_bulk)",
      "metadata": {},
      "outputs": [],
      "execution_count": 16
    },
    {
      "id": "6b300e21",
      "cell_type": "code",
      "source": "print('Дубликатов обнаружено', len(data_bulk_time) - len(data_bulk_time.drop_duplicates()))",
      "metadata": {},
      "outputs": [
        {
          "name": "stdout",
          "output_type": "stream",
          "text": [
            "Дубликатов обнаружено 0\n"
          ]
        }
      ],
      "execution_count": 17
    },
    {
      "id": "ff0a8c06",
      "cell_type": "code",
      "source": "data_bulk_time.info()\ndata_bulk_time.head()",
      "metadata": {},
      "outputs": [
        {
          "name": "stdout",
          "output_type": "stream",
          "text": [
            "<class 'pandas.core.frame.DataFrame'>\n",
            "RangeIndex: 3129 entries, 0 to 3128\n",
            "Data columns (total 16 columns):\n",
            " #   Column   Non-Null Count  Dtype \n",
            "---  ------   --------------  ----- \n",
            " 0   key      3129 non-null   int64 \n",
            " 1   Bulk 1   252 non-null    object\n",
            " 2   Bulk 2   22 non-null     object\n",
            " 3   Bulk 3   1298 non-null   object\n",
            " 4   Bulk 4   1014 non-null   object\n",
            " 5   Bulk 5   77 non-null     object\n",
            " 6   Bulk 6   576 non-null    object\n",
            " 7   Bulk 7   25 non-null     object\n",
            " 8   Bulk 8   1 non-null      object\n",
            " 9   Bulk 9   19 non-null     object\n",
            " 10  Bulk 10  176 non-null    object\n",
            " 11  Bulk 11  177 non-null    object\n",
            " 12  Bulk 12  2450 non-null   object\n",
            " 13  Bulk 13  18 non-null     object\n",
            " 14  Bulk 14  2806 non-null   object\n",
            " 15  Bulk 15  2248 non-null   object\n",
            "dtypes: int64(1), object(15)\n",
            "memory usage: 391.2+ KB\n"
          ]
        },
        {
          "data": {
            "text/html": [
              "<div>\n",
              "<style scoped>\n",
              "    .dataframe tbody tr th:only-of-type {\n",
              "        vertical-align: middle;\n",
              "    }\n",
              "\n",
              "    .dataframe tbody tr th {\n",
              "        vertical-align: top;\n",
              "    }\n",
              "\n",
              "    .dataframe thead th {\n",
              "        text-align: right;\n",
              "    }\n",
              "</style>\n",
              "<table border=\"1\" class=\"dataframe\">\n",
              "  <thead>\n",
              "    <tr style=\"text-align: right;\">\n",
              "      <th></th>\n",
              "      <th>key</th>\n",
              "      <th>Bulk 1</th>\n",
              "      <th>Bulk 2</th>\n",
              "      <th>Bulk 3</th>\n",
              "      <th>Bulk 4</th>\n",
              "      <th>Bulk 5</th>\n",
              "      <th>Bulk 6</th>\n",
              "      <th>Bulk 7</th>\n",
              "      <th>Bulk 8</th>\n",
              "      <th>Bulk 9</th>\n",
              "      <th>Bulk 10</th>\n",
              "      <th>Bulk 11</th>\n",
              "      <th>Bulk 12</th>\n",
              "      <th>Bulk 13</th>\n",
              "      <th>Bulk 14</th>\n",
              "      <th>Bulk 15</th>\n",
              "    </tr>\n",
              "  </thead>\n",
              "  <tbody>\n",
              "    <tr>\n",
              "      <th>0</th>\n",
              "      <td>1</td>\n",
              "      <td>NaN</td>\n",
              "      <td>NaN</td>\n",
              "      <td>NaN</td>\n",
              "      <td>2019-05-03 11:28:48</td>\n",
              "      <td>NaN</td>\n",
              "      <td>NaN</td>\n",
              "      <td>NaN</td>\n",
              "      <td>NaN</td>\n",
              "      <td>NaN</td>\n",
              "      <td>NaN</td>\n",
              "      <td>NaN</td>\n",
              "      <td>2019-05-03 11:24:31</td>\n",
              "      <td>NaN</td>\n",
              "      <td>2019-05-03 11:14:50</td>\n",
              "      <td>2019-05-03 11:10:43</td>\n",
              "    </tr>\n",
              "    <tr>\n",
              "      <th>1</th>\n",
              "      <td>2</td>\n",
              "      <td>NaN</td>\n",
              "      <td>NaN</td>\n",
              "      <td>NaN</td>\n",
              "      <td>2019-05-03 11:36:50</td>\n",
              "      <td>NaN</td>\n",
              "      <td>NaN</td>\n",
              "      <td>NaN</td>\n",
              "      <td>NaN</td>\n",
              "      <td>NaN</td>\n",
              "      <td>NaN</td>\n",
              "      <td>NaN</td>\n",
              "      <td>2019-05-03 11:53:30</td>\n",
              "      <td>NaN</td>\n",
              "      <td>2019-05-03 11:48:37</td>\n",
              "      <td>2019-05-03 11:44:39</td>\n",
              "    </tr>\n",
              "    <tr>\n",
              "      <th>2</th>\n",
              "      <td>3</td>\n",
              "      <td>NaN</td>\n",
              "      <td>NaN</td>\n",
              "      <td>NaN</td>\n",
              "      <td>2019-05-03 12:32:39</td>\n",
              "      <td>NaN</td>\n",
              "      <td>NaN</td>\n",
              "      <td>NaN</td>\n",
              "      <td>NaN</td>\n",
              "      <td>NaN</td>\n",
              "      <td>NaN</td>\n",
              "      <td>NaN</td>\n",
              "      <td>2019-05-03 12:27:13</td>\n",
              "      <td>NaN</td>\n",
              "      <td>2019-05-03 12:21:01</td>\n",
              "      <td>2019-05-03 12:16:16</td>\n",
              "    </tr>\n",
              "    <tr>\n",
              "      <th>3</th>\n",
              "      <td>4</td>\n",
              "      <td>NaN</td>\n",
              "      <td>NaN</td>\n",
              "      <td>NaN</td>\n",
              "      <td>2019-05-03 12:43:22</td>\n",
              "      <td>NaN</td>\n",
              "      <td>NaN</td>\n",
              "      <td>NaN</td>\n",
              "      <td>NaN</td>\n",
              "      <td>NaN</td>\n",
              "      <td>NaN</td>\n",
              "      <td>NaN</td>\n",
              "      <td>2019-05-03 12:58:00</td>\n",
              "      <td>NaN</td>\n",
              "      <td>2019-05-03 12:51:11</td>\n",
              "      <td>2019-05-03 12:46:36</td>\n",
              "    </tr>\n",
              "    <tr>\n",
              "      <th>4</th>\n",
              "      <td>5</td>\n",
              "      <td>NaN</td>\n",
              "      <td>NaN</td>\n",
              "      <td>NaN</td>\n",
              "      <td>2019-05-03 13:30:47</td>\n",
              "      <td>NaN</td>\n",
              "      <td>NaN</td>\n",
              "      <td>NaN</td>\n",
              "      <td>NaN</td>\n",
              "      <td>NaN</td>\n",
              "      <td>NaN</td>\n",
              "      <td>NaN</td>\n",
              "      <td>2019-05-03 13:30:47</td>\n",
              "      <td>NaN</td>\n",
              "      <td>2019-05-03 13:34:12</td>\n",
              "      <td>2019-05-03 13:30:47</td>\n",
              "    </tr>\n",
              "  </tbody>\n",
              "</table>\n",
              "</div>"
            ],
            "text/plain": [
              "   key Bulk 1 Bulk 2 Bulk 3               Bulk 4 Bulk 5 Bulk 6 Bulk 7 Bulk 8  \\\n",
              "0    1    NaN    NaN    NaN  2019-05-03 11:28:48    NaN    NaN    NaN    NaN   \n",
              "1    2    NaN    NaN    NaN  2019-05-03 11:36:50    NaN    NaN    NaN    NaN   \n",
              "2    3    NaN    NaN    NaN  2019-05-03 12:32:39    NaN    NaN    NaN    NaN   \n",
              "3    4    NaN    NaN    NaN  2019-05-03 12:43:22    NaN    NaN    NaN    NaN   \n",
              "4    5    NaN    NaN    NaN  2019-05-03 13:30:47    NaN    NaN    NaN    NaN   \n",
              "\n",
              "  Bulk 9 Bulk 10 Bulk 11              Bulk 12 Bulk 13              Bulk 14  \\\n",
              "0    NaN     NaN     NaN  2019-05-03 11:24:31     NaN  2019-05-03 11:14:50   \n",
              "1    NaN     NaN     NaN  2019-05-03 11:53:30     NaN  2019-05-03 11:48:37   \n",
              "2    NaN     NaN     NaN  2019-05-03 12:27:13     NaN  2019-05-03 12:21:01   \n",
              "3    NaN     NaN     NaN  2019-05-03 12:58:00     NaN  2019-05-03 12:51:11   \n",
              "4    NaN     NaN     NaN  2019-05-03 13:30:47     NaN  2019-05-03 13:34:12   \n",
              "\n",
              "               Bulk 15  \n",
              "0  2019-05-03 11:10:43  \n",
              "1  2019-05-03 11:44:39  \n",
              "2  2019-05-03 12:16:16  \n",
              "3  2019-05-03 12:46:36  \n",
              "4  2019-05-03 13:30:47  "
            ]
          },
          "execution_count": 18,
          "metadata": {},
          "output_type": "execute_result"
        }
      ],
      "execution_count": 18
    },
    {
      "id": "bcd6cb68",
      "cell_type": "markdown",
      "source": "**data_gas и data_temp**",
      "metadata": {}
    },
    {
      "id": "000c24ef",
      "cell_type": "code",
      "source": "data_gas = data_gas.rename(columns={'Газ 1': 'gas_1'})",
      "metadata": {},
      "outputs": [],
      "execution_count": 19
    },
    {
      "id": "25737650",
      "cell_type": "code",
      "source": "print('Дубликатов обнаружено', len(data_gas) - len(data_gas.drop_duplicates()))",
      "metadata": {},
      "outputs": [
        {
          "name": "stdout",
          "output_type": "stream",
          "text": [
            "Дубликатов обнаружено 0\n"
          ]
        }
      ],
      "execution_count": 20
    },
    {
      "id": "58a0d857",
      "cell_type": "code",
      "source": "data_gas.info()\ndata_gas.head()",
      "metadata": {},
      "outputs": [
        {
          "name": "stdout",
          "output_type": "stream",
          "text": [
            "<class 'pandas.core.frame.DataFrame'>\n",
            "RangeIndex: 3239 entries, 0 to 3238\n",
            "Data columns (total 2 columns):\n",
            " #   Column  Non-Null Count  Dtype  \n",
            "---  ------  --------------  -----  \n",
            " 0   key     3239 non-null   int64  \n",
            " 1   gas_1   3239 non-null   float64\n",
            "dtypes: float64(1), int64(1)\n",
            "memory usage: 50.7 KB\n"
          ]
        },
        {
          "data": {
            "text/html": [
              "<div>\n",
              "<style scoped>\n",
              "    .dataframe tbody tr th:only-of-type {\n",
              "        vertical-align: middle;\n",
              "    }\n",
              "\n",
              "    .dataframe tbody tr th {\n",
              "        vertical-align: top;\n",
              "    }\n",
              "\n",
              "    .dataframe thead th {\n",
              "        text-align: right;\n",
              "    }\n",
              "</style>\n",
              "<table border=\"1\" class=\"dataframe\">\n",
              "  <thead>\n",
              "    <tr style=\"text-align: right;\">\n",
              "      <th></th>\n",
              "      <th>key</th>\n",
              "      <th>gas_1</th>\n",
              "    </tr>\n",
              "  </thead>\n",
              "  <tbody>\n",
              "    <tr>\n",
              "      <th>0</th>\n",
              "      <td>1</td>\n",
              "      <td>29.749986</td>\n",
              "    </tr>\n",
              "    <tr>\n",
              "      <th>1</th>\n",
              "      <td>2</td>\n",
              "      <td>12.555561</td>\n",
              "    </tr>\n",
              "    <tr>\n",
              "      <th>2</th>\n",
              "      <td>3</td>\n",
              "      <td>28.554793</td>\n",
              "    </tr>\n",
              "    <tr>\n",
              "      <th>3</th>\n",
              "      <td>4</td>\n",
              "      <td>18.841219</td>\n",
              "    </tr>\n",
              "    <tr>\n",
              "      <th>4</th>\n",
              "      <td>5</td>\n",
              "      <td>5.413692</td>\n",
              "    </tr>\n",
              "  </tbody>\n",
              "</table>\n",
              "</div>"
            ],
            "text/plain": [
              "   key      gas_1\n",
              "0    1  29.749986\n",
              "1    2  12.555561\n",
              "2    3  28.554793\n",
              "3    4  18.841219\n",
              "4    5   5.413692"
            ]
          },
          "execution_count": 21,
          "metadata": {},
          "output_type": "execute_result"
        }
      ],
      "execution_count": 21
    },
    {
      "id": "fc9c4834",
      "cell_type": "code",
      "source": "print('Дубликатов обнаружено', len(data_temp) - len(data_temp.drop_duplicates()))",
      "metadata": {},
      "outputs": [
        {
          "name": "stdout",
          "output_type": "stream",
          "text": [
            "Дубликатов обнаружено 0\n"
          ]
        }
      ],
      "execution_count": 22
    },
    {
      "id": "008528a6",
      "cell_type": "code",
      "source": "data_temp = data_temp.rename(columns={'Время замера': 'meas_time', 'Температура': 'temp'})",
      "metadata": {},
      "outputs": [],
      "execution_count": 23
    },
    {
      "id": "2f7b4f0c",
      "cell_type": "code",
      "source": "data_temp['meas_time'] = pd.to_datetime(data_temp['meas_time'])",
      "metadata": {},
      "outputs": [],
      "execution_count": 24
    },
    {
      "id": "d186bbff",
      "cell_type": "code",
      "source": "data_temp.info()\ndata_temp.head(10)",
      "metadata": {},
      "outputs": [
        {
          "name": "stdout",
          "output_type": "stream",
          "text": [
            "<class 'pandas.core.frame.DataFrame'>\n",
            "RangeIndex: 18092 entries, 0 to 18091\n",
            "Data columns (total 3 columns):\n",
            " #   Column     Non-Null Count  Dtype         \n",
            "---  ------     --------------  -----         \n",
            " 0   key        18092 non-null  int64         \n",
            " 1   meas_time  18092 non-null  datetime64[ns]\n",
            " 2   temp       14665 non-null  float64       \n",
            "dtypes: datetime64[ns](1), float64(1), int64(1)\n",
            "memory usage: 424.2 KB\n"
          ]
        },
        {
          "data": {
            "text/html": [
              "<div>\n",
              "<style scoped>\n",
              "    .dataframe tbody tr th:only-of-type {\n",
              "        vertical-align: middle;\n",
              "    }\n",
              "\n",
              "    .dataframe tbody tr th {\n",
              "        vertical-align: top;\n",
              "    }\n",
              "\n",
              "    .dataframe thead th {\n",
              "        text-align: right;\n",
              "    }\n",
              "</style>\n",
              "<table border=\"1\" class=\"dataframe\">\n",
              "  <thead>\n",
              "    <tr style=\"text-align: right;\">\n",
              "      <th></th>\n",
              "      <th>key</th>\n",
              "      <th>meas_time</th>\n",
              "      <th>temp</th>\n",
              "    </tr>\n",
              "  </thead>\n",
              "  <tbody>\n",
              "    <tr>\n",
              "      <th>0</th>\n",
              "      <td>1</td>\n",
              "      <td>2019-05-03 11:02:04</td>\n",
              "      <td>1571.0</td>\n",
              "    </tr>\n",
              "    <tr>\n",
              "      <th>1</th>\n",
              "      <td>1</td>\n",
              "      <td>2019-05-03 11:07:18</td>\n",
              "      <td>1604.0</td>\n",
              "    </tr>\n",
              "    <tr>\n",
              "      <th>2</th>\n",
              "      <td>1</td>\n",
              "      <td>2019-05-03 11:11:34</td>\n",
              "      <td>1618.0</td>\n",
              "    </tr>\n",
              "    <tr>\n",
              "      <th>3</th>\n",
              "      <td>1</td>\n",
              "      <td>2019-05-03 11:18:04</td>\n",
              "      <td>1601.0</td>\n",
              "    </tr>\n",
              "    <tr>\n",
              "      <th>4</th>\n",
              "      <td>1</td>\n",
              "      <td>2019-05-03 11:25:59</td>\n",
              "      <td>1606.0</td>\n",
              "    </tr>\n",
              "    <tr>\n",
              "      <th>5</th>\n",
              "      <td>1</td>\n",
              "      <td>2019-05-03 11:30:38</td>\n",
              "      <td>1613.0</td>\n",
              "    </tr>\n",
              "    <tr>\n",
              "      <th>6</th>\n",
              "      <td>2</td>\n",
              "      <td>2019-05-03 11:34:04</td>\n",
              "      <td>1581.0</td>\n",
              "    </tr>\n",
              "    <tr>\n",
              "      <th>7</th>\n",
              "      <td>2</td>\n",
              "      <td>2019-05-03 11:38:40</td>\n",
              "      <td>1577.0</td>\n",
              "    </tr>\n",
              "    <tr>\n",
              "      <th>8</th>\n",
              "      <td>2</td>\n",
              "      <td>2019-05-03 11:46:09</td>\n",
              "      <td>1589.0</td>\n",
              "    </tr>\n",
              "    <tr>\n",
              "      <th>9</th>\n",
              "      <td>2</td>\n",
              "      <td>2019-05-03 11:49:38</td>\n",
              "      <td>1604.0</td>\n",
              "    </tr>\n",
              "  </tbody>\n",
              "</table>\n",
              "</div>"
            ],
            "text/plain": [
              "   key           meas_time    temp\n",
              "0    1 2019-05-03 11:02:04  1571.0\n",
              "1    1 2019-05-03 11:07:18  1604.0\n",
              "2    1 2019-05-03 11:11:34  1618.0\n",
              "3    1 2019-05-03 11:18:04  1601.0\n",
              "4    1 2019-05-03 11:25:59  1606.0\n",
              "5    1 2019-05-03 11:30:38  1613.0\n",
              "6    2 2019-05-03 11:34:04  1581.0\n",
              "7    2 2019-05-03 11:38:40  1577.0\n",
              "8    2 2019-05-03 11:46:09  1589.0\n",
              "9    2 2019-05-03 11:49:38  1604.0"
            ]
          },
          "execution_count": 25,
          "metadata": {},
          "output_type": "execute_result"
        }
      ],
      "execution_count": 25
    },
    {
      "id": "c227b6ab",
      "cell_type": "markdown",
      "source": "**data_wire и data_wire_time**",
      "metadata": {}
    },
    {
      "id": "3a027677",
      "cell_type": "code",
      "source": "print('Дубликатов обнаружено', len(data_wire) - len(data_wire.drop_duplicates()))",
      "metadata": {},
      "outputs": [
        {
          "name": "stdout",
          "output_type": "stream",
          "text": [
            "Дубликатов обнаружено 0\n"
          ]
        }
      ],
      "execution_count": 26
    },
    {
      "id": "a5b37fa1",
      "cell_type": "code",
      "source": "data_wire.info()\ndata_wire.head()",
      "metadata": {},
      "outputs": [
        {
          "name": "stdout",
          "output_type": "stream",
          "text": [
            "<class 'pandas.core.frame.DataFrame'>\n",
            "RangeIndex: 3081 entries, 0 to 3080\n",
            "Data columns (total 10 columns):\n",
            " #   Column  Non-Null Count  Dtype  \n",
            "---  ------  --------------  -----  \n",
            " 0   key     3081 non-null   int64  \n",
            " 1   Wire 1  3055 non-null   float64\n",
            " 2   Wire 2  1079 non-null   float64\n",
            " 3   Wire 3  63 non-null     float64\n",
            " 4   Wire 4  14 non-null     float64\n",
            " 5   Wire 5  1 non-null      float64\n",
            " 6   Wire 6  73 non-null     float64\n",
            " 7   Wire 7  11 non-null     float64\n",
            " 8   Wire 8  19 non-null     float64\n",
            " 9   Wire 9  29 non-null     float64\n",
            "dtypes: float64(9), int64(1)\n",
            "memory usage: 240.8 KB\n"
          ]
        },
        {
          "data": {
            "text/html": [
              "<div>\n",
              "<style scoped>\n",
              "    .dataframe tbody tr th:only-of-type {\n",
              "        vertical-align: middle;\n",
              "    }\n",
              "\n",
              "    .dataframe tbody tr th {\n",
              "        vertical-align: top;\n",
              "    }\n",
              "\n",
              "    .dataframe thead th {\n",
              "        text-align: right;\n",
              "    }\n",
              "</style>\n",
              "<table border=\"1\" class=\"dataframe\">\n",
              "  <thead>\n",
              "    <tr style=\"text-align: right;\">\n",
              "      <th></th>\n",
              "      <th>key</th>\n",
              "      <th>Wire 1</th>\n",
              "      <th>Wire 2</th>\n",
              "      <th>Wire 3</th>\n",
              "      <th>Wire 4</th>\n",
              "      <th>Wire 5</th>\n",
              "      <th>Wire 6</th>\n",
              "      <th>Wire 7</th>\n",
              "      <th>Wire 8</th>\n",
              "      <th>Wire 9</th>\n",
              "    </tr>\n",
              "  </thead>\n",
              "  <tbody>\n",
              "    <tr>\n",
              "      <th>0</th>\n",
              "      <td>1</td>\n",
              "      <td>60.059998</td>\n",
              "      <td>NaN</td>\n",
              "      <td>NaN</td>\n",
              "      <td>NaN</td>\n",
              "      <td>NaN</td>\n",
              "      <td>NaN</td>\n",
              "      <td>NaN</td>\n",
              "      <td>NaN</td>\n",
              "      <td>NaN</td>\n",
              "    </tr>\n",
              "    <tr>\n",
              "      <th>1</th>\n",
              "      <td>2</td>\n",
              "      <td>96.052315</td>\n",
              "      <td>NaN</td>\n",
              "      <td>NaN</td>\n",
              "      <td>NaN</td>\n",
              "      <td>NaN</td>\n",
              "      <td>NaN</td>\n",
              "      <td>NaN</td>\n",
              "      <td>NaN</td>\n",
              "      <td>NaN</td>\n",
              "    </tr>\n",
              "    <tr>\n",
              "      <th>2</th>\n",
              "      <td>3</td>\n",
              "      <td>91.160157</td>\n",
              "      <td>NaN</td>\n",
              "      <td>NaN</td>\n",
              "      <td>NaN</td>\n",
              "      <td>NaN</td>\n",
              "      <td>NaN</td>\n",
              "      <td>NaN</td>\n",
              "      <td>NaN</td>\n",
              "      <td>NaN</td>\n",
              "    </tr>\n",
              "    <tr>\n",
              "      <th>3</th>\n",
              "      <td>4</td>\n",
              "      <td>89.063515</td>\n",
              "      <td>NaN</td>\n",
              "      <td>NaN</td>\n",
              "      <td>NaN</td>\n",
              "      <td>NaN</td>\n",
              "      <td>NaN</td>\n",
              "      <td>NaN</td>\n",
              "      <td>NaN</td>\n",
              "      <td>NaN</td>\n",
              "    </tr>\n",
              "    <tr>\n",
              "      <th>4</th>\n",
              "      <td>5</td>\n",
              "      <td>89.238236</td>\n",
              "      <td>9.11456</td>\n",
              "      <td>NaN</td>\n",
              "      <td>NaN</td>\n",
              "      <td>NaN</td>\n",
              "      <td>NaN</td>\n",
              "      <td>NaN</td>\n",
              "      <td>NaN</td>\n",
              "      <td>NaN</td>\n",
              "    </tr>\n",
              "  </tbody>\n",
              "</table>\n",
              "</div>"
            ],
            "text/plain": [
              "   key     Wire 1   Wire 2  Wire 3  Wire 4  Wire 5  Wire 6  Wire 7  Wire 8  \\\n",
              "0    1  60.059998      NaN     NaN     NaN     NaN     NaN     NaN     NaN   \n",
              "1    2  96.052315      NaN     NaN     NaN     NaN     NaN     NaN     NaN   \n",
              "2    3  91.160157      NaN     NaN     NaN     NaN     NaN     NaN     NaN   \n",
              "3    4  89.063515      NaN     NaN     NaN     NaN     NaN     NaN     NaN   \n",
              "4    5  89.238236  9.11456     NaN     NaN     NaN     NaN     NaN     NaN   \n",
              "\n",
              "   Wire 9  \n",
              "0     NaN  \n",
              "1     NaN  \n",
              "2     NaN  \n",
              "3     NaN  \n",
              "4     NaN  "
            ]
          },
          "execution_count": 27,
          "metadata": {},
          "output_type": "execute_result"
        }
      ],
      "execution_count": 27
    },
    {
      "id": "34518dc6",
      "cell_type": "code",
      "source": "print('Дубликатов обнаружено', len(data_wire_time) - len(data_wire_time.drop_duplicates()))",
      "metadata": {},
      "outputs": [
        {
          "name": "stdout",
          "output_type": "stream",
          "text": [
            "Дубликатов обнаружено 0\n"
          ]
        }
      ],
      "execution_count": 28
    },
    {
      "id": "90e22081",
      "cell_type": "code",
      "source": "data_wire_time.info()\ndata_wire_time.head()",
      "metadata": {},
      "outputs": [
        {
          "name": "stdout",
          "output_type": "stream",
          "text": [
            "<class 'pandas.core.frame.DataFrame'>\n",
            "RangeIndex: 3081 entries, 0 to 3080\n",
            "Data columns (total 10 columns):\n",
            " #   Column  Non-Null Count  Dtype \n",
            "---  ------  --------------  ----- \n",
            " 0   key     3081 non-null   int64 \n",
            " 1   Wire 1  3055 non-null   object\n",
            " 2   Wire 2  1079 non-null   object\n",
            " 3   Wire 3  63 non-null     object\n",
            " 4   Wire 4  14 non-null     object\n",
            " 5   Wire 5  1 non-null      object\n",
            " 6   Wire 6  73 non-null     object\n",
            " 7   Wire 7  11 non-null     object\n",
            " 8   Wire 8  19 non-null     object\n",
            " 9   Wire 9  29 non-null     object\n",
            "dtypes: int64(1), object(9)\n",
            "memory usage: 240.8+ KB\n"
          ]
        },
        {
          "data": {
            "text/html": [
              "<div>\n",
              "<style scoped>\n",
              "    .dataframe tbody tr th:only-of-type {\n",
              "        vertical-align: middle;\n",
              "    }\n",
              "\n",
              "    .dataframe tbody tr th {\n",
              "        vertical-align: top;\n",
              "    }\n",
              "\n",
              "    .dataframe thead th {\n",
              "        text-align: right;\n",
              "    }\n",
              "</style>\n",
              "<table border=\"1\" class=\"dataframe\">\n",
              "  <thead>\n",
              "    <tr style=\"text-align: right;\">\n",
              "      <th></th>\n",
              "      <th>key</th>\n",
              "      <th>Wire 1</th>\n",
              "      <th>Wire 2</th>\n",
              "      <th>Wire 3</th>\n",
              "      <th>Wire 4</th>\n",
              "      <th>Wire 5</th>\n",
              "      <th>Wire 6</th>\n",
              "      <th>Wire 7</th>\n",
              "      <th>Wire 8</th>\n",
              "      <th>Wire 9</th>\n",
              "    </tr>\n",
              "  </thead>\n",
              "  <tbody>\n",
              "    <tr>\n",
              "      <th>0</th>\n",
              "      <td>1</td>\n",
              "      <td>2019-05-03 11:06:19</td>\n",
              "      <td>NaN</td>\n",
              "      <td>NaN</td>\n",
              "      <td>NaN</td>\n",
              "      <td>NaN</td>\n",
              "      <td>NaN</td>\n",
              "      <td>NaN</td>\n",
              "      <td>NaN</td>\n",
              "      <td>NaN</td>\n",
              "    </tr>\n",
              "    <tr>\n",
              "      <th>1</th>\n",
              "      <td>2</td>\n",
              "      <td>2019-05-03 11:36:50</td>\n",
              "      <td>NaN</td>\n",
              "      <td>NaN</td>\n",
              "      <td>NaN</td>\n",
              "      <td>NaN</td>\n",
              "      <td>NaN</td>\n",
              "      <td>NaN</td>\n",
              "      <td>NaN</td>\n",
              "      <td>NaN</td>\n",
              "    </tr>\n",
              "    <tr>\n",
              "      <th>2</th>\n",
              "      <td>3</td>\n",
              "      <td>2019-05-03 12:11:46</td>\n",
              "      <td>NaN</td>\n",
              "      <td>NaN</td>\n",
              "      <td>NaN</td>\n",
              "      <td>NaN</td>\n",
              "      <td>NaN</td>\n",
              "      <td>NaN</td>\n",
              "      <td>NaN</td>\n",
              "      <td>NaN</td>\n",
              "    </tr>\n",
              "    <tr>\n",
              "      <th>3</th>\n",
              "      <td>4</td>\n",
              "      <td>2019-05-03 12:43:22</td>\n",
              "      <td>NaN</td>\n",
              "      <td>NaN</td>\n",
              "      <td>NaN</td>\n",
              "      <td>NaN</td>\n",
              "      <td>NaN</td>\n",
              "      <td>NaN</td>\n",
              "      <td>NaN</td>\n",
              "      <td>NaN</td>\n",
              "    </tr>\n",
              "    <tr>\n",
              "      <th>4</th>\n",
              "      <td>5</td>\n",
              "      <td>2019-05-03 13:20:44</td>\n",
              "      <td>2019-05-03 13:15:34</td>\n",
              "      <td>NaN</td>\n",
              "      <td>NaN</td>\n",
              "      <td>NaN</td>\n",
              "      <td>NaN</td>\n",
              "      <td>NaN</td>\n",
              "      <td>NaN</td>\n",
              "      <td>NaN</td>\n",
              "    </tr>\n",
              "  </tbody>\n",
              "</table>\n",
              "</div>"
            ],
            "text/plain": [
              "   key               Wire 1               Wire 2 Wire 3 Wire 4 Wire 5 Wire 6  \\\n",
              "0    1  2019-05-03 11:06:19                  NaN    NaN    NaN    NaN    NaN   \n",
              "1    2  2019-05-03 11:36:50                  NaN    NaN    NaN    NaN    NaN   \n",
              "2    3  2019-05-03 12:11:46                  NaN    NaN    NaN    NaN    NaN   \n",
              "3    4  2019-05-03 12:43:22                  NaN    NaN    NaN    NaN    NaN   \n",
              "4    5  2019-05-03 13:20:44  2019-05-03 13:15:34    NaN    NaN    NaN    NaN   \n",
              "\n",
              "  Wire 7 Wire 8 Wire 9  \n",
              "0    NaN    NaN    NaN  \n",
              "1    NaN    NaN    NaN  \n",
              "2    NaN    NaN    NaN  \n",
              "3    NaN    NaN    NaN  \n",
              "4    NaN    NaN    NaN  "
            ]
          },
          "execution_count": 29,
          "metadata": {},
          "output_type": "execute_result"
        }
      ],
      "execution_count": 29
    },
    {
      "id": "ebadd374",
      "cell_type": "markdown",
      "source": "**Вывод**\n\nДанные загружены в датафреймы. Дубликатов не обнаружено. Есть большое число пропусков. Часть данных переведена в нужный формат. Для дальнейшей работы не будем использовать таблицы `data_wire_time` и `data_bulk_time`. ",
      "metadata": {}
    },
    {
      "id": "ed4ab552",
      "cell_type": "markdown",
      "source": "## Исследовательский анализ и предобработка данных",
      "metadata": {}
    },
    {
      "id": "f87118fd",
      "cell_type": "markdown",
      "source": "Целевой переменной у нас является температура в ковше. В таблице `data_temp` есть пропуски в целевой переменной по некоторым ковшам. Давайте получим номера \"плохих\" ковшей и исключим их из наших данных. ",
      "metadata": {}
    },
    {
      "id": "3c1c8770",
      "cell_type": "markdown",
      "source": "### Работа с таблицей `data_temp`",
      "metadata": {}
    },
    {
      "id": "4e659621",
      "cell_type": "code",
      "source": "data_temp = data_temp.fillna(0)",
      "metadata": {},
      "outputs": [],
      "execution_count": 30
    },
    {
      "id": "bd2e0bc6",
      "cell_type": "markdown",
      "source": "Посмотрим на распределение средней температуры ковшей. Вдруг там есть аномальные значения. ",
      "metadata": {}
    },
    {
      "id": "fd737b9a",
      "cell_type": "code",
      "source": "data_temp['temp'].describe()",
      "metadata": {},
      "outputs": [
        {
          "data": {
            "text/plain": [
              "count    18092.000000\n",
              "mean      1289.406865\n",
              "std        623.600333\n",
              "min          0.000000\n",
              "25%       1567.000000\n",
              "50%       1586.000000\n",
              "75%       1597.000000\n",
              "max       1705.000000\n",
              "Name: temp, dtype: float64"
            ]
          },
          "execution_count": 31,
          "metadata": {},
          "output_type": "execute_result"
        }
      ],
      "execution_count": 31
    },
    {
      "id": "4b60c73a",
      "cell_type": "code",
      "source": "data_temp['temp'].hist();",
      "metadata": {},
      "outputs": [
        {
          "data": {
            "image/png": "[encoded data removed]",
            "text/plain": [
              "<Figure size 432x288 with 1 Axes>"
            ]
          },
          "metadata": {
            "needs_background": "light"
          },
          "output_type": "display_data"
        }
      ],
      "execution_count": 32
    },
    {
      "id": "a660ff69",
      "cell_type": "code",
      "source": "len(data_temp[data_temp['temp'] < 1400]['key'].unique())",
      "metadata": {},
      "outputs": [
        {
          "data": {
            "text/plain": [
              "743"
            ]
          },
          "execution_count": 33,
          "metadata": {},
          "output_type": "execute_result"
        }
      ],
      "execution_count": 33
    },
    {
      "id": "f735467c",
      "cell_type": "markdown",
      "source": "Есть 743 уникальных ковша температура которых регистрировалась как аномально низкая (ниже 1400 градусов). При таких температура сталь не плавится. Также есть ковши с показателем 0 (бывшие NA). Уберем эти ковши из `data_temp` ",
      "metadata": {}
    },
    {
      "id": "53b1d826",
      "cell_type": "code",
      "source": "bad_key_list = list(data_temp[data_temp['temp'] < 1400]['key']) ",
      "metadata": {},
      "outputs": [],
      "execution_count": 34
    },
    {
      "id": "46100b57",
      "cell_type": "code",
      "source": "data_temp = data_temp[~data_temp['key'].isin(bad_key_list)]",
      "metadata": {},
      "outputs": [],
      "execution_count": 35
    },
    {
      "id": "06fcd681",
      "cell_type": "code",
      "source": "data_temp['temp'].hist();",
      "metadata": {},
      "outputs": [
        {
          "data": {
            "image/png": "[encoded data removed]",
            "text/plain": [
              "<Figure size 432x288 with 1 Axes>"
            ]
          },
          "metadata": {
            "needs_background": "light"
          },
          "output_type": "display_data"
        }
      ],
      "execution_count": 36
    },
    {
      "id": "7f2ee93e",
      "cell_type": "code",
      "source": "len(data_temp[data_temp['temp'] < 1400]['key'].unique())",
      "metadata": {},
      "outputs": [
        {
          "data": {
            "text/plain": [
              "0"
            ]
          },
          "execution_count": 37,
          "metadata": {},
          "output_type": "execute_result"
        }
      ],
      "execution_count": 37
    },
    {
      "id": "1eb01705",
      "cell_type": "code",
      "source": "data_temp['temp'].describe()",
      "metadata": {},
      "outputs": [
        {
          "data": {
            "text/plain": [
              "count    13905.000000\n",
              "mean      1590.924847\n",
              "std         18.750314\n",
              "min       1519.000000\n",
              "25%       1580.000000\n",
              "50%       1590.000000\n",
              "75%       1599.000000\n",
              "max       1705.000000\n",
              "Name: temp, dtype: float64"
            ]
          },
          "execution_count": 38,
          "metadata": {},
          "output_type": "execute_result"
        }
      ],
      "execution_count": 38
    },
    {
      "id": "a218acfc",
      "cell_type": "markdown",
      "source": "**Также выделим самую ранюю температуру ковша и самую позднюю. Это нам понадобится для создания таргета и фич**",
      "metadata": {}
    },
    {
      "id": "4c3b3cf0",
      "cell_type": "markdown",
      "source": "Получим самую раннюю и самую позднюю температуру для каждого ковша. Создадим для этого отдельные таблицы.",
      "metadata": {}
    },
    {
      "id": "d642ca44",
      "cell_type": "code",
      "source": "start_temp = data_temp.groupby('key')['meas_time'].min()\nfinish_temp = data_temp.groupby('key')['meas_time'].max()",
      "metadata": {},
      "outputs": [],
      "execution_count": 39
    },
    {
      "id": "331a87d0",
      "cell_type": "code",
      "source": "start_temp = pd.DataFrame(data=start_temp)\nstart_temp = start_temp.rename(columns={'meas_time': 'start_time'})\nstart_temp.reset_index(inplace = True )",
      "metadata": {},
      "outputs": [],
      "execution_count": 40
    },
    {
      "id": "1d1c70a4",
      "cell_type": "code",
      "source": "finish_temp = pd.DataFrame(data=finish_temp)\nfinish_temp = finish_temp.rename(columns={'meas_time': 'finish_time'})\nfinish_temp.reset_index(inplace= True)",
      "metadata": {},
      "outputs": [],
      "execution_count": 41
    },
    {
      "id": "2eab921b",
      "cell_type": "code",
      "source": "data_time = start_temp.merge(data_temp, how='outer', on='key')\ndata_time_temp = finish_temp.merge(data_time, how='outer', on='key')",
      "metadata": {},
      "outputs": [],
      "execution_count": 42
    },
    {
      "id": "13542f32",
      "cell_type": "code",
      "source": "data_time_temp.head(10)",
      "metadata": {},
      "outputs": [
        {
          "data": {
            "text/html": [
              "<div>\n",
              "<style scoped>\n",
              "    .dataframe tbody tr th:only-of-type {\n",
              "        vertical-align: middle;\n",
              "    }\n",
              "\n",
              "    .dataframe tbody tr th {\n",
              "        vertical-align: top;\n",
              "    }\n",
              "\n",
              "    .dataframe thead th {\n",
              "        text-align: right;\n",
              "    }\n",
              "</style>\n",
              "<table border=\"1\" class=\"dataframe\">\n",
              "  <thead>\n",
              "    <tr style=\"text-align: right;\">\n",
              "      <th></th>\n",
              "      <th>key</th>\n",
              "      <th>finish_time</th>\n",
              "      <th>start_time</th>\n",
              "      <th>meas_time</th>\n",
              "      <th>temp</th>\n",
              "    </tr>\n",
              "  </thead>\n",
              "  <tbody>\n",
              "    <tr>\n",
              "      <th>0</th>\n",
              "      <td>1</td>\n",
              "      <td>2019-05-03 11:30:38</td>\n",
              "      <td>2019-05-03 11:02:04</td>\n",
              "      <td>2019-05-03 11:02:04</td>\n",
              "      <td>1571.0</td>\n",
              "    </tr>\n",
              "    <tr>\n",
              "      <th>1</th>\n",
              "      <td>1</td>\n",
              "      <td>2019-05-03 11:30:38</td>\n",
              "      <td>2019-05-03 11:02:04</td>\n",
              "      <td>2019-05-03 11:07:18</td>\n",
              "      <td>1604.0</td>\n",
              "    </tr>\n",
              "    <tr>\n",
              "      <th>2</th>\n",
              "      <td>1</td>\n",
              "      <td>2019-05-03 11:30:38</td>\n",
              "      <td>2019-05-03 11:02:04</td>\n",
              "      <td>2019-05-03 11:11:34</td>\n",
              "      <td>1618.0</td>\n",
              "    </tr>\n",
              "    <tr>\n",
              "      <th>3</th>\n",
              "      <td>1</td>\n",
              "      <td>2019-05-03 11:30:38</td>\n",
              "      <td>2019-05-03 11:02:04</td>\n",
              "      <td>2019-05-03 11:18:04</td>\n",
              "      <td>1601.0</td>\n",
              "    </tr>\n",
              "    <tr>\n",
              "      <th>4</th>\n",
              "      <td>1</td>\n",
              "      <td>2019-05-03 11:30:38</td>\n",
              "      <td>2019-05-03 11:02:04</td>\n",
              "      <td>2019-05-03 11:25:59</td>\n",
              "      <td>1606.0</td>\n",
              "    </tr>\n",
              "    <tr>\n",
              "      <th>5</th>\n",
              "      <td>1</td>\n",
              "      <td>2019-05-03 11:30:38</td>\n",
              "      <td>2019-05-03 11:02:04</td>\n",
              "      <td>2019-05-03 11:30:38</td>\n",
              "      <td>1613.0</td>\n",
              "    </tr>\n",
              "    <tr>\n",
              "      <th>6</th>\n",
              "      <td>2</td>\n",
              "      <td>2019-05-03 11:55:09</td>\n",
              "      <td>2019-05-03 11:34:04</td>\n",
              "      <td>2019-05-03 11:34:04</td>\n",
              "      <td>1581.0</td>\n",
              "    </tr>\n",
              "    <tr>\n",
              "      <th>7</th>\n",
              "      <td>2</td>\n",
              "      <td>2019-05-03 11:55:09</td>\n",
              "      <td>2019-05-03 11:34:04</td>\n",
              "      <td>2019-05-03 11:38:40</td>\n",
              "      <td>1577.0</td>\n",
              "    </tr>\n",
              "    <tr>\n",
              "      <th>8</th>\n",
              "      <td>2</td>\n",
              "      <td>2019-05-03 11:55:09</td>\n",
              "      <td>2019-05-03 11:34:04</td>\n",
              "      <td>2019-05-03 11:46:09</td>\n",
              "      <td>1589.0</td>\n",
              "    </tr>\n",
              "    <tr>\n",
              "      <th>9</th>\n",
              "      <td>2</td>\n",
              "      <td>2019-05-03 11:55:09</td>\n",
              "      <td>2019-05-03 11:34:04</td>\n",
              "      <td>2019-05-03 11:49:38</td>\n",
              "      <td>1604.0</td>\n",
              "    </tr>\n",
              "  </tbody>\n",
              "</table>\n",
              "</div>"
            ],
            "text/plain": [
              "   key         finish_time          start_time           meas_time    temp\n",
              "0    1 2019-05-03 11:30:38 2019-05-03 11:02:04 2019-05-03 11:02:04  1571.0\n",
              "1    1 2019-05-03 11:30:38 2019-05-03 11:02:04 2019-05-03 11:07:18  1604.0\n",
              "2    1 2019-05-03 11:30:38 2019-05-03 11:02:04 2019-05-03 11:11:34  1618.0\n",
              "3    1 2019-05-03 11:30:38 2019-05-03 11:02:04 2019-05-03 11:18:04  1601.0\n",
              "4    1 2019-05-03 11:30:38 2019-05-03 11:02:04 2019-05-03 11:25:59  1606.0\n",
              "5    1 2019-05-03 11:30:38 2019-05-03 11:02:04 2019-05-03 11:30:38  1613.0\n",
              "6    2 2019-05-03 11:55:09 2019-05-03 11:34:04 2019-05-03 11:34:04  1581.0\n",
              "7    2 2019-05-03 11:55:09 2019-05-03 11:34:04 2019-05-03 11:38:40  1577.0\n",
              "8    2 2019-05-03 11:55:09 2019-05-03 11:34:04 2019-05-03 11:46:09  1589.0\n",
              "9    2 2019-05-03 11:55:09 2019-05-03 11:34:04 2019-05-03 11:49:38  1604.0"
            ]
          },
          "execution_count": 43,
          "metadata": {},
          "output_type": "execute_result"
        }
      ],
      "execution_count": 43
    },
    {
      "id": "461be203",
      "cell_type": "code",
      "source": "data_temp_features = data_time_temp[(data_time_temp['meas_time'] == data_time_temp['start_time'])] \\\n                    .drop(['finish_time','start_time','meas_time'], axis = 1) \\\n                    .rename(columns = {'temp':'start_temp'})",
      "metadata": {},
      "outputs": [],
      "execution_count": 44
    },
    {
      "id": "7855ff7b",
      "cell_type": "code",
      "source": "data_temp_target = data_time_temp[(data_time_temp['meas_time'] == data_time_temp['finish_time'])] \\\n                    .drop(['finish_time','start_time','meas_time'], axis = 1)  \\\n                    .rename(columns = {'temp':'target'})",
      "metadata": {},
      "outputs": [],
      "execution_count": 45
    },
    {
      "id": "710c3020",
      "cell_type": "code",
      "source": "data_temp_features.reset_index(drop = True, inplace = True)\ndata_temp_target.reset_index(drop = True, inplace = True)",
      "metadata": {},
      "outputs": [],
      "execution_count": 46
    },
    {
      "id": "4692a303",
      "cell_type": "code",
      "source": "data_temp_features.head()",
      "metadata": {},
      "outputs": [
        {
          "data": {
            "text/html": [
              "<div>\n",
              "<style scoped>\n",
              "    .dataframe tbody tr th:only-of-type {\n",
              "        vertical-align: middle;\n",
              "    }\n",
              "\n",
              "    .dataframe tbody tr th {\n",
              "        vertical-align: top;\n",
              "    }\n",
              "\n",
              "    .dataframe thead th {\n",
              "        text-align: right;\n",
              "    }\n",
              "</style>\n",
              "<table border=\"1\" class=\"dataframe\">\n",
              "  <thead>\n",
              "    <tr style=\"text-align: right;\">\n",
              "      <th></th>\n",
              "      <th>key</th>\n",
              "      <th>start_temp</th>\n",
              "    </tr>\n",
              "  </thead>\n",
              "  <tbody>\n",
              "    <tr>\n",
              "      <th>0</th>\n",
              "      <td>1</td>\n",
              "      <td>1571.0</td>\n",
              "    </tr>\n",
              "    <tr>\n",
              "      <th>1</th>\n",
              "      <td>2</td>\n",
              "      <td>1581.0</td>\n",
              "    </tr>\n",
              "    <tr>\n",
              "      <th>2</th>\n",
              "      <td>3</td>\n",
              "      <td>1596.0</td>\n",
              "    </tr>\n",
              "    <tr>\n",
              "      <th>3</th>\n",
              "      <td>4</td>\n",
              "      <td>1601.0</td>\n",
              "    </tr>\n",
              "    <tr>\n",
              "      <th>4</th>\n",
              "      <td>5</td>\n",
              "      <td>1576.0</td>\n",
              "    </tr>\n",
              "  </tbody>\n",
              "</table>\n",
              "</div>"
            ],
            "text/plain": [
              "   key  start_temp\n",
              "0    1      1571.0\n",
              "1    2      1581.0\n",
              "2    3      1596.0\n",
              "3    4      1601.0\n",
              "4    5      1576.0"
            ]
          },
          "execution_count": 47,
          "metadata": {},
          "output_type": "execute_result"
        }
      ],
      "execution_count": 47
    },
    {
      "id": "c7fdbe39",
      "cell_type": "code",
      "source": "data_temp_target.head()",
      "metadata": {},
      "outputs": [
        {
          "data": {
            "text/html": [
              "<div>\n",
              "<style scoped>\n",
              "    .dataframe tbody tr th:only-of-type {\n",
              "        vertical-align: middle;\n",
              "    }\n",
              "\n",
              "    .dataframe tbody tr th {\n",
              "        vertical-align: top;\n",
              "    }\n",
              "\n",
              "    .dataframe thead th {\n",
              "        text-align: right;\n",
              "    }\n",
              "</style>\n",
              "<table border=\"1\" class=\"dataframe\">\n",
              "  <thead>\n",
              "    <tr style=\"text-align: right;\">\n",
              "      <th></th>\n",
              "      <th>key</th>\n",
              "      <th>target</th>\n",
              "    </tr>\n",
              "  </thead>\n",
              "  <tbody>\n",
              "    <tr>\n",
              "      <th>0</th>\n",
              "      <td>1</td>\n",
              "      <td>1613.0</td>\n",
              "    </tr>\n",
              "    <tr>\n",
              "      <th>1</th>\n",
              "      <td>2</td>\n",
              "      <td>1602.0</td>\n",
              "    </tr>\n",
              "    <tr>\n",
              "      <th>2</th>\n",
              "      <td>3</td>\n",
              "      <td>1599.0</td>\n",
              "    </tr>\n",
              "    <tr>\n",
              "      <th>3</th>\n",
              "      <td>4</td>\n",
              "      <td>1625.0</td>\n",
              "    </tr>\n",
              "    <tr>\n",
              "      <th>4</th>\n",
              "      <td>5</td>\n",
              "      <td>1602.0</td>\n",
              "    </tr>\n",
              "  </tbody>\n",
              "</table>\n",
              "</div>"
            ],
            "text/plain": [
              "   key  target\n",
              "0    1  1613.0\n",
              "1    2  1602.0\n",
              "2    3  1599.0\n",
              "3    4  1625.0\n",
              "4    5  1602.0"
            ]
          },
          "execution_count": 48,
          "metadata": {},
          "output_type": "execute_result"
        }
      ],
      "execution_count": 48
    },
    {
      "id": "0e6610f1",
      "cell_type": "markdown",
      "source": "### Работа с таблицей `data_arc`",
      "metadata": {}
    },
    {
      "id": "9ce380da",
      "cell_type": "code",
      "source": "print(data_arc_copy.describe())\ndata_arc_copy.sort_values(['rp']).head()",
      "metadata": {},
      "outputs": [
        {
          "name": "stdout",
          "output_type": "stream",
          "text": [
            "                key            ap            rp    heat_delta\n",
            "count  14876.000000  14876.000000  14876.000000  14876.000000\n",
            "mean    1615.220422      0.662752      0.438986    171.670946\n",
            "std      934.571502      0.258885      5.873485     98.186803\n",
            "min        1.000000      0.223120   -715.479924     11.000000\n",
            "25%      806.000000      0.467115      0.337175    107.000000\n",
            "50%     1617.000000      0.599587      0.441639    147.000000\n",
            "75%     2429.000000      0.830070      0.608201    214.000000\n",
            "max     3241.000000      1.463773      1.270284    907.000000\n"
          ]
        },
        {
          "data": {
            "text/html": [
              "<div>\n",
              "<style scoped>\n",
              "    .dataframe tbody tr th:only-of-type {\n",
              "        vertical-align: middle;\n",
              "    }\n",
              "\n",
              "    .dataframe tbody tr th {\n",
              "        vertical-align: top;\n",
              "    }\n",
              "\n",
              "    .dataframe thead th {\n",
              "        text-align: right;\n",
              "    }\n",
              "</style>\n",
              "<table border=\"1\" class=\"dataframe\">\n",
              "  <thead>\n",
              "    <tr style=\"text-align: right;\">\n",
              "      <th></th>\n",
              "      <th>key</th>\n",
              "      <th>ap</th>\n",
              "      <th>rp</th>\n",
              "      <th>heat_delta</th>\n",
              "    </tr>\n",
              "  </thead>\n",
              "  <tbody>\n",
              "    <tr>\n",
              "      <th>9780</th>\n",
              "      <td>2116</td>\n",
              "      <td>0.705344</td>\n",
              "      <td>-715.479924</td>\n",
              "      <td>109.0</td>\n",
              "    </tr>\n",
              "    <tr>\n",
              "      <th>709</th>\n",
              "      <td>152</td>\n",
              "      <td>0.228852</td>\n",
              "      <td>0.153777</td>\n",
              "      <td>163.0</td>\n",
              "    </tr>\n",
              "    <tr>\n",
              "      <th>3290</th>\n",
              "      <td>711</td>\n",
              "      <td>0.242989</td>\n",
              "      <td>0.153921</td>\n",
              "      <td>244.0</td>\n",
              "    </tr>\n",
              "    <tr>\n",
              "      <th>11794</th>\n",
              "      <td>2567</td>\n",
              "      <td>0.288314</td>\n",
              "      <td>0.155221</td>\n",
              "      <td>66.0</td>\n",
              "    </tr>\n",
              "    <tr>\n",
              "      <th>6130</th>\n",
              "      <td>1336</td>\n",
              "      <td>0.244191</td>\n",
              "      <td>0.156525</td>\n",
              "      <td>84.0</td>\n",
              "    </tr>\n",
              "  </tbody>\n",
              "</table>\n",
              "</div>"
            ],
            "text/plain": [
              "        key        ap          rp  heat_delta\n",
              "9780   2116  0.705344 -715.479924       109.0\n",
              "709     152  0.228852    0.153777       163.0\n",
              "3290    711  0.242989    0.153921       244.0\n",
              "11794  2567  0.288314    0.155221        66.0\n",
              "6130   1336  0.244191    0.156525        84.0"
            ]
          },
          "execution_count": 49,
          "metadata": {},
          "output_type": "execute_result"
        }
      ],
      "execution_count": 49
    },
    {
      "id": "c66dceb1",
      "cell_type": "markdown",
      "source": "Ковш номер 2116 добавим в список \"плохих\" ковшей. ",
      "metadata": {}
    },
    {
      "id": "46757efd",
      "cell_type": "code",
      "source": "bad_key_list = bad_key_list  +  list(data_arc[data_arc['key'] == 2116]['key'])   ",
      "metadata": {},
      "outputs": [],
      "execution_count": 50
    },
    {
      "id": "05e90580",
      "cell_type": "markdown",
      "source": "Уберем из таблицы \"плохие ковши\"",
      "metadata": {}
    },
    {
      "id": "f810622b",
      "cell_type": "code",
      "source": "data_arc = data_arc[~data_arc['key'].isin(bad_key_list)]",
      "metadata": {},
      "outputs": [],
      "execution_count": 51
    },
    {
      "id": "f2f43717",
      "cell_type": "code",
      "source": "data_arc[['ap','rp','heat_delta']].describe()",
      "metadata": {},
      "outputs": [
        {
          "data": {
            "text/html": [
              "<div>\n",
              "<style scoped>\n",
              "    .dataframe tbody tr th:only-of-type {\n",
              "        vertical-align: middle;\n",
              "    }\n",
              "\n",
              "    .dataframe tbody tr th {\n",
              "        vertical-align: top;\n",
              "    }\n",
              "\n",
              "    .dataframe thead th {\n",
              "        text-align: right;\n",
              "    }\n",
              "</style>\n",
              "<table border=\"1\" class=\"dataframe\">\n",
              "  <thead>\n",
              "    <tr style=\"text-align: right;\">\n",
              "      <th></th>\n",
              "      <th>ap</th>\n",
              "      <th>rp</th>\n",
              "      <th>heat_delta</th>\n",
              "    </tr>\n",
              "  </thead>\n",
              "  <tbody>\n",
              "    <tr>\n",
              "      <th>count</th>\n",
              "      <td>11428.000000</td>\n",
              "      <td>11428.000000</td>\n",
              "      <td>11428.000000</td>\n",
              "    </tr>\n",
              "    <tr>\n",
              "      <th>mean</th>\n",
              "      <td>0.665407</td>\n",
              "      <td>0.489745</td>\n",
              "      <td>173.006563</td>\n",
              "    </tr>\n",
              "    <tr>\n",
              "      <th>std</th>\n",
              "      <td>0.260216</td>\n",
              "      <td>0.198975</td>\n",
              "      <td>98.633969</td>\n",
              "    </tr>\n",
              "    <tr>\n",
              "      <th>min</th>\n",
              "      <td>0.223895</td>\n",
              "      <td>0.153777</td>\n",
              "      <td>11.000000</td>\n",
              "    </tr>\n",
              "    <tr>\n",
              "      <th>25%</th>\n",
              "      <td>0.468179</td>\n",
              "      <td>0.339292</td>\n",
              "      <td>108.000000</td>\n",
              "    </tr>\n",
              "    <tr>\n",
              "      <th>50%</th>\n",
              "      <td>0.601594</td>\n",
              "      <td>0.442960</td>\n",
              "      <td>147.000000</td>\n",
              "    </tr>\n",
              "    <tr>\n",
              "      <th>75%</th>\n",
              "      <td>0.833863</td>\n",
              "      <td>0.611949</td>\n",
              "      <td>218.000000</td>\n",
              "    </tr>\n",
              "    <tr>\n",
              "      <th>max</th>\n",
              "      <td>1.463773</td>\n",
              "      <td>1.270284</td>\n",
              "      <td>907.000000</td>\n",
              "    </tr>\n",
              "  </tbody>\n",
              "</table>\n",
              "</div>"
            ],
            "text/plain": [
              "                 ap            rp    heat_delta\n",
              "count  11428.000000  11428.000000  11428.000000\n",
              "mean       0.665407      0.489745    173.006563\n",
              "std        0.260216      0.198975     98.633969\n",
              "min        0.223895      0.153777     11.000000\n",
              "25%        0.468179      0.339292    108.000000\n",
              "50%        0.601594      0.442960    147.000000\n",
              "75%        0.833863      0.611949    218.000000\n",
              "max        1.463773      1.270284    907.000000"
            ]
          },
          "execution_count": 52,
          "metadata": {},
          "output_type": "execute_result"
        }
      ],
      "execution_count": 52
    },
    {
      "id": "d9ef38c2",
      "cell_type": "code",
      "source": "data_arc['heat_delta'].hist();",
      "metadata": {},
      "outputs": [
        {
          "data": {
            "image/png": "[encoded data removed]",
            "text/plain": [
              "<Figure size 432x288 with 1 Axes>"
            ]
          },
          "metadata": {
            "needs_background": "light"
          },
          "output_type": "display_data"
        }
      ],
      "execution_count": 53
    },
    {
      "id": "5153eaf8",
      "cell_type": "markdown",
      "source": "Посмотрим на корреляции мощностей",
      "metadata": {}
    },
    {
      "id": "8334374c",
      "cell_type": "code",
      "source": "data_arc[['ap','rp']].corr()",
      "metadata": {},
      "outputs": [
        {
          "data": {
            "text/html": [
              "<div>\n",
              "<style scoped>\n",
              "    .dataframe tbody tr th:only-of-type {\n",
              "        vertical-align: middle;\n",
              "    }\n",
              "\n",
              "    .dataframe tbody tr th {\n",
              "        vertical-align: top;\n",
              "    }\n",
              "\n",
              "    .dataframe thead th {\n",
              "        text-align: right;\n",
              "    }\n",
              "</style>\n",
              "<table border=\"1\" class=\"dataframe\">\n",
              "  <thead>\n",
              "    <tr style=\"text-align: right;\">\n",
              "      <th></th>\n",
              "      <th>ap</th>\n",
              "      <th>rp</th>\n",
              "    </tr>\n",
              "  </thead>\n",
              "  <tbody>\n",
              "    <tr>\n",
              "      <th>ap</th>\n",
              "      <td>1.000000</td>\n",
              "      <td>0.966344</td>\n",
              "    </tr>\n",
              "    <tr>\n",
              "      <th>rp</th>\n",
              "      <td>0.966344</td>\n",
              "      <td>1.000000</td>\n",
              "    </tr>\n",
              "  </tbody>\n",
              "</table>\n",
              "</div>"
            ],
            "text/plain": [
              "          ap        rp\n",
              "ap  1.000000  0.966344\n",
              "rp  0.966344  1.000000"
            ]
          },
          "execution_count": 54,
          "metadata": {},
          "output_type": "execute_result"
        }
      ],
      "execution_count": 54
    },
    {
      "id": "2cad95bc",
      "cell_type": "code",
      "source": "sns.pairplot(data_arc[['ap','rp']]);",
      "metadata": {},
      "outputs": [
        {
          "data": {
            "image/png": "[encoded data removed]",
            "text/plain": [
              "<Figure size 360x360 with 6 Axes>"
            ]
          },
          "metadata": {
            "needs_background": "light"
          },
          "output_type": "display_data"
        }
      ],
      "execution_count": 55
    },
    {
      "id": "a097f15b",
      "cell_type": "markdown",
      "source": "По причине высокой корреляции `ap` и `rp` не будем рассматривать `rp` в качестве признака. В качестве признака будем использовать произведение времени и активной мощности а также время нагрева просуммированное для каждого `key`.   ",
      "metadata": {}
    },
    {
      "id": "5f0b0667",
      "cell_type": "code",
      "source": "data_arc['q'] = data_arc['ap'] * data_arc['heat_delta']\n#data_arc['q'] = (((data_arc['ap'] ** 2) + (data_arc['rp'] ** 2)) ** 0.5) * data_arc['heat_delta']\ndata_arc_group = data_arc.drop(['ap','rp'], axis = 1).groupby('key').agg({'q':'sum','heat_delta':'sum'})\n\ndata_arc_group.reset_index(inplace = True)\n\ndata_arc_group.columns = ['key','sum_q','sum_heat_time']",
      "metadata": {},
      "outputs": [],
      "execution_count": 56
    },
    {
      "id": "3c2782d8",
      "cell_type": "code",
      "source": "data_arc_group.head(10)",
      "metadata": {},
      "outputs": [
        {
          "data": {
            "text/html": [
              "<div>\n",
              "<style scoped>\n",
              "    .dataframe tbody tr th:only-of-type {\n",
              "        vertical-align: middle;\n",
              "    }\n",
              "\n",
              "    .dataframe tbody tr th {\n",
              "        vertical-align: top;\n",
              "    }\n",
              "\n",
              "    .dataframe thead th {\n",
              "        text-align: right;\n",
              "    }\n",
              "</style>\n",
              "<table border=\"1\" class=\"dataframe\">\n",
              "  <thead>\n",
              "    <tr style=\"text-align: right;\">\n",
              "      <th></th>\n",
              "      <th>key</th>\n",
              "      <th>sum_q</th>\n",
              "      <th>sum_heat_time</th>\n",
              "    </tr>\n",
              "  </thead>\n",
              "  <tbody>\n",
              "    <tr>\n",
              "      <th>0</th>\n",
              "      <td>1</td>\n",
              "      <td>628.616930</td>\n",
              "      <td>1098.0</td>\n",
              "    </tr>\n",
              "    <tr>\n",
              "      <th>1</th>\n",
              "      <td>2</td>\n",
              "      <td>395.281800</td>\n",
              "      <td>811.0</td>\n",
              "    </tr>\n",
              "    <tr>\n",
              "      <th>2</th>\n",
              "      <td>3</td>\n",
              "      <td>581.774624</td>\n",
              "      <td>655.0</td>\n",
              "    </tr>\n",
              "    <tr>\n",
              "      <th>3</th>\n",
              "      <td>4</td>\n",
              "      <td>543.710274</td>\n",
              "      <td>741.0</td>\n",
              "    </tr>\n",
              "    <tr>\n",
              "      <th>4</th>\n",
              "      <td>5</td>\n",
              "      <td>412.180480</td>\n",
              "      <td>869.0</td>\n",
              "    </tr>\n",
              "    <tr>\n",
              "      <th>5</th>\n",
              "      <td>6</td>\n",
              "      <td>691.669688</td>\n",
              "      <td>952.0</td>\n",
              "    </tr>\n",
              "    <tr>\n",
              "      <th>6</th>\n",
              "      <td>7</td>\n",
              "      <td>491.550467</td>\n",
              "      <td>673.0</td>\n",
              "    </tr>\n",
              "    <tr>\n",
              "      <th>7</th>\n",
              "      <td>8</td>\n",
              "      <td>496.597268</td>\n",
              "      <td>913.0</td>\n",
              "    </tr>\n",
              "    <tr>\n",
              "      <th>8</th>\n",
              "      <td>9</td>\n",
              "      <td>464.455338</td>\n",
              "      <td>625.0</td>\n",
              "    </tr>\n",
              "    <tr>\n",
              "      <th>9</th>\n",
              "      <td>10</td>\n",
              "      <td>439.040344</td>\n",
              "      <td>825.0</td>\n",
              "    </tr>\n",
              "  </tbody>\n",
              "</table>\n",
              "</div>"
            ],
            "text/plain": [
              "   key       sum_q  sum_heat_time\n",
              "0    1  628.616930         1098.0\n",
              "1    2  395.281800          811.0\n",
              "2    3  581.774624          655.0\n",
              "3    4  543.710274          741.0\n",
              "4    5  412.180480          869.0\n",
              "5    6  691.669688          952.0\n",
              "6    7  491.550467          673.0\n",
              "7    8  496.597268          913.0\n",
              "8    9  464.455338          625.0\n",
              "9   10  439.040344          825.0"
            ]
          },
          "execution_count": 57,
          "metadata": {},
          "output_type": "execute_result"
        }
      ],
      "execution_count": 57
    },
    {
      "id": "29845f8b",
      "cell_type": "markdown",
      "source": "### Работа с таблицей `data_gas`",
      "metadata": {}
    },
    {
      "id": "e8b76daf",
      "cell_type": "code",
      "source": "print(data_gas['gas_1'].describe())\ndata_gas['gas_1'].hist();",
      "metadata": {},
      "outputs": [
        {
          "name": "stdout",
          "output_type": "stream",
          "text": [
            "count    3239.000000\n",
            "mean       11.002062\n",
            "std         6.220327\n",
            "min         0.008399\n",
            "25%         7.043089\n",
            "50%         9.836267\n",
            "75%        13.769915\n",
            "max        77.995040\n",
            "Name: gas_1, dtype: float64\n"
          ]
        },
        {
          "data": {
            "image/png": "[encoded data removed]",
            "text/plain": [
              "<Figure size 432x288 with 1 Axes>"
            ]
          },
          "metadata": {
            "needs_background": "light"
          },
          "output_type": "display_data"
        }
      ],
      "execution_count": 58
    },
    {
      "id": "e780a2d6",
      "cell_type": "markdown",
      "source": "### Работа с `bulk` и `wire`",
      "metadata": {}
    },
    {
      "id": "e6b87a50",
      "cell_type": "markdown",
      "source": "**В качестве признаков будем рассматривать сумму подаваемых проволочных материалов и сумму сыпучих материалов, а также количество итераций добавления.** ",
      "metadata": {}
    },
    {
      "id": "dfb5d6b2",
      "cell_type": "code",
      "source": "bulk = data_bulk[~data_bulk['key'].isin(bad_key_list)]",
      "metadata": {},
      "outputs": [],
      "execution_count": 59
    },
    {
      "id": "43329f76",
      "cell_type": "code",
      "source": "bulk['bulk_count'] = bulk.drop('key', axis = 1).count(axis=1)\nbulk['bulk_sum'] = bulk.drop('key', axis = 1).sum(axis=1)\nbulk = bulk[['key','bulk_sum','bulk_count']]",
      "metadata": {},
      "outputs": [],
      "execution_count": 60
    },
    {
      "id": "ca5f5dcd",
      "cell_type": "code",
      "source": "print(bulk['bulk_sum'].describe())\nbulk['bulk_sum'].hist();",
      "metadata": {},
      "outputs": [
        {
          "name": "stdout",
          "output_type": "stream",
          "text": [
            "count    2403.000000\n",
            "mean      607.523928\n",
            "std       288.175122\n",
            "min        20.000000\n",
            "25%       433.500000\n",
            "50%       608.000000\n",
            "75%       793.500000\n",
            "max      3241.000000\n",
            "Name: bulk_sum, dtype: float64\n"
          ]
        },
        {
          "data": {
            "image/png": "[encoded data removed]",
            "text/plain": [
              "<Figure size 432x288 with 1 Axes>"
            ]
          },
          "metadata": {
            "needs_background": "light"
          },
          "output_type": "display_data"
        }
      ],
      "execution_count": 61
    },
    {
      "id": "4fd4041c",
      "cell_type": "code",
      "source": "wire = data_wire[~data_wire['key'].isin(bad_key_list)]",
      "metadata": {},
      "outputs": [],
      "execution_count": 62
    },
    {
      "id": "99092e7a",
      "cell_type": "code",
      "source": "wire['wire_count'] = wire.drop('key', axis = 1).count(axis=1)\nwire['wire_sum'] = wire.drop('key', axis = 1).sum(axis=1)\nwire = wire[['key','wire_sum','wire_count']]",
      "metadata": {},
      "outputs": [],
      "execution_count": 63
    },
    {
      "id": "41829964",
      "cell_type": "code",
      "source": "print(wire['wire_sum'].describe())",
      "metadata": {},
      "outputs": [
        {
          "name": "stdout",
          "output_type": "stream",
          "text": [
            "count    2368.000000\n",
            "mean      126.669693\n",
            "std        64.349699\n",
            "min         2.918800\n",
            "25%        89.823276\n",
            "50%       117.309478\n",
            "75%       153.201401\n",
            "max       571.777664\n",
            "Name: wire_sum, dtype: float64\n"
          ]
        }
      ],
      "execution_count": 64
    },
    {
      "id": "9b9a7a26",
      "cell_type": "code",
      "source": "wire['wire_sum'].hist();",
      "metadata": {},
      "outputs": [
        {
          "data": {
            "image/png": "[encoded data removed]",
            "text/plain": [
              "<Figure size 432x288 with 1 Axes>"
            ]
          },
          "metadata": {
            "needs_background": "light"
          },
          "output_type": "display_data"
        }
      ],
      "execution_count": 65
    },
    {
      "id": "34026cd4",
      "cell_type": "markdown",
      "source": "## Объединение данных",
      "metadata": {}
    },
    {
      "id": "a58d4668",
      "cell_type": "markdown",
      "source": "Для начала создадим лист \"хороших\" ковшей. Это такие ковши которые попали во все таблицы после обработки аномалий.",
      "metadata": {}
    },
    {
      "id": "47969bf3",
      "cell_type": "code",
      "source": "good_key_list = list(\n                set(list(data_arc_group['key'].unique())) &\n                set(list(data_temp_features['key'].unique())) &\n                set(list(data_temp_target['key'].unique())) &\n                set(list(bulk['key'].unique())) &\n                set(list(wire['key'].unique())) &\n                set(list(data_gas['key'].unique()))      \n                   )\n\ndata_arc_group = data_arc_group[data_arc_group['key'].isin(good_key_list)].set_index('key')\n\ndata_temp_features = data_temp_features[data_temp_features['key'].isin(good_key_list)].set_index('key')\ndata_temp_target = data_temp_target[data_temp_target['key'].isin(good_key_list)].set_index('key')\n\nbulk = bulk[bulk['key'].isin(good_key_list)].set_index('key')\nwire = wire[wire['key'].isin(good_key_list)].set_index('key')\n\ndata_gas = data_gas[data_gas['key'].isin(good_key_list)].set_index('key')\n\n\ndata = pd.concat([data_arc_group, data_temp_features, bulk, wire, data_gas, data_temp_target], axis=1)",
      "metadata": {},
      "outputs": [],
      "execution_count": 66
    },
    {
      "id": "edb73814",
      "cell_type": "markdown",
      "source": "Исключим фичи `bulk_count` и `wire_count`. Используем их в случае плохой работы моделей.",
      "metadata": {}
    },
    {
      "id": "220b659d",
      "cell_type": "code",
      "source": "data = data.drop(['bulk_count','wire_count'],axis = 1)\ndata_features = data.drop('target', axis = 1)",
      "metadata": {},
      "outputs": [],
      "execution_count": 67
    },
    {
      "id": "8fba427b",
      "cell_type": "code",
      "source": "data.head()",
      "metadata": {},
      "outputs": [
        {
          "data": {
            "text/html": [
              "<div>\n",
              "<style scoped>\n",
              "    .dataframe tbody tr th:only-of-type {\n",
              "        vertical-align: middle;\n",
              "    }\n",
              "\n",
              "    .dataframe tbody tr th {\n",
              "        vertical-align: top;\n",
              "    }\n",
              "\n",
              "    .dataframe thead th {\n",
              "        text-align: right;\n",
              "    }\n",
              "</style>\n",
              "<table border=\"1\" class=\"dataframe\">\n",
              "  <thead>\n",
              "    <tr style=\"text-align: right;\">\n",
              "      <th></th>\n",
              "      <th>sum_q</th>\n",
              "      <th>sum_heat_time</th>\n",
              "      <th>start_temp</th>\n",
              "      <th>bulk_sum</th>\n",
              "      <th>wire_sum</th>\n",
              "      <th>gas_1</th>\n",
              "      <th>target</th>\n",
              "    </tr>\n",
              "    <tr>\n",
              "      <th>key</th>\n",
              "      <th></th>\n",
              "      <th></th>\n",
              "      <th></th>\n",
              "      <th></th>\n",
              "      <th></th>\n",
              "      <th></th>\n",
              "      <th></th>\n",
              "    </tr>\n",
              "  </thead>\n",
              "  <tbody>\n",
              "    <tr>\n",
              "      <th>1</th>\n",
              "      <td>628.616930</td>\n",
              "      <td>1098.0</td>\n",
              "      <td>1571.0</td>\n",
              "      <td>557.0</td>\n",
              "      <td>61.059998</td>\n",
              "      <td>29.749986</td>\n",
              "      <td>1613.0</td>\n",
              "    </tr>\n",
              "    <tr>\n",
              "      <th>2</th>\n",
              "      <td>395.281800</td>\n",
              "      <td>811.0</td>\n",
              "      <td>1581.0</td>\n",
              "      <td>586.0</td>\n",
              "      <td>97.052315</td>\n",
              "      <td>12.555561</td>\n",
              "      <td>1602.0</td>\n",
              "    </tr>\n",
              "    <tr>\n",
              "      <th>3</th>\n",
              "      <td>581.774624</td>\n",
              "      <td>655.0</td>\n",
              "      <td>1596.0</td>\n",
              "      <td>548.0</td>\n",
              "      <td>92.160157</td>\n",
              "      <td>28.554793</td>\n",
              "      <td>1599.0</td>\n",
              "    </tr>\n",
              "    <tr>\n",
              "      <th>4</th>\n",
              "      <td>543.710274</td>\n",
              "      <td>741.0</td>\n",
              "      <td>1601.0</td>\n",
              "      <td>599.0</td>\n",
              "      <td>90.063515</td>\n",
              "      <td>18.841219</td>\n",
              "      <td>1625.0</td>\n",
              "    </tr>\n",
              "    <tr>\n",
              "      <th>5</th>\n",
              "      <td>412.180480</td>\n",
              "      <td>869.0</td>\n",
              "      <td>1576.0</td>\n",
              "      <td>588.0</td>\n",
              "      <td>100.352796</td>\n",
              "      <td>5.413692</td>\n",
              "      <td>1602.0</td>\n",
              "    </tr>\n",
              "  </tbody>\n",
              "</table>\n",
              "</div>"
            ],
            "text/plain": [
              "          sum_q  sum_heat_time  start_temp  bulk_sum    wire_sum      gas_1  \\\n",
              "key                                                                           \n",
              "1    628.616930         1098.0      1571.0     557.0   61.059998  29.749986   \n",
              "2    395.281800          811.0      1581.0     586.0   97.052315  12.555561   \n",
              "3    581.774624          655.0      1596.0     548.0   92.160157  28.554793   \n",
              "4    543.710274          741.0      1601.0     599.0   90.063515  18.841219   \n",
              "5    412.180480          869.0      1576.0     588.0  100.352796   5.413692   \n",
              "\n",
              "     target  \n",
              "key          \n",
              "1    1613.0  \n",
              "2    1602.0  \n",
              "3    1599.0  \n",
              "4    1625.0  \n",
              "5    1602.0  "
            ]
          },
          "execution_count": 68,
          "metadata": {},
          "output_type": "execute_result"
        }
      ],
      "execution_count": 68
    },
    {
      "id": "8675e054",
      "cell_type": "markdown",
      "source": "## Исследовательский анализ и предобработка данных объединённого датафрейма\n\nВыполните исследовательский анализ объединённого датафрейма, визуализируйте распределения признаков и при необходимости выполните предобработку. Проведите корреляционный анализ.",
      "metadata": {}
    },
    {
      "id": "b9072028",
      "cell_type": "markdown",
      "source": "Выполним обработку значений фич с усечением аномальных значений. Отделим тестовые и трейновые значения на этой стадии. ",
      "metadata": {}
    },
    {
      "id": "8c41fd3f",
      "cell_type": "code",
      "source": "data_target = data['target']\nfeatures_train, features_test, target_train, target_test = train_test_split(data_features, data_target, test_size = 0.25, random_state = R_STATE)",
      "metadata": {},
      "outputs": [],
      "execution_count": 69
    },
    {
      "id": "73062308",
      "cell_type": "code",
      "source": "#Проверим, что разделение прошло успешно\nprint('X_train', features_train.shape,'\\n')\nprint('X_test',features_test.shape, '\\n')\nprint('Y_train',target_train.shape,'\\n')\nprint('Y_test',target_test.shape,'\\n')",
      "metadata": {},
      "outputs": [
        {
          "name": "stdout",
          "output_type": "stream",
          "text": [
            "X_train (1743, 6) \n",
            "\n",
            "X_test (581, 6) \n",
            "\n",
            "Y_train (1743,) \n",
            "\n",
            "Y_test (581,) \n",
            "\n"
          ]
        }
      ],
      "execution_count": 70
    },
    {
      "id": "f904592f",
      "cell_type": "markdown",
      "source": "Находить \"плохие\" ковшы будем по каждой таблице (wire, bulk, gas, arc и т.д.) отдельно. После чего учесем данные в обучающей выборке. \n",
      "metadata": {}
    },
    {
      "id": "59a64f3d",
      "cell_type": "markdown",
      "source": "**data_arc_group**",
      "metadata": {}
    },
    {
      "id": "759558d7",
      "cell_type": "code",
      "source": "data_arc_group['sum_q'].hist(bins = 30);\ndata_arc_group['sum_q'].describe()\nqua1 = data_arc_group['sum_q'].quantile(0.99)\nqua1",
      "metadata": {},
      "outputs": [
        {
          "data": {
            "text/plain": [
              "1254.0262316899998"
            ]
          },
          "execution_count": 71,
          "metadata": {},
          "output_type": "execute_result"
        },
        {
          "data": {
            "image/png": "[encoded data removed]",
            "text/plain": [
              "<Figure size 432x288 with 1 Axes>"
            ]
          },
          "metadata": {
            "needs_background": "light"
          },
          "output_type": "display_data"
        }
      ],
      "execution_count": 71
    },
    {
      "id": "ce8f8783",
      "cell_type": "markdown",
      "source": "Очень длинный хвост распределения `sum_q`. Уберем 1% верхних значений. ",
      "metadata": {}
    },
    {
      "id": "e3f4cfdf",
      "cell_type": "code",
      "source": "bad_key_list = bad_key_list + list(data_arc_group[data_arc_group['sum_q'] > qua1].index) \ndata_arc_group = data_arc_group[~data_arc_group.index.isin(bad_key_list)]\ndata_arc_group['sum_q'].hist();",
      "metadata": {},
      "outputs": [
        {
          "data": {
            "image/png": "[encoded data removed]",
            "text/plain": [
              "<Figure size 432x288 with 1 Axes>"
            ]
          },
          "metadata": {
            "needs_background": "light"
          },
          "output_type": "display_data"
        }
      ],
      "execution_count": 72
    },
    {
      "id": "2957f73f",
      "cell_type": "code",
      "source": "data_arc_group['sum_heat_time'].hist();",
      "metadata": {},
      "outputs": [
        {
          "data": {
            "image/png": "[encoded data removed]",
            "text/plain": [
              "<Figure size 432x288 with 1 Axes>"
            ]
          },
          "metadata": {
            "needs_background": "light"
          },
          "output_type": "display_data"
        }
      ],
      "execution_count": 73
    },
    {
      "id": "9e5384c6",
      "cell_type": "markdown",
      "source": "**data_gas**",
      "metadata": {}
    },
    {
      "id": "4c67a17b",
      "cell_type": "code",
      "source": "data_gas['gas_1'].hist(bins = 30);\nprint(data_gas['gas_1'].describe())\nqua2 = data_gas['gas_1'].quantile(0.98)\nprint(qua2)",
      "metadata": {},
      "outputs": [
        {
          "name": "stdout",
          "output_type": "stream",
          "text": [
            "count    2324.000000\n",
            "mean       11.378854\n",
            "std         6.397008\n",
            "min         0.008399\n",
            "25%         7.282534\n",
            "50%        10.100687\n",
            "75%        14.218487\n",
            "max        77.995040\n",
            "Name: gas_1, dtype: float64\n",
            "28.887585038639994\n"
          ]
        },
        {
          "data": {
            "image/png": "[encoded data removed]",
            "text/plain": [
              "<Figure size 432x288 with 1 Axes>"
            ]
          },
          "metadata": {
            "needs_background": "light"
          },
          "output_type": "display_data"
        }
      ],
      "execution_count": 74
    },
    {
      "id": "3a0d0fdf",
      "cell_type": "markdown",
      "source": "Отсечем те ковши у которых значение `gas_1` больше 29.",
      "metadata": {}
    },
    {
      "id": "a7f04e28",
      "cell_type": "code",
      "source": "bad_key_list = bad_key_list + list(data_gas[data_gas['gas_1'] > qua2].index)\ndata_gas = data_gas[~data_gas.index.isin(bad_key_list)]\ndata_gas['gas_1'].hist();",
      "metadata": {},
      "outputs": [
        {
          "data": {
            "image/png": "[encoded data removed]",
            "text/plain": [
              "<Figure size 432x288 with 1 Axes>"
            ]
          },
          "metadata": {
            "needs_background": "light"
          },
          "output_type": "display_data"
        }
      ],
      "execution_count": 75
    },
    {
      "id": "f0d992f1",
      "cell_type": "markdown",
      "source": "**data_bulk и data_wire**",
      "metadata": {}
    },
    {
      "id": "27c4418e",
      "cell_type": "code",
      "source": "print(bulk['bulk_sum'].describe())\nbulk['bulk_sum'].hist()\nqua3 = bulk['bulk_sum'].quantile(0.98)\nprint('98% квантиль bulk_sum', qua3)",
      "metadata": {},
      "outputs": [
        {
          "name": "stdout",
          "output_type": "stream",
          "text": [
            "count    2324.000000\n",
            "mean      613.677711\n",
            "std       288.516904\n",
            "min        20.000000\n",
            "25%       443.750000\n",
            "50%       613.000000\n",
            "75%       801.000000\n",
            "max      3241.000000\n",
            "Name: bulk_sum, dtype: float64\n",
            "98% квантиль bulk_sum 1199.08\n"
          ]
        },
        {
          "data": {
            "image/png": "[encoded data removed]",
            "text/plain": [
              "<Figure size 432x288 with 1 Axes>"
            ]
          },
          "metadata": {
            "needs_background": "light"
          },
          "output_type": "display_data"
        }
      ],
      "execution_count": 76
    },
    {
      "id": "e445affb",
      "cell_type": "markdown",
      "source": "Отсечем те ковши у которых значение `bulk sum` выше 1150",
      "metadata": {}
    },
    {
      "id": "e98f4fb5",
      "cell_type": "code",
      "source": "bad_key_list = bad_key_list + list(bulk[bulk['bulk_sum'] > qua3].index)\nbulk = bulk[~bulk.index.isin(bad_key_list)]",
      "metadata": {},
      "outputs": [],
      "execution_count": 77
    },
    {
      "id": "6915a484",
      "cell_type": "code",
      "source": "bulk['bulk_sum'].hist();",
      "metadata": {},
      "outputs": [
        {
          "data": {
            "image/png": "[encoded data removed]",
            "text/plain": [
              "<Figure size 432x288 with 1 Axes>"
            ]
          },
          "metadata": {
            "needs_background": "light"
          },
          "output_type": "display_data"
        }
      ],
      "execution_count": 78
    },
    {
      "id": "d67946e5",
      "cell_type": "code",
      "source": "print(wire['wire_sum'].describe())\nwire['wire_sum'].hist()\nqua4 = wire['wire_sum'].quantile(0.98)\nprint('99% квантиль bulk_sum', qua4)",
      "metadata": {},
      "outputs": [
        {
          "name": "stdout",
          "output_type": "stream",
          "text": [
            "count    2324.000000\n",
            "mean      126.600434\n",
            "std        63.986634\n",
            "min         2.918800\n",
            "25%        90.139958\n",
            "50%       117.309478\n",
            "75%       153.112122\n",
            "max       571.777664\n",
            "Name: wire_sum, dtype: float64\n",
            "99% квантиль bulk_sum 288.90370908\n"
          ]
        },
        {
          "data": {
            "image/png": "[encoded data removed]",
            "text/plain": [
              "<Figure size 432x288 with 1 Axes>"
            ]
          },
          "metadata": {
            "needs_background": "light"
          },
          "output_type": "display_data"
        }
      ],
      "execution_count": 79
    },
    {
      "id": "d6865a22",
      "cell_type": "markdown",
      "source": "Отсечем те ковши у которых значение `wire sum` выше 300",
      "metadata": {}
    },
    {
      "id": "c5e0b0d2",
      "cell_type": "code",
      "source": "bad_key_list = bad_key_list + list(wire[wire['wire_sum'] > qua4].index)\nwire = wire[~wire.index.isin(bad_key_list)]",
      "metadata": {},
      "outputs": [],
      "execution_count": 80
    },
    {
      "id": "1e671122",
      "cell_type": "code",
      "source": "wire['wire_sum'].hist();",
      "metadata": {},
      "outputs": [
        {
          "data": {
            "image/png": "[encoded data removed]",
            "text/plain": [
              "<Figure size 432x288 with 1 Axes>"
            ]
          },
          "metadata": {
            "needs_background": "light"
          },
          "output_type": "display_data"
        }
      ],
      "execution_count": 81
    },
    {
      "id": "1b35b569",
      "cell_type": "markdown",
      "source": "**Посмотрим распределения фич в трейне без усечений**",
      "metadata": {}
    },
    {
      "id": "58038ea8",
      "cell_type": "code",
      "source": "sns.pairplot(features_train, kind=\"hist\", corner=True);",
      "metadata": {},
      "outputs": [
        {
          "data": {
            "image/png": "[encoded data removed]",
            "text/plain": [
              "<Figure size 1080x1080 with 27 Axes>"
            ]
          },
          "metadata": {
            "needs_background": "light"
          },
          "output_type": "display_data"
        }
      ],
      "execution_count": 82
    },
    {
      "id": "6c5de2f1",
      "cell_type": "markdown",
      "source": "В признаках содержится 5 переменных непрерывного числового типа. Стандартизуем данные для дальней работы с моделями. ",
      "metadata": {}
    },
    {
      "id": "eb290af2",
      "cell_type": "markdown",
      "source": "Отфильтруем данные для обучающей выборки. ",
      "metadata": {}
    },
    {
      "id": "7f307fe8",
      "cell_type": "code",
      "source": "features_train = features_train[~features_train.index.isin(bad_key_list)]\ntarget_train = target_train[~target_train.index.isin(bad_key_list)]",
      "metadata": {},
      "outputs": [],
      "execution_count": 83
    },
    {
      "id": "c34a2ccb",
      "cell_type": "code",
      "source": "sns.set(font_scale=1.2)\nplt.figure(figsize=(8,8))\nsns.heatmap(features_train.corr(),        \n        cmap='RdBu_r', \n        annot=True, \n        vmin=-1, vmax=1, \n        linewidths=1, linecolor='black',\n        mask=np.triu(features_train.corr())\n           ).set_title('Корреляция признаков между собой в обучающей выборке');",
      "metadata": {},
      "outputs": [
        {
          "data": {
            "image/png": "[encoded data removed]",
            "text/plain": [
              "<Figure size 576x576 with 2 Axes>"
            ]
          },
          "metadata": {},
          "output_type": "display_data"
        }
      ],
      "execution_count": 84
    },
    {
      "id": "1d95d41a",
      "cell_type": "markdown",
      "source": "**Значительных корреляций между признаками нет.**",
      "metadata": {}
    },
    {
      "id": "bd39ef69",
      "cell_type": "markdown",
      "source": "**Посмотрим распределения фич в трейне после усечений**",
      "metadata": {}
    },
    {
      "id": "2cdf6100",
      "cell_type": "code",
      "source": "sns.pairplot(features_train, kind=\"hist\", corner=True);",
      "metadata": {},
      "outputs": [
        {
          "data": {
            "image/png": "[encoded data removed]",
            "text/plain": [
              "<Figure size 1080x1080 with 27 Axes>"
            ]
          },
          "metadata": {},
          "output_type": "display_data"
        }
      ],
      "execution_count": 85
    },
    {
      "id": "477f1ea8",
      "cell_type": "markdown",
      "source": "Отфильтруем данные для тестовой выборки.",
      "metadata": {}
    },
    {
      "id": "445f32da",
      "cell_type": "code",
      "source": "features_test = features_test[~features_test.index.isin(bad_key_list)]\ntarget_test = target_test[~target_test.index.isin(bad_key_list)]",
      "metadata": {},
      "outputs": [],
      "execution_count": 86
    },
    {
      "id": "87610959",
      "cell_type": "markdown",
      "source": "## Подготовка данных\nВыполните подготовку данных для обучения модели. Разделите данные на две выборки, при масштабировании и кодировании учитывайте особенности данных и моделей.",
      "metadata": {}
    },
    {
      "id": "9cb302c5",
      "cell_type": "code",
      "source": "print('В ходе отчистки данных мы потеряли', round((lendata - len(data))*100/lendata), '% от начального количества key')\nprint('В ходе доп. обработки аномалий на обучающей выборке мы потеряли еще', round((len(data)*0.75 - len(features_train))*100/(len(data)*0.75)),'% key' )\nprint('Обучение моделей будет проходить на', len(features_train), 'строках')",
      "metadata": {},
      "outputs": [
        {
          "name": "stdout",
          "output_type": "stream",
          "text": [
            "В ходе отчистки данных мы потеряли 25 % от начального количества key\n",
            "В ходе доп. обработки аномалий на обучающей выборке мы потеряли еще 7 % key\n",
            "Обучение моделей будет проходить на 1626 строках\n"
          ]
        }
      ],
      "execution_count": 87
    },
    {
      "id": "1f88468d",
      "cell_type": "code",
      "source": "pd.options.mode.chained_assignment = None\nnumeric = features_train.columns\nscaler = StandardScaler()\nscaler.fit(features_train[numeric])\nfeatures_train[numeric] = scaler.transform(features_train[numeric])\nfeatures_test[numeric] = scaler.transform(features_test[numeric])",
      "metadata": {},
      "outputs": [],
      "execution_count": 88
    },
    {
      "id": "bc109374",
      "cell_type": "code",
      "source": "features_test.head()",
      "metadata": {},
      "outputs": [
        {
          "data": {
            "text/html": [
              "<div>\n",
              "<style scoped>\n",
              "    .dataframe tbody tr th:only-of-type {\n",
              "        vertical-align: middle;\n",
              "    }\n",
              "\n",
              "    .dataframe tbody tr th {\n",
              "        vertical-align: top;\n",
              "    }\n",
              "\n",
              "    .dataframe thead th {\n",
              "        text-align: right;\n",
              "    }\n",
              "</style>\n",
              "<table border=\"1\" class=\"dataframe\">\n",
              "  <thead>\n",
              "    <tr style=\"text-align: right;\">\n",
              "      <th></th>\n",
              "      <th>sum_q</th>\n",
              "      <th>sum_heat_time</th>\n",
              "      <th>start_temp</th>\n",
              "      <th>bulk_sum</th>\n",
              "      <th>wire_sum</th>\n",
              "      <th>gas_1</th>\n",
              "    </tr>\n",
              "    <tr>\n",
              "      <th>key</th>\n",
              "      <th></th>\n",
              "      <th></th>\n",
              "      <th></th>\n",
              "      <th></th>\n",
              "      <th></th>\n",
              "      <th></th>\n",
              "    </tr>\n",
              "  </thead>\n",
              "  <tbody>\n",
              "    <tr>\n",
              "      <th>1183</th>\n",
              "      <td>0.014709</td>\n",
              "      <td>0.162556</td>\n",
              "      <td>0.168869</td>\n",
              "      <td>-0.074895</td>\n",
              "      <td>0.648247</td>\n",
              "      <td>0.896208</td>\n",
              "    </tr>\n",
              "    <tr>\n",
              "      <th>1189</th>\n",
              "      <td>1.195017</td>\n",
              "      <td>0.703932</td>\n",
              "      <td>-2.343465</td>\n",
              "      <td>-1.976808</td>\n",
              "      <td>0.320115</td>\n",
              "      <td>1.153268</td>\n",
              "    </tr>\n",
              "    <tr>\n",
              "      <th>152</th>\n",
              "      <td>-1.509678</td>\n",
              "      <td>-0.713004</td>\n",
              "      <td>0.038921</td>\n",
              "      <td>-0.712685</td>\n",
              "      <td>-0.482047</td>\n",
              "      <td>-0.962272</td>\n",
              "    </tr>\n",
              "    <tr>\n",
              "      <th>857</th>\n",
              "      <td>0.610960</td>\n",
              "      <td>0.807529</td>\n",
              "      <td>-0.610821</td>\n",
              "      <td>1.124303</td>\n",
              "      <td>-0.379367</td>\n",
              "      <td>0.552718</td>\n",
              "    </tr>\n",
              "    <tr>\n",
              "      <th>778</th>\n",
              "      <td>0.004317</td>\n",
              "      <td>0.881049</td>\n",
              "      <td>-0.827401</td>\n",
              "      <td>-1.113691</td>\n",
              "      <td>2.594431</td>\n",
              "      <td>-0.047627</td>\n",
              "    </tr>\n",
              "  </tbody>\n",
              "</table>\n",
              "</div>"
            ],
            "text/plain": [
              "         sum_q  sum_heat_time  start_temp  bulk_sum  wire_sum     gas_1\n",
              "key                                                                    \n",
              "1183  0.014709       0.162556    0.168869 -0.074895  0.648247  0.896208\n",
              "1189  1.195017       0.703932   -2.343465 -1.976808  0.320115  1.153268\n",
              "152  -1.509678      -0.713004    0.038921 -0.712685 -0.482047 -0.962272\n",
              "857   0.610960       0.807529   -0.610821  1.124303 -0.379367  0.552718\n",
              "778   0.004317       0.881049   -0.827401 -1.113691  2.594431 -0.047627"
            ]
          },
          "execution_count": 89,
          "metadata": {},
          "output_type": "execute_result"
        }
      ],
      "execution_count": 89
    },
    {
      "id": "1d8c55e5",
      "cell_type": "markdown",
      "source": "## Обучение моделей машинного обучения\nОбучите как минимум две модели. Хотя бы для одной из них подберите как минимум два гиперпараметра.",
      "metadata": {}
    },
    {
      "id": "e2866cc9",
      "cell_type": "markdown",
      "source": "### Обучение линейной регрессии с SGD",
      "metadata": {}
    },
    {
      "id": "3ce84cf7",
      "cell_type": "markdown",
      "source": "[К функциям](#Модель)",
      "metadata": {}
    },
    {
      "id": "ca15a8cc",
      "cell_type": "code",
      "source": "param_grid_SGDR = {}\nSGDR_regr = SGDRegressor(random_state = R_STATE) \nSGDR_param, SGDR_mae, SGDR_best_model = model(features_train, target_train, param_grid_SGDR, SGDR_regr)",
      "metadata": {},
      "outputs": [
        {
          "name": "stdout",
          "output_type": "stream",
          "text": [
            "Время обучения модели: 0:00:00.036425 секунд\n",
            "Best Hyperparameters: {}\n",
            "Best Cross-Validation Score: 6.705441415554361\n"
          ]
        }
      ],
      "execution_count": 90
    },
    {
      "id": "9f80f8fd",
      "cell_type": "code",
      "source": "SGDR_coef = pd.Series(SGDR_best_model.coef_, index = features_train.columns).sort_values(ascending = False)\nprint()\ndisplay(SGDR_coef)\nfig, ax = plt.subplots()\nSGDR_coef.plot.bar(ax=ax)\nax.set_title('Feature importances')\nax.set_ylabel(\"feature_importances\");",
      "metadata": {},
      "outputs": [
        {
          "name": "stdout",
          "output_type": "stream",
          "text": [
            "\n"
          ]
        },
        {
          "data": {
            "text/plain": [
              "start_temp       6.218681\n",
              "sum_heat_time    5.464852\n",
              "sum_q            0.784005\n",
              "bulk_sum         0.318076\n",
              "wire_sum         0.233135\n",
              "gas_1           -1.710535\n",
              "dtype: float64"
            ]
          },
          "metadata": {},
          "output_type": "display_data"
        },
        {
          "data": {
            "image/png": "[encoded data removed]",
            "text/plain": [
              "<Figure size 432x288 with 1 Axes>"
            ]
          },
          "metadata": {},
          "output_type": "display_data"
        }
      ],
      "execution_count": 91
    },
    {
      "id": "2edcac66",
      "cell_type": "markdown",
      "source": "### Обучение LightGBM",
      "metadata": {}
    },
    {
      "id": "cf482fa5",
      "cell_type": "markdown",
      "source": "[К функциям](#Модель)",
      "metadata": {}
    },
    {
      "id": "f6ba74de",
      "cell_type": "code",
      "source": "%%time\nparam_grid_LGB = {\n    'n_estimators': np.arange(60, 180, step=20),\n    'max_depth': list(np.arange(2, 5, step=1)),\n    'min_child_samples' : list(np.arange(20, 62, step=10)),\n     'learning_rate': np.arange(0.01, 0.08, 0.02)\n    }\nLGB_regr = lgb.LGBMRegressor(random_state = R_STATE, verbose = -1)\nLGB_param, LGB_mae, LGB_best_model = model(features_train, target_train, param_grid_LGB, LGB_regr)",
      "metadata": {},
      "outputs": [
        {
          "name": "stdout",
          "output_type": "stream",
          "text": [
            "Время обучения модели: 0:08:15.422706 секунд\n",
            "Best Hyperparameters: {'learning_rate': 0.06999999999999999, 'max_depth': 4, 'min_child_samples': 20, 'n_estimators': 60}\n",
            "Best Cross-Validation Score: 6.460181704428604\n",
            "CPU times: user 8min 1s, sys: 4.17 s, total: 8min 5s\n",
            "Wall time: 8min 15s\n"
          ]
        }
      ],
      "execution_count": 92
    },
    {
      "id": "0a51dae0",
      "cell_type": "code",
      "source": "feature_importances(LGB_best_model)",
      "metadata": {},
      "outputs": [
        {
          "name": "stdout",
          "output_type": "stream",
          "text": [
            "start_temp       0.276498\n",
            "sum_heat_time    0.230415\n",
            "gas_1            0.152074\n",
            "wire_sum         0.135177\n",
            "bulk_sum         0.104455\n",
            "sum_q            0.101382\n",
            "dtype: float64\n"
          ]
        },
        {
          "data": {
            "image/png": "[encoded data removed]",
            "text/plain": [
              "<Figure size 432x288 with 1 Axes>"
            ]
          },
          "metadata": {},
          "output_type": "display_data"
        }
      ],
      "execution_count": 93
    },
    {
      "id": "8cccef90",
      "cell_type": "markdown",
      "source": "### Обучение XGB",
      "metadata": {}
    },
    {
      "id": "dbf60d66",
      "cell_type": "markdown",
      "source": "[К функциям](#Модель)",
      "metadata": {}
    },
    {
      "id": "040adbe9",
      "cell_type": "code",
      "source": "%%time\nparam_grid_XGB = {\n    'n_estimators': np.arange(10, 100, step=20),\n    'max_depth': list(np.arange(2, 7, step=1)),\n   'min_child_samples' : list(np.arange(10, 42, step=10))\n    }\nXGB_regr = xgb.XGBRegressor(random_state = R_STATE, verbosity=0, booster='gbtree')\nXGB_param, XGB_mae, XGB_best_model = model(features_train, target_train, param_grid_XGB, XGB_regr)",
      "metadata": {},
      "outputs": [
        {
          "name": "stdout",
          "output_type": "stream",
          "text": [
            "Время обучения модели: 0:10:21.405351 секунд\n",
            "Best Hyperparameters: {'max_depth': 2, 'min_child_samples': 10, 'n_estimators': 50}\n",
            "Best Cross-Validation Score: 6.519918198488748\n",
            "CPU times: user 10min 12s, sys: 2.69 s, total: 10min 14s\n",
            "Wall time: 10min 21s\n"
          ]
        }
      ],
      "execution_count": 94
    },
    {
      "id": "ed74c459",
      "cell_type": "code",
      "source": "feature_importances(XGB_best_model)",
      "metadata": {},
      "outputs": [
        {
          "name": "stdout",
          "output_type": "stream",
          "text": [
            "start_temp       0.270753\n",
            "sum_heat_time    0.215750\n",
            "sum_q            0.178633\n",
            "wire_sum         0.120697\n",
            "bulk_sum         0.108182\n",
            "gas_1            0.105985\n",
            "dtype: float32\n"
          ]
        },
        {
          "data": {
            "image/png": "[encoded data removed]",
            "text/plain": [
              "<Figure size 432x288 with 1 Axes>"
            ]
          },
          "metadata": {},
          "output_type": "display_data"
        }
      ],
      "execution_count": 95
    },
    {
      "id": "7d86672f",
      "cell_type": "markdown",
      "source": "### Обучение нейросети",
      "metadata": {}
    },
    {
      "id": "caf493bf",
      "cell_type": "code",
      "source": "%%time\nmodel = Sequential()\nmodel.add(Dense(64, activation='relu', input_dim = features_train.shape[1])) \nmodel.add(Dense(1))\noptimizer = Adam(learning_rate = 0.0001)\nmodel.compile(optimizer=optimizer, loss='mean_squared_error', metrics=['mae'])\n\nmodel.fit(features_train, target_train, \n          #validation_data=test_data,\n          batch_size=16, epochs=2500,\n          #steps_per_epoch=steps_per_epoch,\n          #validation_steps=validation_steps,\n          verbose=2)",
      "metadata": {
        "trusted": true
      },
      "outputs": [],
      "execution_count": null
    },
    {
      "id": "546cd970",
      "cell_type": "markdown",
      "source": "## Выбор лучшей модели\nВыберите лучшую модель и проверьте её качество на тестовой выборке.",
      "metadata": {}
    },
    {
      "id": "be2d1357",
      "cell_type": "markdown",
      "source": "На обучении лучше всего себя показала модель `LightGBM`. Сделаем предсказание на тесте. ",
      "metadata": {}
    },
    {
      "id": "d99563e6",
      "cell_type": "code",
      "source": "predictions_LGB = LGB_best_model.predict(features_test)\nmae_test_LGB = mean_absolute_error(predictions_LGB, target_test)\nprint('MAE на тесте', mae_test_LGB)",
      "metadata": {},
      "outputs": [
        {
          "name": "stdout",
          "output_type": "stream",
          "text": [
            "MAE на тесте 6.720865459347115\n"
          ]
        }
      ],
      "execution_count": 97
    },
    {
      "id": "65b8fc12",
      "cell_type": "markdown",
      "source": "Распределение ошибок предсказаний нашей модели. ",
      "metadata": {}
    },
    {
      "id": "7e0579fc",
      "cell_type": "code",
      "source": "error = (predictions_LGB - target_test)\nerror.hist()\nerror.describe()",
      "metadata": {},
      "outputs": [
        {
          "data": {
            "text/plain": [
              "count    545.000000\n",
              "mean      -0.168917\n",
              "std        8.653417\n",
              "min      -40.572855\n",
              "25%       -5.258536\n",
              "50%       -0.252674\n",
              "75%        5.422407\n",
              "max       21.913929\n",
              "Name: target, dtype: float64"
            ]
          },
          "execution_count": 98,
          "metadata": {},
          "output_type": "execute_result"
        },
        {
          "data": {
            "image/png": "[encoded data removed]",
            "text/plain": [
              "<Figure size 432x288 with 1 Axes>"
            ]
          },
          "metadata": {},
          "output_type": "display_data"
        }
      ],
      "execution_count": 98
    },
    {
      "id": "f9ed4d0c",
      "cell_type": "markdown",
      "source": "Распределение ошибок нашего прогноза является близким к нормальному.",
      "metadata": {}
    },
    {
      "id": "66f3fd1d",
      "cell_type": "markdown",
      "source": "Модель `DummyRegressor`",
      "metadata": {}
    },
    {
      "id": "e01e8c60",
      "cell_type": "code",
      "source": "dummy_regr = DummyRegressor(strategy=\"mean\")\ndummy_regr.fit(features_train, target_train)\ndummy_test_predictions = dummy_regr.predict(features_test)\ndummy_MAE_test = mean_absolute_error(target_test, dummy_test_predictions)\nprint('На тесте MAE для dummy модели :', dummy_MAE_test) ",
      "metadata": {},
      "outputs": [
        {
          "name": "stdout",
          "output_type": "stream",
          "text": [
            "На тесте MAE для dummy модели : 7.7866334901881045\n"
          ]
        }
      ],
      "execution_count": 99
    },
    {
      "id": "fa621e24",
      "cell_type": "markdown",
      "source": "## Общий вывод и рекомендации заказчику\nСделайте общий вывод о проделанной работе: опишите основные этапы работы, полученные результаты и дайте рекомендации для бизнеса.",
      "metadata": {}
    },
    {
      "id": "b768fd88",
      "cell_type": "markdown",
      "source": "**Вывод.** В ходе работы были изучены данные, их тип, распределения, аномальные значения, пропуски и дубликаты.\nПропуски в критических данных, например, целевая переменая, удалялись.\n\nДля обучения моделей были выделенны признаки\n- суммарное количество энергии от электродов получаемое ковшом\n- суммарное время нагрева ковша\n- общее количество материалов bulk\n- общее количество материалов wire\n- количество gas_1\n- значение температуры при первом замере\n\nизучена корреляция и распределение этих признаков. Корреляции выше 0.9 между признаками не наблюдалось. Из распределения были убраны верхние значения на уровне 0.99 квантиля. \nПри удалении значений удались все записи для ковша, а не одно измерение. \n\nБыла составлена итоговая таблица, куда вошли все признаки и предсказываемая величина (температура последнего замера в серии замеров с одним ковшом).\n\nОбучающая и тестовая выборки были разделены случайным образом в пропорции 3 : 1. Признаки были отмасштабированы. \nДля задачи регрессии было обучено несколько моделей, а именно \n- линейная регрессия с `SGD`\n- `XGB`\n- `LightGBM`\n- `Нейросеть` с одним полносвязным слоем и 1 выходным нейроном\n- `DummyRegressor` (со значением mean)\n\nDummyRegressor показал на тесте значение `MAE` равное `7.8` градусов.\n\nНа обучающих данных лучше всего себя показала модель `LightGBM`\nПоказав в обучении `MAE` равное `6.5`\nНа тесте `MAE` лучшей модели получилось равно `6.65` (средняя модуля ошибка нашей модели в определении конечной температуры ковша)",
      "metadata": {}
    },
    {
      "id": "87032f5d",
      "cell_type": "markdown",
      "source": "**Рекомендации заказчику.** \n-  Стоит обратить внимание на пропуски в некоторых замерах. У четверти ковшей не было конечного замера температуры. Исправление этой проблемы позволит точнее моделировать температуру в дальнейшем. \n-  Стоит обратить внимание на достаточно высокие значения в параметрах мощности, количества газа, количества материала и т.д. Высокие значения появляются чаще, чем должны (согласно эмпирическим распределениям). Быть может проблема в измерительных приборах или способах записи/хранения данных и т.д.\n-  Возможно, стоит провести научно-исследовательские работы и теоретически обосновать влияние каких-либо факторов на температуру ковша. Добавление таких факторов в модель повысит ее качество. \n",
      "metadata": {}
    }
  ]
}